{
  "nbformat": 4,
  "nbformat_minor": 0,
  "metadata": {
    "colab": {
      "name": "projekt_20201212 (1).ipynb",
      "provenance": [],
      "collapsed_sections": []
    },
    "kernelspec": {
      "name": "python3",
      "display_name": "Python 3"
    }
  },
  "cells": [
    {
      "cell_type": "code",
      "metadata": {
        "colab": {
          "base_uri": "https://localhost:8080/"
        },
        "id": "5MM9jJ6j7qJC",
        "outputId": "cf34f997-1627-44ae-f61f-09f7518c9ae5"
      },
      "source": [
        "!pip install pyspark"
      ],
      "execution_count": 1,
      "outputs": [
        {
          "output_type": "stream",
          "text": [
            "Collecting pyspark\n",
            "\u001b[?25l  Downloading https://files.pythonhosted.org/packages/f0/26/198fc8c0b98580f617cb03cb298c6056587b8f0447e20fa40c5b634ced77/pyspark-3.0.1.tar.gz (204.2MB)\n",
            "\u001b[K     |████████████████████████████████| 204.2MB 64kB/s \n",
            "\u001b[?25hCollecting py4j==0.10.9\n",
            "\u001b[?25l  Downloading https://files.pythonhosted.org/packages/9e/b6/6a4fb90cd235dc8e265a6a2067f2a2c99f0d91787f06aca4bcf7c23f3f80/py4j-0.10.9-py2.py3-none-any.whl (198kB)\n",
            "\u001b[K     |████████████████████████████████| 204kB 45.3MB/s \n",
            "\u001b[?25hBuilding wheels for collected packages: pyspark\n",
            "  Building wheel for pyspark (setup.py) ... \u001b[?25l\u001b[?25hdone\n",
            "  Created wheel for pyspark: filename=pyspark-3.0.1-py2.py3-none-any.whl size=204612243 sha256=6f054e75921482a5eb5197ae0974878484046362cc9ce06ad6d498c3fb05e75a\n",
            "  Stored in directory: /root/.cache/pip/wheels/5e/bd/07/031766ca628adec8435bb40f0bd83bb676ce65ff4007f8e73f\n",
            "Successfully built pyspark\n",
            "Installing collected packages: py4j, pyspark\n",
            "Successfully installed py4j-0.10.9 pyspark-3.0.1\n"
          ],
          "name": "stdout"
        }
      ]
    },
    {
      "cell_type": "markdown",
      "metadata": {
        "id": "YmqGQm0hAd5w"
      },
      "source": [
        "***Przewidywanie wzięcia pożyczki. ***\n",
        "\n",
        "Celem projektu jest zastosowanie modeli  klasyfikacji (binarnej) do  przewidzenia czy pożyczka zostanie udzielona danemu klientowi z danymi parametrami wniosku. \n",
        "\n",
        "Zmienna celu (wypłacenie pożyczki): ***Disbursed ***\n",
        "\n",
        "\n",
        "---\n",
        "\n",
        "\n",
        "\n",
        "***Wymogi:*** \n",
        "\n",
        "● Zmienna LoggedIn nie może być uwzględniona w modelowaniu - należy ją od razu wyrzucić ze  zbioru.  \n",
        "● Nie usuwamy żadnych obserwacji - braki danych uzupełniamy w jakiś sposób.  \n",
        "● Wszelkie nieoczywiste ​ przekształcenia danych należy opatrzyć uzasadnieniem​ dlaczego  dokonujemy tego przekształcenia (np. robimy wykres i uzasadniamy wzięci logarytmu ze  zmiennej tym, że rozkład jest skośny).  \n",
        "● Należy wykorzystać przynajmniej 3 metody klasyfikacji.  \n",
        "● Należy uwzględnić optymalizację modeli/pipelinów.  \n",
        "● Projekt musi być zakończony przejrzystym porównaniem przetestowanych rozwiązań  (modeli/pipelinów) ​ w postaci tabeli​ , gdzie jeden wiersz opisuje jedno rozwiązanie i jego  wynik. \n",
        "\n"
      ]
    },
    {
      "cell_type": "markdown",
      "metadata": {
        "id": "TZowrkJ_cqG8"
      },
      "source": [
        "Link do danych:  https://raw.githubusercontent.com/saimadhu-polamuri/DataHakthon3X/master/dataSet/Train.csv \r\n"
      ]
    },
    {
      "cell_type": "markdown",
      "metadata": {
        "id": "KOVLEBvhc5Se"
      },
      "source": [
        "Opis danych (najdokładniejszy jaki istnieje):  https://discuss.analyticsvidhya.com/t/hackathon-3-x-predict-customer-worth-for-happy-customer-bank/3802 "
      ]
    },
    {
      "cell_type": "markdown",
      "metadata": {
        "id": "kNDmi4N--ATW"
      },
      "source": [
        "**IMPORT BIBLIOTEK**"
      ]
    },
    {
      "cell_type": "code",
      "metadata": {
        "id": "GQSArP9W7s3L"
      },
      "source": [
        "import pyspark\n",
        "import numpy as np\n",
        "import pandas as pd\n",
        "import matplotlib.pyplot as plt\n",
        "import seaborn as sns\n",
        "\n",
        "from sklearn import model_selection\n",
        "from sklearn.model_selection import train_test_split\n",
        "from sklearn.pipeline import Pipeline\n",
        "from sklearn.svm import SVC\n",
        "from sklearn.linear_model import LogisticRegression\n",
        "from sklearn.decomposition import PCA\n",
        "from sklearn.ensemble import RandomForestClassifier\n",
        "from sklearn.tree import DecisionTreeClassifier\n",
        "\n"
      ],
      "execution_count": 2,
      "outputs": []
    },
    {
      "cell_type": "code",
      "metadata": {
        "id": "zhMw78MP-E93"
      },
      "source": [
        "from pyspark.sql import SparkSession\n",
        "from pyspark.sql import Row\n",
        "from pyspark.sql import functions as f\n",
        "from pyspark.ml import Pipeline\n",
        "\n",
        "spark = SparkSession.builder.appName('my_app').getOrCreate()"
      ],
      "execution_count": 3,
      "outputs": []
    },
    {
      "cell_type": "code",
      "metadata": {
        "id": "VhvNAJrcTs69"
      },
      "source": [
        "from pyspark.ml.linalg import Vectors\n",
        "from pyspark.ml import feature"
      ],
      "execution_count": 4,
      "outputs": []
    },
    {
      "cell_type": "code",
      "metadata": {
        "id": "l6q43i8X-Nzn",
        "colab": {
          "base_uri": "https://localhost:8080/",
          "height": 216
        },
        "outputId": "dddbbaec-21e0-42a6-f992-dfe21b8b3dc5"
      },
      "source": [
        "spark"
      ],
      "execution_count": 5,
      "outputs": [
        {
          "output_type": "execute_result",
          "data": {
            "text/html": [
              "\n",
              "            <div>\n",
              "                <p><b>SparkSession - in-memory</b></p>\n",
              "                \n",
              "        <div>\n",
              "            <p><b>SparkContext</b></p>\n",
              "\n",
              "            <p><a href=\"http://1432860a0bfb:4040\">Spark UI</a></p>\n",
              "\n",
              "            <dl>\n",
              "              <dt>Version</dt>\n",
              "                <dd><code>v3.0.1</code></dd>\n",
              "              <dt>Master</dt>\n",
              "                <dd><code>local[*]</code></dd>\n",
              "              <dt>AppName</dt>\n",
              "                <dd><code>my_app</code></dd>\n",
              "            </dl>\n",
              "        </div>\n",
              "        \n",
              "            </div>\n",
              "        "
            ],
            "text/plain": [
              "<pyspark.sql.session.SparkSession at 0x7f8a7f408c50>"
            ]
          },
          "metadata": {
            "tags": []
          },
          "execution_count": 5
        }
      ]
    },
    {
      "cell_type": "markdown",
      "metadata": {
        "id": "tiRw_A-ZJ6Ig"
      },
      "source": [
        "***Import Danych, Przekształcenia***"
      ]
    },
    {
      "cell_type": "code",
      "metadata": {
        "id": "z7_hOvf644Sp"
      },
      "source": [
        ""
      ],
      "execution_count": 6,
      "outputs": []
    },
    {
      "cell_type": "code",
      "metadata": {
        "id": "UWfUpqPoGH8s"
      },
      "source": [
        "csv_df = spark.read.csv('/content/Train.csv', header=True, inferSchema=True)\n"
      ],
      "execution_count": 7,
      "outputs": []
    },
    {
      "cell_type": "code",
      "metadata": {
        "colab": {
          "base_uri": "https://localhost:8080/"
        },
        "id": "iQptl453HtFx",
        "outputId": "a5ce709d-8def-47a7-a067-99cd5fbdc5f5"
      },
      "source": [
        "csv_df.show()"
      ],
      "execution_count": 8,
      "outputs": [
        {
          "output_type": "stream",
          "text": [
            "+-----------+------+-----------+--------------+---------+------------------+-------------------+-------------------+------------+--------------------+--------------------+---------------+----+----+---------------------+---------------------+-------------+--------------+------------------+-----------+-----------+----+------+----+--------+---------+\n",
            "|         ID|Gender|       City|Monthly_Income|      DOB|Lead_Creation_Date|Loan_Amount_Applied|Loan_Tenure_Applied|Existing_EMI|       Employer_Name|      Salary_Account|Mobile_Verified|Var5|Var1|Loan_Amount_Submitted|Loan_Tenure_Submitted|Interest_Rate|Processing_Fee|EMI_Loan_Submitted|Filled_Form|Device_Type|Var2|Source|Var4|LoggedIn|Disbursed|\n",
            "+-----------+------+-----------+--------------+---------+------------------+-------------------+-------------------+------------+--------------------+--------------------+---------------+----+----+---------------------+---------------------+-------------+--------------+------------------+-----------+-----------+----+------+----+--------+---------+\n",
            "|ID000002C20|Female|      Delhi|         20000|23-May-78|         15-May-15|             300000|                  5|         0.0|             CYBOSOL|           HDFC Bank|              N|   0|HBXX|                 null|                 null|         null|          null|              null|          N|Web-browser|   G|  S122|   1|       0|        0|\n",
            "|ID000004E40|  Male|     Mumbai|         35000|07-Oct-85|         04-May-15|             200000|                  2|         0.0|TATA CONSULTANCY ...|          ICICI Bank|              Y|  13|HBXA|               200000|                    2|        13.25|          null|            6762.9|          N|Web-browser|   G|  S122|   3|       0|        0|\n",
            "|ID000007H20|  Male|  Panchkula|         22500|10-Oct-81|         19-May-15|             600000|                  4|         0.0|ALCHEMIST HOSPITA...| State Bank of India|              Y|   0|HBXX|               450000|                    4|         null|          null|              null|          N|Web-browser|   B|  S143|   1|       0|        0|\n",
            "|ID000008I30|  Male|    Saharsa|         35000|30-Nov-87|         09-May-15|            1000000|                  5|         0.0|    BIHAR GOVERNMENT| State Bank of India|              Y|  10|HBXX|               920000|                    5|         null|          null|              null|          N|Web-browser|   B|  S143|   3|       0|        0|\n",
            "|ID000009J40|  Male|  Bengaluru|        100000|17-Feb-84|         20-May-15|             500000|                  2|     25000.0|GLOBAL EDGE SOFTWARE|           HDFC Bank|              Y|  17|HBXX|               500000|                    2|         null|          null|              null|          N|Web-browser|   B|  S134|   3|       1|        0|\n",
            "|ID000010K00|  Male|  Bengaluru|         45000|21-Apr-82|         20-May-15|             300000|                  5|     15000.0|COGNIZANT TECHNOL...|                HSBC|              Y|  17|HAXM|               300000|                    5|        13.99|          1500|           6978.92|          N|Web-browser|   B|  S143|   3|       1|        0|\n",
            "|ID000011L10|Female| Sindhudurg|         70000|23-Oct-87|         01-May-15|                  6|                  5|         0.0|CARNIVAL CRUISE LINE|            Yes Bank|              N|   0|HBXX|                 null|                 null|         null|          null|              null|          N|Web-browser|   B|  S133|   1|       0|        0|\n",
            "|ID000012M20|  Male|  Bengaluru|         20000|25-Jul-75|         20-May-15|             200000|                  5|      2597.0|GOLDEN TULIP FLOR...|                null|              Y|   3|HBXX|               200000|                    5|         null|          null|              null|          N|Web-browser|   B|  S159|   3|       0|        0|\n",
            "|ID000013N30|  Male|      Kochi|         75000|26-Jan-72|         02-May-15|                  0|                  0|         0.0|        SIIS PVT LTD| State Bank of India|              Y|  13|HAXB|              1300000|                    5|        14.85|         26000|          30824.65|          Y|     Mobile|   C|  S122|   5|       0|        0|\n",
            "|ID000014O40|Female|     Mumbai|         30000|12-Sep-89|         03-May-15|             300000|                  3|         0.0|      SOUNDCLOUD.COM|          Kotak Bank|              Y|   0|HBXC|               300000|                    3|        18.25|          1500|          10883.38|          N|Web-browser|   B|  S133|   1|       0|        0|\n",
            "|ID000016Q10|  Male|     Mumbai|         25000|01-Jan-76|         02-May-15|            1000000|                  5|         0.0|       KRISHNA KUMAR|Indian Overseas Bank|              Y|  11|HBXC|               660000|                    5|         20.0|          6600|          17485.96|          N|Web-browser|   B|  S133|   4|       0|        0|\n",
            "|ID000018S30|Female|      Surat|         25000|13-Oct-89|         02-May-15|             140000|                  4|         0.0|S D JAIN MODERN S...|                null|              N|   0|HBXX|                 null|                 null|         null|          null|              null|          N|Web-browser|   B|  S122|   1|       0|        0|\n",
            "|ID000019T40|Female|       Pune|         24000|22-May-90|         02-May-15|             500000|                  4|         0.0|K.E.M. HOSPITAL R...| Bank of Maharasthra|              N|   0|HBXX|                 null|                 null|         null|          null|              null|          N|Web-browser|   B|  S133|   1|       0|        0|\n",
            "|ID000021V10|  Male|Bhubaneswar|         27000|24-Jun-82|         09-May-15|             200000|                  5|      4600.0|GI STAFFING SERVI...| State Bank of India|              Y|  11|HBXD|               200000|                    5|         18.0|          4500|           5078.69|          N|Web-browser|   B|  S133|   4|       0|        0|\n",
            "|ID000022W20|Female|     Howrah|         28000|09-Feb-89|         13-May-15|             100000|                  1|      1200.0|MCX STOCK EXCHANG...|           HDFC Bank|              N|   0|HBXX|                 null|                 null|         null|          null|              null|          N|Web-browser|   B|  S151|   1|       0|        0|\n",
            "|ID000023X30|  Male|    Chennai|         42000|08-May-82|         05-May-15|             500000|                  3|         0.0|  SMEC INDIA PVT LTD| State Bank of India|              Y|  14|HBXX|               500000|                    3|         null|          null|              null|          N|Web-browser|   B|  S159|   3|       0|        0|\n",
            "|ID000024Y40|  Male|   Ludhiana|         28994|11-Oct-85|         08-May-15|             300000|                  5|      2550.0|  UNIPARTS INDIA LTD|          Kotak Bank|              Y|   0|HBXH|               300000|                    5|         15.5|          6000|           7215.96|          N|Web-browser|   E|  S122|   1|       1|        0|\n",
            "|ID000025Z00|Female|      Delhi|         20000|06-Jan-90|         01-May-15|             100000|                  5|         0.0|   INTEC CAPITAL LTD|           HDFC Bank|              N|   0|HBXX|                 null|                 null|         null|          null|              null|          N|Web-browser|   B|  S122|   1|       0|        0|\n",
            "|ID000027B20|Female|  Bengaluru|         33000|14-Jul-76|         24-May-15|             500000|                  5|      7000.0|         N RAVIKUMAR|           Axis Bank|              N|   0|HBXX|                 null|                 null|         null|          null|              null|          N|Web-browser|   E|  S133|   1|       0|        0|\n",
            "|ID000028C30|  Male|  Panchkula|         31500|29-Aug-82|         01-May-15|             500000|                  5|     10000.0|S P SINGLA CONSTR...|           Axis Bank|              Y|  12|HBXX|               450000|                    5|         null|          null|              null|          N|Web-browser|   E|  S133|   3|       0|        0|\n",
            "+-----------+------+-----------+--------------+---------+------------------+-------------------+-------------------+------------+--------------------+--------------------+---------------+----+----+---------------------+---------------------+-------------+--------------+------------------+-----------+-----------+----+------+----+--------+---------+\n",
            "only showing top 20 rows\n",
            "\n"
          ],
          "name": "stdout"
        }
      ]
    },
    {
      "cell_type": "markdown",
      "metadata": {
        "id": "Nm3M-YEwKSSc"
      },
      "source": [
        "Wyrzucenie ze zbioru zmiennej **LoggedIn**"
      ]
    },
    {
      "cell_type": "code",
      "metadata": {
        "colab": {
          "base_uri": "https://localhost:8080/"
        },
        "id": "iIorAEZ2I1In",
        "outputId": "5b1c4f3f-3399-4646-84cf-a3b12e8be8af"
      },
      "source": [
        "tmp = csv_df.drop('LoggedIn')\n",
        "tmp.show()"
      ],
      "execution_count": 9,
      "outputs": [
        {
          "output_type": "stream",
          "text": [
            "+-----------+------+-----------+--------------+---------+------------------+-------------------+-------------------+------------+--------------------+--------------------+---------------+----+----+---------------------+---------------------+-------------+--------------+------------------+-----------+-----------+----+------+----+---------+\n",
            "|         ID|Gender|       City|Monthly_Income|      DOB|Lead_Creation_Date|Loan_Amount_Applied|Loan_Tenure_Applied|Existing_EMI|       Employer_Name|      Salary_Account|Mobile_Verified|Var5|Var1|Loan_Amount_Submitted|Loan_Tenure_Submitted|Interest_Rate|Processing_Fee|EMI_Loan_Submitted|Filled_Form|Device_Type|Var2|Source|Var4|Disbursed|\n",
            "+-----------+------+-----------+--------------+---------+------------------+-------------------+-------------------+------------+--------------------+--------------------+---------------+----+----+---------------------+---------------------+-------------+--------------+------------------+-----------+-----------+----+------+----+---------+\n",
            "|ID000002C20|Female|      Delhi|         20000|23-May-78|         15-May-15|             300000|                  5|         0.0|             CYBOSOL|           HDFC Bank|              N|   0|HBXX|                 null|                 null|         null|          null|              null|          N|Web-browser|   G|  S122|   1|        0|\n",
            "|ID000004E40|  Male|     Mumbai|         35000|07-Oct-85|         04-May-15|             200000|                  2|         0.0|TATA CONSULTANCY ...|          ICICI Bank|              Y|  13|HBXA|               200000|                    2|        13.25|          null|            6762.9|          N|Web-browser|   G|  S122|   3|        0|\n",
            "|ID000007H20|  Male|  Panchkula|         22500|10-Oct-81|         19-May-15|             600000|                  4|         0.0|ALCHEMIST HOSPITA...| State Bank of India|              Y|   0|HBXX|               450000|                    4|         null|          null|              null|          N|Web-browser|   B|  S143|   1|        0|\n",
            "|ID000008I30|  Male|    Saharsa|         35000|30-Nov-87|         09-May-15|            1000000|                  5|         0.0|    BIHAR GOVERNMENT| State Bank of India|              Y|  10|HBXX|               920000|                    5|         null|          null|              null|          N|Web-browser|   B|  S143|   3|        0|\n",
            "|ID000009J40|  Male|  Bengaluru|        100000|17-Feb-84|         20-May-15|             500000|                  2|     25000.0|GLOBAL EDGE SOFTWARE|           HDFC Bank|              Y|  17|HBXX|               500000|                    2|         null|          null|              null|          N|Web-browser|   B|  S134|   3|        0|\n",
            "|ID000010K00|  Male|  Bengaluru|         45000|21-Apr-82|         20-May-15|             300000|                  5|     15000.0|COGNIZANT TECHNOL...|                HSBC|              Y|  17|HAXM|               300000|                    5|        13.99|          1500|           6978.92|          N|Web-browser|   B|  S143|   3|        0|\n",
            "|ID000011L10|Female| Sindhudurg|         70000|23-Oct-87|         01-May-15|                  6|                  5|         0.0|CARNIVAL CRUISE LINE|            Yes Bank|              N|   0|HBXX|                 null|                 null|         null|          null|              null|          N|Web-browser|   B|  S133|   1|        0|\n",
            "|ID000012M20|  Male|  Bengaluru|         20000|25-Jul-75|         20-May-15|             200000|                  5|      2597.0|GOLDEN TULIP FLOR...|                null|              Y|   3|HBXX|               200000|                    5|         null|          null|              null|          N|Web-browser|   B|  S159|   3|        0|\n",
            "|ID000013N30|  Male|      Kochi|         75000|26-Jan-72|         02-May-15|                  0|                  0|         0.0|        SIIS PVT LTD| State Bank of India|              Y|  13|HAXB|              1300000|                    5|        14.85|         26000|          30824.65|          Y|     Mobile|   C|  S122|   5|        0|\n",
            "|ID000014O40|Female|     Mumbai|         30000|12-Sep-89|         03-May-15|             300000|                  3|         0.0|      SOUNDCLOUD.COM|          Kotak Bank|              Y|   0|HBXC|               300000|                    3|        18.25|          1500|          10883.38|          N|Web-browser|   B|  S133|   1|        0|\n",
            "|ID000016Q10|  Male|     Mumbai|         25000|01-Jan-76|         02-May-15|            1000000|                  5|         0.0|       KRISHNA KUMAR|Indian Overseas Bank|              Y|  11|HBXC|               660000|                    5|         20.0|          6600|          17485.96|          N|Web-browser|   B|  S133|   4|        0|\n",
            "|ID000018S30|Female|      Surat|         25000|13-Oct-89|         02-May-15|             140000|                  4|         0.0|S D JAIN MODERN S...|                null|              N|   0|HBXX|                 null|                 null|         null|          null|              null|          N|Web-browser|   B|  S122|   1|        0|\n",
            "|ID000019T40|Female|       Pune|         24000|22-May-90|         02-May-15|             500000|                  4|         0.0|K.E.M. HOSPITAL R...| Bank of Maharasthra|              N|   0|HBXX|                 null|                 null|         null|          null|              null|          N|Web-browser|   B|  S133|   1|        0|\n",
            "|ID000021V10|  Male|Bhubaneswar|         27000|24-Jun-82|         09-May-15|             200000|                  5|      4600.0|GI STAFFING SERVI...| State Bank of India|              Y|  11|HBXD|               200000|                    5|         18.0|          4500|           5078.69|          N|Web-browser|   B|  S133|   4|        0|\n",
            "|ID000022W20|Female|     Howrah|         28000|09-Feb-89|         13-May-15|             100000|                  1|      1200.0|MCX STOCK EXCHANG...|           HDFC Bank|              N|   0|HBXX|                 null|                 null|         null|          null|              null|          N|Web-browser|   B|  S151|   1|        0|\n",
            "|ID000023X30|  Male|    Chennai|         42000|08-May-82|         05-May-15|             500000|                  3|         0.0|  SMEC INDIA PVT LTD| State Bank of India|              Y|  14|HBXX|               500000|                    3|         null|          null|              null|          N|Web-browser|   B|  S159|   3|        0|\n",
            "|ID000024Y40|  Male|   Ludhiana|         28994|11-Oct-85|         08-May-15|             300000|                  5|      2550.0|  UNIPARTS INDIA LTD|          Kotak Bank|              Y|   0|HBXH|               300000|                    5|         15.5|          6000|           7215.96|          N|Web-browser|   E|  S122|   1|        0|\n",
            "|ID000025Z00|Female|      Delhi|         20000|06-Jan-90|         01-May-15|             100000|                  5|         0.0|   INTEC CAPITAL LTD|           HDFC Bank|              N|   0|HBXX|                 null|                 null|         null|          null|              null|          N|Web-browser|   B|  S122|   1|        0|\n",
            "|ID000027B20|Female|  Bengaluru|         33000|14-Jul-76|         24-May-15|             500000|                  5|      7000.0|         N RAVIKUMAR|           Axis Bank|              N|   0|HBXX|                 null|                 null|         null|          null|              null|          N|Web-browser|   E|  S133|   1|        0|\n",
            "|ID000028C30|  Male|  Panchkula|         31500|29-Aug-82|         01-May-15|             500000|                  5|     10000.0|S P SINGLA CONSTR...|           Axis Bank|              Y|  12|HBXX|               450000|                    5|         null|          null|              null|          N|Web-browser|   E|  S133|   3|        0|\n",
            "+-----------+------+-----------+--------------+---------+------------------+-------------------+-------------------+------------+--------------------+--------------------+---------------+----+----+---------------------+---------------------+-------------+--------------+------------------+-----------+-----------+----+------+----+---------+\n",
            "only showing top 20 rows\n",
            "\n"
          ],
          "name": "stdout"
        }
      ]
    },
    {
      "cell_type": "code",
      "metadata": {
        "colab": {
          "base_uri": "https://localhost:8080/"
        },
        "id": "kcgnEnrdKPGg",
        "outputId": "cdcf183b-261c-42a7-e706-58a2d454df8e"
      },
      "source": [
        "tmp.printSchema()"
      ],
      "execution_count": 10,
      "outputs": [
        {
          "output_type": "stream",
          "text": [
            "root\n",
            " |-- ID: string (nullable = true)\n",
            " |-- Gender: string (nullable = true)\n",
            " |-- City: string (nullable = true)\n",
            " |-- Monthly_Income: integer (nullable = true)\n",
            " |-- DOB: string (nullable = true)\n",
            " |-- Lead_Creation_Date: string (nullable = true)\n",
            " |-- Loan_Amount_Applied: integer (nullable = true)\n",
            " |-- Loan_Tenure_Applied: integer (nullable = true)\n",
            " |-- Existing_EMI: double (nullable = true)\n",
            " |-- Employer_Name: string (nullable = true)\n",
            " |-- Salary_Account: string (nullable = true)\n",
            " |-- Mobile_Verified: string (nullable = true)\n",
            " |-- Var5: integer (nullable = true)\n",
            " |-- Var1: string (nullable = true)\n",
            " |-- Loan_Amount_Submitted: integer (nullable = true)\n",
            " |-- Loan_Tenure_Submitted: integer (nullable = true)\n",
            " |-- Interest_Rate: double (nullable = true)\n",
            " |-- Processing_Fee: integer (nullable = true)\n",
            " |-- EMI_Loan_Submitted: double (nullable = true)\n",
            " |-- Filled_Form: string (nullable = true)\n",
            " |-- Device_Type: string (nullable = true)\n",
            " |-- Var2: string (nullable = true)\n",
            " |-- Source: string (nullable = true)\n",
            " |-- Var4: integer (nullable = true)\n",
            " |-- Disbursed: integer (nullable = true)\n",
            "\n"
          ],
          "name": "stdout"
        }
      ]
    },
    {
      "cell_type": "code",
      "metadata": {
        "colab": {
          "base_uri": "https://localhost:8080/"
        },
        "id": "MfY3_6a_SZWk",
        "outputId": "45a0165b-2a3b-4574-b1ff-9ea145fbf7ba"
      },
      "source": [
        "tmp.describe().show()"
      ],
      "execution_count": 11,
      "outputs": [
        {
          "output_type": "stream",
          "text": [
            "+-------+-----------+------+--------------+------------------+---------+------------------+-------------------+-------------------+------------------+--------------------+--------------------+---------------+-----------------+-----+---------------------+---------------------+------------------+------------------+------------------+-----------+-----------+-----+------+------------------+--------------------+\n",
            "|summary|         ID|Gender|          City|    Monthly_Income|      DOB|Lead_Creation_Date|Loan_Amount_Applied|Loan_Tenure_Applied|      Existing_EMI|       Employer_Name|      Salary_Account|Mobile_Verified|             Var5| Var1|Loan_Amount_Submitted|Loan_Tenure_Submitted|     Interest_Rate|    Processing_Fee|EMI_Loan_Submitted|Filled_Form|Device_Type| Var2|Source|              Var4|           Disbursed|\n",
            "+-------+-----------+------+--------------+------------------+---------+------------------+-------------------+-------------------+------------------+--------------------+--------------------+---------------+-----------------+-----+---------------------+---------------------+------------------+------------------+------------------+-----------+-----------+-----+------+------------------+--------------------+\n",
            "|  count|      79246| 79246|         78282|             79246|    79246|             79246|              79221|              79221|             79221|               79221|               68328|          79246|            79246|79246|                47490|                47490|             25021|             24718|             25021|      79246|      79246|79246| 79246|             79246|               79246|\n",
            "|   mean|       null|  null|          null| 59255.52109885673|     null|              null|   229024.090380076| 2.1266962042892668|3718.7572368437663|1.3691139934105264E7|                null|           null|4.974307851500392| null|   393144.66203411244|   3.9073910296904613|19.070010391271232|5116.1838336434985|10890.549720234945|       null|       null| null|  null|2.9309491961739393|0.014940817202130075|\n",
            "| stddev|       null|  null|          null|2253203.0619137273|     null|              null| 353681.77878127067| 2.0128009620098775| 41617.82292983821| 8.040038041974229E8|                null|           null|5.685844213064531| null|    304852.0558775845|   1.1777584777331047| 5.606696030960237|  4718.95779977444| 7364.274346728912|       null|       null| null|  null|  1.70335227483729| 0.12131683686151994|\n",
            "|    min|ID000002C20|Female|        ADIPUR|                 0|01-Apr-57|         01-Jul-15|                  0|                  0|               0.0|                    |Abhyuday Co-op Ba...|              N|                0| HAVC|                50000|                    1|             11.99|               200|           1176.41|          N|     Mobile|    A|  S122|                 0|                   0|\n",
            "|    max|ID113672A20|  Male|sri ganganagar|         444554443|31-Oct-97|         31-May-15|           10000000|                 10|             1.0E7|������������ ����...|            Yes Bank|              Y|               18| HVYS|              3000000|                    6|              37.0|             50000|         135564.48|          Y|Web-browser|    G|  S162|                 7|                   1|\n",
            "+-------+-----------+------+--------------+------------------+---------+------------------+-------------------+-------------------+------------------+--------------------+--------------------+---------------+-----------------+-----+---------------------+---------------------+------------------+------------------+------------------+-----------+-----------+-----+------+------------------+--------------------+\n",
            "\n"
          ],
          "name": "stdout"
        }
      ]
    },
    {
      "cell_type": "code",
      "metadata": {
        "colab": {
          "base_uri": "https://localhost:8080/"
        },
        "id": "C96pNGnKKrBQ",
        "outputId": "4c52daee-1749-4c8d-cb4c-ad2492d63a8f"
      },
      "source": [
        "# zmieniamy Null na 0\n",
        "\n",
        "tmp = tmp.fillna(0)\n",
        "tmp.show()"
      ],
      "execution_count": 12,
      "outputs": [
        {
          "output_type": "stream",
          "text": [
            "+-----------+------+-----------+--------------+---------+------------------+-------------------+-------------------+------------+--------------------+--------------------+---------------+----+----+---------------------+---------------------+-------------+--------------+------------------+-----------+-----------+----+------+----+---------+\n",
            "|         ID|Gender|       City|Monthly_Income|      DOB|Lead_Creation_Date|Loan_Amount_Applied|Loan_Tenure_Applied|Existing_EMI|       Employer_Name|      Salary_Account|Mobile_Verified|Var5|Var1|Loan_Amount_Submitted|Loan_Tenure_Submitted|Interest_Rate|Processing_Fee|EMI_Loan_Submitted|Filled_Form|Device_Type|Var2|Source|Var4|Disbursed|\n",
            "+-----------+------+-----------+--------------+---------+------------------+-------------------+-------------------+------------+--------------------+--------------------+---------------+----+----+---------------------+---------------------+-------------+--------------+------------------+-----------+-----------+----+------+----+---------+\n",
            "|ID000002C20|Female|      Delhi|         20000|23-May-78|         15-May-15|             300000|                  5|         0.0|             CYBOSOL|           HDFC Bank|              N|   0|HBXX|                    0|                    0|          0.0|             0|               0.0|          N|Web-browser|   G|  S122|   1|        0|\n",
            "|ID000004E40|  Male|     Mumbai|         35000|07-Oct-85|         04-May-15|             200000|                  2|         0.0|TATA CONSULTANCY ...|          ICICI Bank|              Y|  13|HBXA|               200000|                    2|        13.25|             0|            6762.9|          N|Web-browser|   G|  S122|   3|        0|\n",
            "|ID000007H20|  Male|  Panchkula|         22500|10-Oct-81|         19-May-15|             600000|                  4|         0.0|ALCHEMIST HOSPITA...| State Bank of India|              Y|   0|HBXX|               450000|                    4|          0.0|             0|               0.0|          N|Web-browser|   B|  S143|   1|        0|\n",
            "|ID000008I30|  Male|    Saharsa|         35000|30-Nov-87|         09-May-15|            1000000|                  5|         0.0|    BIHAR GOVERNMENT| State Bank of India|              Y|  10|HBXX|               920000|                    5|          0.0|             0|               0.0|          N|Web-browser|   B|  S143|   3|        0|\n",
            "|ID000009J40|  Male|  Bengaluru|        100000|17-Feb-84|         20-May-15|             500000|                  2|     25000.0|GLOBAL EDGE SOFTWARE|           HDFC Bank|              Y|  17|HBXX|               500000|                    2|          0.0|             0|               0.0|          N|Web-browser|   B|  S134|   3|        0|\n",
            "|ID000010K00|  Male|  Bengaluru|         45000|21-Apr-82|         20-May-15|             300000|                  5|     15000.0|COGNIZANT TECHNOL...|                HSBC|              Y|  17|HAXM|               300000|                    5|        13.99|          1500|           6978.92|          N|Web-browser|   B|  S143|   3|        0|\n",
            "|ID000011L10|Female| Sindhudurg|         70000|23-Oct-87|         01-May-15|                  6|                  5|         0.0|CARNIVAL CRUISE LINE|            Yes Bank|              N|   0|HBXX|                    0|                    0|          0.0|             0|               0.0|          N|Web-browser|   B|  S133|   1|        0|\n",
            "|ID000012M20|  Male|  Bengaluru|         20000|25-Jul-75|         20-May-15|             200000|                  5|      2597.0|GOLDEN TULIP FLOR...|                null|              Y|   3|HBXX|               200000|                    5|          0.0|             0|               0.0|          N|Web-browser|   B|  S159|   3|        0|\n",
            "|ID000013N30|  Male|      Kochi|         75000|26-Jan-72|         02-May-15|                  0|                  0|         0.0|        SIIS PVT LTD| State Bank of India|              Y|  13|HAXB|              1300000|                    5|        14.85|         26000|          30824.65|          Y|     Mobile|   C|  S122|   5|        0|\n",
            "|ID000014O40|Female|     Mumbai|         30000|12-Sep-89|         03-May-15|             300000|                  3|         0.0|      SOUNDCLOUD.COM|          Kotak Bank|              Y|   0|HBXC|               300000|                    3|        18.25|          1500|          10883.38|          N|Web-browser|   B|  S133|   1|        0|\n",
            "|ID000016Q10|  Male|     Mumbai|         25000|01-Jan-76|         02-May-15|            1000000|                  5|         0.0|       KRISHNA KUMAR|Indian Overseas Bank|              Y|  11|HBXC|               660000|                    5|         20.0|          6600|          17485.96|          N|Web-browser|   B|  S133|   4|        0|\n",
            "|ID000018S30|Female|      Surat|         25000|13-Oct-89|         02-May-15|             140000|                  4|         0.0|S D JAIN MODERN S...|                null|              N|   0|HBXX|                    0|                    0|          0.0|             0|               0.0|          N|Web-browser|   B|  S122|   1|        0|\n",
            "|ID000019T40|Female|       Pune|         24000|22-May-90|         02-May-15|             500000|                  4|         0.0|K.E.M. HOSPITAL R...| Bank of Maharasthra|              N|   0|HBXX|                    0|                    0|          0.0|             0|               0.0|          N|Web-browser|   B|  S133|   1|        0|\n",
            "|ID000021V10|  Male|Bhubaneswar|         27000|24-Jun-82|         09-May-15|             200000|                  5|      4600.0|GI STAFFING SERVI...| State Bank of India|              Y|  11|HBXD|               200000|                    5|         18.0|          4500|           5078.69|          N|Web-browser|   B|  S133|   4|        0|\n",
            "|ID000022W20|Female|     Howrah|         28000|09-Feb-89|         13-May-15|             100000|                  1|      1200.0|MCX STOCK EXCHANG...|           HDFC Bank|              N|   0|HBXX|                    0|                    0|          0.0|             0|               0.0|          N|Web-browser|   B|  S151|   1|        0|\n",
            "|ID000023X30|  Male|    Chennai|         42000|08-May-82|         05-May-15|             500000|                  3|         0.0|  SMEC INDIA PVT LTD| State Bank of India|              Y|  14|HBXX|               500000|                    3|          0.0|             0|               0.0|          N|Web-browser|   B|  S159|   3|        0|\n",
            "|ID000024Y40|  Male|   Ludhiana|         28994|11-Oct-85|         08-May-15|             300000|                  5|      2550.0|  UNIPARTS INDIA LTD|          Kotak Bank|              Y|   0|HBXH|               300000|                    5|         15.5|          6000|           7215.96|          N|Web-browser|   E|  S122|   1|        0|\n",
            "|ID000025Z00|Female|      Delhi|         20000|06-Jan-90|         01-May-15|             100000|                  5|         0.0|   INTEC CAPITAL LTD|           HDFC Bank|              N|   0|HBXX|                    0|                    0|          0.0|             0|               0.0|          N|Web-browser|   B|  S122|   1|        0|\n",
            "|ID000027B20|Female|  Bengaluru|         33000|14-Jul-76|         24-May-15|             500000|                  5|      7000.0|         N RAVIKUMAR|           Axis Bank|              N|   0|HBXX|                    0|                    0|          0.0|             0|               0.0|          N|Web-browser|   E|  S133|   1|        0|\n",
            "|ID000028C30|  Male|  Panchkula|         31500|29-Aug-82|         01-May-15|             500000|                  5|     10000.0|S P SINGLA CONSTR...|           Axis Bank|              Y|  12|HBXX|               450000|                    5|          0.0|             0|               0.0|          N|Web-browser|   E|  S133|   3|        0|\n",
            "+-----------+------+-----------+--------------+---------+------------------+-------------------+-------------------+------------+--------------------+--------------------+---------------+----+----+---------------------+---------------------+-------------+--------------+------------------+-----------+-----------+----+------+----+---------+\n",
            "only showing top 20 rows\n",
            "\n"
          ],
          "name": "stdout"
        }
      ]
    },
    {
      "cell_type": "code",
      "metadata": {
        "colab": {
          "base_uri": "https://localhost:8080/"
        },
        "id": "tTMh68rG3y46",
        "outputId": "1d592ad3-2335-490e-86e7-895291080660"
      },
      "source": [
        "tmp.printSchema()"
      ],
      "execution_count": 13,
      "outputs": [
        {
          "output_type": "stream",
          "text": [
            "root\n",
            " |-- ID: string (nullable = true)\n",
            " |-- Gender: string (nullable = true)\n",
            " |-- City: string (nullable = true)\n",
            " |-- Monthly_Income: integer (nullable = true)\n",
            " |-- DOB: string (nullable = true)\n",
            " |-- Lead_Creation_Date: string (nullable = true)\n",
            " |-- Loan_Amount_Applied: integer (nullable = true)\n",
            " |-- Loan_Tenure_Applied: integer (nullable = true)\n",
            " |-- Existing_EMI: double (nullable = false)\n",
            " |-- Employer_Name: string (nullable = true)\n",
            " |-- Salary_Account: string (nullable = true)\n",
            " |-- Mobile_Verified: string (nullable = true)\n",
            " |-- Var5: integer (nullable = true)\n",
            " |-- Var1: string (nullable = true)\n",
            " |-- Loan_Amount_Submitted: integer (nullable = true)\n",
            " |-- Loan_Tenure_Submitted: integer (nullable = true)\n",
            " |-- Interest_Rate: double (nullable = false)\n",
            " |-- Processing_Fee: integer (nullable = true)\n",
            " |-- EMI_Loan_Submitted: double (nullable = false)\n",
            " |-- Filled_Form: string (nullable = true)\n",
            " |-- Device_Type: string (nullable = true)\n",
            " |-- Var2: string (nullable = true)\n",
            " |-- Source: string (nullable = true)\n",
            " |-- Var4: integer (nullable = true)\n",
            " |-- Disbursed: integer (nullable = true)\n",
            "\n"
          ],
          "name": "stdout"
        }
      ]
    },
    {
      "cell_type": "code",
      "metadata": {
        "colab": {
          "base_uri": "https://localhost:8080/"
        },
        "id": "biP9ytnvlyEe",
        "outputId": "8d7c4cb5-21ca-4770-94f4-c02bbd21cf25"
      },
      "source": [
        "tmp.groupBy(\"Disbursed\").count().show()"
      ],
      "execution_count": 14,
      "outputs": [
        {
          "output_type": "stream",
          "text": [
            "+---------+-----+\n",
            "|Disbursed|count|\n",
            "+---------+-----+\n",
            "|        1| 1184|\n",
            "|        0|78062|\n",
            "+---------+-----+\n",
            "\n"
          ],
          "name": "stdout"
        }
      ]
    },
    {
      "cell_type": "code",
      "metadata": {
        "id": "1_1DOlwBB8G1"
      },
      "source": [
        "#tmp.toPandas()\n"
      ],
      "execution_count": 15,
      "outputs": []
    },
    {
      "cell_type": "code",
      "metadata": {
        "colab": {
          "base_uri": "https://localhost:8080/"
        },
        "id": "FkzWyM_s6PAK",
        "outputId": "dae19526-420f-4e28-8e02-071833097118"
      },
      "source": [
        "# Liczba pożyczek\n",
        "tmp.select((tmp[\"Disbursed\"]).alias(\"cln\")).describe().show()"
      ],
      "execution_count": 16,
      "outputs": [
        {
          "output_type": "stream",
          "text": [
            "+-------+--------------------+\n",
            "|summary|                 cln|\n",
            "+-------+--------------------+\n",
            "|  count|               79246|\n",
            "|   mean|0.014940817202130075|\n",
            "| stddev| 0.12131683686151994|\n",
            "|    min|                   0|\n",
            "|    max|                   1|\n",
            "+-------+--------------------+\n",
            "\n"
          ],
          "name": "stdout"
        }
      ]
    },
    {
      "cell_type": "code",
      "metadata": {
        "id": "BMlfKsWT790I"
      },
      "source": [
        "tmp.createOrReplaceTempView(\"tmp\")"
      ],
      "execution_count": 17,
      "outputs": []
    },
    {
      "cell_type": "code",
      "metadata": {
        "colab": {
          "base_uri": "https://localhost:8080/"
        },
        "id": "24ugnA6F-QML",
        "outputId": "2e43f9ac-3549-4015-8540-00ad325b940c"
      },
      "source": [
        "# max/min/avg udzielonej pożyczki\n",
        "\n",
        "spark.sql('select max(Loan_Amount_Applied) as Max_Loan_Amount, min(Loan_Amount_Applied) as Min_Loan_Amount, avg(Loan_Amount_Applied) as Avg_Loan_Amout \\\n",
        "      from tmp \\\n",
        "      where Disbursed == 1').show()"
      ],
      "execution_count": 18,
      "outputs": [
        {
          "output_type": "stream",
          "text": [
            "+---------------+---------------+------------------+\n",
            "|Max_Loan_Amount|Min_Loan_Amount|    Avg_Loan_Amout|\n",
            "+---------------+---------------+------------------+\n",
            "|        3000000|              0|321355.58699324325|\n",
            "+---------------+---------------+------------------+\n",
            "\n"
          ],
          "name": "stdout"
        }
      ]
    },
    {
      "cell_type": "code",
      "metadata": {
        "colab": {
          "base_uri": "https://localhost:8080/"
        },
        "id": "mfqncZOv_HAB",
        "outputId": "3e7ad1d3-fdfc-4687-db23-011315b7af1c"
      },
      "source": [
        "# sprawdzenie unikalności danych\n",
        "tmp.groupBy(\"Device_Type\").count().show()\n",
        "tmp.groupBy(\"Gender\").count().show()\n",
        "tmp.groupBy(\"Filled_Form\").count().show()\n",
        "tmp.groupBy(\"Source\").count().show()\n",
        "tmp.groupBy(\"Mobile_Verified\").count().show()"
      ],
      "execution_count": 19,
      "outputs": [
        {
          "output_type": "stream",
          "text": [
            "+-----------+-----+\n",
            "|Device_Type|count|\n",
            "+-----------+-----+\n",
            "|Web-browser|58804|\n",
            "|     Mobile|20442|\n",
            "+-----------+-----+\n",
            "\n",
            "+------+-----+\n",
            "|Gender|count|\n",
            "+------+-----+\n",
            "|Female|33638|\n",
            "|  Male|45608|\n",
            "+------+-----+\n",
            "\n",
            "+-----------+-----+\n",
            "|Filled_Form|count|\n",
            "+-----------+-----+\n",
            "|          Y|17705|\n",
            "|          N|61541|\n",
            "+-----------+-----+\n",
            "\n",
            "+------+-----+\n",
            "|Source|count|\n",
            "+------+-----+\n",
            "|  S155|    4|\n",
            "|  S143| 4332|\n",
            "|  S158|  208|\n",
            "|  S151|  720|\n",
            "|  S162|   36|\n",
            "|  S136|    3|\n",
            "|  S157|  650|\n",
            "|  S160|   11|\n",
            "|  S159| 5599|\n",
            "|  S161|  769|\n",
            "|  S129|    3|\n",
            "|  S135|    2|\n",
            "|  S125|    1|\n",
            "|  S156|  308|\n",
            "|  S154|    1|\n",
            "|  S150|   10|\n",
            "|  S138|    3|\n",
            "|  S122|30793|\n",
            "|  S133|29885|\n",
            "|  S123|   73|\n",
            "+------+-----+\n",
            "only showing top 20 rows\n",
            "\n",
            "+---------------+-----+\n",
            "|Mobile_Verified|count|\n",
            "+---------------+-----+\n",
            "|              Y|51506|\n",
            "|              N|27740|\n",
            "+---------------+-----+\n",
            "\n"
          ],
          "name": "stdout"
        }
      ]
    },
    {
      "cell_type": "markdown",
      "metadata": {
        "id": "TudwkiFHx_24"
      },
      "source": [
        "Konwersja danych"
      ]
    },
    {
      "cell_type": "code",
      "metadata": {
        "id": "vm77QKkGxQ3k"
      },
      "source": [
        "from pyspark.sql.functions import col, when"
      ],
      "execution_count": 20,
      "outputs": []
    },
    {
      "cell_type": "code",
      "metadata": {
        "colab": {
          "base_uri": "https://localhost:8080/"
        },
        "id": "asN3ScKFbDSF",
        "outputId": "4625f09f-6a95-4d5a-a755-81a66a2c7ac1"
      },
      "source": [
        "tmp1 = tmp.select(col(\"*\"), when(col(\"Gender\") == \"Male\",1)\n",
        "      .when(col(\"Gender\") == \"Female\",0).alias(\"new_gender\"), when(col(\"Filled_Form\") == \"Y\",1)\n",
        "      .when(col(\"Filled_Form\") == \"N\",0).alias(\"new_Filled_Form\"), when(col(\"Device_Type\") == \"Web-browser\",1)\n",
        "      .when(col(\"Device_Type\") == \"Mobile\",0).alias(\"new_Device_Type\"), when(col(\"Mobile_Verified\") == \"Y\",1)\n",
        "      .when(col(\"Mobile_Verified\") == \"N\",0).alias(\"new_Mobile_Verified\"))\n",
        "tmp1.show()"
      ],
      "execution_count": 75,
      "outputs": [
        {
          "output_type": "stream",
          "text": [
            "+-----------+------+-----------+--------------+---------+------------------+-------------------+-------------------+------------+--------------------+--------------------+---------------+----+----+---------------------+---------------------+-------------+--------------+------------------+-----------+-----------+----+------+----+---------+----------+---------------+---------------+-------------------+\n",
            "|         ID|Gender|       City|Monthly_Income|      DOB|Lead_Creation_Date|Loan_Amount_Applied|Loan_Tenure_Applied|Existing_EMI|       Employer_Name|      Salary_Account|Mobile_Verified|Var5|Var1|Loan_Amount_Submitted|Loan_Tenure_Submitted|Interest_Rate|Processing_Fee|EMI_Loan_Submitted|Filled_Form|Device_Type|Var2|Source|Var4|Disbursed|new_gender|new_Filled_Form|new_Device_Type|new_Mobile_Verified|\n",
            "+-----------+------+-----------+--------------+---------+------------------+-------------------+-------------------+------------+--------------------+--------------------+---------------+----+----+---------------------+---------------------+-------------+--------------+------------------+-----------+-----------+----+------+----+---------+----------+---------------+---------------+-------------------+\n",
            "|ID000002C20|Female|      Delhi|         20000|23-May-78|         15-May-15|             300000|                  5|         0.0|             CYBOSOL|           HDFC Bank|              N|   0|HBXX|                    0|                    0|          0.0|             0|               0.0|          N|Web-browser|   G|  S122|   1|        0|         0|              0|              1|                  0|\n",
            "|ID000004E40|  Male|     Mumbai|         35000|07-Oct-85|         04-May-15|             200000|                  2|         0.0|TATA CONSULTANCY ...|          ICICI Bank|              Y|  13|HBXA|               200000|                    2|        13.25|             0|            6762.9|          N|Web-browser|   G|  S122|   3|        0|         1|              0|              1|                  1|\n",
            "|ID000007H20|  Male|  Panchkula|         22500|10-Oct-81|         19-May-15|             600000|                  4|         0.0|ALCHEMIST HOSPITA...| State Bank of India|              Y|   0|HBXX|               450000|                    4|          0.0|             0|               0.0|          N|Web-browser|   B|  S143|   1|        0|         1|              0|              1|                  1|\n",
            "|ID000008I30|  Male|    Saharsa|         35000|30-Nov-87|         09-May-15|            1000000|                  5|         0.0|    BIHAR GOVERNMENT| State Bank of India|              Y|  10|HBXX|               920000|                    5|          0.0|             0|               0.0|          N|Web-browser|   B|  S143|   3|        0|         1|              0|              1|                  1|\n",
            "|ID000009J40|  Male|  Bengaluru|        100000|17-Feb-84|         20-May-15|             500000|                  2|     25000.0|GLOBAL EDGE SOFTWARE|           HDFC Bank|              Y|  17|HBXX|               500000|                    2|          0.0|             0|               0.0|          N|Web-browser|   B|  S134|   3|        0|         1|              0|              1|                  1|\n",
            "|ID000010K00|  Male|  Bengaluru|         45000|21-Apr-82|         20-May-15|             300000|                  5|     15000.0|COGNIZANT TECHNOL...|                HSBC|              Y|  17|HAXM|               300000|                    5|        13.99|          1500|           6978.92|          N|Web-browser|   B|  S143|   3|        0|         1|              0|              1|                  1|\n",
            "|ID000011L10|Female| Sindhudurg|         70000|23-Oct-87|         01-May-15|                  6|                  5|         0.0|CARNIVAL CRUISE LINE|            Yes Bank|              N|   0|HBXX|                    0|                    0|          0.0|             0|               0.0|          N|Web-browser|   B|  S133|   1|        0|         0|              0|              1|                  0|\n",
            "|ID000012M20|  Male|  Bengaluru|         20000|25-Jul-75|         20-May-15|             200000|                  5|      2597.0|GOLDEN TULIP FLOR...|                null|              Y|   3|HBXX|               200000|                    5|          0.0|             0|               0.0|          N|Web-browser|   B|  S159|   3|        0|         1|              0|              1|                  1|\n",
            "|ID000013N30|  Male|      Kochi|         75000|26-Jan-72|         02-May-15|                  0|                  0|         0.0|        SIIS PVT LTD| State Bank of India|              Y|  13|HAXB|              1300000|                    5|        14.85|         26000|          30824.65|          Y|     Mobile|   C|  S122|   5|        0|         1|              1|              0|                  1|\n",
            "|ID000014O40|Female|     Mumbai|         30000|12-Sep-89|         03-May-15|             300000|                  3|         0.0|      SOUNDCLOUD.COM|          Kotak Bank|              Y|   0|HBXC|               300000|                    3|        18.25|          1500|          10883.38|          N|Web-browser|   B|  S133|   1|        0|         0|              0|              1|                  1|\n",
            "|ID000016Q10|  Male|     Mumbai|         25000|01-Jan-76|         02-May-15|            1000000|                  5|         0.0|       KRISHNA KUMAR|Indian Overseas Bank|              Y|  11|HBXC|               660000|                    5|         20.0|          6600|          17485.96|          N|Web-browser|   B|  S133|   4|        0|         1|              0|              1|                  1|\n",
            "|ID000018S30|Female|      Surat|         25000|13-Oct-89|         02-May-15|             140000|                  4|         0.0|S D JAIN MODERN S...|                null|              N|   0|HBXX|                    0|                    0|          0.0|             0|               0.0|          N|Web-browser|   B|  S122|   1|        0|         0|              0|              1|                  0|\n",
            "|ID000019T40|Female|       Pune|         24000|22-May-90|         02-May-15|             500000|                  4|         0.0|K.E.M. HOSPITAL R...| Bank of Maharasthra|              N|   0|HBXX|                    0|                    0|          0.0|             0|               0.0|          N|Web-browser|   B|  S133|   1|        0|         0|              0|              1|                  0|\n",
            "|ID000021V10|  Male|Bhubaneswar|         27000|24-Jun-82|         09-May-15|             200000|                  5|      4600.0|GI STAFFING SERVI...| State Bank of India|              Y|  11|HBXD|               200000|                    5|         18.0|          4500|           5078.69|          N|Web-browser|   B|  S133|   4|        0|         1|              0|              1|                  1|\n",
            "|ID000022W20|Female|     Howrah|         28000|09-Feb-89|         13-May-15|             100000|                  1|      1200.0|MCX STOCK EXCHANG...|           HDFC Bank|              N|   0|HBXX|                    0|                    0|          0.0|             0|               0.0|          N|Web-browser|   B|  S151|   1|        0|         0|              0|              1|                  0|\n",
            "|ID000023X30|  Male|    Chennai|         42000|08-May-82|         05-May-15|             500000|                  3|         0.0|  SMEC INDIA PVT LTD| State Bank of India|              Y|  14|HBXX|               500000|                    3|          0.0|             0|               0.0|          N|Web-browser|   B|  S159|   3|        0|         1|              0|              1|                  1|\n",
            "|ID000024Y40|  Male|   Ludhiana|         28994|11-Oct-85|         08-May-15|             300000|                  5|      2550.0|  UNIPARTS INDIA LTD|          Kotak Bank|              Y|   0|HBXH|               300000|                    5|         15.5|          6000|           7215.96|          N|Web-browser|   E|  S122|   1|        0|         1|              0|              1|                  1|\n",
            "|ID000025Z00|Female|      Delhi|         20000|06-Jan-90|         01-May-15|             100000|                  5|         0.0|   INTEC CAPITAL LTD|           HDFC Bank|              N|   0|HBXX|                    0|                    0|          0.0|             0|               0.0|          N|Web-browser|   B|  S122|   1|        0|         0|              0|              1|                  0|\n",
            "|ID000027B20|Female|  Bengaluru|         33000|14-Jul-76|         24-May-15|             500000|                  5|      7000.0|         N RAVIKUMAR|           Axis Bank|              N|   0|HBXX|                    0|                    0|          0.0|             0|               0.0|          N|Web-browser|   E|  S133|   1|        0|         0|              0|              1|                  0|\n",
            "|ID000028C30|  Male|  Panchkula|         31500|29-Aug-82|         01-May-15|             500000|                  5|     10000.0|S P SINGLA CONSTR...|           Axis Bank|              Y|  12|HBXX|               450000|                    5|          0.0|             0|               0.0|          N|Web-browser|   E|  S133|   3|        0|         1|              0|              1|                  1|\n",
            "+-----------+------+-----------+--------------+---------+------------------+-------------------+-------------------+------------+--------------------+--------------------+---------------+----+----+---------------------+---------------------+-------------+--------------+------------------+-----------+-----------+----+------+----+---------+----------+---------------+---------------+-------------------+\n",
            "only showing top 20 rows\n",
            "\n"
          ],
          "name": "stdout"
        }
      ]
    },
    {
      "cell_type": "code",
      "metadata": {
        "colab": {
          "base_uri": "https://localhost:8080/"
        },
        "id": "inVf9aLSyu07",
        "outputId": "9e597488-725f-4c0f-852f-4e17b54ae1f0"
      },
      "source": [
        "tmp2 = tmp1.drop(\"Gender\", \"Mobile_Veified\", \"Device_Type\", \"ID\", \"Filled_Form\")\r\n",
        "tmp2.show()\r\n"
      ],
      "execution_count": 76,
      "outputs": [
        {
          "output_type": "stream",
          "text": [
            "+-----------+--------------+---------+------------------+-------------------+-------------------+------------+--------------------+--------------------+---------------+----+----+---------------------+---------------------+-------------+--------------+------------------+----+------+----+---------+----------+---------------+---------------+-------------------+\n",
            "|       City|Monthly_Income|      DOB|Lead_Creation_Date|Loan_Amount_Applied|Loan_Tenure_Applied|Existing_EMI|       Employer_Name|      Salary_Account|Mobile_Verified|Var5|Var1|Loan_Amount_Submitted|Loan_Tenure_Submitted|Interest_Rate|Processing_Fee|EMI_Loan_Submitted|Var2|Source|Var4|Disbursed|new_gender|new_Filled_Form|new_Device_Type|new_Mobile_Verified|\n",
            "+-----------+--------------+---------+------------------+-------------------+-------------------+------------+--------------------+--------------------+---------------+----+----+---------------------+---------------------+-------------+--------------+------------------+----+------+----+---------+----------+---------------+---------------+-------------------+\n",
            "|      Delhi|         20000|23-May-78|         15-May-15|             300000|                  5|         0.0|             CYBOSOL|           HDFC Bank|              N|   0|HBXX|                    0|                    0|          0.0|             0|               0.0|   G|  S122|   1|        0|         0|              0|              1|                  0|\n",
            "|     Mumbai|         35000|07-Oct-85|         04-May-15|             200000|                  2|         0.0|TATA CONSULTANCY ...|          ICICI Bank|              Y|  13|HBXA|               200000|                    2|        13.25|             0|            6762.9|   G|  S122|   3|        0|         1|              0|              1|                  1|\n",
            "|  Panchkula|         22500|10-Oct-81|         19-May-15|             600000|                  4|         0.0|ALCHEMIST HOSPITA...| State Bank of India|              Y|   0|HBXX|               450000|                    4|          0.0|             0|               0.0|   B|  S143|   1|        0|         1|              0|              1|                  1|\n",
            "|    Saharsa|         35000|30-Nov-87|         09-May-15|            1000000|                  5|         0.0|    BIHAR GOVERNMENT| State Bank of India|              Y|  10|HBXX|               920000|                    5|          0.0|             0|               0.0|   B|  S143|   3|        0|         1|              0|              1|                  1|\n",
            "|  Bengaluru|        100000|17-Feb-84|         20-May-15|             500000|                  2|     25000.0|GLOBAL EDGE SOFTWARE|           HDFC Bank|              Y|  17|HBXX|               500000|                    2|          0.0|             0|               0.0|   B|  S134|   3|        0|         1|              0|              1|                  1|\n",
            "|  Bengaluru|         45000|21-Apr-82|         20-May-15|             300000|                  5|     15000.0|COGNIZANT TECHNOL...|                HSBC|              Y|  17|HAXM|               300000|                    5|        13.99|          1500|           6978.92|   B|  S143|   3|        0|         1|              0|              1|                  1|\n",
            "| Sindhudurg|         70000|23-Oct-87|         01-May-15|                  6|                  5|         0.0|CARNIVAL CRUISE LINE|            Yes Bank|              N|   0|HBXX|                    0|                    0|          0.0|             0|               0.0|   B|  S133|   1|        0|         0|              0|              1|                  0|\n",
            "|  Bengaluru|         20000|25-Jul-75|         20-May-15|             200000|                  5|      2597.0|GOLDEN TULIP FLOR...|                null|              Y|   3|HBXX|               200000|                    5|          0.0|             0|               0.0|   B|  S159|   3|        0|         1|              0|              1|                  1|\n",
            "|      Kochi|         75000|26-Jan-72|         02-May-15|                  0|                  0|         0.0|        SIIS PVT LTD| State Bank of India|              Y|  13|HAXB|              1300000|                    5|        14.85|         26000|          30824.65|   C|  S122|   5|        0|         1|              1|              0|                  1|\n",
            "|     Mumbai|         30000|12-Sep-89|         03-May-15|             300000|                  3|         0.0|      SOUNDCLOUD.COM|          Kotak Bank|              Y|   0|HBXC|               300000|                    3|        18.25|          1500|          10883.38|   B|  S133|   1|        0|         0|              0|              1|                  1|\n",
            "|     Mumbai|         25000|01-Jan-76|         02-May-15|            1000000|                  5|         0.0|       KRISHNA KUMAR|Indian Overseas Bank|              Y|  11|HBXC|               660000|                    5|         20.0|          6600|          17485.96|   B|  S133|   4|        0|         1|              0|              1|                  1|\n",
            "|      Surat|         25000|13-Oct-89|         02-May-15|             140000|                  4|         0.0|S D JAIN MODERN S...|                null|              N|   0|HBXX|                    0|                    0|          0.0|             0|               0.0|   B|  S122|   1|        0|         0|              0|              1|                  0|\n",
            "|       Pune|         24000|22-May-90|         02-May-15|             500000|                  4|         0.0|K.E.M. HOSPITAL R...| Bank of Maharasthra|              N|   0|HBXX|                    0|                    0|          0.0|             0|               0.0|   B|  S133|   1|        0|         0|              0|              1|                  0|\n",
            "|Bhubaneswar|         27000|24-Jun-82|         09-May-15|             200000|                  5|      4600.0|GI STAFFING SERVI...| State Bank of India|              Y|  11|HBXD|               200000|                    5|         18.0|          4500|           5078.69|   B|  S133|   4|        0|         1|              0|              1|                  1|\n",
            "|     Howrah|         28000|09-Feb-89|         13-May-15|             100000|                  1|      1200.0|MCX STOCK EXCHANG...|           HDFC Bank|              N|   0|HBXX|                    0|                    0|          0.0|             0|               0.0|   B|  S151|   1|        0|         0|              0|              1|                  0|\n",
            "|    Chennai|         42000|08-May-82|         05-May-15|             500000|                  3|         0.0|  SMEC INDIA PVT LTD| State Bank of India|              Y|  14|HBXX|               500000|                    3|          0.0|             0|               0.0|   B|  S159|   3|        0|         1|              0|              1|                  1|\n",
            "|   Ludhiana|         28994|11-Oct-85|         08-May-15|             300000|                  5|      2550.0|  UNIPARTS INDIA LTD|          Kotak Bank|              Y|   0|HBXH|               300000|                    5|         15.5|          6000|           7215.96|   E|  S122|   1|        0|         1|              0|              1|                  1|\n",
            "|      Delhi|         20000|06-Jan-90|         01-May-15|             100000|                  5|         0.0|   INTEC CAPITAL LTD|           HDFC Bank|              N|   0|HBXX|                    0|                    0|          0.0|             0|               0.0|   B|  S122|   1|        0|         0|              0|              1|                  0|\n",
            "|  Bengaluru|         33000|14-Jul-76|         24-May-15|             500000|                  5|      7000.0|         N RAVIKUMAR|           Axis Bank|              N|   0|HBXX|                    0|                    0|          0.0|             0|               0.0|   E|  S133|   1|        0|         0|              0|              1|                  0|\n",
            "|  Panchkula|         31500|29-Aug-82|         01-May-15|             500000|                  5|     10000.0|S P SINGLA CONSTR...|           Axis Bank|              Y|  12|HBXX|               450000|                    5|          0.0|             0|               0.0|   E|  S133|   3|        0|         1|              0|              1|                  1|\n",
            "+-----------+--------------+---------+------------------+-------------------+-------------------+------------+--------------------+--------------------+---------------+----+----+---------------------+---------------------+-------------+--------------+------------------+----+------+----+---------+----------+---------------+---------------+-------------------+\n",
            "only showing top 20 rows\n",
            "\n"
          ],
          "name": "stdout"
        }
      ]
    },
    {
      "cell_type": "code",
      "metadata": {
        "colab": {
          "base_uri": "https://localhost:8080/"
        },
        "id": "-hz8_S6KzM2v",
        "outputId": "291901f5-6d82-4bba-842c-9e95e9fad912"
      },
      "source": [
        "tmp2.select(\"Employer_Name\", \"Disbursed\").groupBy(\"Employer_Name\").sum().orderBy(f.desc(\"sum(Disbursed)\")).show()"
      ],
      "execution_count": 77,
      "outputs": [
        {
          "output_type": "stream",
          "text": [
            "+--------------------+--------------+\n",
            "|       Employer_Name|sum(Disbursed)|\n",
            "+--------------------+--------------+\n",
            "|TATA CONSULTANCY ...|            20|\n",
            "|ACCENTURE SERVICE...|            10|\n",
            "|COGNIZANT TECHNOL...|             9|\n",
            "|      INDIAN RAILWAY|             7|\n",
            "|             GENPACT|             7|\n",
            "|HCL TECHNOLOGIES LTD|             7|\n",
            "|  HCL AVITAS PVT LTD|             5|\n",
            "|           CIPLA LTD|             5|\n",
            "|ERICSSON INDIA GL...|             4|\n",
            "|              OTHERS|             4|\n",
            "|HSBC ELECTRONIC D...|             4|\n",
            "|   IDEA CELLULAR LTD|             4|\n",
            "|                   0|             4|\n",
            "|TCS AND ASSOCIATE...|             4|\n",
            "|TYPE SLOWLY FOR A...|             4|\n",
            "|CAPGEMINI INDIA P...|             4|\n",
            "|     IBM CORPORATION|             4|\n",
            "|IBM GLOBAL SERVIC...|             4|\n",
            "|    ABC AND SONS LTD|             3|\n",
            "|      HCL COMNET LTD|             3|\n",
            "+--------------------+--------------+\n",
            "only showing top 20 rows\n",
            "\n"
          ],
          "name": "stdout"
        }
      ]
    },
    {
      "cell_type": "code",
      "metadata": {
        "colab": {
          "base_uri": "https://localhost:8080/"
        },
        "id": "55eLhRwR8WjX",
        "outputId": "0328070e-691d-490c-e832-132f452ef4b4"
      },
      "source": [
        "tmp2 = tmp2.fillna(0)\r\n",
        "tmp2.show()"
      ],
      "execution_count": 78,
      "outputs": [
        {
          "output_type": "stream",
          "text": [
            "+-----------+--------------+---------+------------------+-------------------+-------------------+------------+--------------------+--------------------+---------------+----+----+---------------------+---------------------+-------------+--------------+------------------+----+------+----+---------+----------+---------------+---------------+-------------------+\n",
            "|       City|Monthly_Income|      DOB|Lead_Creation_Date|Loan_Amount_Applied|Loan_Tenure_Applied|Existing_EMI|       Employer_Name|      Salary_Account|Mobile_Verified|Var5|Var1|Loan_Amount_Submitted|Loan_Tenure_Submitted|Interest_Rate|Processing_Fee|EMI_Loan_Submitted|Var2|Source|Var4|Disbursed|new_gender|new_Filled_Form|new_Device_Type|new_Mobile_Verified|\n",
            "+-----------+--------------+---------+------------------+-------------------+-------------------+------------+--------------------+--------------------+---------------+----+----+---------------------+---------------------+-------------+--------------+------------------+----+------+----+---------+----------+---------------+---------------+-------------------+\n",
            "|      Delhi|         20000|23-May-78|         15-May-15|             300000|                  5|         0.0|             CYBOSOL|           HDFC Bank|              N|   0|HBXX|                    0|                    0|          0.0|             0|               0.0|   G|  S122|   1|        0|         0|              0|              1|                  0|\n",
            "|     Mumbai|         35000|07-Oct-85|         04-May-15|             200000|                  2|         0.0|TATA CONSULTANCY ...|          ICICI Bank|              Y|  13|HBXA|               200000|                    2|        13.25|             0|            6762.9|   G|  S122|   3|        0|         1|              0|              1|                  1|\n",
            "|  Panchkula|         22500|10-Oct-81|         19-May-15|             600000|                  4|         0.0|ALCHEMIST HOSPITA...| State Bank of India|              Y|   0|HBXX|               450000|                    4|          0.0|             0|               0.0|   B|  S143|   1|        0|         1|              0|              1|                  1|\n",
            "|    Saharsa|         35000|30-Nov-87|         09-May-15|            1000000|                  5|         0.0|    BIHAR GOVERNMENT| State Bank of India|              Y|  10|HBXX|               920000|                    5|          0.0|             0|               0.0|   B|  S143|   3|        0|         1|              0|              1|                  1|\n",
            "|  Bengaluru|        100000|17-Feb-84|         20-May-15|             500000|                  2|     25000.0|GLOBAL EDGE SOFTWARE|           HDFC Bank|              Y|  17|HBXX|               500000|                    2|          0.0|             0|               0.0|   B|  S134|   3|        0|         1|              0|              1|                  1|\n",
            "|  Bengaluru|         45000|21-Apr-82|         20-May-15|             300000|                  5|     15000.0|COGNIZANT TECHNOL...|                HSBC|              Y|  17|HAXM|               300000|                    5|        13.99|          1500|           6978.92|   B|  S143|   3|        0|         1|              0|              1|                  1|\n",
            "| Sindhudurg|         70000|23-Oct-87|         01-May-15|                  6|                  5|         0.0|CARNIVAL CRUISE LINE|            Yes Bank|              N|   0|HBXX|                    0|                    0|          0.0|             0|               0.0|   B|  S133|   1|        0|         0|              0|              1|                  0|\n",
            "|  Bengaluru|         20000|25-Jul-75|         20-May-15|             200000|                  5|      2597.0|GOLDEN TULIP FLOR...|                null|              Y|   3|HBXX|               200000|                    5|          0.0|             0|               0.0|   B|  S159|   3|        0|         1|              0|              1|                  1|\n",
            "|      Kochi|         75000|26-Jan-72|         02-May-15|                  0|                  0|         0.0|        SIIS PVT LTD| State Bank of India|              Y|  13|HAXB|              1300000|                    5|        14.85|         26000|          30824.65|   C|  S122|   5|        0|         1|              1|              0|                  1|\n",
            "|     Mumbai|         30000|12-Sep-89|         03-May-15|             300000|                  3|         0.0|      SOUNDCLOUD.COM|          Kotak Bank|              Y|   0|HBXC|               300000|                    3|        18.25|          1500|          10883.38|   B|  S133|   1|        0|         0|              0|              1|                  1|\n",
            "|     Mumbai|         25000|01-Jan-76|         02-May-15|            1000000|                  5|         0.0|       KRISHNA KUMAR|Indian Overseas Bank|              Y|  11|HBXC|               660000|                    5|         20.0|          6600|          17485.96|   B|  S133|   4|        0|         1|              0|              1|                  1|\n",
            "|      Surat|         25000|13-Oct-89|         02-May-15|             140000|                  4|         0.0|S D JAIN MODERN S...|                null|              N|   0|HBXX|                    0|                    0|          0.0|             0|               0.0|   B|  S122|   1|        0|         0|              0|              1|                  0|\n",
            "|       Pune|         24000|22-May-90|         02-May-15|             500000|                  4|         0.0|K.E.M. HOSPITAL R...| Bank of Maharasthra|              N|   0|HBXX|                    0|                    0|          0.0|             0|               0.0|   B|  S133|   1|        0|         0|              0|              1|                  0|\n",
            "|Bhubaneswar|         27000|24-Jun-82|         09-May-15|             200000|                  5|      4600.0|GI STAFFING SERVI...| State Bank of India|              Y|  11|HBXD|               200000|                    5|         18.0|          4500|           5078.69|   B|  S133|   4|        0|         1|              0|              1|                  1|\n",
            "|     Howrah|         28000|09-Feb-89|         13-May-15|             100000|                  1|      1200.0|MCX STOCK EXCHANG...|           HDFC Bank|              N|   0|HBXX|                    0|                    0|          0.0|             0|               0.0|   B|  S151|   1|        0|         0|              0|              1|                  0|\n",
            "|    Chennai|         42000|08-May-82|         05-May-15|             500000|                  3|         0.0|  SMEC INDIA PVT LTD| State Bank of India|              Y|  14|HBXX|               500000|                    3|          0.0|             0|               0.0|   B|  S159|   3|        0|         1|              0|              1|                  1|\n",
            "|   Ludhiana|         28994|11-Oct-85|         08-May-15|             300000|                  5|      2550.0|  UNIPARTS INDIA LTD|          Kotak Bank|              Y|   0|HBXH|               300000|                    5|         15.5|          6000|           7215.96|   E|  S122|   1|        0|         1|              0|              1|                  1|\n",
            "|      Delhi|         20000|06-Jan-90|         01-May-15|             100000|                  5|         0.0|   INTEC CAPITAL LTD|           HDFC Bank|              N|   0|HBXX|                    0|                    0|          0.0|             0|               0.0|   B|  S122|   1|        0|         0|              0|              1|                  0|\n",
            "|  Bengaluru|         33000|14-Jul-76|         24-May-15|             500000|                  5|      7000.0|         N RAVIKUMAR|           Axis Bank|              N|   0|HBXX|                    0|                    0|          0.0|             0|               0.0|   E|  S133|   1|        0|         0|              0|              1|                  0|\n",
            "|  Panchkula|         31500|29-Aug-82|         01-May-15|             500000|                  5|     10000.0|S P SINGLA CONSTR...|           Axis Bank|              Y|  12|HBXX|               450000|                    5|          0.0|             0|               0.0|   E|  S133|   3|        0|         1|              0|              1|                  1|\n",
            "+-----------+--------------+---------+------------------+-------------------+-------------------+------------+--------------------+--------------------+---------------+----+----+---------------------+---------------------+-------------+--------------+------------------+----+------+----+---------+----------+---------------+---------------+-------------------+\n",
            "only showing top 20 rows\n",
            "\n"
          ],
          "name": "stdout"
        }
      ]
    },
    {
      "cell_type": "code",
      "metadata": {
        "id": "_Hr5X9TEh3S6"
      },
      "source": [
        "df_t, df_e = tmp2.randomSplit([0.7, 0.3], 42)"
      ],
      "execution_count": 79,
      "outputs": []
    },
    {
      "cell_type": "code",
      "metadata": {
        "colab": {
          "base_uri": "https://localhost:8080/"
        },
        "id": "rxM6Wj90m-fE",
        "outputId": "6b32a1c6-a868-41e6-88e8-8ee8ee9a6211"
      },
      "source": [
        "df_t.show()"
      ],
      "execution_count": 80,
      "outputs": [
        {
          "output_type": "stream",
          "text": [
            "+--------+--------------+---------+------------------+-------------------+-------------------+------------+--------------------+--------------------+---------------+----+----+---------------------+---------------------+-------------+--------------+------------------+----+------+----+---------+----------+---------------+---------------+-------------------+\n",
            "|    City|Monthly_Income|      DOB|Lead_Creation_Date|Loan_Amount_Applied|Loan_Tenure_Applied|Existing_EMI|       Employer_Name|      Salary_Account|Mobile_Verified|Var5|Var1|Loan_Amount_Submitted|Loan_Tenure_Submitted|Interest_Rate|Processing_Fee|EMI_Loan_Submitted|Var2|Source|Var4|Disbursed|new_gender|new_Filled_Form|new_Device_Type|new_Mobile_Verified|\n",
            "+--------+--------------+---------+------------------+-------------------+-------------------+------------+--------------------+--------------------+---------------+----+----+---------------------+---------------------+-------------+--------------+------------------+----+------+----+---------+----------+---------------+---------------+-------------------+\n",
            "|    null|         25000|08-Jul-77|         16-Jun-15|                  0|                  0|         0.0|                   0|                null|              Y|   0|HBXX|                    0|                    0|          0.0|             0|               0.0|   G|  S122|   6|        0|         1|              0|              1|                  1|\n",
            "|    null|         41667|10-Jan-86|         16-Jun-15|                  0|                  0|         0.0|                   0|                null|              Y|   0|HBXX|                    0|                    0|          0.0|             0|               0.0|   G|  S122|   6|        0|         1|              0|              1|                  1|\n",
            "|    null|         75000|27-Oct-88|         19-May-15|                  0|                  0|         0.0|                   0|                null|              Y|   0|HBXX|                    0|                    0|          0.0|             0|               0.0|   G|  S122|   6|        0|         1|              0|              1|                  1|\n",
            "|    null|         75000|27-Oct-88|         19-May-15|                  0|                  0|         0.0|                   0|                null|              Y|   0|HBXX|                    0|                    0|          0.0|             0|               0.0|   G|  S122|   6|        0|         1|              0|              1|                  1|\n",
            "|    null|         75000|27-Oct-88|         19-May-15|                  0|                  0|         0.0|                   0|                null|              Y|   0|HBXX|                    0|                    0|          0.0|             0|               0.0|   G|  S122|   6|        0|         1|              0|              1|                  1|\n",
            "|  ADIPUR|         10000|09-Oct-94|         21-Jun-15|             100000|                  1|         0.0|EVEREST SHIPPING ...|                null|              N|   0|HBXX|                    0|                    0|          0.0|             0|               0.0|   B|  S159|   1|        0|         0|              0|              1|                  0|\n",
            "|  ADIPUR|         12000|10-Apr-92|         07-May-15|              50000|                  2|         0.0|    WELSPUN CORP LTD|          ICICI Bank|              N|   0|HBXX|                    0|                    0|          0.0|             0|               0.0|   B|  S143|   1|        0|         0|              0|              1|                  0|\n",
            "|  ADIPUR|         22000|17-Apr-93|         02-May-15|             300000|                  3|         0.0|    WELSPUN CORP LTD|          ICICI Bank|              Y|   3|HBXX|               300000|                    3|          0.0|             0|               0.0|   B|  S122|   3|        0|         1|              0|              1|                  1|\n",
            "|  AHMEDB|         10000|17-Aug-75|         27-Jun-15|            1000000|                  0|      7000.0|               DHRUV| State Bank of India|              N|   0|HBXX|                    0|                    0|          0.0|             0|               0.0|   B|  S157|   1|        0|         0|              0|              1|                  0|\n",
            "|   ANJAR|         80000|14-Apr-85|         14-Jun-15|             100000|                  3|     33000.0|COGNIZANT INDIA P...|           Axis Bank|              N|   0|HBXX|                    0|                    0|          0.0|             0|               0.0|   B|  S133|   1|        0|         0|              0|              1|                  0|\n",
            "|  Abohar|         51230|18-Sep-63|         26-Jun-15|             500000|                  5|      9000.0|        RAM CHANDER |         Andhra Bank|              Y|   8|HBXX|               500000|                    5|          0.0|             0|               0.0|   B|  S133|   3|        0|         1|              0|              1|                  1|\n",
            "|Adilabad|          4000|29-Jan-95|         23-Jun-15|             300000|                  3|         0.0|               SAGAR|                null|              N|   0|HBXX|                    0|                    0|          0.0|             0|               0.0|   B|  S133|   1|        0|         0|              0|              1|                  0|\n",
            "|Adilabad|         10000|08-Jun-91|         22-Jun-15|            1000000|                  5|      5000.0|STATE GOVT EMPLOYEES|State Bank of Hyd...|              N|   0|HBXX|                    0|                    0|          0.0|             0|               0.0|   B|  S159|   1|        0|         0|              0|              1|                  0|\n",
            "|Adilabad|         12500|01-Aug-84|         12-Jun-15|             300000|                  5|         0.0|          B. BHASKAR|                null|              N|   0|HBXX|                    0|                    0|          0.0|             0|               0.0|   B|  S133|   1|        0|         0|              0|              1|                  0|\n",
            "|Adilabad|         20000|08-Dec-82|         09-May-15|             300000|                  3|      4000.0|SUPERVISION AND A...|                null|              Y|   3|HBXX|               210000|                    3|          0.0|             0|               0.0|   B|  S133|   3|        0|         1|              0|              1|                  1|\n",
            "|Adilabad|         20000|16-Jun-85|         23-Jun-15|             200000|                  2|      5000.0|    K. SHRAVAN KUMAR|                null|              N|   0|HBXX|                    0|                    0|          0.0|             0|               0.0|   B|  S159|   1|        0|         0|              0|              1|                  0|\n",
            "|Adilabad|         20000|16-Jun-85|         24-Jun-15|             100000|                  1|      5000.0|    K. SHRAVAN KUMAR|                null|              N|   0|HBXX|                    0|                    0|          0.0|             0|               0.0|   B|  S159|   1|        0|         0|              0|              1|                  0|\n",
            "|Adilabad|         48965|07-Feb-88|         02-Jun-15|             200000|                  1|         0.0|VERIZON DATA SERV...|           HDFC Bank|              Y|  11|HAXA|               200000|                    1|        13.99|          1980|          17956.48|   B|  S143|   5|        0|         0|              1|              1|                  1|\n",
            "|Adilabad|         48965|07-Feb-88|         31-May-15|                  0|                  1|         0.0|VERIZON DATA SERV...|           HDFC Bank|              Y|  11|HAXA|               150000|                    1|        13.99|          1485|          13467.36|   B|  S122|   5|        0|         0|              1|              1|                  1|\n",
            "|Adilabad|         50000|08-Dec-88|         20-May-15|             100000|                  2|         0.0|HYUNDAI  ENGINEER...|          ICICI Bank|              Y|  11|HBXC|               100000|                    2|        16.25|          1000|           4908.26|   B|  S137|   5|        0|         1|              1|              1|                  1|\n",
            "+--------+--------------+---------+------------------+-------------------+-------------------+------------+--------------------+--------------------+---------------+----+----+---------------------+---------------------+-------------+--------------+------------------+----+------+----+---------+----------+---------------+---------------+-------------------+\n",
            "only showing top 20 rows\n",
            "\n"
          ],
          "name": "stdout"
        }
      ]
    },
    {
      "cell_type": "code",
      "metadata": {
        "colab": {
          "base_uri": "https://localhost:8080/"
        },
        "id": "Ze87qZpz8eP2",
        "outputId": "f61059bc-8b69-437b-93aa-b9e227b76982"
      },
      "source": [
        "tmp2.printSchema()"
      ],
      "execution_count": 81,
      "outputs": [
        {
          "output_type": "stream",
          "text": [
            "root\n",
            " |-- City: string (nullable = true)\n",
            " |-- Monthly_Income: integer (nullable = true)\n",
            " |-- DOB: string (nullable = true)\n",
            " |-- Lead_Creation_Date: string (nullable = true)\n",
            " |-- Loan_Amount_Applied: integer (nullable = true)\n",
            " |-- Loan_Tenure_Applied: integer (nullable = true)\n",
            " |-- Existing_EMI: double (nullable = false)\n",
            " |-- Employer_Name: string (nullable = true)\n",
            " |-- Salary_Account: string (nullable = true)\n",
            " |-- Mobile_Verified: string (nullable = true)\n",
            " |-- Var5: integer (nullable = true)\n",
            " |-- Var1: string (nullable = true)\n",
            " |-- Loan_Amount_Submitted: integer (nullable = true)\n",
            " |-- Loan_Tenure_Submitted: integer (nullable = true)\n",
            " |-- Interest_Rate: double (nullable = false)\n",
            " |-- Processing_Fee: integer (nullable = true)\n",
            " |-- EMI_Loan_Submitted: double (nullable = false)\n",
            " |-- Var2: string (nullable = true)\n",
            " |-- Source: string (nullable = true)\n",
            " |-- Var4: integer (nullable = true)\n",
            " |-- Disbursed: integer (nullable = true)\n",
            " |-- new_gender: integer (nullable = true)\n",
            " |-- new_Filled_Form: integer (nullable = true)\n",
            " |-- new_Device_Type: integer (nullable = true)\n",
            " |-- new_Mobile_Verified: integer (nullable = true)\n",
            "\n"
          ],
          "name": "stdout"
        }
      ]
    },
    {
      "cell_type": "code",
      "metadata": {
        "colab": {
          "base_uri": "https://localhost:8080/"
        },
        "id": "haZaelzn9RoO",
        "outputId": "8b470c1e-23d6-49a8-ad1a-12aa75d5e84f"
      },
      "source": [
        "tmp2.show(3, vertical=True)"
      ],
      "execution_count": 82,
      "outputs": [
        {
          "output_type": "stream",
          "text": [
            "-RECORD 0-------------------------------------\n",
            " City                  | Delhi                \n",
            " Monthly_Income        | 20000                \n",
            " DOB                   | 23-May-78            \n",
            " Lead_Creation_Date    | 15-May-15            \n",
            " Loan_Amount_Applied   | 300000               \n",
            " Loan_Tenure_Applied   | 5                    \n",
            " Existing_EMI          | 0.0                  \n",
            " Employer_Name         | CYBOSOL              \n",
            " Salary_Account        | HDFC Bank            \n",
            " Mobile_Verified       | N                    \n",
            " Var5                  | 0                    \n",
            " Var1                  | HBXX                 \n",
            " Loan_Amount_Submitted | 0                    \n",
            " Loan_Tenure_Submitted | 0                    \n",
            " Interest_Rate         | 0.0                  \n",
            " Processing_Fee        | 0                    \n",
            " EMI_Loan_Submitted    | 0.0                  \n",
            " Var2                  | G                    \n",
            " Source                | S122                 \n",
            " Var4                  | 1                    \n",
            " Disbursed             | 0                    \n",
            " new_gender            | 0                    \n",
            " new_Filled_Form       | 0                    \n",
            " new_Device_Type       | 1                    \n",
            " new_Mobile_Verified   | 0                    \n",
            "-RECORD 1-------------------------------------\n",
            " City                  | Mumbai               \n",
            " Monthly_Income        | 35000                \n",
            " DOB                   | 07-Oct-85            \n",
            " Lead_Creation_Date    | 04-May-15            \n",
            " Loan_Amount_Applied   | 200000               \n",
            " Loan_Tenure_Applied   | 2                    \n",
            " Existing_EMI          | 0.0                  \n",
            " Employer_Name         | TATA CONSULTANCY ... \n",
            " Salary_Account        | ICICI Bank           \n",
            " Mobile_Verified       | Y                    \n",
            " Var5                  | 13                   \n",
            " Var1                  | HBXA                 \n",
            " Loan_Amount_Submitted | 200000               \n",
            " Loan_Tenure_Submitted | 2                    \n",
            " Interest_Rate         | 13.25                \n",
            " Processing_Fee        | 0                    \n",
            " EMI_Loan_Submitted    | 6762.9               \n",
            " Var2                  | G                    \n",
            " Source                | S122                 \n",
            " Var4                  | 3                    \n",
            " Disbursed             | 0                    \n",
            " new_gender            | 1                    \n",
            " new_Filled_Form       | 0                    \n",
            " new_Device_Type       | 1                    \n",
            " new_Mobile_Verified   | 1                    \n",
            "-RECORD 2-------------------------------------\n",
            " City                  | Panchkula            \n",
            " Monthly_Income        | 22500                \n",
            " DOB                   | 10-Oct-81            \n",
            " Lead_Creation_Date    | 19-May-15            \n",
            " Loan_Amount_Applied   | 600000               \n",
            " Loan_Tenure_Applied   | 4                    \n",
            " Existing_EMI          | 0.0                  \n",
            " Employer_Name         | ALCHEMIST HOSPITA... \n",
            " Salary_Account        | State Bank of India  \n",
            " Mobile_Verified       | Y                    \n",
            " Var5                  | 0                    \n",
            " Var1                  | HBXX                 \n",
            " Loan_Amount_Submitted | 450000               \n",
            " Loan_Tenure_Submitted | 4                    \n",
            " Interest_Rate         | 0.0                  \n",
            " Processing_Fee        | 0                    \n",
            " EMI_Loan_Submitted    | 0.0                  \n",
            " Var2                  | B                    \n",
            " Source                | S143                 \n",
            " Var4                  | 1                    \n",
            " Disbursed             | 0                    \n",
            " new_gender            | 1                    \n",
            " new_Filled_Form       | 0                    \n",
            " new_Device_Type       | 1                    \n",
            " new_Mobile_Verified   | 1                    \n",
            "only showing top 3 rows\n",
            "\n"
          ],
          "name": "stdout"
        }
      ]
    },
    {
      "cell_type": "code",
      "metadata": {
        "id": "-D3KfeUm9o3X"
      },
      "source": [
        "formula = (\"Disbursed ~ new_gender + new_Device_Type + new_Mobile_Verified + Var1 + new_Filled_Form + Var2 + Source +\"\r\n",
        "                              \"Monthly_Income + Loan_Amount_Applied + Loan_Tenure_Applied\")\r\n",
        "rf = feature.RFormula(formula=formula, featuresCol='featuresFull')"
      ],
      "execution_count": 83,
      "outputs": []
    },
    {
      "cell_type": "code",
      "metadata": {
        "id": "-fxPTtQ09w1W"
      },
      "source": [
        "rfModel = rf.fit(tmp2)"
      ],
      "execution_count": 84,
      "outputs": []
    },
    {
      "cell_type": "code",
      "metadata": {
        "colab": {
          "base_uri": "https://localhost:8080/"
        },
        "id": "iU9v6vL59ygO",
        "outputId": "d8612bbd-43b2-4632-a783-ec0d137a32b1"
      },
      "source": [
        "tmp3 = rfModel.transform(tmp2)\r\n",
        "tmp3.show(truncate=False)"
      ],
      "execution_count": 85,
      "outputs": [
        {
          "output_type": "stream",
          "text": [
            "+-----------+--------------+---------+------------------+-------------------+-------------------+------------+--------------------------------------------+--------------------+---------------+----+----+---------------------+---------------------+-------------+--------------+------------------+----+------+----+---------+----------+---------------+---------------+-------------------+-----------------------------------------------------------------------------+-----+\n",
            "|City       |Monthly_Income|DOB      |Lead_Creation_Date|Loan_Amount_Applied|Loan_Tenure_Applied|Existing_EMI|Employer_Name                               |Salary_Account      |Mobile_Verified|Var5|Var1|Loan_Amount_Submitted|Loan_Tenure_Submitted|Interest_Rate|Processing_Fee|EMI_Loan_Submitted|Var2|Source|Var4|Disbursed|new_gender|new_Filled_Form|new_Device_Type|new_Mobile_Verified|featuresFull                                                                 |label|\n",
            "+-----------+--------------+---------+------------------+-------------------+-------------------+------------+--------------------------------------------+--------------------+---------------+----+----+---------------------+---------------------+-------------+--------------+------------------+----+------+----+---------+----------+---------------+---------------+-------------------+-----------------------------------------------------------------------------+-----+\n",
            "|Delhi      |20000         |23-May-78|15-May-15         |300000             |5                  |0.0         |CYBOSOL                                     |HDFC Bank           |N              |0   |HBXX|0                    |0                    |0.0          |0             |0.0               |G   |S122  |1   |0        |0         |0              |1              |0                  |(60,[1,3,23,28,57,58,59],[1.0,1.0,1.0,1.0,20000.0,300000.0,5.0])             |0.0  |\n",
            "|Mumbai     |35000         |07-Oct-85|04-May-15         |200000             |2                  |0.0         |TATA CONSULTANCY SERVICES LTD (TCS)         |ICICI Bank          |Y              |13  |HBXA|200000               |2                    |13.25        |0             |6762.9            |G   |S122  |3   |0        |1         |0              |1              |1                  |(60,[0,1,2,9,23,28,57,58,59],[1.0,1.0,1.0,1.0,1.0,1.0,35000.0,200000.0,2.0]) |0.0  |\n",
            "|Panchkula  |22500         |10-Oct-81|19-May-15         |600000             |4                  |0.0         |ALCHEMIST HOSPITALS LTD                     |State Bank of India |Y              |0   |HBXX|450000               |4                    |0.0          |0             |0.0               |B   |S143  |1   |0        |1         |0              |1              |1                  |(60,[0,1,2,3,22,31,57,58,59],[1.0,1.0,1.0,1.0,1.0,1.0,22500.0,600000.0,4.0]) |0.0  |\n",
            "|Saharsa    |35000         |30-Nov-87|09-May-15         |1000000            |5                  |0.0         |BIHAR GOVERNMENT                            |State Bank of India |Y              |10  |HBXX|920000               |5                    |0.0          |0             |0.0               |B   |S143  |3   |0        |1         |0              |1              |1                  |(60,[0,1,2,3,22,31,57,58,59],[1.0,1.0,1.0,1.0,1.0,1.0,35000.0,1000000.0,5.0])|0.0  |\n",
            "|Bengaluru  |100000        |17-Feb-84|20-May-15         |500000             |2                  |25000.0     |GLOBAL EDGE SOFTWARE                        |HDFC Bank           |Y              |17  |HBXX|500000               |2                    |0.0          |0             |0.0               |B   |S134  |3   |0        |1         |0              |1              |1                  |(60,[0,1,2,3,22,34,57,58,59],[1.0,1.0,1.0,1.0,1.0,1.0,100000.0,500000.0,2.0])|0.0  |\n",
            "|Bengaluru  |45000         |21-Apr-82|20-May-15         |300000             |5                  |15000.0     |COGNIZANT TECHNOLOGY SOLUTIONS INDIA PVT LTD|HSBC                |Y              |17  |HAXM|300000               |5                    |13.99        |1500          |6978.92           |B   |S143  |3   |0        |1         |0              |1              |1                  |(60,[0,1,2,15,22,31,57,58,59],[1.0,1.0,1.0,1.0,1.0,1.0,45000.0,300000.0,5.0])|0.0  |\n",
            "|Sindhudurg |70000         |23-Oct-87|01-May-15         |6                  |5                  |0.0         |CARNIVAL CRUISE LINE                        |Yes Bank            |N              |0   |HBXX|0                    |0                    |0.0          |0             |0.0               |B   |S133  |1   |0        |0         |0              |1              |0                  |(60,[1,3,22,29,57,58,59],[1.0,1.0,1.0,1.0,70000.0,6.0,5.0])                  |0.0  |\n",
            "|Bengaluru  |20000         |25-Jul-75|20-May-15         |200000             |5                  |2597.0      |GOLDEN TULIP FLORITECH PVT. LTD             |null                |Y              |3   |HBXX|200000               |5                    |0.0          |0             |0.0               |B   |S159  |3   |0        |1         |0              |1              |1                  |(60,[0,1,2,3,22,30,57,58,59],[1.0,1.0,1.0,1.0,1.0,1.0,20000.0,200000.0,5.0]) |0.0  |\n",
            "|Kochi      |75000         |26-Jan-72|02-May-15         |0                  |0                  |0.0         |SIIS PVT LTD                                |State Bank of India |Y              |13  |HAXB|1300000              |5                    |14.85        |26000         |30824.65          |C   |S122  |5   |0        |1         |1              |0              |1                  |(60,[0,2,7,21,24,28,57],[1.0,1.0,1.0,1.0,1.0,1.0,75000.0])                   |0.0  |\n",
            "|Mumbai     |30000         |12-Sep-89|03-May-15         |300000             |3                  |0.0         |SOUNDCLOUD.COM                              |Kotak Bank          |Y              |0   |HBXC|300000               |3                    |18.25        |1500          |10883.38          |B   |S133  |1   |0        |0         |0              |1              |1                  |(60,[1,2,4,22,29,57,58,59],[1.0,1.0,1.0,1.0,1.0,30000.0,300000.0,3.0])       |0.0  |\n",
            "|Mumbai     |25000         |01-Jan-76|02-May-15         |1000000            |5                  |0.0         |KRISHNA KUMAR                               |Indian Overseas Bank|Y              |11  |HBXC|660000               |5                    |20.0         |6600          |17485.96          |B   |S133  |4   |0        |1         |0              |1              |1                  |(60,[0,1,2,4,22,29,57,58,59],[1.0,1.0,1.0,1.0,1.0,1.0,25000.0,1000000.0,5.0])|0.0  |\n",
            "|Surat      |25000         |13-Oct-89|02-May-15         |140000             |4                  |0.0         |S D JAIN MODERN SCHOOL                      |null                |N              |0   |HBXX|0                    |0                    |0.0          |0             |0.0               |B   |S122  |1   |0        |0         |0              |1              |0                  |(60,[1,3,22,28,57,58,59],[1.0,1.0,1.0,1.0,25000.0,140000.0,4.0])             |0.0  |\n",
            "|Pune       |24000         |22-May-90|02-May-15         |500000             |4                  |0.0         |K.E.M. HOSPITAL RESEARCH CENTRE, PUNE       |Bank of Maharasthra |N              |0   |HBXX|0                    |0                    |0.0          |0             |0.0               |B   |S133  |1   |0        |0         |0              |1              |0                  |(60,[1,3,22,29,57,58,59],[1.0,1.0,1.0,1.0,24000.0,500000.0,4.0])             |0.0  |\n",
            "|Bhubaneswar|27000         |24-Jun-82|09-May-15         |200000             |5                  |4600.0      |GI STAFFING SERVICES PVT LTD                |State Bank of India |Y              |11  |HBXD|200000               |5                    |18.0         |4500          |5078.69           |B   |S133  |4   |0        |1         |0              |1              |1                  |(60,[0,1,2,8,22,29,57,58,59],[1.0,1.0,1.0,1.0,1.0,1.0,27000.0,200000.0,5.0]) |0.0  |\n",
            "|Howrah     |28000         |09-Feb-89|13-May-15         |100000             |1                  |1200.0      |MCX STOCK EXCHANGE LTD                      |HDFC Bank           |N              |0   |HBXX|0                    |0                    |0.0          |0             |0.0               |B   |S151  |1   |0        |0         |0              |1              |0                  |(60,[1,3,22,36,57,58,59],[1.0,1.0,1.0,1.0,28000.0,100000.0,1.0])             |0.0  |\n",
            "|Chennai    |42000         |08-May-82|05-May-15         |500000             |3                  |0.0         |SMEC INDIA PVT LTD                          |State Bank of India |Y              |14  |HBXX|500000               |3                    |0.0          |0             |0.0               |B   |S159  |3   |0        |1         |0              |1              |1                  |(60,[0,1,2,3,22,30,57,58,59],[1.0,1.0,1.0,1.0,1.0,1.0,42000.0,500000.0,3.0]) |0.0  |\n",
            "|Ludhiana   |28994         |11-Oct-85|08-May-15         |300000             |5                  |2550.0      |UNIPARTS INDIA LTD                          |Kotak Bank          |Y              |0   |HBXH|300000               |5                    |15.5         |6000          |7215.96           |E   |S122  |1   |0        |1         |0              |1              |1                  |(60,[0,1,2,11,25,28,57,58,59],[1.0,1.0,1.0,1.0,1.0,1.0,28994.0,300000.0,5.0])|0.0  |\n",
            "|Delhi      |20000         |06-Jan-90|01-May-15         |100000             |5                  |0.0         |INTEC CAPITAL LTD                           |HDFC Bank           |N              |0   |HBXX|0                    |0                    |0.0          |0             |0.0               |B   |S122  |1   |0        |0         |0              |1              |0                  |(60,[1,3,22,28,57,58,59],[1.0,1.0,1.0,1.0,20000.0,100000.0,5.0])             |0.0  |\n",
            "|Bengaluru  |33000         |14-Jul-76|24-May-15         |500000             |5                  |7000.0      |N RAVIKUMAR                                 |Axis Bank           |N              |0   |HBXX|0                    |0                    |0.0          |0             |0.0               |E   |S133  |1   |0        |0         |0              |1              |0                  |(60,[1,3,25,29,57,58,59],[1.0,1.0,1.0,1.0,33000.0,500000.0,5.0])             |0.0  |\n",
            "|Panchkula  |31500         |29-Aug-82|01-May-15         |500000             |5                  |10000.0     |S P SINGLA CONSTRUCTION PVT LTD             |Axis Bank           |Y              |12  |HBXX|450000               |5                    |0.0          |0             |0.0               |E   |S133  |3   |0        |1         |0              |1              |1                  |(60,[0,1,2,3,25,29,57,58,59],[1.0,1.0,1.0,1.0,1.0,1.0,31500.0,500000.0,5.0]) |0.0  |\n",
            "+-----------+--------------+---------+------------------+-------------------+-------------------+------------+--------------------------------------------+--------------------+---------------+----+----+---------------------+---------------------+-------------+--------------+------------------+----+------+----+---------+----------+---------------+---------------+-------------------+-----------------------------------------------------------------------------+-----+\n",
            "only showing top 20 rows\n",
            "\n"
          ],
          "name": "stdout"
        }
      ]
    },
    {
      "cell_type": "code",
      "metadata": {
        "id": "nxU8-we3_myW"
      },
      "source": [
        "#Skalowanie\r\n",
        "scaler = feature.StandardScaler(inputCol=\"featuresFull\", outputCol=\"featuresScal\")"
      ],
      "execution_count": 88,
      "outputs": []
    },
    {
      "cell_type": "code",
      "metadata": {
        "id": "hZq4Byd29yc6"
      },
      "source": [
        "scalerModel = scaler.fit(tmp3)"
      ],
      "execution_count": 89,
      "outputs": []
    },
    {
      "cell_type": "code",
      "metadata": {
        "colab": {
          "base_uri": "https://localhost:8080/"
        },
        "id": "UGleKpFz9yYq",
        "outputId": "ccc4ed10-771b-49ea-f054-e2cb2ea18b7c"
      },
      "source": [
        "tmp3.select(\"featuresFull\").show(truncate=False)\r\n",
        "scalerModel.transform(tmp3).select(\"featuresScal\").show(truncate=False)"
      ],
      "execution_count": 90,
      "outputs": [
        {
          "output_type": "stream",
          "text": [
            "+-----------------------------------------------------------------------------+\n",
            "|featuresFull                                                                 |\n",
            "+-----------------------------------------------------------------------------+\n",
            "|(60,[1,3,23,28,57,58,59],[1.0,1.0,1.0,1.0,20000.0,300000.0,5.0])             |\n",
            "|(60,[0,1,2,9,23,28,57,58,59],[1.0,1.0,1.0,1.0,1.0,1.0,35000.0,200000.0,2.0]) |\n",
            "|(60,[0,1,2,3,22,31,57,58,59],[1.0,1.0,1.0,1.0,1.0,1.0,22500.0,600000.0,4.0]) |\n",
            "|(60,[0,1,2,3,22,31,57,58,59],[1.0,1.0,1.0,1.0,1.0,1.0,35000.0,1000000.0,5.0])|\n",
            "|(60,[0,1,2,3,22,34,57,58,59],[1.0,1.0,1.0,1.0,1.0,1.0,100000.0,500000.0,2.0])|\n",
            "|(60,[0,1,2,15,22,31,57,58,59],[1.0,1.0,1.0,1.0,1.0,1.0,45000.0,300000.0,5.0])|\n",
            "|(60,[1,3,22,29,57,58,59],[1.0,1.0,1.0,1.0,70000.0,6.0,5.0])                  |\n",
            "|(60,[0,1,2,3,22,30,57,58,59],[1.0,1.0,1.0,1.0,1.0,1.0,20000.0,200000.0,5.0]) |\n",
            "|(60,[0,2,7,21,24,28,57],[1.0,1.0,1.0,1.0,1.0,1.0,75000.0])                   |\n",
            "|(60,[1,2,4,22,29,57,58,59],[1.0,1.0,1.0,1.0,1.0,30000.0,300000.0,3.0])       |\n",
            "|(60,[0,1,2,4,22,29,57,58,59],[1.0,1.0,1.0,1.0,1.0,1.0,25000.0,1000000.0,5.0])|\n",
            "|(60,[1,3,22,28,57,58,59],[1.0,1.0,1.0,1.0,25000.0,140000.0,4.0])             |\n",
            "|(60,[1,3,22,29,57,58,59],[1.0,1.0,1.0,1.0,24000.0,500000.0,4.0])             |\n",
            "|(60,[0,1,2,8,22,29,57,58,59],[1.0,1.0,1.0,1.0,1.0,1.0,27000.0,200000.0,5.0]) |\n",
            "|(60,[1,3,22,36,57,58,59],[1.0,1.0,1.0,1.0,28000.0,100000.0,1.0])             |\n",
            "|(60,[0,1,2,3,22,30,57,58,59],[1.0,1.0,1.0,1.0,1.0,1.0,42000.0,500000.0,3.0]) |\n",
            "|(60,[0,1,2,11,25,28,57,58,59],[1.0,1.0,1.0,1.0,1.0,1.0,28994.0,300000.0,5.0])|\n",
            "|(60,[1,3,22,28,57,58,59],[1.0,1.0,1.0,1.0,20000.0,100000.0,5.0])             |\n",
            "|(60,[1,3,25,29,57,58,59],[1.0,1.0,1.0,1.0,33000.0,500000.0,5.0])             |\n",
            "|(60,[0,1,2,3,25,29,57,58,59],[1.0,1.0,1.0,1.0,1.0,1.0,31500.0,500000.0,5.0]) |\n",
            "+-----------------------------------------------------------------------------+\n",
            "only showing top 20 rows\n",
            "\n",
            "+-----------------------------------------------------------------------------------------------------------------------------------------------------------------------------------------------------------+\n",
            "|featuresScal                                                                                                                                                                                               |\n",
            "+-----------------------------------------------------------------------------------------------------------------------------------------------------------------------------------------------------------+\n",
            "|(60,[1,3,23,28,57,58,59],[2.2856487135169283,2.151406607574553,2.1459841543097675,2.0515791324306103,0.008876252805645182,0.8482978404212576,2.4840551014212124])                                          |\n",
            "|(60,[0,1,2,9,23,28,57,58,59],[2.0232009152959742,2.2856487135169283,2.096488429133854,6.9440168245020235,2.1459841543097675,2.0515791324306103,0.01553344240987907,0.5655318936141717,0.9936220405684849]) |\n",
            "|(60,[0,1,2,3,22,31,57,58,59],[2.0232009152959742,2.2856487135169283,2.096488429133854,2.151406607574553,2.003493187053562,4.398948652456418,0.00998578440635083,1.696595680842515,1.9872440811369698])     |\n",
            "|(60,[0,1,2,3,22,31,57,58,59],[2.0232009152959742,2.2856487135169283,2.096488429133854,2.151406607574553,2.003493187053562,4.398948652456418,0.01553344240987907,2.8276594680708587,2.4840551014212124])    |\n",
            "|(60,[0,1,2,3,22,34,57,58,59],[2.0232009152959742,2.2856487135169283,2.096488429133854,2.151406607574553,2.003493187053562,7.869403804873646,0.04438126402822591,1.4138297340354293,0.9936220405684849])    |\n",
            "|(60,[0,1,2,15,22,31,57,58,59],[2.0232009152959742,2.2856487135169283,2.096488429133854,17.976018680655798,2.003493187053562,4.398948652456418,0.01997156881270166,0.8482978404212576,2.4840551014212124])  |\n",
            "|(60,[1,3,22,29,57,58,59],[2.2856487135169283,2.151406607574553,2.003493187053562,2.0632697223018877,0.03106688481975814,1.696595680842515E-5,2.4840551014212124])                                          |\n",
            "|(60,[0,1,2,3,22,30,57,58,59],[2.0232009152959742,2.2856487135169283,2.096488429133854,2.151406607574553,2.003493187053562,3.902490422337664,0.008876252805645182,0.5655318936141717,2.4840551014212124])   |\n",
            "|(60,[0,2,7,21,24,28,57],[2.0232009152959742,2.096488429133854,6.557238776318329,2.4007358063163506,2.6067576682413485,2.0515791324306103,0.03328594802116944])                                             |\n",
            "|(60,[1,2,4,22,29,57,58,59],[2.2856487135169283,2.096488429133854,3.2240799153285913,2.003493187053562,2.0632697223018877,0.013314379208467774,0.8482978404212576,1.4904330608527274])                      |\n",
            "|(60,[0,1,2,4,22,29,57,58,59],[2.0232009152959742,2.2856487135169283,2.096488429133854,3.2240799153285913,2.003493187053562,2.0632697223018877,0.011095316007056478,2.8276594680708587,2.4840551014212124]) |\n",
            "|(60,[1,3,22,28,57,58,59],[2.2856487135169283,2.151406607574553,2.003493187053562,2.0515791324306103,0.011095316007056478,0.3958723255299202,1.9872440811369698])                                           |\n",
            "|(60,[1,3,22,29,57,58,59],[2.2856487135169283,2.151406607574553,2.003493187053562,2.0632697223018877,0.010651503366774218,1.4138297340354293,1.9872440811369698])                                           |\n",
            "|(60,[0,1,2,8,22,29,57,58,59],[2.0232009152959742,2.2856487135169283,2.096488429133854,6.60694831666162,2.003493187053562,2.0632697223018877,0.011982941287620997,0.5655318936141717,2.4840551014212124])   |\n",
            "|(60,[1,3,22,36,57,58,59],[2.2856487135169283,2.151406607574553,2.003493187053562,10.539053857108854,0.012426753927903255,0.28276594680708583,0.49681102028424245])                                         |\n",
            "|(60,[0,1,2,3,22,30,57,58,59],[2.0232009152959742,2.2856487135169283,2.096488429133854,2.151406607574553,2.003493187053562,3.902490422337664,0.018640130891854883,1.4138297340354293,1.4904330608527274])   |\n",
            "|(60,[0,1,2,11,25,28,57,58,59],[2.0232009152959742,2.2856487135169283,2.096488429133854,9.618625909402677,7.8281043991413535,2.0515791324306103,0.012867903692343821,0.8482978404212576,2.4840551014212124])|\n",
            "|(60,[1,3,22,28,57,58,59],[2.2856487135169283,2.151406607574553,2.003493187053562,2.0515791324306103,0.008876252805645182,0.28276594680708583,2.4840551014212124])                                          |\n",
            "|(60,[1,3,25,29,57,58,59],[2.2856487135169283,2.151406607574553,7.8281043991413535,2.0632697223018877,0.01464581712931455,1.4138297340354293,2.4840551014212124])                                           |\n",
            "|(60,[0,1,2,3,25,29,57,58,59],[2.0232009152959742,2.2856487135169283,2.096488429133854,2.151406607574553,7.8281043991413535,2.0632697223018877,0.013980098168891161,1.4138297340354293,2.4840551014212124]) |\n",
            "+-----------------------------------------------------------------------------------------------------------------------------------------------------------------------------------------------------------+\n",
            "only showing top 20 rows\n",
            "\n"
          ],
          "name": "stdout"
        }
      ]
    },
    {
      "cell_type": "code",
      "metadata": {
        "id": "RMD308Bb9yOx"
      },
      "source": [
        "MMscaler = feature.MinMaxScaler(inputCol=\"featuresFull\", outputCol=\"featuresScal\")"
      ],
      "execution_count": 91,
      "outputs": []
    },
    {
      "cell_type": "code",
      "metadata": {
        "id": "OUxWxQfSAZnJ"
      },
      "source": [
        "MMscalerModel = MMscaler.fit(tmp3)"
      ],
      "execution_count": 92,
      "outputs": []
    },
    {
      "cell_type": "code",
      "metadata": {
        "colab": {
          "base_uri": "https://localhost:8080/"
        },
        "id": "AUnXnpkdAZkh",
        "outputId": "52fbf057-b0e0-4566-bc02-afd3fca43320"
      },
      "source": [
        "tmp3.select(\"featuresFull\").show(truncate=False)\r\n",
        "MMscalerModel.transform(tmp3).select(\"featuresScal\").show(truncate=False)"
      ],
      "execution_count": 93,
      "outputs": [
        {
          "output_type": "stream",
          "text": [
            "+-----------------------------------------------------------------------------+\n",
            "|featuresFull                                                                 |\n",
            "+-----------------------------------------------------------------------------+\n",
            "|(60,[1,3,23,28,57,58,59],[1.0,1.0,1.0,1.0,20000.0,300000.0,5.0])             |\n",
            "|(60,[0,1,2,9,23,28,57,58,59],[1.0,1.0,1.0,1.0,1.0,1.0,35000.0,200000.0,2.0]) |\n",
            "|(60,[0,1,2,3,22,31,57,58,59],[1.0,1.0,1.0,1.0,1.0,1.0,22500.0,600000.0,4.0]) |\n",
            "|(60,[0,1,2,3,22,31,57,58,59],[1.0,1.0,1.0,1.0,1.0,1.0,35000.0,1000000.0,5.0])|\n",
            "|(60,[0,1,2,3,22,34,57,58,59],[1.0,1.0,1.0,1.0,1.0,1.0,100000.0,500000.0,2.0])|\n",
            "|(60,[0,1,2,15,22,31,57,58,59],[1.0,1.0,1.0,1.0,1.0,1.0,45000.0,300000.0,5.0])|\n",
            "|(60,[1,3,22,29,57,58,59],[1.0,1.0,1.0,1.0,70000.0,6.0,5.0])                  |\n",
            "|(60,[0,1,2,3,22,30,57,58,59],[1.0,1.0,1.0,1.0,1.0,1.0,20000.0,200000.0,5.0]) |\n",
            "|(60,[0,2,7,21,24,28,57],[1.0,1.0,1.0,1.0,1.0,1.0,75000.0])                   |\n",
            "|(60,[1,2,4,22,29,57,58,59],[1.0,1.0,1.0,1.0,1.0,30000.0,300000.0,3.0])       |\n",
            "|(60,[0,1,2,4,22,29,57,58,59],[1.0,1.0,1.0,1.0,1.0,1.0,25000.0,1000000.0,5.0])|\n",
            "|(60,[1,3,22,28,57,58,59],[1.0,1.0,1.0,1.0,25000.0,140000.0,4.0])             |\n",
            "|(60,[1,3,22,29,57,58,59],[1.0,1.0,1.0,1.0,24000.0,500000.0,4.0])             |\n",
            "|(60,[0,1,2,8,22,29,57,58,59],[1.0,1.0,1.0,1.0,1.0,1.0,27000.0,200000.0,5.0]) |\n",
            "|(60,[1,3,22,36,57,58,59],[1.0,1.0,1.0,1.0,28000.0,100000.0,1.0])             |\n",
            "|(60,[0,1,2,3,22,30,57,58,59],[1.0,1.0,1.0,1.0,1.0,1.0,42000.0,500000.0,3.0]) |\n",
            "|(60,[0,1,2,11,25,28,57,58,59],[1.0,1.0,1.0,1.0,1.0,1.0,28994.0,300000.0,5.0])|\n",
            "|(60,[1,3,22,28,57,58,59],[1.0,1.0,1.0,1.0,20000.0,100000.0,5.0])             |\n",
            "|(60,[1,3,25,29,57,58,59],[1.0,1.0,1.0,1.0,33000.0,500000.0,5.0])             |\n",
            "|(60,[0,1,2,3,25,29,57,58,59],[1.0,1.0,1.0,1.0,1.0,1.0,31500.0,500000.0,5.0]) |\n",
            "+-----------------------------------------------------------------------------+\n",
            "only showing top 20 rows\n",
            "\n",
            "+---------------------------------------------------------------------------------------------------------------------+\n",
            "|featuresScal                                                                                                         |\n",
            "+---------------------------------------------------------------------------------------------------------------------+\n",
            "|(60,[1,3,23,28,57,58,59],[1.0,1.0,1.0,1.0,4.498886540202682E-5,0.03,0.5])                                            |\n",
            "|(60,[0,1,2,9,23,28,57,58,59],[1.0,1.0,1.0,1.0,1.0,1.0,7.873051445354693E-5,0.02,0.2])                                |\n",
            "|(60,[0,1,2,3,22,31,57,58,59],[1.0,1.0,1.0,1.0,1.0,1.0,5.0612473577280163E-5,0.06,0.4])                               |\n",
            "|(60,[0,1,2,3,22,31,57,58,59],[1.0,1.0,1.0,1.0,1.0,1.0,7.873051445354693E-5,0.09999999999999999,0.5])                 |\n",
            "|(60,[0,1,2,3,22,34,57,58,59],[1.0,1.0,1.0,1.0,1.0,1.0,2.2494432701013407E-4,0.049999999999999996,0.2])               |\n",
            "|(60,[0,1,2,15,22,31,57,58,59],[1.0,1.0,1.0,1.0,1.0,1.0,1.0122494715456033E-4,0.03,0.5])                              |\n",
            "|(60,[1,3,22,29,57,58,59],[1.0,1.0,1.0,1.0,1.5746102890709386E-4,6.0E-7,0.5])                                         |\n",
            "|(60,[0,1,2,3,22,30,57,58,59],[1.0,1.0,1.0,1.0,1.0,1.0,4.498886540202682E-5,0.02,0.5])                                |\n",
            "|(60,[0,2,7,21,24,28,57],[1.0,1.0,1.0,1.0,1.0,1.0,1.6870824525760055E-4])                                             |\n",
            "|(60,[1,2,4,22,29,57,58,59],[1.0,1.0,1.0,1.0,1.0,6.748329810304022E-5,0.03,0.30000000000000004])                      |\n",
            "|(60,[0,1,2,4,22,29,57,58,59],[1.0,1.0,1.0,1.0,1.0,1.0,5.6236081752533516E-5,0.09999999999999999,0.5])                |\n",
            "|(60,[1,3,22,28,57,58,59],[1.0,1.0,1.0,1.0,5.6236081752533516E-5,0.013999999999999999,0.4])                           |\n",
            "|(60,[1,3,22,29,57,58,59],[1.0,1.0,1.0,1.0,5.3986638482432175E-5,0.049999999999999996,0.4])                           |\n",
            "|(60,[0,1,2,8,22,29,57,58,59],[1.0,1.0,1.0,1.0,1.0,1.0,6.07349682927362E-5,0.02,0.5])                                 |\n",
            "|(60,[1,3,22,36,57,58,59],[1.0,1.0,1.0,1.0,6.298441156283754E-5,0.01,0.1])                                            |\n",
            "|(60,[0,1,2,3,22,30,57,58,59],[1.0,1.0,1.0,1.0,1.0,1.0,9.447661734425632E-5,0.049999999999999996,0.30000000000000004])|\n",
            "|(60,[0,1,2,11,25,28,57,58,59],[1.0,1.0,1.0,1.0,1.0,1.0,6.522035817331828E-5,0.03,0.5])                               |\n",
            "|(60,[1,3,22,28,57,58,59],[1.0,1.0,1.0,1.0,4.498886540202682E-5,0.01,0.5])                                            |\n",
            "|(60,[1,3,25,29,57,58,59],[1.0,1.0,1.0,1.0,7.423162791334425E-5,0.049999999999999996,0.5])                            |\n",
            "|(60,[0,1,2,3,25,29,57,58,59],[1.0,1.0,1.0,1.0,1.0,1.0,7.085746300819223E-5,0.049999999999999996,0.5])                |\n",
            "+---------------------------------------------------------------------------------------------------------------------+\n",
            "only showing top 20 rows\n",
            "\n"
          ],
          "name": "stdout"
        }
      ]
    },
    {
      "cell_type": "markdown",
      "metadata": {
        "id": "l_L2kbb9AuR2"
      },
      "source": [
        "**PCA**"
      ]
    },
    {
      "cell_type": "code",
      "metadata": {
        "id": "fZYBLdfHAZho"
      },
      "source": [
        "pca = feature.PCA(k=3, inputCol=\"featuresFull\", outputCol=\"featuresPCA\")"
      ],
      "execution_count": 94,
      "outputs": []
    },
    {
      "cell_type": "code",
      "metadata": {
        "id": "NFt107NdArJ9"
      },
      "source": [
        "PCAmodel = pca.fit(tmp3)"
      ],
      "execution_count": 95,
      "outputs": []
    },
    {
      "cell_type": "code",
      "metadata": {
        "colab": {
          "base_uri": "https://localhost:8080/"
        },
        "id": "8WfQRLNYArHZ",
        "outputId": "b5d58ca7-2196-4b17-9e77-8a0ab00a7963"
      },
      "source": [
        "PCAmodel.transform(tmp3).select(\"featuresFull\", \"featuresPCA\").show(truncate=False)"
      ],
      "execution_count": 96,
      "outputs": [
        {
          "output_type": "stream",
          "text": [
            "+-----------------------------------------------------------------------------+------------------------------------------------------------+\n",
            "|featuresFull                                                                 |featuresPCA                                                 |\n",
            "+-----------------------------------------------------------------------------+------------------------------------------------------------+\n",
            "|(60,[1,3,23,28,57,58,59],[1.0,1.0,1.0,1.0,20000.0,300000.0,5.0])             |[-20158.30434071145,-299989.4044364668,4.080184413672564]   |\n",
            "|(60,[0,1,2,9,23,28,57,58,59],[1.0,1.0,1.0,1.0,1.0,1.0,35000.0,200000.0,2.0]) |[-35105.533210530804,-199981.50299475883,1.3703828477141546]|\n",
            "|(60,[0,1,2,3,22,31,57,58,59],[1.0,1.0,1.0,1.0,1.0,1.0,22500.0,600000.0,4.0]) |[-22816.611117949764,-599988.0434381654,2.3364751336023284] |\n",
            "|(60,[0,1,2,3,22,31,57,58,59],[1.0,1.0,1.0,1.0,1.0,1.0,35000.0,1000000.0,5.0])|[-35527.68554465821,-999981.3916176226,2.1356377551430494]  |\n",
            "|(60,[0,1,2,3,22,34,57,58,59],[1.0,1.0,1.0,1.0,1.0,1.0,100000.0,500000.0,2.0])|[-100263.8312859731,-499947.16134836327,0.6748389236441557] |\n",
            "|(60,[0,1,2,15,22,31,57,58,59],[1.0,1.0,1.0,1.0,1.0,1.0,45000.0,300000.0,5.0])|[-45158.3008600015,-299976.21217642445,4.191879751901228]   |\n",
            "|(60,[1,3,22,29,57,58,59],[1.0,1.0,1.0,1.0,70000.0,6.0,5.0])                  |[-69999.99342012063,30.938314815720908,5.156064756185561]   |\n",
            "|(60,[0,1,2,3,22,30,57,58,59],[1.0,1.0,1.0,1.0,1.0,1.0,20000.0,200000.0,5.0]) |[-20105.535298948398,-199989.41836020665,4.485978375370379] |\n",
            "|(60,[0,2,7,21,24,28,57],[1.0,1.0,1.0,1.0,1.0,1.0,75000.0])                   |[-74999.98955786278,39.57678194133829,-0.21603296396324376] |\n",
            "|(60,[1,2,4,22,29,57,58,59],[1.0,1.0,1.0,1.0,1.0,30000.0,300000.0,3.0])       |[-30158.30294843321,-299984.12752698106,2.2799816109975217] |\n",
            "|(60,[0,1,2,4,22,29,57,58,59],[1.0,1.0,1.0,1.0,1.0,1.0,25000.0,1000000.0,5.0])|[-25527.68693694309,-999986.6685216771,2.1392153135940744]  |\n",
            "|(60,[1,3,22,28,57,58,59],[1.0,1.0,1.0,1.0,25000.0,140000.0,4.0])             |[-25073.873177745194,-139986.78825926722,3.7253137547234]   |\n",
            "|(60,[1,3,22,29,57,58,59],[1.0,1.0,1.0,1.0,24000.0,500000.0,4.0])             |[-24263.84186733378,-499987.26582589844,2.7067590639589527] |\n",
            "|(60,[0,1,2,8,22,29,57,58,59],[1.0,1.0,1.0,1.0,1.0,1.0,27000.0,200000.0,5.0]) |[-27105.53432434775,-199985.7245272188,4.492294372546313]   |\n",
            "|(60,[1,3,22,36,57,58,59],[1.0,1.0,1.0,1.0,28000.0,100000.0,1.0])             |[-28052.76514336162,-99985.21074882966,0.9430411590849487]  |\n",
            "|(60,[0,1,2,3,22,30,57,58,59],[1.0,1.0,1.0,1.0,1.0,1.0,42000.0,500000.0,3.0]) |[-42263.83936122814,-499977.76739541645,1.6490361856238298] |\n",
            "|(60,[0,1,2,11,25,28,57,58,59],[1.0,1.0,1.0,1.0,1.0,1.0,28994.0,300000.0,5.0])|[-29152.303088496028,-299984.6583887916,4.043487095676891]  |\n",
            "|(60,[1,3,22,28,57,58,59],[1.0,1.0,1.0,1.0,20000.0,100000.0,5.0])             |[-20052.766257177806,-99989.43228353177,4.819930078829688]  |\n",
            "|(60,[1,3,25,29,57,58,59],[1.0,1.0,1.0,1.0,33000.0,500000.0,5.0])             |[-33263.84061427296,-499982.51661461696,3.5655396750191777] |\n",
            "|(60,[0,1,2,3,25,29,57,58,59],[1.0,1.0,1.0,1.0,1.0,1.0,31500.0,500000.0,5.0]) |[-31763.84082312047,-499983.3081501721,3.4975109500011796]  |\n",
            "+-----------------------------------------------------------------------------+------------------------------------------------------------+\n",
            "only showing top 20 rows\n",
            "\n"
          ],
          "name": "stdout"
        }
      ]
    },
    {
      "cell_type": "code",
      "metadata": {
        "colab": {
          "base_uri": "https://localhost:8080/"
        },
        "id": "ZN9sRttiArEk",
        "outputId": "02d10bd1-7903-440d-a1db-06986f706c23"
      },
      "source": [
        "PCAmodel.explainedVariance"
      ],
      "execution_count": 97,
      "outputs": [
        {
          "output_type": "execute_result",
          "data": {
            "text/plain": [
              "DenseVector([0.976, 0.024, 0.0])"
            ]
          },
          "metadata": {
            "tags": []
          },
          "execution_count": 97
        }
      ]
    },
    {
      "cell_type": "code",
      "metadata": {
        "id": "NLmqpfRcEBMY"
      },
      "source": [
        "rfModel = rf.fit(tmp2)"
      ],
      "execution_count": 98,
      "outputs": []
    },
    {
      "cell_type": "code",
      "metadata": {
        "id": "fdgUlEeOBPvN"
      },
      "source": [
        "df_train = rfModel.transform(df_t)\r\n",
        "df_eval = rfModel.transform(df_e)"
      ],
      "execution_count": 99,
      "outputs": []
    },
    {
      "cell_type": "code",
      "metadata": {
        "colab": {
          "base_uri": "https://localhost:8080/"
        },
        "id": "T3s3qhY9BPsf",
        "outputId": "5a88ca03-5d7a-4b78-f90a-f325844dee42"
      },
      "source": [
        "scaler = feature.StandardScaler(inputCol=\"featuresFull\", outputCol=\"features\")\r\n",
        "scal_mod = scaler.fit(df_train)\r\n",
        "df_train = scal_mod.transform(df_train)\r\n",
        "df_eval = scal_mod.transform(df_eval)\r\n",
        "\r\n",
        "df_eval.show()"
      ],
      "execution_count": 100,
      "outputs": [
        {
          "output_type": "stream",
          "text": [
            "+--------+--------------+---------+------------------+-------------------+-------------------+------------+--------------------+--------------------+---------------+----+----+---------------------+---------------------+-------------+--------------+------------------+----+------+----+---------+----------+---------------+---------------+-------------------+--------------------+-----+--------------------+\n",
            "|    City|Monthly_Income|      DOB|Lead_Creation_Date|Loan_Amount_Applied|Loan_Tenure_Applied|Existing_EMI|       Employer_Name|      Salary_Account|Mobile_Verified|Var5|Var1|Loan_Amount_Submitted|Loan_Tenure_Submitted|Interest_Rate|Processing_Fee|EMI_Loan_Submitted|Var2|Source|Var4|Disbursed|new_gender|new_Filled_Form|new_Device_Type|new_Mobile_Verified|        featuresFull|label|            features|\n",
            "+--------+--------------+---------+------------------+-------------------+-------------------+------------+--------------------+--------------------+---------------+----+----+---------------------+---------------------+-------------+--------------+------------------+----+------+----+---------+----------+---------------+---------------+-------------------+--------------------+-----+--------------------+\n",
            "|    null|         75000|27-Oct-88|         19-May-15|                  0|                  0|         0.0|                   0|                null|              Y|   0|HBXX|                    0|                    0|          0.0|             0|               0.0|   G|  S122|   6|        0|         1|              0|              1|                  1|(60,[0,1,2,3,23,2...|  0.0|(60,[0,1,2,3,23,2...|\n",
            "|    null|         75000|27-Oct-88|         19-May-15|                  0|                  0|         0.0|                   0|                null|              Y|   0|HBXX|                    0|                    0|          0.0|             0|               0.0|   G|  S122|   6|        0|         1|              0|              1|                  1|(60,[0,1,2,3,23,2...|  0.0|(60,[0,1,2,3,23,2...|\n",
            "|  ADIPUR|         12000|10-Apr-92|         02-May-15|              60000|                  2|         0.0|    WELSPUN CORP LTD|          ICICI Bank|              N|   0|HBXX|                    0|                    0|          0.0|             0|               0.0|   B|  S122|   1|        0|         0|              0|              1|                  0|(60,[1,3,22,28,57...|  0.0|(60,[1,3,22,28,57...|\n",
            "|  ADIPUR|         12000|10-Apr-92|         02-May-15|              70000|                  3|         0.0|    WELSPUN CORP LTD|          ICICI Bank|              N|   0|HBXX|                    0|                    0|          0.0|             0|               0.0|   B|  S143|   1|        0|         0|              0|              1|                  0|(60,[1,3,22,31,57...|  0.0|(60,[1,3,22,31,57...|\n",
            "|  AHMEDB|         15500|29-Apr-93|         12-Jun-15|              20000|                  5|         0.0|INSURANCE INSTITU...|          ICICI Bank|              N|   0|HBXX|                    0|                    0|          0.0|             0|               0.0|   B|  S159|   1|        0|         0|              0|              1|                  0|(60,[1,3,22,30,57...|  0.0|(60,[1,3,22,30,57...|\n",
            "|   ANJAR|         28500|24-Dec-86|         21-Jun-15|             200000|                  3|      2491.0|MKC INFRASTRUCTUR...|       Bank of India|              Y|   8|HAYT|               200000|                    3|        15.75|          4000|           7006.75|   B|  S133|   3|        0|         1|              0|              1|                  1|(60,[0,1,2,13,22,...|  0.0|(60,[0,1,2,13,22,...|\n",
            "|   ANJAR|         28500|24-Dec-86|         21-Jun-15|             200000|                  3|      2491.0|MKC INFRASTRUCTUR...|       Bank of India|              Y|   8|HBXC|               210000|                    3|        18.25|          2100|           7618.37|   B|  S133|   5|        0|         1|              1|              1|                  1|(60,[0,1,2,4,21,2...|  0.0|(60,[0,1,2,4,21,2...|\n",
            "|Adilabad|          6000|01-May-86|         12-Jun-15|             300000|                  5|         0.0|      BEDA THIRUMALA|                null|              N|   0|HBXX|                    0|                    0|          0.0|             0|               0.0|   B|  S133|   1|        0|         0|              0|              1|                  0|(60,[1,3,22,29,57...|  0.0|(60,[1,3,22,29,57...|\n",
            "|Adilabad|         10000|10-Jun-90|         13-Jun-15|             100000|                  3|      2000.0|  STAFFING CORPORATE|  Lakshmi Vilas bank|              N|   0|HBXX|                    0|                    0|          0.0|             0|               0.0|   B|  S159|   1|        0|         0|              0|              1|                  0|(60,[1,3,22,30,57...|  0.0|(60,[1,3,22,30,57...|\n",
            "|Adilabad|         15000|10-Jun-90|         09-Jun-15|             100000|                  4|      2000.0|  STAFFING CORPORATE| State Bank of India|              Y|   1|HBXC|               100000|                    4|         20.0|          1000|           3043.04|   B|  S159|   4|        0|         1|              0|              1|                  1|(60,[0,1,2,4,22,3...|  0.0|(60,[0,1,2,4,22,3...|\n",
            "|Adilabad|         15097|01-Aug-89|         08-Jun-15|             200000|                  2|         0.0|   KADIRI SATHYANAND|          ICICI Bank|              Y|   1|HBXX|               170000|                    2|          0.0|             0|               0.0|   B|  S159|   2|        0|         1|              0|              1|                  1|(60,[0,1,2,3,22,3...|  0.0|(60,[0,1,2,3,22,3...|\n",
            "|Adilabad|         30000|10-Mar-91|         11-May-15|             500000|                  5|      7000.0|               SIDDU|State Bank of Hyd...|              Y|  10|HBXX|               500000|                    5|          0.0|             0|               0.0|   E|  S133|   3|        0|         1|              0|              1|                  1|(60,[0,1,2,3,25,2...|  0.0|(60,[0,1,2,3,25,2...|\n",
            "|Adilabad|         33294|22-Dec-69|         20-Jun-15|             500000|                  5|     10000.0|   RAMAGIRI RAVINDER|                null|              N|   8|HBXX|                    0|                    0|          0.0|             0|               0.0|   B|  S159|   3|        0|         0|              0|              1|                  0|(60,[1,3,22,30,57...|  0.0|(60,[1,3,22,30,57...|\n",
            "|Adilabad|         40000|15-Jan-75|         27-May-15|             500000|                  5|      9000.0|M.VENKATA RAMAKRI...|          ICICI Bank|              Y|  10|HBXC|               500000|                    5|         20.0|          5000|          13246.94|   B|  S133|   4|        0|         1|              0|              1|                  1|(60,[0,1,2,4,22,2...|  0.0|(60,[0,1,2,4,22,2...|\n",
            "|Adilabad|         48965|07-Feb-88|         03-Jun-15|             200000|                  1|         0.0|VERIZON DATA SERV...|           HDFC Bank|              Y|  11|HAXA|               200000|                    1|        13.99|          1980|          17956.48|   B|  S122|   5|        0|         0|              1|              1|                  1|(60,[1,2,6,21,22,...|  0.0|(60,[1,2,6,21,22,...|\n",
            "|Adilabad|         48965|07-Feb-88|         31-May-15|             200000|                  1|      5000.0|   MANJULA CHINTHALA|           HDFC Bank|              Y|  11|HAXA|               200000|                    1|         24.0|          4000|          18911.92|   B|  S122|   5|        0|         0|              1|              1|                  1|(60,[1,2,6,21,22,...|  0.0|(60,[1,2,6,21,22,...|\n",
            "|Adilabad|         50000|08-Dec-88|         19-May-15|             200000|                  1|         0.0|NALANDA JUNIOR CO...|                null|              Y|  11|HAXA|               200000|                    1|        16.75|          4000|          18217.23|   B|  S137|   5|        0|         1|              1|              1|                  1|(60,[0,1,2,6,21,2...|  0.0|(60,[0,1,2,6,21,2...|\n",
            "|Adilabad|         53000|12-Dec-85|         05-Jun-15|             100000|                  2|         0.0|ASHA TRADECOM PVT...|          ICICI Bank|              Y|  11|HBXC|               100000|                    2|         20.0|          1000|           5089.58|   B|  S137|   5|        0|         1|              1|              1|                  1|(60,[0,1,2,4,21,2...|  0.0|(60,[0,1,2,4,21,2...|\n",
            "|Agartala|          5000|25-Dec-94|         09-May-15|              50000|                  1|      1000.0|           UTTAM DEY| State Bank of India|              N|   0|HBXX|                    0|                    0|          0.0|             0|               0.0|   B|  S133|   1|        0|         0|              0|              1|                  0|(60,[1,3,22,29,57...|  0.0|(60,[1,3,22,29,57...|\n",
            "|Agartala|          7000|03-Sep-89|         07-May-15|             100000|                  4|      1500.0|    DIPANKAR BHOWMIK|                null|              N|   0|HBXX|                    0|                    0|          0.0|             0|               0.0|   E|  S133|   1|        0|         0|              0|              1|                  0|(60,[1,3,25,29,57...|  0.0|(60,[1,3,25,29,57...|\n",
            "+--------+--------------+---------+------------------+-------------------+-------------------+------------+--------------------+--------------------+---------------+----+----+---------------------+---------------------+-------------+--------------+------------------+----+------+----+---------+----------+---------------+---------------+-------------------+--------------------+-----+--------------------+\n",
            "only showing top 20 rows\n",
            "\n"
          ],
          "name": "stdout"
        }
      ]
    },
    {
      "cell_type": "code",
      "metadata": {
        "id": "hDIxIBuQQuiq"
      },
      "source": [
        "num_cols = [c for c, t in df_t.dtypes if t != \"string\"]\r\n",
        "categ_cols = [c for c, t in df_t.dtypes if t == \"string\" and c != \"Disbursed\"]\r\n",
        "categ_cols_idx = [c + \"Idx\" for c in categ_cols]\r\n",
        "categ_cols_vect = [c + \"Vect\" for c in categ_cols]"
      ],
      "execution_count": 101,
      "outputs": []
    },
    {
      "cell_type": "code",
      "metadata": {
        "id": "rRhpQoDUBPpt"
      },
      "source": [
        "indexer = feature.StringIndexer(inputCol=\"Disbursed\", outputCol=\"label1\")\r\n",
        "indexers = feature.StringIndexer(inputCols=categ_cols, outputCols=categ_cols_idx)\r\n",
        "OHencoder = feature.OneHotEncoder(inputCols=categ_cols_idx, outputCols=categ_cols_vect)\r\n",
        "vectAssembler = feature.VectorAssembler(inputCols = num_cols + categ_cols_vect, outputCol = \"featuresRaw\")\r\n",
        "#scaler = feature.StandardScaler(inputCol=\"featuresRaw\", outputCol=\"features\")"
      ],
      "execution_count": 102,
      "outputs": []
    },
    {
      "cell_type": "code",
      "metadata": {
        "id": "b3J9s_5wEew1"
      },
      "source": [
        "pipe = Pipeline(stages=[indexer, indexers, OHencoder, vectAssembler, scaler])\r\n",
        "pipeModel = pipe.fit(tmp3)"
      ],
      "execution_count": 103,
      "outputs": []
    },
    {
      "cell_type": "code",
      "metadata": {
        "id": "ryXMccmMEeqq"
      },
      "source": [
        "df_train = pipeModel.transform(tmp3)\r\n",
        "df_eval = pipeModel.transform(tmp3)"
      ],
      "execution_count": 104,
      "outputs": []
    },
    {
      "cell_type": "code",
      "metadata": {
        "id": "k-SKBGF-EeeF"
      },
      "source": [
        "df_eval.show()"
      ],
      "execution_count": null,
      "outputs": []
    },
    {
      "cell_type": "code",
      "metadata": {
        "id": "XLJ4fLtlBPmq"
      },
      "source": [
        "df_train = df_train.select(\"label\", \"features\")\r\n",
        "df_eval = df_eval.select(\"label\", \"features\")"
      ],
      "execution_count": 105,
      "outputs": []
    },
    {
      "cell_type": "code",
      "metadata": {
        "id": "rbNv-n5uHYkz"
      },
      "source": [
        "print(\"Train:\")\r\n",
        "df_train.groupBy(\"label\").count().show()\r\n",
        "print(\"Eval:\")\r\n",
        "df_eval.groupBy(\"label\").count().show()"
      ],
      "execution_count": null,
      "outputs": []
    },
    {
      "cell_type": "code",
      "metadata": {
        "colab": {
          "base_uri": "https://localhost:8080/"
        },
        "id": "JdXDl3xMHYhp",
        "outputId": "57c654e8-1390-4c7f-ba34-a583bd734ea1"
      },
      "source": [
        "df_train.show()"
      ],
      "execution_count": 107,
      "outputs": [
        {
          "output_type": "stream",
          "text": [
            "+-----+--------------------+\n",
            "|label|            features|\n",
            "+-----+--------------------+\n",
            "|  0.0|(60,[1,3,23,28,57...|\n",
            "|  0.0|(60,[0,1,2,9,23,2...|\n",
            "|  0.0|(60,[0,1,2,3,22,3...|\n",
            "|  0.0|(60,[0,1,2,3,22,3...|\n",
            "|  0.0|(60,[0,1,2,3,22,3...|\n",
            "|  0.0|(60,[0,1,2,15,22,...|\n",
            "|  0.0|(60,[1,3,22,29,57...|\n",
            "|  0.0|(60,[0,1,2,3,22,3...|\n",
            "|  0.0|(60,[0,2,7,21,24,...|\n",
            "|  0.0|(60,[1,2,4,22,29,...|\n",
            "|  0.0|(60,[0,1,2,4,22,2...|\n",
            "|  0.0|(60,[1,3,22,28,57...|\n",
            "|  0.0|(60,[1,3,22,29,57...|\n",
            "|  0.0|(60,[0,1,2,8,22,2...|\n",
            "|  0.0|(60,[1,3,22,36,57...|\n",
            "|  0.0|(60,[0,1,2,3,22,3...|\n",
            "|  0.0|(60,[0,1,2,11,25,...|\n",
            "|  0.0|(60,[1,3,22,28,57...|\n",
            "|  0.0|(60,[1,3,25,29,57...|\n",
            "|  0.0|(60,[0,1,2,3,25,2...|\n",
            "+-----+--------------------+\n",
            "only showing top 20 rows\n",
            "\n"
          ],
          "name": "stdout"
        }
      ]
    },
    {
      "cell_type": "code",
      "metadata": {
        "id": "mcnpWCpDHYab"
      },
      "source": [
        ""
      ],
      "execution_count": null,
      "outputs": []
    },
    {
      "cell_type": "code",
      "metadata": {
        "id": "YDIWUeupjibe"
      },
      "source": [
        "#REGRESJA LINIOWA"
      ],
      "execution_count": 108,
      "outputs": []
    },
    {
      "cell_type": "code",
      "metadata": {
        "id": "LYM01zahj6yU"
      },
      "source": [
        "from pyspark.ml import classification"
      ],
      "execution_count": 109,
      "outputs": []
    },
    {
      "cell_type": "code",
      "metadata": {
        "id": "Zda8TuhOjut9"
      },
      "source": [
        "lr = classification.LogisticRegression(maxIter=1000)"
      ],
      "execution_count": 110,
      "outputs": []
    },
    {
      "cell_type": "code",
      "metadata": {
        "id": "e0R74X3UjxQE"
      },
      "source": [
        "lrModel = lr.fit(df_train)"
      ],
      "execution_count": 111,
      "outputs": []
    },
    {
      "cell_type": "code",
      "metadata": {
        "colab": {
          "base_uri": "https://localhost:8080/"
        },
        "id": "cjyWgTP-j-Wm",
        "outputId": "eff52654-c6a7-4af2-bbf9-2734643bff3f"
      },
      "source": [
        "lrModel.coefficients"
      ],
      "execution_count": 112,
      "outputs": [
        {
          "output_type": "execute_result",
          "data": {
            "text/plain": [
              "DenseVector([0.1697, -0.0563, 0.2341, 0.8137, 0.2944, 0.0188, 0.3369, 0.4229, 0.307, 0.3599, 0.3713, 0.104, 0.1843, 0.0955, 0.1112, 0.1373, 0.0466, 0.0455, -3.6746, 0.061, -2.3379, 0.1917, -0.2612, -0.4866, -0.2366, -0.1025, -7.301, -0.0919, -0.2066, -0.4005, -0.3647, -0.1552, -0.247, -0.7104, -0.015, -0.2652, -0.1885, -0.1576, -0.2044, -4.9551, -0.1065, -0.1032, -2.3739, -0.0228, -1.664, -1.3544, 0.0158, -0.8366, -0.5732, -0.4834, -0.4913, -0.4597, -0.5082, -0.278, -0.2401, -0.2733, -0.2847, -0.0173, 0.0878, 0.3159])"
            ]
          },
          "metadata": {
            "tags": []
          },
          "execution_count": 112
        }
      ]
    },
    {
      "cell_type": "code",
      "metadata": {
        "colab": {
          "base_uri": "https://localhost:8080/"
        },
        "id": "MTOIL0VEkFEB",
        "outputId": "4bc430a8-8d20-4461-f0ee-06f3c62dd8d5"
      },
      "source": [
        "lrModel.intercept"
      ],
      "execution_count": 113,
      "outputs": [
        {
          "output_type": "execute_result",
          "data": {
            "text/plain": [
              "-5.541862780721203"
            ]
          },
          "metadata": {
            "tags": []
          },
          "execution_count": 113
        }
      ]
    },
    {
      "cell_type": "code",
      "metadata": {
        "colab": {
          "base_uri": "https://localhost:8080/"
        },
        "id": "xe73qzXNkHCc",
        "outputId": "d1c5a4be-37ca-437b-bae8-6ff09a689dd3"
      },
      "source": [
        "trainingSummary = lrModel.summary\n",
        "trainingSummary"
      ],
      "execution_count": 114,
      "outputs": [
        {
          "output_type": "execute_result",
          "data": {
            "text/plain": [
              "<pyspark.ml.classification.BinaryLogisticRegressionTrainingSummary at 0x7f8a7e709128>"
            ]
          },
          "metadata": {
            "tags": []
          },
          "execution_count": 114
        }
      ]
    },
    {
      "cell_type": "code",
      "metadata": {
        "colab": {
          "base_uri": "https://localhost:8080/"
        },
        "id": "2ynBjU4UkKuB",
        "outputId": "7e40536a-e28d-43f0-90ac-d5679b0f2122"
      },
      "source": [
        "trainingSummary.roc.show(120)"
      ],
      "execution_count": 115,
      "outputs": [
        {
          "output_type": "stream",
          "text": [
            "+--------------------+--------------------+\n",
            "|                 FPR|                 TPR|\n",
            "+--------------------+--------------------+\n",
            "|                 0.0|                 0.0|\n",
            "|0.005162563090876483|0.030405405405405407|\n",
            "| 0.01044041915400579| 0.07179054054054054|\n",
            "| 0.01648689503215393| 0.10641891891891891|\n",
            "|0.022020957700289515| 0.12837837837837837|\n",
            "|0.028003381927186082|  0.1554054054054054|\n",
            "|0.035330890830365606| 0.18496621621621623|\n",
            "| 0.04228690015628603| 0.20523648648648649|\n",
            "| 0.04801311777817632| 0.22888513513513514|\n",
            "| 0.05441828290333325|  0.2592905405405405|\n",
            "| 0.06433347851707617| 0.29307432432432434|\n",
            "| 0.07123824652199534| 0.30067567567567566|\n",
            "| 0.07727191206989316| 0.31841216216216217|\n",
            "| 0.08538085111834183| 0.34121621621621623|\n",
            "| 0.09325920422228486| 0.35557432432432434|\n",
            "| 0.09947221439368707|  0.3766891891891892|\n",
            "| 0.11260280290025877|  0.3910472972972973|\n",
            "| 0.11927698496067228| 0.40202702702702703|\n",
            "| 0.12803925085188697| 0.41385135135135137|\n",
            "| 0.13690399938510414| 0.43158783783783783|\n",
            "| 0.14670390202659425| 0.44932432432432434|\n",
            "| 0.15633727037483025|  0.4721283783783784|\n",
            "| 0.16419000281827265|  0.4856418918918919|\n",
            "| 0.17119725346519432| 0.49746621621621623|\n",
            "|  0.1780123491583613|  0.5092905405405406|\n",
            "| 0.19001562860290538|  0.5236486486486487|\n",
            "|  0.1982782916143578|   0.535472972972973|\n",
            "|  0.2066690579283134|  0.5430743243243243|\n",
            "| 0.21641771924880224|  0.5472972972972973|\n",
            "| 0.22414234838974148|  0.5591216216216216|\n",
            "| 0.23353232046322153|  0.5675675675675675|\n",
            "| 0.24152596653941738|  0.5768581081081081|\n",
            "| 0.25019856011887986|  0.5853040540540541|\n",
            "|  0.2594988598806077|  0.5962837837837838|\n",
            "| 0.26797929850631547|  0.6140202702702703|\n",
            "|  0.2746278599062284|  0.6258445945945946|\n",
            "| 0.28163511055315005|   0.637668918918919|\n",
            "| 0.28983372191335094|  0.6469594594594594|\n",
            "|  0.2984038328508109|             0.65625|\n",
            "| 0.31057364658860903|  0.6680743243243243|\n",
            "| 0.31860572365555584|   0.668918918918919|\n",
            "|  0.3253183367067203|  0.6790540540540541|\n",
            "|  0.3334657067459199|  0.6858108108108109|\n",
            "| 0.34441853910993825|  0.6908783783783784|\n",
            "|  0.3540262867976736|   0.706081081081081|\n",
            "| 0.36559401501370703|  0.7086148648648649|\n",
            "|  0.3909712792395788|  0.7415540540540541|\n",
            "|  0.3938279828853988|  0.7415540540540541|\n",
            "| 0.41055827419230867|  0.7533783783783784|\n",
            "| 0.43173375009607745|  0.7787162162162162|\n",
            "|  0.4406369296200456|  0.7837837837837838|\n",
            "| 0.45038559094053443|  0.7880067567567568|\n",
            "| 0.45981399400476547|  0.7981418918918919|\n",
            "| 0.46706464092644306|  0.8074324324324325|\n",
            "| 0.47745381875944765|              0.8125|\n",
            "|  0.5315134124157721|  0.8209459459459459|\n",
            "|  0.5441700187030821|  0.8293918918918919|\n",
            "|  0.5522789577515308|  0.8353040540540541|\n",
            "|  0.5599267249109682|  0.8420608108108109|\n",
            "|  0.5663575106966258|   0.847972972972973|\n",
            "|  0.5740308985165637|  0.8547297297297297|\n",
            "|  0.5812174937869898|  0.8614864864864865|\n",
            "|   0.590287207604212|  0.8665540540540541|\n",
            "|  0.6114242525172299|  0.8817567567567568|\n",
            "|  0.6248494786195589|  0.8885135135135135|\n",
            "|  0.6387102559503984|  0.8994932432432432|\n",
            "|  0.6457046962670697|  0.9045608108108109|\n",
            "|  0.6550818580102995|  0.9096283783783784|\n",
            "|  0.6635751069662575|  0.9130067567567568|\n",
            "|  0.6739514744690118|  0.9155405405405406|\n",
            "|  0.6840972560272603|  0.9197635135135135|\n",
            "|   0.696407983397812|  0.9273648648648649|\n",
            "|   0.706899643872819|   0.933277027027027|\n",
            "|  0.7156619097640338|  0.9425675675675675|\n",
            "|   0.726243242550793|  0.9459459459459459|\n",
            "|    0.73346826881197|  0.9484797297297297|\n",
            "|  0.7471625118495555|  0.9484797297297297|\n",
            "|  0.7540544695242243|  0.9510135135135135|\n",
            "|   0.761958443288668|  0.9586148648648649|\n",
            "|   0.771386846352899|  0.9628378378378378|\n",
            "|  0.7794189234198458|  0.9670608108108109|\n",
            "|  0.8056801004329892|  0.9670608108108109|\n",
            "|  0.8235377008019267|  0.9670608108108109|\n",
            "|  0.8345545848171966|  0.9712837837837838|\n",
            "|  0.8434961953319157|   0.972972972972973|\n",
            "|  0.8554482334554585|  0.9755067567567568|\n",
            "|   0.865017550152443|  0.9797297297297297|\n",
            "|  0.8751633317106915|  0.9805743243243243|\n",
            "|  0.8846045451051728|  0.9847972972972973|\n",
            "|  0.8928287771258743|  0.9856418918918919|\n",
            "|   0.906612692475212|  0.9890202702702703|\n",
            "|  0.9155543029899311|  0.9923986486486487|\n",
            "|  0.9269042555917092|  0.9940878378378378|\n",
            "|  0.9345264020906459|  0.9966216216216216|\n",
            "|  0.9420460659475801|  0.9974662162162162|\n",
            "|  0.9499628500422741|  0.9974662162162162|\n",
            "|  0.9565986011119366|  0.9991554054054054|\n",
            "|  0.9656426942686582|  0.9991554054054054|\n",
            "|  0.9774025774384464|  0.9991554054054054|\n",
            "|  0.9849991032768824|                 1.0|\n",
            "|  0.9919038712818017|                 1.0|\n",
            "|                 1.0|                 1.0|\n",
            "|                 1.0|                 1.0|\n",
            "+--------------------+--------------------+\n",
            "\n"
          ],
          "name": "stdout"
        }
      ]
    },
    {
      "cell_type": "code",
      "metadata": {
        "colab": {
          "base_uri": "https://localhost:8080/",
          "height": 419
        },
        "id": "Be79y_okkNDU",
        "outputId": "4980a18e-57c7-463c-fc6e-d48262aa5667"
      },
      "source": [
        "trainingSummary.roc.toPandas()"
      ],
      "execution_count": 116,
      "outputs": [
        {
          "output_type": "execute_result",
          "data": {
            "text/html": [
              "<div>\n",
              "<style scoped>\n",
              "    .dataframe tbody tr th:only-of-type {\n",
              "        vertical-align: middle;\n",
              "    }\n",
              "\n",
              "    .dataframe tbody tr th {\n",
              "        vertical-align: top;\n",
              "    }\n",
              "\n",
              "    .dataframe thead th {\n",
              "        text-align: right;\n",
              "    }\n",
              "</style>\n",
              "<table border=\"1\" class=\"dataframe\">\n",
              "  <thead>\n",
              "    <tr style=\"text-align: right;\">\n",
              "      <th></th>\n",
              "      <th>FPR</th>\n",
              "      <th>TPR</th>\n",
              "    </tr>\n",
              "  </thead>\n",
              "  <tbody>\n",
              "    <tr>\n",
              "      <th>0</th>\n",
              "      <td>0.000000</td>\n",
              "      <td>0.000000</td>\n",
              "    </tr>\n",
              "    <tr>\n",
              "      <th>1</th>\n",
              "      <td>0.005163</td>\n",
              "      <td>0.030405</td>\n",
              "    </tr>\n",
              "    <tr>\n",
              "      <th>2</th>\n",
              "      <td>0.010440</td>\n",
              "      <td>0.071791</td>\n",
              "    </tr>\n",
              "    <tr>\n",
              "      <th>3</th>\n",
              "      <td>0.016487</td>\n",
              "      <td>0.106419</td>\n",
              "    </tr>\n",
              "    <tr>\n",
              "      <th>4</th>\n",
              "      <td>0.022021</td>\n",
              "      <td>0.128378</td>\n",
              "    </tr>\n",
              "    <tr>\n",
              "      <th>...</th>\n",
              "      <td>...</td>\n",
              "      <td>...</td>\n",
              "    </tr>\n",
              "    <tr>\n",
              "      <th>98</th>\n",
              "      <td>0.977403</td>\n",
              "      <td>0.999155</td>\n",
              "    </tr>\n",
              "    <tr>\n",
              "      <th>99</th>\n",
              "      <td>0.984999</td>\n",
              "      <td>1.000000</td>\n",
              "    </tr>\n",
              "    <tr>\n",
              "      <th>100</th>\n",
              "      <td>0.991904</td>\n",
              "      <td>1.000000</td>\n",
              "    </tr>\n",
              "    <tr>\n",
              "      <th>101</th>\n",
              "      <td>1.000000</td>\n",
              "      <td>1.000000</td>\n",
              "    </tr>\n",
              "    <tr>\n",
              "      <th>102</th>\n",
              "      <td>1.000000</td>\n",
              "      <td>1.000000</td>\n",
              "    </tr>\n",
              "  </tbody>\n",
              "</table>\n",
              "<p>103 rows × 2 columns</p>\n",
              "</div>"
            ],
            "text/plain": [
              "          FPR       TPR\n",
              "0    0.000000  0.000000\n",
              "1    0.005163  0.030405\n",
              "2    0.010440  0.071791\n",
              "3    0.016487  0.106419\n",
              "4    0.022021  0.128378\n",
              "..        ...       ...\n",
              "98   0.977403  0.999155\n",
              "99   0.984999  1.000000\n",
              "100  0.991904  1.000000\n",
              "101  1.000000  1.000000\n",
              "102  1.000000  1.000000\n",
              "\n",
              "[103 rows x 2 columns]"
            ]
          },
          "metadata": {
            "tags": []
          },
          "execution_count": 116
        }
      ]
    },
    {
      "cell_type": "code",
      "metadata": {
        "colab": {
          "base_uri": "https://localhost:8080/"
        },
        "id": "YbpeSOL6kRoE",
        "outputId": "5b3c97d8-df9b-4b87-918f-f410d748baee"
      },
      "source": [
        "trainingSummary.pr.show(120)"
      ],
      "execution_count": 117,
      "outputs": [
        {
          "output_type": "stream",
          "text": [
            "+--------------------+--------------------+\n",
            "|              recall|           precision|\n",
            "+--------------------+--------------------+\n",
            "|                 0.0| 0.08200455580865604|\n",
            "|0.030405405405405407| 0.08200455580865604|\n",
            "| 0.07179054054054054| 0.09444444444444444|\n",
            "| 0.10641891891891891| 0.08917197452229299|\n",
            "| 0.12837837837837837| 0.08123997862105825|\n",
            "|  0.1554054054054054| 0.07763713080168777|\n",
            "| 0.18496621621621623| 0.07356399059455827|\n",
            "| 0.20523648648648649|  0.0685665914221219|\n",
            "| 0.22888513513513514| 0.06742970888280667|\n",
            "|  0.2592905405405405| 0.06739846322722283|\n",
            "| 0.29307432432432434| 0.06463028496926802|\n",
            "| 0.30067567567567566| 0.06016562447186074|\n",
            "| 0.31841216216216217|0.058823529411764705|\n",
            "| 0.34121621621621623|0.057150940727118404|\n",
            "| 0.35557432432432434|0.054668224905856384|\n",
            "|  0.3766891891891892| 0.05431737912556327|\n",
            "|  0.3910472972972973|0.050037825570085376|\n",
            "| 0.40202702702702703|  0.0486359456421784|\n",
            "| 0.41385135135135137| 0.04673342870767763|\n",
            "| 0.43158783783783783|0.045633148776567246|\n",
            "| 0.44932432432432434| 0.04439252336448598|\n",
            "|  0.4721283783783784| 0.04379847998119565|\n",
            "|  0.4856418918918919|0.042936081242532856|\n",
            "| 0.49746621621621623|  0.0422131441267111|\n",
            "|  0.5092905405405406| 0.04158907510862818|\n",
            "|  0.5236486486486487|0.040121659224746004|\n",
            "|   0.535472972972973| 0.03934955312810328|\n",
            "|  0.5430743243243243| 0.03832856461611826|\n",
            "|  0.5472972972972973| 0.03693991563105689|\n",
            "|  0.5591216216216216|0.036455751968720744|\n",
            "|  0.5675675675675675|0.035551793461009416|\n",
            "|  0.5768581081081081| 0.03495930797973077|\n",
            "|  0.5853040540540541| 0.03426621835443038|\n",
            "|  0.5962837837837838|0.033678385727233695|\n",
            "|  0.6140202702702703|  0.0335858819181373|\n",
            "|  0.6258445945945946| 0.03340998241579873|\n",
            "|   0.637668918918919|0.033201407211961305|\n",
            "|  0.6469594594594594| 0.03274763798041982|\n",
            "|             0.65625| 0.03227950646005567|\n",
            "|  0.6680743243243243| 0.03159576592770122|\n",
            "|   0.668918918918919|0.030861551650235748|\n",
            "|  0.6790540540540541| 0.03068819420588572|\n",
            "|  0.6858108108108109| 0.03024997205975487|\n",
            "|  0.6908783783783784|0.029526422177302915|\n",
            "|   0.706081081081081| 0.02936218038774937|\n",
            "|  0.7086148648648649|0.028558785485737627|\n",
            "|  0.7415540540540541|0.027963564558252118|\n",
            "|  0.7415540540540541| 0.02776635780019607|\n",
            "|  0.7533783783783784|0.027078716493124072|\n",
            "|  0.7787162162162162|0.026628927911275416|\n",
            "|  0.7837837837837838| 0.02627034677990092|\n",
            "|  0.7880067567567568| 0.02585132027375246|\n",
            "|  0.7981418918918919| 0.02565216211080648|\n",
            "|  0.8074324324324325|0.025550566602522983|\n",
            "|              0.8125|0.025161509690581434|\n",
            "|  0.8209459459459459| 0.02289051644961496|\n",
            "|  0.8293918918918919| 0.02259497020317066|\n",
            "|  0.8353040540540541| 0.02242579533343915|\n",
            "|  0.8420608108108109|0.022301257101954994|\n",
            "|   0.847972972972973|0.022205020457812672|\n",
            "|  0.8547297297297297|0.022085461132207235|\n",
            "|  0.8614864864864865|0.021987023345045376|\n",
            "|  0.8665540540540541|0.021781127268867422|\n",
            "|  0.8817567567567568|0.021405285711356692|\n",
            "|  0.8885135135135135|0.021112203736779786|\n",
            "|  0.8994932432432432|0.020913518183960412|\n",
            "|  0.9045608108108109| 0.02080581241743725|\n",
            "|  0.9096283783783784| 0.02062665185582411|\n",
            "|  0.9130067567567568|0.020442124770711598|\n",
            "|  0.9155405405405406| 0.02018847543487168|\n",
            "|  0.9197635135135135| 0.01998495164339065|\n",
            "|  0.9273648648648649| 0.01979769567804403|\n",
            "|   0.933277027027027|0.019631531259438235|\n",
            "|  0.9425675675675675|0.019585132146993787|\n",
            "|  0.9459459459459459| 0.01937314052445859|\n",
            "|  0.9484797297297297|0.019236369242364548|\n",
            "|  0.9484797297297297|0.018890458888440317|\n",
            "|  0.9510135135135135|0.018770107853106403|\n",
            "|  0.9586148648648649|0.018724738101130085|\n",
            "|  0.9628378378378378| 0.01858008996675142|\n",
            "|  0.9670608108108109|0.018471317029102405|\n",
            "|  0.9670608108108109| 0.01788000874480777|\n",
            "|  0.9670608108108109|  0.0174990830174838|\n",
            "|  0.9712837837837838|0.017346184593571352|\n",
            "|   0.972972972972973|0.017194799767153754|\n",
            "|  0.9755067567567568|0.017002046133690548|\n",
            "|  0.9797297297297297|0.016888694765960544|\n",
            "|  0.9805743243243243|0.016710325570684244|\n",
            "|  0.9847972972972973|0.016604955853033322|\n",
            "|  0.9856418918918919|0.016468396765589942|\n",
            "|  0.9890202702702703| 0.01627677466883505|\n",
            "|  0.9923986486486487|0.016174547456810517|\n",
            "|  0.9940878378378378|0.016006418886758328|\n",
            "|  0.9966216216216216|0.015917767195909944|\n",
            "|  0.9974662162162162| 0.01580588605307887|\n",
            "|  0.9974662162162162|0.015676228148187477|\n",
            "|  0.9991554054054054|0.015595132947519675|\n",
            "|  0.9991554054054054|0.015451327664798923|\n",
            "|  0.9991554054054054|0.015268259315186949|\n",
            "|                 1.0|0.015164905539545309|\n",
            "|                 1.0|0.015060930623044241|\n",
            "|                 1.0|0.014940817202130075|\n",
            "+--------------------+--------------------+\n",
            "\n"
          ],
          "name": "stdout"
        }
      ]
    },
    {
      "cell_type": "code",
      "metadata": {
        "colab": {
          "base_uri": "https://localhost:8080/"
        },
        "id": "P47ptDHPkViS",
        "outputId": "8ebe2751-7692-49d9-e6d6-9727f9b0cb4f"
      },
      "source": [
        "trainingSummary.areaUnderROC"
      ],
      "execution_count": 118,
      "outputs": [
        {
          "output_type": "execute_result",
          "data": {
            "text/plain": [
              "0.7426757531868292"
            ]
          },
          "metadata": {
            "tags": []
          },
          "execution_count": 118
        }
      ]
    },
    {
      "cell_type": "code",
      "metadata": {
        "colab": {
          "base_uri": "https://localhost:8080/"
        },
        "id": "u4EHN-gmkY1L",
        "outputId": "fe4e1ec8-7ce1-4eaa-f978-7c95693dbf7f"
      },
      "source": [
        "trainingSummary.accuracy"
      ],
      "execution_count": 119,
      "outputs": [
        {
          "output_type": "execute_result",
          "data": {
            "text/plain": [
              "0.9850465638644221"
            ]
          },
          "metadata": {
            "tags": []
          },
          "execution_count": 119
        }
      ]
    },
    {
      "cell_type": "code",
      "metadata": {
        "colab": {
          "base_uri": "https://localhost:8080/"
        },
        "id": "ayCM-Yofkah1",
        "outputId": "2bc52257-839e-4609-a764-9024ce5dfed0"
      },
      "source": [
        "trainingSummary.predictions.show()"
      ],
      "execution_count": 120,
      "outputs": [
        {
          "output_type": "stream",
          "text": [
            "+-----+--------------------+--------------------+--------------------+----------+\n",
            "|label|            features|       rawPrediction|         probability|prediction|\n",
            "+-----+--------------------+--------------------+--------------------+----------+\n",
            "|  0.0|(60,[1,3,23,28,57...|[4.52893029620545...|[0.98932301394928...|       0.0|\n",
            "|  0.0|(60,[0,1,2,9,23,2...|[3.44250890370919...|[0.96900695316251...|       0.0|\n",
            "|  0.0|(60,[0,1,2,3,22,3...|[3.51551344611666...|[0.97112596521096...|       0.0|\n",
            "|  0.0|(60,[0,1,2,3,22,3...|[3.25936071318807...|[0.96300802376454...|       0.0|\n",
            "|  0.0|(60,[0,1,2,3,22,3...|[3.29031707276910...|[0.96409513143118...|       0.0|\n",
            "|  0.0|(60,[0,1,2,15,22,...|[2.71518286695016...|[0.93791662776904...|       0.0|\n",
            "|  0.0|(60,[1,3,22,29,57...|[4.48528041771132...|[0.98885195428468...|       0.0|\n",
            "|  0.0|(60,[0,1,2,3,22,3...|[4.19825877845019...|[0.98520060207913...|       0.0|\n",
            "|  0.0|(60,[0,2,7,21,24,...|[2.51572044705789...|[0.92523655980222...|       0.0|\n",
            "|  0.0|(60,[1,2,4,22,29,...|[5.03511124699594...|[0.99353657329468...|       0.0|\n",
            "|  0.0|(60,[0,1,2,4,22,2...|[4.20412315125874...|[0.98528586398982...|       0.0|\n",
            "|  0.0|(60,[1,3,22,28,57...|[4.20476269442433...|[0.98529513297309...|       0.0|\n",
            "|  0.0|(60,[1,3,22,29,57...|[4.51778787813863...|[0.98920467272013...|       0.0|\n",
            "|  0.0|(60,[0,1,2,8,22,2...|[3.32361655838521...|[0.96523017080841...|       0.0|\n",
            "|  0.0|(60,[1,3,22,36,57...|[6.24819075017017...|[0.99806978297165...|       0.0|\n",
            "|  0.0|(60,[0,1,2,3,22,3...|[4.43789481216887...|[0.98831730146871...|       0.0|\n",
            "|  0.0|(60,[0,1,2,11,25,...|[4.20318022546858...|[0.98527218754322...|       0.0|\n",
            "|  0.0|(60,[1,3,22,28,57...|[4.05768773604055...|[0.98300487825476...|       0.0|\n",
            "|  0.0|(60,[1,3,25,29,57...|[4.63970530332493...|[0.99043188902011...|       0.0|\n",
            "|  0.0|(60,[0,1,2,3,25,2...|[3.80570957964808...|[0.97824059522508...|       0.0|\n",
            "+-----+--------------------+--------------------+--------------------+----------+\n",
            "only showing top 20 rows\n",
            "\n"
          ],
          "name": "stdout"
        }
      ]
    },
    {
      "cell_type": "code",
      "metadata": {
        "id": "R8CwtlxuKQnH"
      },
      "source": [
        "svm = classification.LinearSVC(maxIter=1000)"
      ],
      "execution_count": 121,
      "outputs": []
    },
    {
      "cell_type": "code",
      "metadata": {
        "id": "6JLg1BGnKQkl"
      },
      "source": [
        "svmModel = svm.fit(df_train)"
      ],
      "execution_count": 122,
      "outputs": []
    },
    {
      "cell_type": "code",
      "metadata": {
        "colab": {
          "base_uri": "https://localhost:8080/"
        },
        "id": "HGuGaT9JKQic",
        "outputId": "48a62436-0fe5-4570-86ae-6a82f315f488"
      },
      "source": [
        "svmModel.coefficients"
      ],
      "execution_count": 123,
      "outputs": [
        {
          "output_type": "execute_result",
          "data": {
            "text/plain": [
              "DenseVector([0.0135, -0.0586, -0.126, -0.1923, -0.0549, -0.0369, -0.0323, -0.027, -0.0268, -0.0255, -0.0229, -0.0184, -0.0163, -0.0134, -0.012, -0.0098, -0.0091, -0.0086, -0.0081, -0.0062, -0.0052, -0.0001, -0.0475, -0.0995, -0.0874, -0.0122, -0.0174, -0.0188, -0.0943, -0.0869, -0.0459, -0.0407, -0.0276, -0.0262, -0.0228, -0.0178, -0.017, -0.0162, -0.0141, -0.0132, -0.011, -0.0092, -0.0064, -0.0048, -0.0041, -0.0033, -0.0021, -0.0021, -0.0015, -0.0028, -0.0012, -0.0033, -0.0011, -0.001, -0.0015, -0.0008, -0.0008, 0.0, -0.0, 0.0005])"
            ]
          },
          "metadata": {
            "tags": []
          },
          "execution_count": 123
        }
      ]
    },
    {
      "cell_type": "code",
      "metadata": {
        "colab": {
          "base_uri": "https://localhost:8080/"
        },
        "id": "yr8wUzArKQfQ",
        "outputId": "62cfae79-123a-4fd7-f198-bfcceb6ce7a2"
      },
      "source": [
        "svmModel.intercept"
      ],
      "execution_count": 124,
      "outputs": [
        {
          "output_type": "execute_result",
          "data": {
            "text/plain": [
              "-0.17921073436598828"
            ]
          },
          "metadata": {
            "tags": []
          },
          "execution_count": 124
        }
      ]
    },
    {
      "cell_type": "code",
      "metadata": {
        "colab": {
          "base_uri": "https://localhost:8080/"
        },
        "id": "LY2Jlmg4KQYS",
        "outputId": "5e77361c-c1c3-46ab-eb36-7a7576a27dec"
      },
      "source": [
        "svmModel.transform(df_eval).show()"
      ],
      "execution_count": 125,
      "outputs": [
        {
          "output_type": "stream",
          "text": [
            "+-----+--------------------+--------------------+----------+\n",
            "|label|            features|       rawPrediction|prediction|\n",
            "+-----+--------------------+--------------------+----------+\n",
            "|  0.0|(60,[1,3,23,28,57...|[1.13266117198462...|       0.0|\n",
            "|  0.0|(60,[0,1,2,9,23,2...|[1.13323515354294...|       0.0|\n",
            "|  0.0|(60,[0,1,2,3,22,3...|[1.23710325623638...|       0.0|\n",
            "|  0.0|(60,[0,1,2,3,22,3...|[1.23686512553237...|       0.0|\n",
            "|  0.0|(60,[0,1,2,3,22,3...|[1.23758211818126...|       0.0|\n",
            "|  0.0|(60,[0,1,2,15,22,...|[1.00000466269413...|       0.0|\n",
            "|  0.0|(60,[1,3,22,29,57...|[1.00000571439930...|       0.0|\n",
            "|  0.0|(60,[0,1,2,3,22,3...|[1.23688388784783...|       0.0|\n",
            "|  0.0|(60,[0,2,7,21,24,...|[1.01421686134092...|       0.0|\n",
            "|  0.0|(60,[1,2,4,22,29,...|[1.02783488622622...|       0.0|\n",
            "|  0.0|(60,[0,1,2,4,22,2...|[1.00001111983164...|       0.0|\n",
            "|  0.0|(60,[1,3,22,28,57...|[1.01445984616857...|       0.0|\n",
            "|  0.0|(60,[1,3,22,29,57...|[1.00024592495157...|       0.0|\n",
            "|  0.0|(60,[0,1,2,8,22,2...|[0.99999332035832...|       0.0|\n",
            "|  0.0|(60,[1,3,22,36,57...|[1.00106736149065...|       0.0|\n",
            "|  0.0|(60,[0,1,2,3,22,3...|[1.23736265240405...|       0.0|\n",
            "|  0.0|(60,[0,1,2,11,25,...|[1.01421876086860...|       0.0|\n",
            "|  0.0|(60,[1,3,22,28,57...|[1.01422071363018...|       0.0|\n",
            "|  0.0|(60,[1,3,25,29,57...|[1.00000775312967...|       0.0|\n",
            "|  0.0|(60,[0,1,2,3,25,2...|[1.23686689044386...|       0.0|\n",
            "+-----+--------------------+--------------------+----------+\n",
            "only showing top 20 rows\n",
            "\n"
          ],
          "name": "stdout"
        }
      ]
    },
    {
      "cell_type": "code",
      "metadata": {
        "id": "SJbe_fD0KQU4"
      },
      "source": [
        ""
      ],
      "execution_count": null,
      "outputs": []
    },
    {
      "cell_type": "markdown",
      "metadata": {
        "id": "c5KqtuQXLiwu"
      },
      "source": [
        "DRZEWO DECYZYJNE"
      ]
    },
    {
      "cell_type": "code",
      "metadata": {
        "id": "OJppaixrvH_q"
      },
      "source": [
        "tree = classification.DecisionTreeClassifier()"
      ],
      "execution_count": 126,
      "outputs": []
    },
    {
      "cell_type": "code",
      "metadata": {
        "id": "oLD_kPZKLlU3"
      },
      "source": [
        "treeModel = tree.fit(df_train)"
      ],
      "execution_count": 127,
      "outputs": []
    },
    {
      "cell_type": "code",
      "metadata": {
        "colab": {
          "base_uri": "https://localhost:8080/"
        },
        "id": "qE33jMiULm25",
        "outputId": "107643db-58da-4ae7-866b-48882accc00a"
      },
      "source": [
        "treeModel.depth"
      ],
      "execution_count": 128,
      "outputs": [
        {
          "output_type": "execute_result",
          "data": {
            "text/plain": [
              "5"
            ]
          },
          "metadata": {
            "tags": []
          },
          "execution_count": 128
        }
      ]
    },
    {
      "cell_type": "code",
      "metadata": {
        "colab": {
          "base_uri": "https://localhost:8080/"
        },
        "id": "Z96900ihLsSp",
        "outputId": "8987bef5-9da2-4e66-a3f6-fc87d0c1e0b5"
      },
      "source": [
        "treeModel.numNodes"
      ],
      "execution_count": 129,
      "outputs": [
        {
          "output_type": "execute_result",
          "data": {
            "text/plain": [
              "15"
            ]
          },
          "metadata": {
            "tags": []
          },
          "execution_count": 129
        }
      ]
    },
    {
      "cell_type": "code",
      "metadata": {
        "colab": {
          "base_uri": "https://localhost:8080/"
        },
        "id": "EIdAlT3gLtu9",
        "outputId": "9f776872-3065-4a81-80e4-a667b9a06824"
      },
      "source": [
        "print(treeModel.toDebugString)"
      ],
      "execution_count": 130,
      "outputs": [
        {
          "output_type": "stream",
          "text": [
            "DecisionTreeClassificationModel: uid=DecisionTreeClassifier_8c87164e2d4c, depth=5, numNodes=15, numClasses=2, numFeatures=60\n",
            "  If (feature 57 <= 0.015542318662684716)\n",
            "   Predict: 0.0\n",
            "  Else (feature 57 > 0.015542318662684716)\n",
            "   If (feature 33 <= 3.4273897943968925)\n",
            "    If (feature 21 <= 1.2003679031581753)\n",
            "     Predict: 0.0\n",
            "    Else (feature 21 > 1.2003679031581753)\n",
            "     If (feature 59 <= 0.7452165304263637)\n",
            "      Predict: 0.0\n",
            "     Else (feature 59 > 0.7452165304263637)\n",
            "      If (feature 1 <= 1.1428243567584642)\n",
            "       Predict: 1.0\n",
            "      Else (feature 1 > 1.1428243567584642)\n",
            "       Predict: 0.0\n",
            "   Else (feature 33 > 3.4273897943968925)\n",
            "    If (feature 57 <= 0.04848653095083681)\n",
            "     Predict: 0.0\n",
            "    Else (feature 57 > 0.04848653095083681)\n",
            "     If (feature 59 <= 2.235649591279091)\n",
            "      Predict: 0.0\n",
            "     Else (feature 59 > 2.235649591279091)\n",
            "      Predict: 1.0\n",
            "\n"
          ],
          "name": "stdout"
        }
      ]
    },
    {
      "cell_type": "markdown",
      "metadata": {
        "id": "DP5fRQSuL5uw"
      },
      "source": [
        "RANDOM FORREST"
      ]
    },
    {
      "cell_type": "code",
      "metadata": {
        "id": "j864NN5FL5do"
      },
      "source": [
        "forest = classification.RandomForestClassifier()"
      ],
      "execution_count": 131,
      "outputs": []
    },
    {
      "cell_type": "code",
      "metadata": {
        "id": "AyiCylaGL5Z2"
      },
      "source": [
        "forestModel = forest.fit(df_train)"
      ],
      "execution_count": 132,
      "outputs": []
    },
    {
      "cell_type": "code",
      "metadata": {
        "colab": {
          "base_uri": "https://localhost:8080/"
        },
        "id": "UH6KMrt_L5IR",
        "outputId": "3fd111dd-1ac5-4685-e2c2-42ce869a375a"
      },
      "source": [
        "forestModel.featureImportances"
      ],
      "execution_count": 133,
      "outputs": [
        {
          "output_type": "execute_result",
          "data": {
            "text/plain": [
              "SparseVector(60, {0: 0.0091, 1: 0.0175, 2: 0.0317, 3: 0.0191, 4: 0.017, 5: 0.0242, 6: 0.004, 7: 0.0368, 8: 0.0217, 9: 0.0196, 10: 0.0911, 15: 0.0102, 21: 0.0729, 22: 0.0028, 24: 0.0407, 25: 0.0667, 26: 0.0011, 27: 0.0179, 30: 0.004, 34: 0.0133, 43: 0.0034, 46: 0.0347, 57: 0.1807, 58: 0.1422, 59: 0.1177})"
            ]
          },
          "metadata": {
            "tags": []
          },
          "execution_count": 133
        }
      ]
    },
    {
      "cell_type": "code",
      "metadata": {
        "colab": {
          "base_uri": "https://localhost:8080/"
        },
        "id": "sVCtW-BSMG1c",
        "outputId": "0deda07a-a69a-46a1-a363-2056feeba824"
      },
      "source": [
        "print(forestModel.toDebugString)"
      ],
      "execution_count": 134,
      "outputs": [
        {
          "output_type": "stream",
          "text": [
            "RandomForestClassificationModel: uid=RandomForestClassifier_2ef3c5cdcd12, numTrees=20, numClasses=2, numFeatures=60\n",
            "  Tree 0 (weight 1.0):\n",
            "    If (feature 59 <= 1.7388385709948486)\n",
            "     Predict: 0.0\n",
            "    Else (feature 59 > 1.7388385709948486)\n",
            "     If (feature 7 <= 3.2786193881591643)\n",
            "      If (feature 4 <= 1.6120399576642956)\n",
            "       If (feature 10 <= 3.85683737342877)\n",
            "        Predict: 0.0\n",
            "       Else (feature 10 > 3.85683737342877)\n",
            "        If (feature 58 <= 5.655318936141717E-6)\n",
            "         Predict: 1.0\n",
            "        Else (feature 58 > 5.655318936141717E-6)\n",
            "         Predict: 0.0\n",
            "      Else (feature 4 > 1.6120399576642956)\n",
            "       Predict: 0.0\n",
            "     Else (feature 7 > 3.2786193881591643)\n",
            "      Predict: 0.0\n",
            "  Tree 1 (weight 1.0):\n",
            "    Predict: 0.0\n",
            "  Tree 2 (weight 1.0):\n",
            "    If (feature 34 <= 3.934701902436823)\n",
            "     Predict: 0.0\n",
            "    Else (feature 34 > 3.934701902436823)\n",
            "     If (feature 57 <= 0.015963053045672297)\n",
            "      If (feature 7 <= 3.2786193881591643)\n",
            "       Predict: 0.0\n",
            "      Else (feature 7 > 3.2786193881591643)\n",
            "       If (feature 0 <= 1.0116004576479871)\n",
            "        Predict: 0.0\n",
            "       Else (feature 0 > 1.0116004576479871)\n",
            "        If (feature 57 <= 0.013302174360860012)\n",
            "         Predict: 1.0\n",
            "        Else (feature 57 > 0.013302174360860012)\n",
            "         Predict: 0.0\n",
            "     Else (feature 57 > 0.015963053045672297)\n",
            "      Predict: 0.0\n",
            "  Tree 3 (weight 1.0):\n",
            "    If (feature 21 <= 1.2003679031581753)\n",
            "     Predict: 0.0\n",
            "    Else (feature 21 > 1.2003679031581753)\n",
            "     If (feature 5 <= 2.3978760872560727)\n",
            "      If (feature 46 <= 42.44140382721147)\n",
            "       Predict: 0.0\n",
            "      Else (feature 46 > 42.44140382721147)\n",
            "       If (feature 58 <= 0.29549041441340473)\n",
            "        Predict: 0.0\n",
            "       Else (feature 58 > 0.29549041441340473)\n",
            "        Predict: 1.0\n",
            "     Else (feature 5 > 2.3978760872560727)\n",
            "      Predict: 0.0\n",
            "  Tree 4 (weight 1.0):\n",
            "    If (feature 15 <= 8.988009340327899)\n",
            "     Predict: 0.0\n",
            "    Else (feature 15 > 8.988009340327899)\n",
            "     If (feature 25 <= 3.9140521995706767)\n",
            "      Predict: 0.0\n",
            "     Else (feature 25 > 3.9140521995706767)\n",
            "      Predict: 1.0\n",
            "  Tree 5 (weight 1.0):\n",
            "    If (feature 8 <= 3.30347415833081)\n",
            "     If (feature 46 <= 42.44140382721147)\n",
            "      Predict: 0.0\n",
            "     Else (feature 46 > 42.44140382721147)\n",
            "      If (feature 59 <= 1.2420275507106062)\n",
            "       If (feature 6 <= 2.7371463049759646)\n",
            "        If (feature 59 <= 0.24840551014212123)\n",
            "         Predict: 0.0\n",
            "        Else (feature 59 > 0.24840551014212123)\n",
            "         Predict: 1.0\n",
            "       Else (feature 6 > 2.7371463049759646)\n",
            "        Predict: 0.0\n",
            "      Else (feature 59 > 1.2420275507106062)\n",
            "       Predict: 0.0\n",
            "    Else (feature 8 > 3.30347415833081)\n",
            "     Predict: 0.0\n",
            "  Tree 6 (weight 1.0):\n",
            "    If (feature 57 <= 0.014878818765462737)\n",
            "     If (feature 7 <= 3.2786193881591643)\n",
            "      Predict: 0.0\n",
            "     Else (feature 7 > 3.2786193881591643)\n",
            "      If (feature 59 <= 2.235649591279091)\n",
            "       Predict: 0.0\n",
            "      Else (feature 59 > 2.235649591279091)\n",
            "       If (feature 58 <= 0.5938084882948802)\n",
            "        If (feature 57 <= 0.012423203426780997)\n",
            "         Predict: 0.0\n",
            "        Else (feature 57 > 0.012423203426780997)\n",
            "         Predict: 1.0\n",
            "       Else (feature 58 > 0.5938084882948802)\n",
            "        Predict: 0.0\n",
            "    Else (feature 57 > 0.014878818765462737)\n",
            "     Predict: 0.0\n",
            "  Tree 7 (weight 1.0):\n",
            "    Predict: 0.0\n",
            "  Tree 8 (weight 1.0):\n",
            "    Predict: 0.0\n",
            "  Tree 9 (weight 1.0):\n",
            "    Predict: 0.0\n",
            "  Tree 10 (weight 1.0):\n",
            "    If (feature 2 <= 1.048244214566927)\n",
            "     Predict: 0.0\n",
            "    Else (feature 2 > 1.048244214566927)\n",
            "     If (feature 59 <= 0.24840551014212123)\n",
            "      Predict: 0.0\n",
            "     Else (feature 59 > 0.24840551014212123)\n",
            "      If (feature 21 <= 1.2003679031581753)\n",
            "       Predict: 0.0\n",
            "      Else (feature 21 > 1.2003679031581753)\n",
            "       If (feature 59 <= 2.235649591279091)\n",
            "        Predict: 0.0\n",
            "       Else (feature 59 > 2.235649591279091)\n",
            "        If (feature 1 <= 1.1428243567584642)\n",
            "         Predict: 1.0\n",
            "        Else (feature 1 > 1.1428243567584642)\n",
            "         Predict: 0.0\n",
            "  Tree 11 (weight 1.0):\n",
            "    If (feature 58 <= 0.5938084882948802)\n",
            "     Predict: 0.0\n",
            "    Else (feature 58 > 0.5938084882948802)\n",
            "     If (feature 24 <= 1.3033788341206742)\n",
            "      Predict: 0.0\n",
            "     Else (feature 24 > 1.3033788341206742)\n",
            "      If (feature 7 <= 3.2786193881591643)\n",
            "       If (feature 57 <= 0.03040116585933475)\n",
            "        If (feature 3 <= 1.0757033037872765)\n",
            "         Predict: 1.0\n",
            "        Else (feature 3 > 1.0757033037872765)\n",
            "         Predict: 0.0\n",
            "       Else (feature 57 > 0.03040116585933475)\n",
            "        Predict: 1.0\n",
            "      Else (feature 7 > 3.2786193881591643)\n",
            "       Predict: 0.0\n",
            "  Tree 12 (weight 1.0):\n",
            "    If (feature 58 <= 0.32376700909411327)\n",
            "     Predict: 0.0\n",
            "    Else (feature 58 > 0.32376700909411327)\n",
            "     If (feature 59 <= 0.7452165304263637)\n",
            "      If (feature 24 <= 1.3033788341206742)\n",
            "       Predict: 0.0\n",
            "      Else (feature 24 > 1.3033788341206742)\n",
            "       Predict: 1.0\n",
            "     Else (feature 59 > 0.7452165304263637)\n",
            "      Predict: 0.0\n",
            "  Tree 13 (weight 1.0):\n",
            "    If (feature 1 <= 1.1428243567584642)\n",
            "     Predict: 0.0\n",
            "    Else (feature 1 > 1.1428243567584642)\n",
            "     If (feature 21 <= 1.2003679031581753)\n",
            "      Predict: 0.0\n",
            "     Else (feature 21 > 1.2003679031581753)\n",
            "      If (feature 4 <= 1.6120399576642956)\n",
            "       If (feature 0 <= 1.0116004576479871)\n",
            "        Predict: 0.0\n",
            "       Else (feature 0 > 1.0116004576479871)\n",
            "        If (feature 27 <= 6.055531672071067)\n",
            "         Predict: 0.0\n",
            "        Else (feature 27 > 6.055531672071067)\n",
            "         Predict: 1.0\n",
            "      Else (feature 4 > 1.6120399576642956)\n",
            "       Predict: 0.0\n",
            "  Tree 14 (weight 1.0):\n",
            "    Predict: 0.0\n",
            "  Tree 15 (weight 1.0):\n",
            "    If (feature 9 <= 3.4720084122510118)\n",
            "     If (feature 10 <= 3.85683737342877)\n",
            "      Predict: 0.0\n",
            "     Else (feature 10 > 3.85683737342877)\n",
            "      If (feature 59 <= 1.7388385709948486)\n",
            "       Predict: 0.0\n",
            "      Else (feature 59 > 1.7388385709948486)\n",
            "       If (feature 22 <= 1.001746593526781)\n",
            "        Predict: 0.0\n",
            "       Else (feature 22 > 1.001746593526781)\n",
            "        If (feature 58 <= 5.655318936141717E-6)\n",
            "         Predict: 1.0\n",
            "        Else (feature 58 > 5.655318936141717E-6)\n",
            "         Predict: 0.0\n",
            "    Else (feature 9 > 3.4720084122510118)\n",
            "     Predict: 0.0\n",
            "  Tree 16 (weight 1.0):\n",
            "    If (feature 7 <= 3.2786193881591643)\n",
            "     If (feature 59 <= 0.7452165304263637)\n",
            "      If (feature 43 <= 18.649824832043745)\n",
            "       Predict: 0.0\n",
            "      Else (feature 43 > 18.649824832043745)\n",
            "       If (feature 57 <= 0.013302174360860012)\n",
            "        Predict: 0.0\n",
            "       Else (feature 57 > 0.013302174360860012)\n",
            "        Predict: 1.0\n",
            "     Else (feature 59 > 0.7452165304263637)\n",
            "      If (feature 2 <= 1.048244214566927)\n",
            "       Predict: 0.0\n",
            "      Else (feature 2 > 1.048244214566927)\n",
            "       If (feature 10 <= 3.85683737342877)\n",
            "        If (feature 46 <= 42.44140382721147)\n",
            "         Predict: 0.0\n",
            "        Else (feature 46 > 42.44140382721147)\n",
            "         Predict: 1.0\n",
            "       Else (feature 10 > 3.85683737342877)\n",
            "        Predict: 0.0\n",
            "    Else (feature 7 > 3.2786193881591643)\n",
            "     If (feature 57 <= 0.05536562687521183)\n",
            "      If (feature 0 <= 1.0116004576479871)\n",
            "       If (feature 30 <= 1.951245211168832)\n",
            "        Predict: 0.0\n",
            "       Else (feature 30 > 1.951245211168832)\n",
            "        If (feature 59 <= 0.24840551014212123)\n",
            "         Predict: 0.0\n",
            "        Else (feature 59 > 0.24840551014212123)\n",
            "         Predict: 1.0\n",
            "      Else (feature 0 > 1.0116004576479871)\n",
            "       If (feature 26 <= 5.612489772160812)\n",
            "        If (feature 58 <= 2.829073297804894)\n",
            "         Predict: 0.0\n",
            "        Else (feature 58 > 2.829073297804894)\n",
            "         Predict: 1.0\n",
            "       Else (feature 26 > 5.612489772160812)\n",
            "        Predict: 0.0\n",
            "     Else (feature 57 > 0.05536562687521183)\n",
            "      Predict: 0.0\n",
            "  Tree 17 (weight 1.0):\n",
            "    If (feature 10 <= 3.85683737342877)\n",
            "     If (feature 59 <= 0.7452165304263637)\n",
            "      If (feature 57 <= 0.013749315595944387)\n",
            "       Predict: 0.0\n",
            "      Else (feature 57 > 0.013749315595944387)\n",
            "       If (feature 43 <= 18.649824832043745)\n",
            "        Predict: 0.0\n",
            "       Else (feature 43 > 18.649824832043745)\n",
            "        If (feature 57 <= 0.02119205357347787)\n",
            "         Predict: 0.0\n",
            "        Else (feature 57 > 0.02119205357347787)\n",
            "         Predict: 1.0\n",
            "     Else (feature 59 > 0.7452165304263637)\n",
            "      Predict: 0.0\n",
            "    Else (feature 10 > 3.85683737342877)\n",
            "     Predict: 0.0\n",
            "  Tree 18 (weight 1.0):\n",
            "    Predict: 0.0\n",
            "  Tree 19 (weight 1.0):\n",
            "    Predict: 0.0\n",
            "\n"
          ],
          "name": "stdout"
        }
      ]
    },
    {
      "cell_type": "markdown",
      "metadata": {
        "id": "XE7vGnMIXHSR"
      },
      "source": [
        "Naiwny Bayes"
      ]
    },
    {
      "cell_type": "code",
      "metadata": {
        "id": "AvRll9AeXHE9"
      },
      "source": [
        "bayes = classification.NaiveBayes()"
      ],
      "execution_count": 137,
      "outputs": []
    },
    {
      "cell_type": "code",
      "metadata": {
        "id": "l85XGK4dXGz2"
      },
      "source": [
        "bayesModel = bayes.fit(df_train)"
      ],
      "execution_count": 138,
      "outputs": []
    },
    {
      "cell_type": "code",
      "metadata": {
        "id": "upvUVd0FW45C"
      },
      "source": [
        "PREDYKCJE"
      ],
      "execution_count": null,
      "outputs": []
    },
    {
      "cell_type": "code",
      "metadata": {
        "id": "hKwrqxF_LvLu",
        "colab": {
          "base_uri": "https://localhost:8080/"
        },
        "outputId": "a593c03a-7c2b-4757-e64e-4cf5ec5aefb2"
      },
      "source": [
        "\r\n",
        "treeModel.transform(df_eval).show()\r\n"
      ],
      "execution_count": 135,
      "outputs": [
        {
          "output_type": "stream",
          "text": [
            "+-----+--------------------+---------------+--------------------+----------+\n",
            "|label|            features|  rawPrediction|         probability|prediction|\n",
            "+-----+--------------------+---------------+--------------------+----------+\n",
            "|  0.0|(60,[1,3,23,28,57...|[56476.0,322.0]|[0.99433078629529...|       0.0|\n",
            "|  0.0|(60,[0,1,2,9,23,2...|[56476.0,322.0]|[0.99433078629529...|       0.0|\n",
            "|  0.0|(60,[0,1,2,3,22,3...|[56476.0,322.0]|[0.99433078629529...|       0.0|\n",
            "|  0.0|(60,[0,1,2,3,22,3...|[56476.0,322.0]|[0.99433078629529...|       0.0|\n",
            "|  0.0|(60,[0,1,2,3,22,3...|[15881.0,574.0]|[0.96511698571862...|       0.0|\n",
            "|  0.0|(60,[0,1,2,15,22,...|[15881.0,574.0]|[0.96511698571862...|       0.0|\n",
            "|  0.0|(60,[1,3,22,29,57...|[15881.0,574.0]|[0.96511698571862...|       0.0|\n",
            "|  0.0|(60,[0,1,2,3,22,3...|[56476.0,322.0]|[0.99433078629529...|       0.0|\n",
            "|  0.0|(60,[0,2,7,21,24,...| [2315.0,112.0]|[0.95385249278945...|       0.0|\n",
            "|  0.0|(60,[1,2,4,22,29,...|[56476.0,322.0]|[0.99433078629529...|       0.0|\n",
            "|  0.0|(60,[0,1,2,4,22,2...|[56476.0,322.0]|[0.99433078629529...|       0.0|\n",
            "|  0.0|(60,[1,3,22,28,57...|[56476.0,322.0]|[0.99433078629529...|       0.0|\n",
            "|  0.0|(60,[1,3,22,29,57...|[56476.0,322.0]|[0.99433078629529...|       0.0|\n",
            "|  0.0|(60,[0,1,2,8,22,2...|[56476.0,322.0]|[0.99433078629529...|       0.0|\n",
            "|  0.0|(60,[1,3,22,36,57...|[56476.0,322.0]|[0.99433078629529...|       0.0|\n",
            "|  0.0|(60,[0,1,2,3,22,3...|[15881.0,574.0]|[0.96511698571862...|       0.0|\n",
            "|  0.0|(60,[0,1,2,11,25,...|[56476.0,322.0]|[0.99433078629529...|       0.0|\n",
            "|  0.0|(60,[1,3,22,28,57...|[56476.0,322.0]|[0.99433078629529...|       0.0|\n",
            "|  0.0|(60,[1,3,25,29,57...|[56476.0,322.0]|[0.99433078629529...|       0.0|\n",
            "|  0.0|(60,[0,1,2,3,25,2...|[56476.0,322.0]|[0.99433078629529...|       0.0|\n",
            "+-----+--------------------+---------------+--------------------+----------+\n",
            "only showing top 20 rows\n",
            "\n"
          ],
          "name": "stdout"
        }
      ]
    },
    {
      "cell_type": "code",
      "metadata": {
        "id": "s3ixf54kLyES",
        "colab": {
          "base_uri": "https://localhost:8080/"
        },
        "outputId": "303eb240-5b3c-4f87-dac8-15c00e0e637e"
      },
      "source": [
        "forestModel.transform(df_eval).show()"
      ],
      "execution_count": 136,
      "outputs": [
        {
          "output_type": "stream",
          "text": [
            "+-----+--------------------+--------------------+--------------------+----------+\n",
            "|label|            features|       rawPrediction|         probability|prediction|\n",
            "+-----+--------------------+--------------------+--------------------+----------+\n",
            "|  0.0|(60,[1,3,23,28,57...|[19.7009913821294...|[0.98504956910647...|       0.0|\n",
            "|  0.0|(60,[0,1,2,9,23,2...|[19.6356305875425...|[0.98178152937712...|       0.0|\n",
            "|  0.0|(60,[0,1,2,3,22,3...|[19.6806361109751...|[0.98403180554875...|       0.0|\n",
            "|  0.0|(60,[0,1,2,3,22,3...|[19.6489318135976...|[0.98244659067988...|       0.0|\n",
            "|  0.0|(60,[0,1,2,3,22,3...|[19.5569498156255...|[0.97784749078127...|       0.0|\n",
            "|  0.0|(60,[0,1,2,15,22,...|[19.6291488309325...|[0.98145744154662...|       0.0|\n",
            "|  0.0|(60,[1,3,22,29,57...|[19.6966208583458...|[0.98483104291729...|       0.0|\n",
            "|  0.0|(60,[0,1,2,3,22,3...|[19.6955195246363...|[0.98477597623181...|       0.0|\n",
            "|  0.0|(60,[0,2,7,21,24,...|[19.6238707295942...|[0.98119353647971...|       0.0|\n",
            "|  0.0|(60,[1,2,4,22,29,...|[19.6885821754141...|[0.98442910877070...|       0.0|\n",
            "|  0.0|(60,[0,1,2,4,22,2...|[19.6868332876144...|[0.98434166438072...|       0.0|\n",
            "|  0.0|(60,[1,3,22,28,57...|[19.7158747957906...|[0.98579373978953...|       0.0|\n",
            "|  0.0|(60,[1,3,22,29,57...|[19.7009913821294...|[0.98504956910647...|       0.0|\n",
            "|  0.0|(60,[0,1,2,8,22,2...|[19.6764016731072...|[0.98382008365536...|       0.0|\n",
            "|  0.0|(60,[1,3,22,36,57...|[19.7522206992581...|[0.98761103496290...|       0.0|\n",
            "|  0.0|(60,[0,1,2,3,22,3...|[19.6568778780366...|[0.98284389390183...|       0.0|\n",
            "|  0.0|(60,[0,1,2,11,25,...|[19.6806361109751...|[0.98403180554875...|       0.0|\n",
            "|  0.0|(60,[1,3,22,28,57...|[19.7283251557233...|[0.98641625778616...|       0.0|\n",
            "|  0.0|(60,[1,3,25,29,57...|[19.7009913821294...|[0.98504956910647...|       0.0|\n",
            "|  0.0|(60,[0,1,2,3,25,2...|[19.6806361109751...|[0.98403180554875...|       0.0|\n",
            "+-----+--------------------+--------------------+--------------------+----------+\n",
            "only showing top 20 rows\n",
            "\n"
          ],
          "name": "stdout"
        }
      ]
    },
    {
      "cell_type": "code",
      "metadata": {
        "colab": {
          "base_uri": "https://localhost:8080/"
        },
        "id": "hoQ2RUHEW3X3",
        "outputId": "3a03905a-59c5-49a2-80e5-15f79d76d244"
      },
      "source": [
        "bayesModel.transform(df_eval).show()"
      ],
      "execution_count": 139,
      "outputs": [
        {
          "output_type": "stream",
          "text": [
            "+-----+--------------------+--------------------+--------------------+----------+\n",
            "|label|            features|       rawPrediction|         probability|prediction|\n",
            "+-----+--------------------+--------------------+--------------------+----------+\n",
            "|  0.0|(60,[1,3,23,28,57...|[-32.367599319720...|[0.99465476100842...|       0.0|\n",
            "|  0.0|(60,[0,1,2,9,23,2...|[-65.376974671808...|[0.03767536752379...|       1.0|\n",
            "|  0.0|(60,[0,1,2,3,22,3...|[-55.279786923082...|[0.95319274609915...|       0.0|\n",
            "|  0.0|(60,[0,1,2,3,22,3...|[-60.252236854786...|[0.93751479254097...|       0.0|\n",
            "|  0.0|(60,[0,1,2,3,22,3...|[-71.417918611679...|[0.12952716212952...|       1.0|\n",
            "|  0.0|(60,[0,1,2,15,22,...|[-150.55748060802...|[9.24402237742013...|       1.0|\n",
            "|  0.0|(60,[1,3,22,29,57...|[-28.813951492051...|[0.99288125040321...|       0.0|\n",
            "|  0.0|(60,[0,1,2,3,22,3...|[-50.350442208693...|[0.99933938545627...|       0.0|\n",
            "|  0.0|(60,[0,2,7,21,24,...|[-64.340401419747...|[0.01176899179267...|       1.0|\n",
            "|  0.0|(60,[1,2,4,22,29,...|[-41.003996561294...|[0.99639681301708...|       0.0|\n",
            "|  0.0|(60,[0,1,2,4,22,2...|[-55.212714237209...|[0.99172075644047...|       0.0|\n",
            "|  0.0|(60,[1,3,22,28,57...|[-28.523505679912...|[0.99316122250787...|       0.0|\n",
            "|  0.0|(60,[1,3,22,29,57...|[-31.846427941697...|[0.99091269324630...|       0.0|\n",
            "|  0.0|(60,[0,1,2,8,22,2...|[-66.313312764659...|[0.49506766183462...|       1.0|\n",
            "|  0.0|(60,[1,3,22,36,57...|[-71.588506146209...|[0.99999994290560...|       0.0|\n",
            "|  0.0|(60,[0,1,2,3,22,3...|[-50.438437574715...|[0.99929774664311...|       0.0|\n",
            "|  0.0|(60,[0,1,2,11,25,...|[-116.44797241487...|[0.99949605095237...|       0.0|\n",
            "|  0.0|(60,[1,3,22,28,57...|[-29.486478700824...|[0.99290810528469...|       0.0|\n",
            "|  0.0|(60,[1,3,25,29,57...|[-65.041443775956...|[0.99366816449011...|       0.0|\n",
            "|  0.0|(60,[0,1,2,3,25,2...|[-75.393938621379...|[0.98946381378882...|       0.0|\n",
            "+-----+--------------------+--------------------+--------------------+----------+\n",
            "only showing top 20 rows\n",
            "\n"
          ],
          "name": "stdout"
        }
      ]
    },
    {
      "cell_type": "markdown",
      "metadata": {
        "id": "zeOuanLOYeEO"
      },
      "source": [
        "**ACCURANCY**"
      ]
    },
    {
      "cell_type": "code",
      "metadata": {
        "id": "Srl4_kdaYdx-"
      },
      "source": [
        ""
      ],
      "execution_count": null,
      "outputs": []
    },
    {
      "cell_type": "code",
      "metadata": {
        "id": "_Yg4bMaWXRF0"
      },
      "source": [
        "def calculate_acc(df, label=\"label\", prediction=\"prediction\"):\r\n",
        "    temp = df.select(f.when(df[label] == df[prediction], 1).otherwise(0).alias(\"same\"))\r\n",
        "    return temp.select(f.avg(\"same\")).collect()[0][0]"
      ],
      "execution_count": 140,
      "outputs": []
    },
    {
      "cell_type": "code",
      "metadata": {
        "colab": {
          "base_uri": "https://localhost:8080/"
        },
        "id": "1LIjF2UVXeRc",
        "outputId": "e3f948d5-08a1-4cd7-9bad-bf88d553862b"
      },
      "source": [
        "ac_lr = calculate_acc(lrModel.transform(df_eval))\r\n",
        "ac_lr"
      ],
      "execution_count": 145,
      "outputs": [
        {
          "output_type": "execute_result",
          "data": {
            "text/plain": [
              "0.9850465638644221"
            ]
          },
          "metadata": {
            "tags": []
          },
          "execution_count": 145
        }
      ]
    },
    {
      "cell_type": "code",
      "metadata": {
        "colab": {
          "base_uri": "https://localhost:8080/"
        },
        "id": "3WQeUpS4XhJ_",
        "outputId": "cf897cb4-a360-4cae-e736-82c45d5f46ea"
      },
      "source": [
        "ac_bayes = calculate_acc(bayesModel.transform(df_eval))\r\n",
        "ac_bayes"
      ],
      "execution_count": 147,
      "outputs": [
        {
          "output_type": "execute_result",
          "data": {
            "text/plain": [
              "0.9058248996794791"
            ]
          },
          "metadata": {
            "tags": []
          },
          "execution_count": 147
        }
      ]
    },
    {
      "cell_type": "code",
      "metadata": {
        "colab": {
          "base_uri": "https://localhost:8080/"
        },
        "id": "GV-Y24ORXkHe",
        "outputId": "d4a0b2c4-41f1-44e9-85c9-c93c261b729e"
      },
      "source": [
        "ac_forest = calculate_acc(forestModel.transform(df_eval))\r\n",
        "ac_forest"
      ],
      "execution_count": 148,
      "outputs": [
        {
          "output_type": "execute_result",
          "data": {
            "text/plain": [
              "0.98505918279787"
            ]
          },
          "metadata": {
            "tags": []
          },
          "execution_count": 148
        }
      ]
    },
    {
      "cell_type": "code",
      "metadata": {
        "colab": {
          "base_uri": "https://localhost:8080/"
        },
        "id": "gGYUV7-kXxlY",
        "outputId": "d065265c-018a-41c7-c524-93c4f990fbed"
      },
      "source": [
        "ac_tree = calculate_acc(treeModel.transform(df_eval))\r\n",
        "ac_tree"
      ],
      "execution_count": 149,
      "outputs": [
        {
          "output_type": "execute_result",
          "data": {
            "text/plain": [
              "0.9850844206647654"
            ]
          },
          "metadata": {
            "tags": []
          },
          "execution_count": 149
        }
      ]
    },
    {
      "cell_type": "code",
      "metadata": {
        "colab": {
          "base_uri": "https://localhost:8080/"
        },
        "id": "w-tNcnjqX4W-",
        "outputId": "6e354dce-f24b-4710-ff9a-166709d10321"
      },
      "source": [
        "wynik = spark.createDataFrame([Row(metoda='Regresja_Liniowa', accuracy=ac_lr),\r\n",
        "                                  Row(metoda='Naiwny_Bayes', accuracy=ac_bayes),\r\n",
        "                                  Row(metoda='Las_Losowy', accuracy=ac_forest),\r\n",
        "                                  Row(metoda='Drzewo_decyzyjne', accuracy=ac_tree)])\r\n",
        "wynik"
      ],
      "execution_count": 154,
      "outputs": [
        {
          "output_type": "execute_result",
          "data": {
            "text/plain": [
              "DataFrame[metoda: string, accuracy: double]"
            ]
          },
          "metadata": {
            "tags": []
          },
          "execution_count": 154
        }
      ]
    },
    {
      "cell_type": "code",
      "metadata": {
        "colab": {
          "base_uri": "https://localhost:8080/"
        },
        "id": "XsxpHQFXbV-M",
        "outputId": "c7fb3504-b088-4d1e-ca96-6c17359801b9"
      },
      "source": [
        "wynik.show()"
      ],
      "execution_count": 155,
      "outputs": [
        {
          "output_type": "stream",
          "text": [
            "+----------------+------------------+\n",
            "|          metoda|          accuracy|\n",
            "+----------------+------------------+\n",
            "|Regresja_Liniowa|0.9850465638644221|\n",
            "|    Naiwny_Bayes|0.9058248996794791|\n",
            "|      Las_Losowy|  0.98505918279787|\n",
            "|Drzewo_decyzyjne|0.9850844206647654|\n",
            "+----------------+------------------+\n",
            "\n"
          ],
          "name": "stdout"
        }
      ]
    },
    {
      "cell_type": "code",
      "metadata": {
        "colab": {
          "base_uri": "https://localhost:8080/",
          "height": 173
        },
        "id": "TUtuJywPbY4C",
        "outputId": "b390b79a-7a79-4a37-829b-64469e9c9ce3"
      },
      "source": [
        "wynik.toPandas()"
      ],
      "execution_count": 156,
      "outputs": [
        {
          "output_type": "execute_result",
          "data": {
            "text/html": [
              "<div>\n",
              "<style scoped>\n",
              "    .dataframe tbody tr th:only-of-type {\n",
              "        vertical-align: middle;\n",
              "    }\n",
              "\n",
              "    .dataframe tbody tr th {\n",
              "        vertical-align: top;\n",
              "    }\n",
              "\n",
              "    .dataframe thead th {\n",
              "        text-align: right;\n",
              "    }\n",
              "</style>\n",
              "<table border=\"1\" class=\"dataframe\">\n",
              "  <thead>\n",
              "    <tr style=\"text-align: right;\">\n",
              "      <th></th>\n",
              "      <th>metoda</th>\n",
              "      <th>accuracy</th>\n",
              "    </tr>\n",
              "  </thead>\n",
              "  <tbody>\n",
              "    <tr>\n",
              "      <th>0</th>\n",
              "      <td>Regresja_Liniowa</td>\n",
              "      <td>0.985047</td>\n",
              "    </tr>\n",
              "    <tr>\n",
              "      <th>1</th>\n",
              "      <td>Naiwny_Bayes</td>\n",
              "      <td>0.905825</td>\n",
              "    </tr>\n",
              "    <tr>\n",
              "      <th>2</th>\n",
              "      <td>Las_Losowy</td>\n",
              "      <td>0.985059</td>\n",
              "    </tr>\n",
              "    <tr>\n",
              "      <th>3</th>\n",
              "      <td>Drzewo_decyzyjne</td>\n",
              "      <td>0.985084</td>\n",
              "    </tr>\n",
              "  </tbody>\n",
              "</table>\n",
              "</div>"
            ],
            "text/plain": [
              "             metoda  accuracy\n",
              "0  Regresja_Liniowa  0.985047\n",
              "1      Naiwny_Bayes  0.905825\n",
              "2        Las_Losowy  0.985059\n",
              "3  Drzewo_decyzyjne  0.985084"
            ]
          },
          "metadata": {
            "tags": []
          },
          "execution_count": 156
        }
      ]
    },
    {
      "cell_type": "code",
      "metadata": {
        "id": "6CpsuwrocULz"
      },
      "source": [
        ""
      ],
      "execution_count": null,
      "outputs": []
    },
    {
      "cell_type": "markdown",
      "metadata": {
        "id": "GUU-YwdEd72y"
      },
      "source": [
        "**Wniosek:**\r\n",
        "najlepszym modelem jest las losowy. W tej metodzi mamy najwyższe accuracy oraz najtrafniej przewiduje grupę, której udzielono pożyczkę.Można jeszcze poprawić parametry przy użyciu funkcji *tuning*"
      ]
    },
    {
      "cell_type": "code",
      "metadata": {
        "id": "0tA6YG-Jd-gK"
      },
      "source": [
        ""
      ],
      "execution_count": null,
      "outputs": []
    }
  ]
}