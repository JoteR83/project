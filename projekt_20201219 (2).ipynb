{
  "nbformat": 4,
  "nbformat_minor": 0,
  "metadata": {
    "colab": {
      "name": "projekt_20201218.ipynb",
      "provenance": [],
      "collapsed_sections": []
    },
    "kernelspec": {
      "name": "python3",
      "display_name": "Python 3"
    }
  },
  "cells": [
    {
      "cell_type": "code",
      "metadata": {
        "colab": {
          "base_uri": "https://localhost:8080/"
        },
        "id": "5MM9jJ6j7qJC",
        "outputId": "09e7450d-c987-4aef-9a86-aaa6b96e4cf4"
      },
      "source": [
        "!pip install pyspark"
      ],
      "execution_count": 1,
      "outputs": [
        {
          "output_type": "stream",
          "text": [
            "Collecting pyspark\n",
            "\u001b[?25l  Downloading https://files.pythonhosted.org/packages/f0/26/198fc8c0b98580f617cb03cb298c6056587b8f0447e20fa40c5b634ced77/pyspark-3.0.1.tar.gz (204.2MB)\n",
            "\u001b[K     |████████████████████████████████| 204.2MB 64kB/s \n",
            "\u001b[?25hCollecting py4j==0.10.9\n",
            "\u001b[?25l  Downloading https://files.pythonhosted.org/packages/9e/b6/6a4fb90cd235dc8e265a6a2067f2a2c99f0d91787f06aca4bcf7c23f3f80/py4j-0.10.9-py2.py3-none-any.whl (198kB)\n",
            "\u001b[K     |████████████████████████████████| 204kB 45.5MB/s \n",
            "\u001b[?25hBuilding wheels for collected packages: pyspark\n",
            "  Building wheel for pyspark (setup.py) ... \u001b[?25l\u001b[?25hdone\n",
            "  Created wheel for pyspark: filename=pyspark-3.0.1-py2.py3-none-any.whl size=204612242 sha256=cf19a3f63ee9e48a515e56a3a343b2173044d6525bf570c7d1050be3b069a192\n",
            "  Stored in directory: /root/.cache/pip/wheels/5e/bd/07/031766ca628adec8435bb40f0bd83bb676ce65ff4007f8e73f\n",
            "Successfully built pyspark\n",
            "Installing collected packages: py4j, pyspark\n",
            "Successfully installed py4j-0.10.9 pyspark-3.0.1\n"
          ],
          "name": "stdout"
        }
      ]
    },
    {
      "cell_type": "markdown",
      "metadata": {
        "id": "YmqGQm0hAd5w"
      },
      "source": [
        "***Przewidywanie wzięcia pożyczki. ***\n",
        "\n",
        "Celem projektu jest zastosowanie modeli  klasyfikacji (binarnej) do  przewidzenia czy pożyczka zostanie udzielona danemu klientowi z danymi parametrami wniosku. \n",
        "\n",
        "Zmienna celu (wypłacenie pożyczki): ***Disbursed ***\n",
        "\n",
        "\n",
        "---\n",
        "\n",
        "\n",
        "\n",
        "***Wymogi:*** \n",
        "\n",
        "● Zmienna LoggedIn nie może być uwzględniona w modelowaniu - należy ją od razu wyrzucić ze  zbioru.  \n",
        "● Nie usuwamy żadnych obserwacji - braki danych uzupełniamy w jakiś sposób.  \n",
        "● Wszelkie nieoczywiste ​ przekształcenia danych należy opatrzyć uzasadnieniem​ dlaczego  dokonujemy tego przekształcenia (np. robimy wykres i uzasadniamy wzięci logarytmu ze  zmiennej tym, że rozkład jest skośny).  \n",
        "● Należy wykorzystać przynajmniej 3 metody klasyfikacji.  \n",
        "● Należy uwzględnić optymalizację modeli/pipelinów.  \n",
        "● Projekt musi być zakończony przejrzystym porównaniem przetestowanych rozwiązań  (modeli/pipelinów) ​ w postaci tabeli​ , gdzie jeden wiersz opisuje jedno rozwiązanie i jego  wynik. \n",
        "\n"
      ]
    },
    {
      "cell_type": "markdown",
      "metadata": {
        "id": "TZowrkJ_cqG8"
      },
      "source": [
        "Link do danych:  https://raw.githubusercontent.com/saimadhu-polamuri/DataHakthon3X/master/dataSet/Train.csv \r\n"
      ]
    },
    {
      "cell_type": "markdown",
      "metadata": {
        "id": "KOVLEBvhc5Se"
      },
      "source": [
        "Opis danych (najdokładniejszy jaki istnieje):  https://discuss.analyticsvidhya.com/t/hackathon-3-x-predict-customer-worth-for-happy-customer-bank/3802 "
      ]
    },
    {
      "cell_type": "markdown",
      "metadata": {
        "id": "kNDmi4N--ATW"
      },
      "source": [
        "**IMPORT BIBLIOTEK**"
      ]
    },
    {
      "cell_type": "code",
      "metadata": {
        "id": "GQSArP9W7s3L"
      },
      "source": [
        "import pyspark\n",
        "import numpy as np\n",
        "import pandas as pd\n",
        "import matplotlib.pyplot as plt\n",
        "import seaborn as sns\n",
        "\n",
        "from sklearn import model_selection\n",
        "from sklearn.model_selection import train_test_split\n",
        "from sklearn.pipeline import Pipeline\n",
        "from sklearn.svm import SVC\n",
        "from sklearn.linear_model import LogisticRegression\n",
        "from sklearn.decomposition import PCA\n",
        "from sklearn.ensemble import RandomForestClassifier\n",
        "from sklearn.tree import DecisionTreeClassifier\n",
        "\n",
        "from sklearn.metrics import roc_auc_score\n",
        "from sklearn.metrics import accuracy_score\n",
        "from sklearn.metrics import roc_curve\n",
        "\n"
      ],
      "execution_count": 2,
      "outputs": []
    },
    {
      "cell_type": "code",
      "metadata": {
        "id": "zhMw78MP-E93"
      },
      "source": [
        "from pyspark.sql import SparkSession\n",
        "from pyspark.sql import Row\n",
        "from pyspark.sql import functions as f\n",
        "from pyspark.ml import Pipeline\n",
        "\n",
        "spark = SparkSession.builder.appName('my_app').getOrCreate()"
      ],
      "execution_count": 3,
      "outputs": []
    },
    {
      "cell_type": "code",
      "metadata": {
        "id": "VhvNAJrcTs69"
      },
      "source": [
        "from pyspark.ml.linalg import Vectors\n",
        "from pyspark.ml import feature"
      ],
      "execution_count": 4,
      "outputs": []
    },
    {
      "cell_type": "code",
      "metadata": {
        "id": "l6q43i8X-Nzn",
        "colab": {
          "base_uri": "https://localhost:8080/",
          "height": 216
        },
        "outputId": "982cf3d8-1931-4992-bf00-301284094b12"
      },
      "source": [
        "spark"
      ],
      "execution_count": 5,
      "outputs": [
        {
          "output_type": "execute_result",
          "data": {
            "text/html": [
              "\n",
              "            <div>\n",
              "                <p><b>SparkSession - in-memory</b></p>\n",
              "                \n",
              "        <div>\n",
              "            <p><b>SparkContext</b></p>\n",
              "\n",
              "            <p><a href=\"http://1792083a259f:4040\">Spark UI</a></p>\n",
              "\n",
              "            <dl>\n",
              "              <dt>Version</dt>\n",
              "                <dd><code>v3.0.1</code></dd>\n",
              "              <dt>Master</dt>\n",
              "                <dd><code>local[*]</code></dd>\n",
              "              <dt>AppName</dt>\n",
              "                <dd><code>my_app</code></dd>\n",
              "            </dl>\n",
              "        </div>\n",
              "        \n",
              "            </div>\n",
              "        "
            ],
            "text/plain": [
              "<pyspark.sql.session.SparkSession at 0x7fc2cb888f60>"
            ]
          },
          "metadata": {
            "tags": []
          },
          "execution_count": 5
        }
      ]
    },
    {
      "cell_type": "markdown",
      "metadata": {
        "id": "tiRw_A-ZJ6Ig"
      },
      "source": [
        "***Import Danych, Przekształcenia***"
      ]
    },
    {
      "cell_type": "code",
      "metadata": {
        "id": "z7_hOvf644Sp"
      },
      "source": [
        ""
      ],
      "execution_count": 8,
      "outputs": []
    },
    {
      "cell_type": "code",
      "metadata": {
        "id": "UWfUpqPoGH8s"
      },
      "source": [
        "csv_df = spark.read.csv('/content/Train.csv', header=True, inferSchema=True)\n"
      ],
      "execution_count": 6,
      "outputs": []
    },
    {
      "cell_type": "code",
      "metadata": {
        "colab": {
          "base_uri": "https://localhost:8080/"
        },
        "id": "iQptl453HtFx",
        "outputId": "069edbe3-9498-4c3d-b045-6b9a1eddf65a"
      },
      "source": [
        "\r\n",
        "csv_df.show()"
      ],
      "execution_count": 7,
      "outputs": [
        {
          "output_type": "stream",
          "text": [
            "+-----------+------+-----------+--------------+---------+------------------+-------------------+-------------------+------------+--------------------+--------------------+---------------+----+----+---------------------+---------------------+-------------+--------------+------------------+-----------+-----------+----+------+----+--------+---------+\n",
            "|         ID|Gender|       City|Monthly_Income|      DOB|Lead_Creation_Date|Loan_Amount_Applied|Loan_Tenure_Applied|Existing_EMI|       Employer_Name|      Salary_Account|Mobile_Verified|Var5|Var1|Loan_Amount_Submitted|Loan_Tenure_Submitted|Interest_Rate|Processing_Fee|EMI_Loan_Submitted|Filled_Form|Device_Type|Var2|Source|Var4|LoggedIn|Disbursed|\n",
            "+-----------+------+-----------+--------------+---------+------------------+-------------------+-------------------+------------+--------------------+--------------------+---------------+----+----+---------------------+---------------------+-------------+--------------+------------------+-----------+-----------+----+------+----+--------+---------+\n",
            "|ID000002C20|Female|      Delhi|         20000|23-May-78|         15-May-15|             300000|                  5|         0.0|             CYBOSOL|           HDFC Bank|              N|   0|HBXX|                 null|                 null|         null|          null|              null|          N|Web-browser|   G|  S122|   1|       0|        0|\n",
            "|ID000004E40|  Male|     Mumbai|         35000|07-Oct-85|         04-May-15|             200000|                  2|         0.0|TATA CONSULTANCY ...|          ICICI Bank|              Y|  13|HBXA|               200000|                    2|        13.25|          null|            6762.9|          N|Web-browser|   G|  S122|   3|       0|        0|\n",
            "|ID000007H20|  Male|  Panchkula|         22500|10-Oct-81|         19-May-15|             600000|                  4|         0.0|ALCHEMIST HOSPITA...| State Bank of India|              Y|   0|HBXX|               450000|                    4|         null|          null|              null|          N|Web-browser|   B|  S143|   1|       0|        0|\n",
            "|ID000008I30|  Male|    Saharsa|         35000|30-Nov-87|         09-May-15|            1000000|                  5|         0.0|    BIHAR GOVERNMENT| State Bank of India|              Y|  10|HBXX|               920000|                    5|         null|          null|              null|          N|Web-browser|   B|  S143|   3|       0|        0|\n",
            "|ID000009J40|  Male|  Bengaluru|        100000|17-Feb-84|         20-May-15|             500000|                  2|     25000.0|GLOBAL EDGE SOFTWARE|           HDFC Bank|              Y|  17|HBXX|               500000|                    2|         null|          null|              null|          N|Web-browser|   B|  S134|   3|       1|        0|\n",
            "|ID000010K00|  Male|  Bengaluru|         45000|21-Apr-82|         20-May-15|             300000|                  5|     15000.0|COGNIZANT TECHNOL...|                HSBC|              Y|  17|HAXM|               300000|                    5|        13.99|          1500|           6978.92|          N|Web-browser|   B|  S143|   3|       1|        0|\n",
            "|ID000011L10|Female| Sindhudurg|         70000|23-Oct-87|         01-May-15|                  6|                  5|         0.0|CARNIVAL CRUISE LINE|            Yes Bank|              N|   0|HBXX|                 null|                 null|         null|          null|              null|          N|Web-browser|   B|  S133|   1|       0|        0|\n",
            "|ID000012M20|  Male|  Bengaluru|         20000|25-Jul-75|         20-May-15|             200000|                  5|      2597.0|GOLDEN TULIP FLOR...|                null|              Y|   3|HBXX|               200000|                    5|         null|          null|              null|          N|Web-browser|   B|  S159|   3|       0|        0|\n",
            "|ID000013N30|  Male|      Kochi|         75000|26-Jan-72|         02-May-15|                  0|                  0|         0.0|        SIIS PVT LTD| State Bank of India|              Y|  13|HAXB|              1300000|                    5|        14.85|         26000|          30824.65|          Y|     Mobile|   C|  S122|   5|       0|        0|\n",
            "|ID000014O40|Female|     Mumbai|         30000|12-Sep-89|         03-May-15|             300000|                  3|         0.0|      SOUNDCLOUD.COM|          Kotak Bank|              Y|   0|HBXC|               300000|                    3|        18.25|          1500|          10883.38|          N|Web-browser|   B|  S133|   1|       0|        0|\n",
            "|ID000016Q10|  Male|     Mumbai|         25000|01-Jan-76|         02-May-15|            1000000|                  5|         0.0|       KRISHNA KUMAR|Indian Overseas Bank|              Y|  11|HBXC|               660000|                    5|         20.0|          6600|          17485.96|          N|Web-browser|   B|  S133|   4|       0|        0|\n",
            "|ID000018S30|Female|      Surat|         25000|13-Oct-89|         02-May-15|             140000|                  4|         0.0|S D JAIN MODERN S...|                null|              N|   0|HBXX|                 null|                 null|         null|          null|              null|          N|Web-browser|   B|  S122|   1|       0|        0|\n",
            "|ID000019T40|Female|       Pune|         24000|22-May-90|         02-May-15|             500000|                  4|         0.0|K.E.M. HOSPITAL R...| Bank of Maharasthra|              N|   0|HBXX|                 null|                 null|         null|          null|              null|          N|Web-browser|   B|  S133|   1|       0|        0|\n",
            "|ID000021V10|  Male|Bhubaneswar|         27000|24-Jun-82|         09-May-15|             200000|                  5|      4600.0|GI STAFFING SERVI...| State Bank of India|              Y|  11|HBXD|               200000|                    5|         18.0|          4500|           5078.69|          N|Web-browser|   B|  S133|   4|       0|        0|\n",
            "|ID000022W20|Female|     Howrah|         28000|09-Feb-89|         13-May-15|             100000|                  1|      1200.0|MCX STOCK EXCHANG...|           HDFC Bank|              N|   0|HBXX|                 null|                 null|         null|          null|              null|          N|Web-browser|   B|  S151|   1|       0|        0|\n",
            "|ID000023X30|  Male|    Chennai|         42000|08-May-82|         05-May-15|             500000|                  3|         0.0|  SMEC INDIA PVT LTD| State Bank of India|              Y|  14|HBXX|               500000|                    3|         null|          null|              null|          N|Web-browser|   B|  S159|   3|       0|        0|\n",
            "|ID000024Y40|  Male|   Ludhiana|         28994|11-Oct-85|         08-May-15|             300000|                  5|      2550.0|  UNIPARTS INDIA LTD|          Kotak Bank|              Y|   0|HBXH|               300000|                    5|         15.5|          6000|           7215.96|          N|Web-browser|   E|  S122|   1|       1|        0|\n",
            "|ID000025Z00|Female|      Delhi|         20000|06-Jan-90|         01-May-15|             100000|                  5|         0.0|   INTEC CAPITAL LTD|           HDFC Bank|              N|   0|HBXX|                 null|                 null|         null|          null|              null|          N|Web-browser|   B|  S122|   1|       0|        0|\n",
            "|ID000027B20|Female|  Bengaluru|         33000|14-Jul-76|         24-May-15|             500000|                  5|      7000.0|         N RAVIKUMAR|           Axis Bank|              N|   0|HBXX|                 null|                 null|         null|          null|              null|          N|Web-browser|   E|  S133|   1|       0|        0|\n",
            "|ID000028C30|  Male|  Panchkula|         31500|29-Aug-82|         01-May-15|             500000|                  5|     10000.0|S P SINGLA CONSTR...|           Axis Bank|              Y|  12|HBXX|               450000|                    5|         null|          null|              null|          N|Web-browser|   E|  S133|   3|       0|        0|\n",
            "+-----------+------+-----------+--------------+---------+------------------+-------------------+-------------------+------------+--------------------+--------------------+---------------+----+----+---------------------+---------------------+-------------+--------------+------------------+-----------+-----------+----+------+----+--------+---------+\n",
            "only showing top 20 rows\n",
            "\n"
          ],
          "name": "stdout"
        }
      ]
    },
    {
      "cell_type": "markdown",
      "metadata": {
        "id": "Nm3M-YEwKSSc"
      },
      "source": [
        "Wyrzucenie ze zbioru zmiennej **LoggedIn**"
      ]
    },
    {
      "cell_type": "code",
      "metadata": {
        "colab": {
          "base_uri": "https://localhost:8080/"
        },
        "id": "iIorAEZ2I1In",
        "outputId": "8dc097fb-d94c-4036-9326-c0534973acfc"
      },
      "source": [
        "tmp = csv_df.drop('LoggedIn')\n",
        "tmp.show()"
      ],
      "execution_count": 8,
      "outputs": [
        {
          "output_type": "stream",
          "text": [
            "+-----------+------+-----------+--------------+---------+------------------+-------------------+-------------------+------------+--------------------+--------------------+---------------+----+----+---------------------+---------------------+-------------+--------------+------------------+-----------+-----------+----+------+----+---------+\n",
            "|         ID|Gender|       City|Monthly_Income|      DOB|Lead_Creation_Date|Loan_Amount_Applied|Loan_Tenure_Applied|Existing_EMI|       Employer_Name|      Salary_Account|Mobile_Verified|Var5|Var1|Loan_Amount_Submitted|Loan_Tenure_Submitted|Interest_Rate|Processing_Fee|EMI_Loan_Submitted|Filled_Form|Device_Type|Var2|Source|Var4|Disbursed|\n",
            "+-----------+------+-----------+--------------+---------+------------------+-------------------+-------------------+------------+--------------------+--------------------+---------------+----+----+---------------------+---------------------+-------------+--------------+------------------+-----------+-----------+----+------+----+---------+\n",
            "|ID000002C20|Female|      Delhi|         20000|23-May-78|         15-May-15|             300000|                  5|         0.0|             CYBOSOL|           HDFC Bank|              N|   0|HBXX|                 null|                 null|         null|          null|              null|          N|Web-browser|   G|  S122|   1|        0|\n",
            "|ID000004E40|  Male|     Mumbai|         35000|07-Oct-85|         04-May-15|             200000|                  2|         0.0|TATA CONSULTANCY ...|          ICICI Bank|              Y|  13|HBXA|               200000|                    2|        13.25|          null|            6762.9|          N|Web-browser|   G|  S122|   3|        0|\n",
            "|ID000007H20|  Male|  Panchkula|         22500|10-Oct-81|         19-May-15|             600000|                  4|         0.0|ALCHEMIST HOSPITA...| State Bank of India|              Y|   0|HBXX|               450000|                    4|         null|          null|              null|          N|Web-browser|   B|  S143|   1|        0|\n",
            "|ID000008I30|  Male|    Saharsa|         35000|30-Nov-87|         09-May-15|            1000000|                  5|         0.0|    BIHAR GOVERNMENT| State Bank of India|              Y|  10|HBXX|               920000|                    5|         null|          null|              null|          N|Web-browser|   B|  S143|   3|        0|\n",
            "|ID000009J40|  Male|  Bengaluru|        100000|17-Feb-84|         20-May-15|             500000|                  2|     25000.0|GLOBAL EDGE SOFTWARE|           HDFC Bank|              Y|  17|HBXX|               500000|                    2|         null|          null|              null|          N|Web-browser|   B|  S134|   3|        0|\n",
            "|ID000010K00|  Male|  Bengaluru|         45000|21-Apr-82|         20-May-15|             300000|                  5|     15000.0|COGNIZANT TECHNOL...|                HSBC|              Y|  17|HAXM|               300000|                    5|        13.99|          1500|           6978.92|          N|Web-browser|   B|  S143|   3|        0|\n",
            "|ID000011L10|Female| Sindhudurg|         70000|23-Oct-87|         01-May-15|                  6|                  5|         0.0|CARNIVAL CRUISE LINE|            Yes Bank|              N|   0|HBXX|                 null|                 null|         null|          null|              null|          N|Web-browser|   B|  S133|   1|        0|\n",
            "|ID000012M20|  Male|  Bengaluru|         20000|25-Jul-75|         20-May-15|             200000|                  5|      2597.0|GOLDEN TULIP FLOR...|                null|              Y|   3|HBXX|               200000|                    5|         null|          null|              null|          N|Web-browser|   B|  S159|   3|        0|\n",
            "|ID000013N30|  Male|      Kochi|         75000|26-Jan-72|         02-May-15|                  0|                  0|         0.0|        SIIS PVT LTD| State Bank of India|              Y|  13|HAXB|              1300000|                    5|        14.85|         26000|          30824.65|          Y|     Mobile|   C|  S122|   5|        0|\n",
            "|ID000014O40|Female|     Mumbai|         30000|12-Sep-89|         03-May-15|             300000|                  3|         0.0|      SOUNDCLOUD.COM|          Kotak Bank|              Y|   0|HBXC|               300000|                    3|        18.25|          1500|          10883.38|          N|Web-browser|   B|  S133|   1|        0|\n",
            "|ID000016Q10|  Male|     Mumbai|         25000|01-Jan-76|         02-May-15|            1000000|                  5|         0.0|       KRISHNA KUMAR|Indian Overseas Bank|              Y|  11|HBXC|               660000|                    5|         20.0|          6600|          17485.96|          N|Web-browser|   B|  S133|   4|        0|\n",
            "|ID000018S30|Female|      Surat|         25000|13-Oct-89|         02-May-15|             140000|                  4|         0.0|S D JAIN MODERN S...|                null|              N|   0|HBXX|                 null|                 null|         null|          null|              null|          N|Web-browser|   B|  S122|   1|        0|\n",
            "|ID000019T40|Female|       Pune|         24000|22-May-90|         02-May-15|             500000|                  4|         0.0|K.E.M. HOSPITAL R...| Bank of Maharasthra|              N|   0|HBXX|                 null|                 null|         null|          null|              null|          N|Web-browser|   B|  S133|   1|        0|\n",
            "|ID000021V10|  Male|Bhubaneswar|         27000|24-Jun-82|         09-May-15|             200000|                  5|      4600.0|GI STAFFING SERVI...| State Bank of India|              Y|  11|HBXD|               200000|                    5|         18.0|          4500|           5078.69|          N|Web-browser|   B|  S133|   4|        0|\n",
            "|ID000022W20|Female|     Howrah|         28000|09-Feb-89|         13-May-15|             100000|                  1|      1200.0|MCX STOCK EXCHANG...|           HDFC Bank|              N|   0|HBXX|                 null|                 null|         null|          null|              null|          N|Web-browser|   B|  S151|   1|        0|\n",
            "|ID000023X30|  Male|    Chennai|         42000|08-May-82|         05-May-15|             500000|                  3|         0.0|  SMEC INDIA PVT LTD| State Bank of India|              Y|  14|HBXX|               500000|                    3|         null|          null|              null|          N|Web-browser|   B|  S159|   3|        0|\n",
            "|ID000024Y40|  Male|   Ludhiana|         28994|11-Oct-85|         08-May-15|             300000|                  5|      2550.0|  UNIPARTS INDIA LTD|          Kotak Bank|              Y|   0|HBXH|               300000|                    5|         15.5|          6000|           7215.96|          N|Web-browser|   E|  S122|   1|        0|\n",
            "|ID000025Z00|Female|      Delhi|         20000|06-Jan-90|         01-May-15|             100000|                  5|         0.0|   INTEC CAPITAL LTD|           HDFC Bank|              N|   0|HBXX|                 null|                 null|         null|          null|              null|          N|Web-browser|   B|  S122|   1|        0|\n",
            "|ID000027B20|Female|  Bengaluru|         33000|14-Jul-76|         24-May-15|             500000|                  5|      7000.0|         N RAVIKUMAR|           Axis Bank|              N|   0|HBXX|                 null|                 null|         null|          null|              null|          N|Web-browser|   E|  S133|   1|        0|\n",
            "|ID000028C30|  Male|  Panchkula|         31500|29-Aug-82|         01-May-15|             500000|                  5|     10000.0|S P SINGLA CONSTR...|           Axis Bank|              Y|  12|HBXX|               450000|                    5|         null|          null|              null|          N|Web-browser|   E|  S133|   3|        0|\n",
            "+-----------+------+-----------+--------------+---------+------------------+-------------------+-------------------+------------+--------------------+--------------------+---------------+----+----+---------------------+---------------------+-------------+--------------+------------------+-----------+-----------+----+------+----+---------+\n",
            "only showing top 20 rows\n",
            "\n"
          ],
          "name": "stdout"
        }
      ]
    },
    {
      "cell_type": "code",
      "metadata": {
        "colab": {
          "base_uri": "https://localhost:8080/"
        },
        "id": "kcgnEnrdKPGg",
        "outputId": "0b4e7be4-0d83-436a-dc78-483027c6edbc"
      },
      "source": [
        "tmp.printSchema()"
      ],
      "execution_count": 9,
      "outputs": [
        {
          "output_type": "stream",
          "text": [
            "root\n",
            " |-- ID: string (nullable = true)\n",
            " |-- Gender: string (nullable = true)\n",
            " |-- City: string (nullable = true)\n",
            " |-- Monthly_Income: integer (nullable = true)\n",
            " |-- DOB: string (nullable = true)\n",
            " |-- Lead_Creation_Date: string (nullable = true)\n",
            " |-- Loan_Amount_Applied: integer (nullable = true)\n",
            " |-- Loan_Tenure_Applied: integer (nullable = true)\n",
            " |-- Existing_EMI: double (nullable = true)\n",
            " |-- Employer_Name: string (nullable = true)\n",
            " |-- Salary_Account: string (nullable = true)\n",
            " |-- Mobile_Verified: string (nullable = true)\n",
            " |-- Var5: integer (nullable = true)\n",
            " |-- Var1: string (nullable = true)\n",
            " |-- Loan_Amount_Submitted: integer (nullable = true)\n",
            " |-- Loan_Tenure_Submitted: integer (nullable = true)\n",
            " |-- Interest_Rate: double (nullable = true)\n",
            " |-- Processing_Fee: integer (nullable = true)\n",
            " |-- EMI_Loan_Submitted: double (nullable = true)\n",
            " |-- Filled_Form: string (nullable = true)\n",
            " |-- Device_Type: string (nullable = true)\n",
            " |-- Var2: string (nullable = true)\n",
            " |-- Source: string (nullable = true)\n",
            " |-- Var4: integer (nullable = true)\n",
            " |-- Disbursed: integer (nullable = true)\n",
            "\n"
          ],
          "name": "stdout"
        }
      ]
    },
    {
      "cell_type": "code",
      "metadata": {
        "colab": {
          "base_uri": "https://localhost:8080/"
        },
        "id": "MfY3_6a_SZWk",
        "outputId": "64aeed60-ef49-4420-dec8-1b977204563d"
      },
      "source": [
        "tmp.describe().show()"
      ],
      "execution_count": 10,
      "outputs": [
        {
          "output_type": "stream",
          "text": [
            "+-------+-----------+------+--------------+------------------+---------+------------------+-------------------+-------------------+-----------------+--------------------+--------------------+---------------+-----------------+-----+---------------------+---------------------+------------------+------------------+------------------+-----------+-----------+-----+------+------------------+-------------------+\n",
            "|summary|         ID|Gender|          City|    Monthly_Income|      DOB|Lead_Creation_Date|Loan_Amount_Applied|Loan_Tenure_Applied|     Existing_EMI|       Employer_Name|      Salary_Account|Mobile_Verified|             Var5| Var1|Loan_Amount_Submitted|Loan_Tenure_Submitted|     Interest_Rate|    Processing_Fee|EMI_Loan_Submitted|Filled_Form|Device_Type| Var2|Source|              Var4|          Disbursed|\n",
            "+-------+-----------+------+--------------+------------------+---------+------------------+-------------------+-------------------+-----------------+--------------------+--------------------+---------------+-----------------+-----+---------------------+---------------------+------------------+------------------+------------------+-----------+-----------+-----+------+------------------+-------------------+\n",
            "|  count|      87020| 87020|         86017|             87020|    87020|             87020|              86949|              86949|            86949|               86949|               75256|          87020|            87020|87020|                52407|                52407|             27726|             27420|             27726|      87020|      87020|87020| 87020|             87020|              87020|\n",
            "|   mean|       null|  null|          null| 58849.97435072397|     null|              null| 230250.69992754373|  2.131398866001909|3696.227823896767|1.3101043799556809E7|                null|           null|4.961503102735003| null|   395010.59018833365|   3.8913694735436106|19.197474211930803| 5131.150838803793|10999.528376613947|       null|       null| null|  null| 2.949804642610894|0.01462882096069869|\n",
            "| stddev|       null|  null|          null|2177511.3613959295|     null|              null| 354206.75946817023|  2.014193117587495|39810.21191986884| 7.864837697258059E8|                null|           null|5.670384976839389| null|    308248.1362548802|   1.1653589202735677|5.8342132583013075|4725.8376437636825|7512.3230496654105|       null|       null| null|  null|1.6977198497547055|0.12006241797245076|\n",
            "|    min|ID000002C20|Female|        ADIPUR|                 0|01-Apr-57|         01-Jul-15|                  0|                  0|              0.0|                    |Abhyuday Co-op Ba...|              N|                0| HAVC|                50000|                    1|             11.99|               200|           1176.41|          N|     Mobile|    A|  S122|                 0|                  0|\n",
            "|    max|ID124821V10|  Male|sri ganganagar|         444554443|31-Oct-97|         31-May-15|           10000000|                 10|            1.0E7|������������ ����...|            Yes Bank|              Y|               18| HVYS|              3000000|                    6|              37.0|             50000|         144748.28|          Y|Web-browser|    G|  S162|                 7|                  1|\n",
            "+-------+-----------+------+--------------+------------------+---------+------------------+-------------------+-------------------+-----------------+--------------------+--------------------+---------------+-----------------+-----+---------------------+---------------------+------------------+------------------+------------------+-----------+-----------+-----+------+------------------+-------------------+\n",
            "\n"
          ],
          "name": "stdout"
        }
      ]
    },
    {
      "cell_type": "code",
      "metadata": {
        "colab": {
          "base_uri": "https://localhost:8080/"
        },
        "id": "C96pNGnKKrBQ",
        "outputId": "753628f7-baea-4af9-8d97-53eaf8220074"
      },
      "source": [
        "# zmieniamy Null na 0\n",
        "\n",
        "tmp = tmp.fillna(0)\n",
        "tmp.show()"
      ],
      "execution_count": 11,
      "outputs": [
        {
          "output_type": "stream",
          "text": [
            "+-----------+------+-----------+--------------+---------+------------------+-------------------+-------------------+------------+--------------------+--------------------+---------------+----+----+---------------------+---------------------+-------------+--------------+------------------+-----------+-----------+----+------+----+---------+\n",
            "|         ID|Gender|       City|Monthly_Income|      DOB|Lead_Creation_Date|Loan_Amount_Applied|Loan_Tenure_Applied|Existing_EMI|       Employer_Name|      Salary_Account|Mobile_Verified|Var5|Var1|Loan_Amount_Submitted|Loan_Tenure_Submitted|Interest_Rate|Processing_Fee|EMI_Loan_Submitted|Filled_Form|Device_Type|Var2|Source|Var4|Disbursed|\n",
            "+-----------+------+-----------+--------------+---------+------------------+-------------------+-------------------+------------+--------------------+--------------------+---------------+----+----+---------------------+---------------------+-------------+--------------+------------------+-----------+-----------+----+------+----+---------+\n",
            "|ID000002C20|Female|      Delhi|         20000|23-May-78|         15-May-15|             300000|                  5|         0.0|             CYBOSOL|           HDFC Bank|              N|   0|HBXX|                    0|                    0|          0.0|             0|               0.0|          N|Web-browser|   G|  S122|   1|        0|\n",
            "|ID000004E40|  Male|     Mumbai|         35000|07-Oct-85|         04-May-15|             200000|                  2|         0.0|TATA CONSULTANCY ...|          ICICI Bank|              Y|  13|HBXA|               200000|                    2|        13.25|             0|            6762.9|          N|Web-browser|   G|  S122|   3|        0|\n",
            "|ID000007H20|  Male|  Panchkula|         22500|10-Oct-81|         19-May-15|             600000|                  4|         0.0|ALCHEMIST HOSPITA...| State Bank of India|              Y|   0|HBXX|               450000|                    4|          0.0|             0|               0.0|          N|Web-browser|   B|  S143|   1|        0|\n",
            "|ID000008I30|  Male|    Saharsa|         35000|30-Nov-87|         09-May-15|            1000000|                  5|         0.0|    BIHAR GOVERNMENT| State Bank of India|              Y|  10|HBXX|               920000|                    5|          0.0|             0|               0.0|          N|Web-browser|   B|  S143|   3|        0|\n",
            "|ID000009J40|  Male|  Bengaluru|        100000|17-Feb-84|         20-May-15|             500000|                  2|     25000.0|GLOBAL EDGE SOFTWARE|           HDFC Bank|              Y|  17|HBXX|               500000|                    2|          0.0|             0|               0.0|          N|Web-browser|   B|  S134|   3|        0|\n",
            "|ID000010K00|  Male|  Bengaluru|         45000|21-Apr-82|         20-May-15|             300000|                  5|     15000.0|COGNIZANT TECHNOL...|                HSBC|              Y|  17|HAXM|               300000|                    5|        13.99|          1500|           6978.92|          N|Web-browser|   B|  S143|   3|        0|\n",
            "|ID000011L10|Female| Sindhudurg|         70000|23-Oct-87|         01-May-15|                  6|                  5|         0.0|CARNIVAL CRUISE LINE|            Yes Bank|              N|   0|HBXX|                    0|                    0|          0.0|             0|               0.0|          N|Web-browser|   B|  S133|   1|        0|\n",
            "|ID000012M20|  Male|  Bengaluru|         20000|25-Jul-75|         20-May-15|             200000|                  5|      2597.0|GOLDEN TULIP FLOR...|                null|              Y|   3|HBXX|               200000|                    5|          0.0|             0|               0.0|          N|Web-browser|   B|  S159|   3|        0|\n",
            "|ID000013N30|  Male|      Kochi|         75000|26-Jan-72|         02-May-15|                  0|                  0|         0.0|        SIIS PVT LTD| State Bank of India|              Y|  13|HAXB|              1300000|                    5|        14.85|         26000|          30824.65|          Y|     Mobile|   C|  S122|   5|        0|\n",
            "|ID000014O40|Female|     Mumbai|         30000|12-Sep-89|         03-May-15|             300000|                  3|         0.0|      SOUNDCLOUD.COM|          Kotak Bank|              Y|   0|HBXC|               300000|                    3|        18.25|          1500|          10883.38|          N|Web-browser|   B|  S133|   1|        0|\n",
            "|ID000016Q10|  Male|     Mumbai|         25000|01-Jan-76|         02-May-15|            1000000|                  5|         0.0|       KRISHNA KUMAR|Indian Overseas Bank|              Y|  11|HBXC|               660000|                    5|         20.0|          6600|          17485.96|          N|Web-browser|   B|  S133|   4|        0|\n",
            "|ID000018S30|Female|      Surat|         25000|13-Oct-89|         02-May-15|             140000|                  4|         0.0|S D JAIN MODERN S...|                null|              N|   0|HBXX|                    0|                    0|          0.0|             0|               0.0|          N|Web-browser|   B|  S122|   1|        0|\n",
            "|ID000019T40|Female|       Pune|         24000|22-May-90|         02-May-15|             500000|                  4|         0.0|K.E.M. HOSPITAL R...| Bank of Maharasthra|              N|   0|HBXX|                    0|                    0|          0.0|             0|               0.0|          N|Web-browser|   B|  S133|   1|        0|\n",
            "|ID000021V10|  Male|Bhubaneswar|         27000|24-Jun-82|         09-May-15|             200000|                  5|      4600.0|GI STAFFING SERVI...| State Bank of India|              Y|  11|HBXD|               200000|                    5|         18.0|          4500|           5078.69|          N|Web-browser|   B|  S133|   4|        0|\n",
            "|ID000022W20|Female|     Howrah|         28000|09-Feb-89|         13-May-15|             100000|                  1|      1200.0|MCX STOCK EXCHANG...|           HDFC Bank|              N|   0|HBXX|                    0|                    0|          0.0|             0|               0.0|          N|Web-browser|   B|  S151|   1|        0|\n",
            "|ID000023X30|  Male|    Chennai|         42000|08-May-82|         05-May-15|             500000|                  3|         0.0|  SMEC INDIA PVT LTD| State Bank of India|              Y|  14|HBXX|               500000|                    3|          0.0|             0|               0.0|          N|Web-browser|   B|  S159|   3|        0|\n",
            "|ID000024Y40|  Male|   Ludhiana|         28994|11-Oct-85|         08-May-15|             300000|                  5|      2550.0|  UNIPARTS INDIA LTD|          Kotak Bank|              Y|   0|HBXH|               300000|                    5|         15.5|          6000|           7215.96|          N|Web-browser|   E|  S122|   1|        0|\n",
            "|ID000025Z00|Female|      Delhi|         20000|06-Jan-90|         01-May-15|             100000|                  5|         0.0|   INTEC CAPITAL LTD|           HDFC Bank|              N|   0|HBXX|                    0|                    0|          0.0|             0|               0.0|          N|Web-browser|   B|  S122|   1|        0|\n",
            "|ID000027B20|Female|  Bengaluru|         33000|14-Jul-76|         24-May-15|             500000|                  5|      7000.0|         N RAVIKUMAR|           Axis Bank|              N|   0|HBXX|                    0|                    0|          0.0|             0|               0.0|          N|Web-browser|   E|  S133|   1|        0|\n",
            "|ID000028C30|  Male|  Panchkula|         31500|29-Aug-82|         01-May-15|             500000|                  5|     10000.0|S P SINGLA CONSTR...|           Axis Bank|              Y|  12|HBXX|               450000|                    5|          0.0|             0|               0.0|          N|Web-browser|   E|  S133|   3|        0|\n",
            "+-----------+------+-----------+--------------+---------+------------------+-------------------+-------------------+------------+--------------------+--------------------+---------------+----+----+---------------------+---------------------+-------------+--------------+------------------+-----------+-----------+----+------+----+---------+\n",
            "only showing top 20 rows\n",
            "\n"
          ],
          "name": "stdout"
        }
      ]
    },
    {
      "cell_type": "code",
      "metadata": {
        "colab": {
          "base_uri": "https://localhost:8080/"
        },
        "id": "tTMh68rG3y46",
        "outputId": "dd20a74d-a83a-4476-d567-55f9325bd4ab"
      },
      "source": [
        "tmp.printSchema()"
      ],
      "execution_count": 12,
      "outputs": [
        {
          "output_type": "stream",
          "text": [
            "root\n",
            " |-- ID: string (nullable = true)\n",
            " |-- Gender: string (nullable = true)\n",
            " |-- City: string (nullable = true)\n",
            " |-- Monthly_Income: integer (nullable = true)\n",
            " |-- DOB: string (nullable = true)\n",
            " |-- Lead_Creation_Date: string (nullable = true)\n",
            " |-- Loan_Amount_Applied: integer (nullable = true)\n",
            " |-- Loan_Tenure_Applied: integer (nullable = true)\n",
            " |-- Existing_EMI: double (nullable = false)\n",
            " |-- Employer_Name: string (nullable = true)\n",
            " |-- Salary_Account: string (nullable = true)\n",
            " |-- Mobile_Verified: string (nullable = true)\n",
            " |-- Var5: integer (nullable = true)\n",
            " |-- Var1: string (nullable = true)\n",
            " |-- Loan_Amount_Submitted: integer (nullable = true)\n",
            " |-- Loan_Tenure_Submitted: integer (nullable = true)\n",
            " |-- Interest_Rate: double (nullable = false)\n",
            " |-- Processing_Fee: integer (nullable = true)\n",
            " |-- EMI_Loan_Submitted: double (nullable = false)\n",
            " |-- Filled_Form: string (nullable = true)\n",
            " |-- Device_Type: string (nullable = true)\n",
            " |-- Var2: string (nullable = true)\n",
            " |-- Source: string (nullable = true)\n",
            " |-- Var4: integer (nullable = true)\n",
            " |-- Disbursed: integer (nullable = true)\n",
            "\n"
          ],
          "name": "stdout"
        }
      ]
    },
    {
      "cell_type": "code",
      "metadata": {
        "colab": {
          "base_uri": "https://localhost:8080/"
        },
        "id": "biP9ytnvlyEe",
        "outputId": "86e7aa9b-8832-42b0-8cd0-8bcbdcd72c38"
      },
      "source": [
        "tmp.groupBy(\"Disbursed\").count().show()"
      ],
      "execution_count": 13,
      "outputs": [
        {
          "output_type": "stream",
          "text": [
            "+---------+-----+\n",
            "|Disbursed|count|\n",
            "+---------+-----+\n",
            "|        1| 1273|\n",
            "|        0|85747|\n",
            "+---------+-----+\n",
            "\n"
          ],
          "name": "stdout"
        }
      ]
    },
    {
      "cell_type": "code",
      "metadata": {
        "id": "1_1DOlwBB8G1"
      },
      "source": [
        "#tmp.toPandas()\n"
      ],
      "execution_count": 14,
      "outputs": []
    },
    {
      "cell_type": "code",
      "metadata": {
        "colab": {
          "base_uri": "https://localhost:8080/"
        },
        "id": "FkzWyM_s6PAK",
        "outputId": "f28b7d51-3b69-4707-f256-090943c287b0"
      },
      "source": [
        "# Liczba pożyczek\n",
        "tmp.select((tmp[\"Disbursed\"]).alias(\"cln\")).describe().show()"
      ],
      "execution_count": 15,
      "outputs": [
        {
          "output_type": "stream",
          "text": [
            "+-------+-------------------+\n",
            "|summary|                cln|\n",
            "+-------+-------------------+\n",
            "|  count|              87020|\n",
            "|   mean|0.01462882096069869|\n",
            "| stddev|0.12006241797245076|\n",
            "|    min|                  0|\n",
            "|    max|                  1|\n",
            "+-------+-------------------+\n",
            "\n"
          ],
          "name": "stdout"
        }
      ]
    },
    {
      "cell_type": "code",
      "metadata": {
        "id": "BMlfKsWT790I"
      },
      "source": [
        "tmp.createOrReplaceTempView(\"tmp\")"
      ],
      "execution_count": 16,
      "outputs": []
    },
    {
      "cell_type": "code",
      "metadata": {
        "colab": {
          "base_uri": "https://localhost:8080/"
        },
        "id": "24ugnA6F-QML",
        "outputId": "177b2113-ff67-43c1-d26d-50e7c7da793b"
      },
      "source": [
        "# max/min/avg udzielonej pożyczki\n",
        "\n",
        "spark.sql('select max(Loan_Amount_Applied) as Max_Loan_Amount, min(Loan_Amount_Applied) as Min_Loan_Amount, avg(Loan_Amount_Applied) as Avg_Loan_Amout \\\n",
        "      from tmp \\\n",
        "      where Disbursed == 1').show()"
      ],
      "execution_count": 17,
      "outputs": [
        {
          "output_type": "stream",
          "text": [
            "+---------------+---------------+-----------------+\n",
            "|Max_Loan_Amount|Min_Loan_Amount|   Avg_Loan_Amout|\n",
            "+---------------+---------------+-----------------+\n",
            "|        3000000|              0|325259.2482325216|\n",
            "+---------------+---------------+-----------------+\n",
            "\n"
          ],
          "name": "stdout"
        }
      ]
    },
    {
      "cell_type": "code",
      "metadata": {
        "colab": {
          "base_uri": "https://localhost:8080/"
        },
        "id": "mfqncZOv_HAB",
        "outputId": "af0475af-62f7-4326-e862-8e7c1a13b689"
      },
      "source": [
        "# sprawdzenie unikalności danych\n",
        "tmp.groupBy(\"Device_Type\").count().show()\n",
        "tmp.groupBy(\"Gender\").count().show()\n",
        "tmp.groupBy(\"Filled_Form\").count().show()\n",
        "tmp.groupBy(\"Source\").count().show()\n",
        "tmp.groupBy(\"Mobile_Verified\").count().show()"
      ],
      "execution_count": 18,
      "outputs": [
        {
          "output_type": "stream",
          "text": [
            "+-----------+-----+\n",
            "|Device_Type|count|\n",
            "+-----------+-----+\n",
            "|Web-browser|64316|\n",
            "|     Mobile|22704|\n",
            "+-----------+-----+\n",
            "\n",
            "+------+-----+\n",
            "|Gender|count|\n",
            "+------+-----+\n",
            "|Female|37172|\n",
            "|  Male|49848|\n",
            "+------+-----+\n",
            "\n",
            "+-----------+-----+\n",
            "|Filled_Form|count|\n",
            "+-----------+-----+\n",
            "|          Y|19490|\n",
            "|          N|67530|\n",
            "+-----------+-----+\n",
            "\n",
            "+------+-----+\n",
            "|Source|count|\n",
            "+------+-----+\n",
            "|  S155|    4|\n",
            "|  S143| 4332|\n",
            "|  S158|  208|\n",
            "|  S151|  720|\n",
            "|  S162|   36|\n",
            "|  S136|    3|\n",
            "|  S157|  650|\n",
            "|  S160|   11|\n",
            "|  S159| 5599|\n",
            "|  S161|  769|\n",
            "|  S129|    3|\n",
            "|  S135|    2|\n",
            "|  S125|    1|\n",
            "|  S156|  308|\n",
            "|  S154|    1|\n",
            "|  S150|   10|\n",
            "|  S138|    3|\n",
            "|  S122|38567|\n",
            "|  S133|29885|\n",
            "|  S123|   73|\n",
            "+------+-----+\n",
            "only showing top 20 rows\n",
            "\n",
            "+---------------+-----+\n",
            "|Mobile_Verified|count|\n",
            "+---------------+-----+\n",
            "|              Y|56481|\n",
            "|              N|30539|\n",
            "+---------------+-----+\n",
            "\n"
          ],
          "name": "stdout"
        }
      ]
    },
    {
      "cell_type": "markdown",
      "metadata": {
        "id": "TudwkiFHx_24"
      },
      "source": [
        "Konwersja danych"
      ]
    },
    {
      "cell_type": "code",
      "metadata": {
        "id": "vm77QKkGxQ3k"
      },
      "source": [
        "from pyspark.sql.functions import col, when"
      ],
      "execution_count": 19,
      "outputs": []
    },
    {
      "cell_type": "code",
      "metadata": {
        "colab": {
          "base_uri": "https://localhost:8080/"
        },
        "id": "asN3ScKFbDSF",
        "outputId": "f67ca7c0-f2e0-46f4-fee9-0853738ba818"
      },
      "source": [
        "tmp1 = tmp.select(col(\"*\"), when(col(\"Gender\") == \"Male\",1)\n",
        "      .when(col(\"Gender\") == \"Female\",0).alias(\"new_gender\"), when(col(\"Filled_Form\") == \"Y\",1)\n",
        "      .when(col(\"Filled_Form\") == \"N\",0).alias(\"new_Filled_Form\"), when(col(\"Device_Type\") == \"Web-browser\",1)\n",
        "      .when(col(\"Device_Type\") == \"Mobile\",0).alias(\"new_Device_Type\"), when(col(\"Mobile_Verified\") == \"Y\",1)\n",
        "      .when(col(\"Mobile_Verified\") == \"N\",0).alias(\"new_Mobile_Verified\"))\n",
        "tmp1.show()"
      ],
      "execution_count": 20,
      "outputs": [
        {
          "output_type": "stream",
          "text": [
            "+-----------+------+-----------+--------------+---------+------------------+-------------------+-------------------+------------+--------------------+--------------------+---------------+----+----+---------------------+---------------------+-------------+--------------+------------------+-----------+-----------+----+------+----+---------+----------+---------------+---------------+-------------------+\n",
            "|         ID|Gender|       City|Monthly_Income|      DOB|Lead_Creation_Date|Loan_Amount_Applied|Loan_Tenure_Applied|Existing_EMI|       Employer_Name|      Salary_Account|Mobile_Verified|Var5|Var1|Loan_Amount_Submitted|Loan_Tenure_Submitted|Interest_Rate|Processing_Fee|EMI_Loan_Submitted|Filled_Form|Device_Type|Var2|Source|Var4|Disbursed|new_gender|new_Filled_Form|new_Device_Type|new_Mobile_Verified|\n",
            "+-----------+------+-----------+--------------+---------+------------------+-------------------+-------------------+------------+--------------------+--------------------+---------------+----+----+---------------------+---------------------+-------------+--------------+------------------+-----------+-----------+----+------+----+---------+----------+---------------+---------------+-------------------+\n",
            "|ID000002C20|Female|      Delhi|         20000|23-May-78|         15-May-15|             300000|                  5|         0.0|             CYBOSOL|           HDFC Bank|              N|   0|HBXX|                    0|                    0|          0.0|             0|               0.0|          N|Web-browser|   G|  S122|   1|        0|         0|              0|              1|                  0|\n",
            "|ID000004E40|  Male|     Mumbai|         35000|07-Oct-85|         04-May-15|             200000|                  2|         0.0|TATA CONSULTANCY ...|          ICICI Bank|              Y|  13|HBXA|               200000|                    2|        13.25|             0|            6762.9|          N|Web-browser|   G|  S122|   3|        0|         1|              0|              1|                  1|\n",
            "|ID000007H20|  Male|  Panchkula|         22500|10-Oct-81|         19-May-15|             600000|                  4|         0.0|ALCHEMIST HOSPITA...| State Bank of India|              Y|   0|HBXX|               450000|                    4|          0.0|             0|               0.0|          N|Web-browser|   B|  S143|   1|        0|         1|              0|              1|                  1|\n",
            "|ID000008I30|  Male|    Saharsa|         35000|30-Nov-87|         09-May-15|            1000000|                  5|         0.0|    BIHAR GOVERNMENT| State Bank of India|              Y|  10|HBXX|               920000|                    5|          0.0|             0|               0.0|          N|Web-browser|   B|  S143|   3|        0|         1|              0|              1|                  1|\n",
            "|ID000009J40|  Male|  Bengaluru|        100000|17-Feb-84|         20-May-15|             500000|                  2|     25000.0|GLOBAL EDGE SOFTWARE|           HDFC Bank|              Y|  17|HBXX|               500000|                    2|          0.0|             0|               0.0|          N|Web-browser|   B|  S134|   3|        0|         1|              0|              1|                  1|\n",
            "|ID000010K00|  Male|  Bengaluru|         45000|21-Apr-82|         20-May-15|             300000|                  5|     15000.0|COGNIZANT TECHNOL...|                HSBC|              Y|  17|HAXM|               300000|                    5|        13.99|          1500|           6978.92|          N|Web-browser|   B|  S143|   3|        0|         1|              0|              1|                  1|\n",
            "|ID000011L10|Female| Sindhudurg|         70000|23-Oct-87|         01-May-15|                  6|                  5|         0.0|CARNIVAL CRUISE LINE|            Yes Bank|              N|   0|HBXX|                    0|                    0|          0.0|             0|               0.0|          N|Web-browser|   B|  S133|   1|        0|         0|              0|              1|                  0|\n",
            "|ID000012M20|  Male|  Bengaluru|         20000|25-Jul-75|         20-May-15|             200000|                  5|      2597.0|GOLDEN TULIP FLOR...|                null|              Y|   3|HBXX|               200000|                    5|          0.0|             0|               0.0|          N|Web-browser|   B|  S159|   3|        0|         1|              0|              1|                  1|\n",
            "|ID000013N30|  Male|      Kochi|         75000|26-Jan-72|         02-May-15|                  0|                  0|         0.0|        SIIS PVT LTD| State Bank of India|              Y|  13|HAXB|              1300000|                    5|        14.85|         26000|          30824.65|          Y|     Mobile|   C|  S122|   5|        0|         1|              1|              0|                  1|\n",
            "|ID000014O40|Female|     Mumbai|         30000|12-Sep-89|         03-May-15|             300000|                  3|         0.0|      SOUNDCLOUD.COM|          Kotak Bank|              Y|   0|HBXC|               300000|                    3|        18.25|          1500|          10883.38|          N|Web-browser|   B|  S133|   1|        0|         0|              0|              1|                  1|\n",
            "|ID000016Q10|  Male|     Mumbai|         25000|01-Jan-76|         02-May-15|            1000000|                  5|         0.0|       KRISHNA KUMAR|Indian Overseas Bank|              Y|  11|HBXC|               660000|                    5|         20.0|          6600|          17485.96|          N|Web-browser|   B|  S133|   4|        0|         1|              0|              1|                  1|\n",
            "|ID000018S30|Female|      Surat|         25000|13-Oct-89|         02-May-15|             140000|                  4|         0.0|S D JAIN MODERN S...|                null|              N|   0|HBXX|                    0|                    0|          0.0|             0|               0.0|          N|Web-browser|   B|  S122|   1|        0|         0|              0|              1|                  0|\n",
            "|ID000019T40|Female|       Pune|         24000|22-May-90|         02-May-15|             500000|                  4|         0.0|K.E.M. HOSPITAL R...| Bank of Maharasthra|              N|   0|HBXX|                    0|                    0|          0.0|             0|               0.0|          N|Web-browser|   B|  S133|   1|        0|         0|              0|              1|                  0|\n",
            "|ID000021V10|  Male|Bhubaneswar|         27000|24-Jun-82|         09-May-15|             200000|                  5|      4600.0|GI STAFFING SERVI...| State Bank of India|              Y|  11|HBXD|               200000|                    5|         18.0|          4500|           5078.69|          N|Web-browser|   B|  S133|   4|        0|         1|              0|              1|                  1|\n",
            "|ID000022W20|Female|     Howrah|         28000|09-Feb-89|         13-May-15|             100000|                  1|      1200.0|MCX STOCK EXCHANG...|           HDFC Bank|              N|   0|HBXX|                    0|                    0|          0.0|             0|               0.0|          N|Web-browser|   B|  S151|   1|        0|         0|              0|              1|                  0|\n",
            "|ID000023X30|  Male|    Chennai|         42000|08-May-82|         05-May-15|             500000|                  3|         0.0|  SMEC INDIA PVT LTD| State Bank of India|              Y|  14|HBXX|               500000|                    3|          0.0|             0|               0.0|          N|Web-browser|   B|  S159|   3|        0|         1|              0|              1|                  1|\n",
            "|ID000024Y40|  Male|   Ludhiana|         28994|11-Oct-85|         08-May-15|             300000|                  5|      2550.0|  UNIPARTS INDIA LTD|          Kotak Bank|              Y|   0|HBXH|               300000|                    5|         15.5|          6000|           7215.96|          N|Web-browser|   E|  S122|   1|        0|         1|              0|              1|                  1|\n",
            "|ID000025Z00|Female|      Delhi|         20000|06-Jan-90|         01-May-15|             100000|                  5|         0.0|   INTEC CAPITAL LTD|           HDFC Bank|              N|   0|HBXX|                    0|                    0|          0.0|             0|               0.0|          N|Web-browser|   B|  S122|   1|        0|         0|              0|              1|                  0|\n",
            "|ID000027B20|Female|  Bengaluru|         33000|14-Jul-76|         24-May-15|             500000|                  5|      7000.0|         N RAVIKUMAR|           Axis Bank|              N|   0|HBXX|                    0|                    0|          0.0|             0|               0.0|          N|Web-browser|   E|  S133|   1|        0|         0|              0|              1|                  0|\n",
            "|ID000028C30|  Male|  Panchkula|         31500|29-Aug-82|         01-May-15|             500000|                  5|     10000.0|S P SINGLA CONSTR...|           Axis Bank|              Y|  12|HBXX|               450000|                    5|          0.0|             0|               0.0|          N|Web-browser|   E|  S133|   3|        0|         1|              0|              1|                  1|\n",
            "+-----------+------+-----------+--------------+---------+------------------+-------------------+-------------------+------------+--------------------+--------------------+---------------+----+----+---------------------+---------------------+-------------+--------------+------------------+-----------+-----------+----+------+----+---------+----------+---------------+---------------+-------------------+\n",
            "only showing top 20 rows\n",
            "\n"
          ],
          "name": "stdout"
        }
      ]
    },
    {
      "cell_type": "code",
      "metadata": {
        "colab": {
          "base_uri": "https://localhost:8080/"
        },
        "id": "inVf9aLSyu07",
        "outputId": "4a878830-0d39-4e26-fc7d-1449ac9f71ab"
      },
      "source": [
        "tmp2 = tmp1.drop(\"Gender\", \"Mobile_Veified\", \"Device_Type\", \"ID\", \"Filled_Form\")\r\n",
        "tmp2.show()\r\n"
      ],
      "execution_count": 22,
      "outputs": [
        {
          "output_type": "stream",
          "text": [
            "+-----------+--------------+---------+------------------+-------------------+-------------------+------------+--------------------+--------------------+---------------+----+----+---------------------+---------------------+-------------+--------------+------------------+----+------+----+---------+----------+---------------+---------------+-------------------+\n",
            "|       City|Monthly_Income|      DOB|Lead_Creation_Date|Loan_Amount_Applied|Loan_Tenure_Applied|Existing_EMI|       Employer_Name|      Salary_Account|Mobile_Verified|Var5|Var1|Loan_Amount_Submitted|Loan_Tenure_Submitted|Interest_Rate|Processing_Fee|EMI_Loan_Submitted|Var2|Source|Var4|Disbursed|new_gender|new_Filled_Form|new_Device_Type|new_Mobile_Verified|\n",
            "+-----------+--------------+---------+------------------+-------------------+-------------------+------------+--------------------+--------------------+---------------+----+----+---------------------+---------------------+-------------+--------------+------------------+----+------+----+---------+----------+---------------+---------------+-------------------+\n",
            "|      Delhi|         20000|23-May-78|         15-May-15|             300000|                  5|         0.0|             CYBOSOL|           HDFC Bank|              N|   0|HBXX|                    0|                    0|          0.0|             0|               0.0|   G|  S122|   1|        0|         0|              0|              1|                  0|\n",
            "|     Mumbai|         35000|07-Oct-85|         04-May-15|             200000|                  2|         0.0|TATA CONSULTANCY ...|          ICICI Bank|              Y|  13|HBXA|               200000|                    2|        13.25|             0|            6762.9|   G|  S122|   3|        0|         1|              0|              1|                  1|\n",
            "|  Panchkula|         22500|10-Oct-81|         19-May-15|             600000|                  4|         0.0|ALCHEMIST HOSPITA...| State Bank of India|              Y|   0|HBXX|               450000|                    4|          0.0|             0|               0.0|   B|  S143|   1|        0|         1|              0|              1|                  1|\n",
            "|    Saharsa|         35000|30-Nov-87|         09-May-15|            1000000|                  5|         0.0|    BIHAR GOVERNMENT| State Bank of India|              Y|  10|HBXX|               920000|                    5|          0.0|             0|               0.0|   B|  S143|   3|        0|         1|              0|              1|                  1|\n",
            "|  Bengaluru|        100000|17-Feb-84|         20-May-15|             500000|                  2|     25000.0|GLOBAL EDGE SOFTWARE|           HDFC Bank|              Y|  17|HBXX|               500000|                    2|          0.0|             0|               0.0|   B|  S134|   3|        0|         1|              0|              1|                  1|\n",
            "|  Bengaluru|         45000|21-Apr-82|         20-May-15|             300000|                  5|     15000.0|COGNIZANT TECHNOL...|                HSBC|              Y|  17|HAXM|               300000|                    5|        13.99|          1500|           6978.92|   B|  S143|   3|        0|         1|              0|              1|                  1|\n",
            "| Sindhudurg|         70000|23-Oct-87|         01-May-15|                  6|                  5|         0.0|CARNIVAL CRUISE LINE|            Yes Bank|              N|   0|HBXX|                    0|                    0|          0.0|             0|               0.0|   B|  S133|   1|        0|         0|              0|              1|                  0|\n",
            "|  Bengaluru|         20000|25-Jul-75|         20-May-15|             200000|                  5|      2597.0|GOLDEN TULIP FLOR...|                null|              Y|   3|HBXX|               200000|                    5|          0.0|             0|               0.0|   B|  S159|   3|        0|         1|              0|              1|                  1|\n",
            "|      Kochi|         75000|26-Jan-72|         02-May-15|                  0|                  0|         0.0|        SIIS PVT LTD| State Bank of India|              Y|  13|HAXB|              1300000|                    5|        14.85|         26000|          30824.65|   C|  S122|   5|        0|         1|              1|              0|                  1|\n",
            "|     Mumbai|         30000|12-Sep-89|         03-May-15|             300000|                  3|         0.0|      SOUNDCLOUD.COM|          Kotak Bank|              Y|   0|HBXC|               300000|                    3|        18.25|          1500|          10883.38|   B|  S133|   1|        0|         0|              0|              1|                  1|\n",
            "|     Mumbai|         25000|01-Jan-76|         02-May-15|            1000000|                  5|         0.0|       KRISHNA KUMAR|Indian Overseas Bank|              Y|  11|HBXC|               660000|                    5|         20.0|          6600|          17485.96|   B|  S133|   4|        0|         1|              0|              1|                  1|\n",
            "|      Surat|         25000|13-Oct-89|         02-May-15|             140000|                  4|         0.0|S D JAIN MODERN S...|                null|              N|   0|HBXX|                    0|                    0|          0.0|             0|               0.0|   B|  S122|   1|        0|         0|              0|              1|                  0|\n",
            "|       Pune|         24000|22-May-90|         02-May-15|             500000|                  4|         0.0|K.E.M. HOSPITAL R...| Bank of Maharasthra|              N|   0|HBXX|                    0|                    0|          0.0|             0|               0.0|   B|  S133|   1|        0|         0|              0|              1|                  0|\n",
            "|Bhubaneswar|         27000|24-Jun-82|         09-May-15|             200000|                  5|      4600.0|GI STAFFING SERVI...| State Bank of India|              Y|  11|HBXD|               200000|                    5|         18.0|          4500|           5078.69|   B|  S133|   4|        0|         1|              0|              1|                  1|\n",
            "|     Howrah|         28000|09-Feb-89|         13-May-15|             100000|                  1|      1200.0|MCX STOCK EXCHANG...|           HDFC Bank|              N|   0|HBXX|                    0|                    0|          0.0|             0|               0.0|   B|  S151|   1|        0|         0|              0|              1|                  0|\n",
            "|    Chennai|         42000|08-May-82|         05-May-15|             500000|                  3|         0.0|  SMEC INDIA PVT LTD| State Bank of India|              Y|  14|HBXX|               500000|                    3|          0.0|             0|               0.0|   B|  S159|   3|        0|         1|              0|              1|                  1|\n",
            "|   Ludhiana|         28994|11-Oct-85|         08-May-15|             300000|                  5|      2550.0|  UNIPARTS INDIA LTD|          Kotak Bank|              Y|   0|HBXH|               300000|                    5|         15.5|          6000|           7215.96|   E|  S122|   1|        0|         1|              0|              1|                  1|\n",
            "|      Delhi|         20000|06-Jan-90|         01-May-15|             100000|                  5|         0.0|   INTEC CAPITAL LTD|           HDFC Bank|              N|   0|HBXX|                    0|                    0|          0.0|             0|               0.0|   B|  S122|   1|        0|         0|              0|              1|                  0|\n",
            "|  Bengaluru|         33000|14-Jul-76|         24-May-15|             500000|                  5|      7000.0|         N RAVIKUMAR|           Axis Bank|              N|   0|HBXX|                    0|                    0|          0.0|             0|               0.0|   E|  S133|   1|        0|         0|              0|              1|                  0|\n",
            "|  Panchkula|         31500|29-Aug-82|         01-May-15|             500000|                  5|     10000.0|S P SINGLA CONSTR...|           Axis Bank|              Y|  12|HBXX|               450000|                    5|          0.0|             0|               0.0|   E|  S133|   3|        0|         1|              0|              1|                  1|\n",
            "+-----------+--------------+---------+------------------+-------------------+-------------------+------------+--------------------+--------------------+---------------+----+----+---------------------+---------------------+-------------+--------------+------------------+----+------+----+---------+----------+---------------+---------------+-------------------+\n",
            "only showing top 20 rows\n",
            "\n"
          ],
          "name": "stdout"
        }
      ]
    },
    {
      "cell_type": "code",
      "metadata": {
        "colab": {
          "base_uri": "https://localhost:8080/"
        },
        "id": "-hz8_S6KzM2v",
        "outputId": "5496c441-8b41-45f0-c367-2310759a1685"
      },
      "source": [
        "tmp2.select(\"Employer_Name\", \"Disbursed\").groupBy(\"Employer_Name\").sum().orderBy(f.desc(\"sum(Disbursed)\")).show()"
      ],
      "execution_count": 23,
      "outputs": [
        {
          "output_type": "stream",
          "text": [
            "+--------------------+--------------+\n",
            "|       Employer_Name|sum(Disbursed)|\n",
            "+--------------------+--------------+\n",
            "|TATA CONSULTANCY ...|            21|\n",
            "|ACCENTURE SERVICE...|            12|\n",
            "|COGNIZANT TECHNOL...|            10|\n",
            "|      INDIAN RAILWAY|             7|\n",
            "|HCL TECHNOLOGIES LTD|             7|\n",
            "|             GENPACT|             7|\n",
            "|           CIPLA LTD|             5|\n",
            "|              OTHERS|             5|\n",
            "|  HCL AVITAS PVT LTD|             5|\n",
            "|IBM GLOBAL SERVIC...|             5|\n",
            "|TCS AND ASSOCIATE...|             5|\n",
            "|                   0|             5|\n",
            "|     IBM CORPORATION|             4|\n",
            "|ERICSSON INDIA GL...|             4|\n",
            "|                BSNL|             4|\n",
            "|HCL - HEWLETT-PAC...|             4|\n",
            "|CAPGEMINI INDIA P...|             4|\n",
            "|   IDEA CELLULAR LTD|             4|\n",
            "|TYPE SLOWLY FOR A...|             4|\n",
            "|HSBC ELECTRONIC D...|             4|\n",
            "+--------------------+--------------+\n",
            "only showing top 20 rows\n",
            "\n"
          ],
          "name": "stdout"
        }
      ]
    },
    {
      "cell_type": "code",
      "metadata": {
        "colab": {
          "base_uri": "https://localhost:8080/"
        },
        "id": "55eLhRwR8WjX",
        "outputId": "b59df831-3b9a-4029-cbb2-ddb52b261129"
      },
      "source": [
        "tmp2 = tmp2.fillna(0)\r\n",
        "tmp2.show()"
      ],
      "execution_count": 24,
      "outputs": [
        {
          "output_type": "stream",
          "text": [
            "+-----------+--------------+---------+------------------+-------------------+-------------------+------------+--------------------+--------------------+---------------+----+----+---------------------+---------------------+-------------+--------------+------------------+----+------+----+---------+----------+---------------+---------------+-------------------+\n",
            "|       City|Monthly_Income|      DOB|Lead_Creation_Date|Loan_Amount_Applied|Loan_Tenure_Applied|Existing_EMI|       Employer_Name|      Salary_Account|Mobile_Verified|Var5|Var1|Loan_Amount_Submitted|Loan_Tenure_Submitted|Interest_Rate|Processing_Fee|EMI_Loan_Submitted|Var2|Source|Var4|Disbursed|new_gender|new_Filled_Form|new_Device_Type|new_Mobile_Verified|\n",
            "+-----------+--------------+---------+------------------+-------------------+-------------------+------------+--------------------+--------------------+---------------+----+----+---------------------+---------------------+-------------+--------------+------------------+----+------+----+---------+----------+---------------+---------------+-------------------+\n",
            "|      Delhi|         20000|23-May-78|         15-May-15|             300000|                  5|         0.0|             CYBOSOL|           HDFC Bank|              N|   0|HBXX|                    0|                    0|          0.0|             0|               0.0|   G|  S122|   1|        0|         0|              0|              1|                  0|\n",
            "|     Mumbai|         35000|07-Oct-85|         04-May-15|             200000|                  2|         0.0|TATA CONSULTANCY ...|          ICICI Bank|              Y|  13|HBXA|               200000|                    2|        13.25|             0|            6762.9|   G|  S122|   3|        0|         1|              0|              1|                  1|\n",
            "|  Panchkula|         22500|10-Oct-81|         19-May-15|             600000|                  4|         0.0|ALCHEMIST HOSPITA...| State Bank of India|              Y|   0|HBXX|               450000|                    4|          0.0|             0|               0.0|   B|  S143|   1|        0|         1|              0|              1|                  1|\n",
            "|    Saharsa|         35000|30-Nov-87|         09-May-15|            1000000|                  5|         0.0|    BIHAR GOVERNMENT| State Bank of India|              Y|  10|HBXX|               920000|                    5|          0.0|             0|               0.0|   B|  S143|   3|        0|         1|              0|              1|                  1|\n",
            "|  Bengaluru|        100000|17-Feb-84|         20-May-15|             500000|                  2|     25000.0|GLOBAL EDGE SOFTWARE|           HDFC Bank|              Y|  17|HBXX|               500000|                    2|          0.0|             0|               0.0|   B|  S134|   3|        0|         1|              0|              1|                  1|\n",
            "|  Bengaluru|         45000|21-Apr-82|         20-May-15|             300000|                  5|     15000.0|COGNIZANT TECHNOL...|                HSBC|              Y|  17|HAXM|               300000|                    5|        13.99|          1500|           6978.92|   B|  S143|   3|        0|         1|              0|              1|                  1|\n",
            "| Sindhudurg|         70000|23-Oct-87|         01-May-15|                  6|                  5|         0.0|CARNIVAL CRUISE LINE|            Yes Bank|              N|   0|HBXX|                    0|                    0|          0.0|             0|               0.0|   B|  S133|   1|        0|         0|              0|              1|                  0|\n",
            "|  Bengaluru|         20000|25-Jul-75|         20-May-15|             200000|                  5|      2597.0|GOLDEN TULIP FLOR...|                null|              Y|   3|HBXX|               200000|                    5|          0.0|             0|               0.0|   B|  S159|   3|        0|         1|              0|              1|                  1|\n",
            "|      Kochi|         75000|26-Jan-72|         02-May-15|                  0|                  0|         0.0|        SIIS PVT LTD| State Bank of India|              Y|  13|HAXB|              1300000|                    5|        14.85|         26000|          30824.65|   C|  S122|   5|        0|         1|              1|              0|                  1|\n",
            "|     Mumbai|         30000|12-Sep-89|         03-May-15|             300000|                  3|         0.0|      SOUNDCLOUD.COM|          Kotak Bank|              Y|   0|HBXC|               300000|                    3|        18.25|          1500|          10883.38|   B|  S133|   1|        0|         0|              0|              1|                  1|\n",
            "|     Mumbai|         25000|01-Jan-76|         02-May-15|            1000000|                  5|         0.0|       KRISHNA KUMAR|Indian Overseas Bank|              Y|  11|HBXC|               660000|                    5|         20.0|          6600|          17485.96|   B|  S133|   4|        0|         1|              0|              1|                  1|\n",
            "|      Surat|         25000|13-Oct-89|         02-May-15|             140000|                  4|         0.0|S D JAIN MODERN S...|                null|              N|   0|HBXX|                    0|                    0|          0.0|             0|               0.0|   B|  S122|   1|        0|         0|              0|              1|                  0|\n",
            "|       Pune|         24000|22-May-90|         02-May-15|             500000|                  4|         0.0|K.E.M. HOSPITAL R...| Bank of Maharasthra|              N|   0|HBXX|                    0|                    0|          0.0|             0|               0.0|   B|  S133|   1|        0|         0|              0|              1|                  0|\n",
            "|Bhubaneswar|         27000|24-Jun-82|         09-May-15|             200000|                  5|      4600.0|GI STAFFING SERVI...| State Bank of India|              Y|  11|HBXD|               200000|                    5|         18.0|          4500|           5078.69|   B|  S133|   4|        0|         1|              0|              1|                  1|\n",
            "|     Howrah|         28000|09-Feb-89|         13-May-15|             100000|                  1|      1200.0|MCX STOCK EXCHANG...|           HDFC Bank|              N|   0|HBXX|                    0|                    0|          0.0|             0|               0.0|   B|  S151|   1|        0|         0|              0|              1|                  0|\n",
            "|    Chennai|         42000|08-May-82|         05-May-15|             500000|                  3|         0.0|  SMEC INDIA PVT LTD| State Bank of India|              Y|  14|HBXX|               500000|                    3|          0.0|             0|               0.0|   B|  S159|   3|        0|         1|              0|              1|                  1|\n",
            "|   Ludhiana|         28994|11-Oct-85|         08-May-15|             300000|                  5|      2550.0|  UNIPARTS INDIA LTD|          Kotak Bank|              Y|   0|HBXH|               300000|                    5|         15.5|          6000|           7215.96|   E|  S122|   1|        0|         1|              0|              1|                  1|\n",
            "|      Delhi|         20000|06-Jan-90|         01-May-15|             100000|                  5|         0.0|   INTEC CAPITAL LTD|           HDFC Bank|              N|   0|HBXX|                    0|                    0|          0.0|             0|               0.0|   B|  S122|   1|        0|         0|              0|              1|                  0|\n",
            "|  Bengaluru|         33000|14-Jul-76|         24-May-15|             500000|                  5|      7000.0|         N RAVIKUMAR|           Axis Bank|              N|   0|HBXX|                    0|                    0|          0.0|             0|               0.0|   E|  S133|   1|        0|         0|              0|              1|                  0|\n",
            "|  Panchkula|         31500|29-Aug-82|         01-May-15|             500000|                  5|     10000.0|S P SINGLA CONSTR...|           Axis Bank|              Y|  12|HBXX|               450000|                    5|          0.0|             0|               0.0|   E|  S133|   3|        0|         1|              0|              1|                  1|\n",
            "+-----------+--------------+---------+------------------+-------------------+-------------------+------------+--------------------+--------------------+---------------+----+----+---------------------+---------------------+-------------+--------------+------------------+----+------+----+---------+----------+---------------+---------------+-------------------+\n",
            "only showing top 20 rows\n",
            "\n"
          ],
          "name": "stdout"
        }
      ]
    },
    {
      "cell_type": "code",
      "metadata": {
        "id": "_Hr5X9TEh3S6"
      },
      "source": [
        "df_t, df_e = tmp2.randomSplit([0.7, 0.3], 42)"
      ],
      "execution_count": 25,
      "outputs": []
    },
    {
      "cell_type": "code",
      "metadata": {
        "colab": {
          "base_uri": "https://localhost:8080/"
        },
        "id": "rxM6Wj90m-fE",
        "outputId": "ffdf9fbe-ea76-4302-9648-2b2f4fcbfee1"
      },
      "source": [
        "df_t.show()"
      ],
      "execution_count": 26,
      "outputs": [
        {
          "output_type": "stream",
          "text": [
            "+--------+--------------+---------+------------------+-------------------+-------------------+------------+--------------------+-------------------+---------------+----+----+---------------------+---------------------+-------------+--------------+------------------+----+------+----+---------+----------+---------------+---------------+-------------------+\n",
            "|    City|Monthly_Income|      DOB|Lead_Creation_Date|Loan_Amount_Applied|Loan_Tenure_Applied|Existing_EMI|       Employer_Name|     Salary_Account|Mobile_Verified|Var5|Var1|Loan_Amount_Submitted|Loan_Tenure_Submitted|Interest_Rate|Processing_Fee|EMI_Loan_Submitted|Var2|Source|Var4|Disbursed|new_gender|new_Filled_Form|new_Device_Type|new_Mobile_Verified|\n",
            "+--------+--------------+---------+------------------+-------------------+-------------------+------------+--------------------+-------------------+---------------+----+----+---------------------+---------------------+-------------+--------------+------------------+----+------+----+---------+----------+---------------+---------------+-------------------+\n",
            "|    null|         25000|08-Jul-77|         16-Jun-15|                  0|                  0|         0.0|                   0|               null|              Y|   0|HBXX|                    0|                    0|          0.0|             0|               0.0|   G|  S122|   6|        0|         1|              0|              1|                  1|\n",
            "|    null|         41667|10-Jan-86|         16-Jun-15|                  0|                  0|         0.0|                   0|               null|              Y|   0|HBXX|                    0|                    0|          0.0|             0|               0.0|   G|  S122|   6|        0|         1|              0|              1|                  1|\n",
            "|    null|         75000|27-Oct-88|         19-May-15|                  0|                  0|         0.0|                   0|               null|              Y|   0|HBXX|                    0|                    0|          0.0|             0|               0.0|   G|  S122|   6|        0|         1|              0|              1|                  1|\n",
            "|    null|         75000|27-Oct-88|         19-May-15|                  0|                  0|         0.0|                   0|               null|              Y|   0|HBXX|                    0|                    0|          0.0|             0|               0.0|   G|  S122|   6|        0|         1|              0|              1|                  1|\n",
            "|    null|         75000|27-Oct-88|         19-May-15|                  0|                  0|         0.0|                   0|               null|              Y|   0|HBXX|                    0|                    0|          0.0|             0|               0.0|   G|  S122|   6|        0|         1|              0|              1|                  1|\n",
            "|  ADIPUR|         10000|09-Oct-94|         21-Jun-15|             100000|                  1|         0.0|EVEREST SHIPPING ...|               null|              N|   0|HBXX|                    0|                    0|          0.0|             0|               0.0|   B|  S159|   1|        0|         0|              0|              1|                  0|\n",
            "|  ADIPUR|         12000|10-Apr-92|         07-May-15|              50000|                  2|         0.0|    WELSPUN CORP LTD|         ICICI Bank|              N|   0|HBXX|                    0|                    0|          0.0|             0|               0.0|   B|  S143|   1|        0|         0|              0|              1|                  0|\n",
            "|  ADIPUR|         22000|17-Apr-93|         02-May-15|             300000|                  3|         0.0|    WELSPUN CORP LTD|         ICICI Bank|              Y|   3|HBXX|               300000|                    3|          0.0|             0|               0.0|   B|  S122|   3|        0|         1|              0|              1|                  1|\n",
            "|  AHMEDB|         10000|17-Aug-75|         27-Jun-15|            1000000|                  0|      7000.0|               DHRUV|State Bank of India|              N|   0|HBXX|                    0|                    0|          0.0|             0|               0.0|   B|  S157|   1|        0|         0|              0|              1|                  0|\n",
            "|   ANJAR|         80000|14-Apr-85|         14-Jun-15|             100000|                  3|     33000.0|COGNIZANT INDIA P...|          Axis Bank|              N|   0|HBXX|                    0|                    0|          0.0|             0|               0.0|   B|  S133|   1|        0|         0|              0|              1|                  0|\n",
            "|  Abohar|         51230|18-Sep-63|         26-Jun-15|             500000|                  5|      9000.0|        RAM CHANDER |        Andhra Bank|              Y|   8|HBXX|               500000|                    5|          0.0|             0|               0.0|   B|  S133|   3|        0|         1|              0|              1|                  1|\n",
            "|  Abohar|        200000|08-Apr-91|         01-Jul-15|             200000|                  1|      5000.0|             TCI XPS|               null|              Y|   9|HBXX|               200000|                    1|          0.0|             0|               0.0|   G|  S122|   2|        0|         1|              0|              1|                  1|\n",
            "|Adilabad|          6000|01-May-86|         12-Jun-15|             300000|                  5|         0.0|      BEDA THIRUMALA|               null|              N|   0|HBXX|                    0|                    0|          0.0|             0|               0.0|   B|  S133|   1|        0|         0|              0|              1|                  0|\n",
            "|Adilabad|         10000|10-Jun-90|         13-Jun-15|             100000|                  3|      2000.0|  STAFFING CORPORATE| Lakshmi Vilas bank|              N|   0|HBXX|                    0|                    0|          0.0|             0|               0.0|   B|  S159|   1|        0|         0|              0|              1|                  0|\n",
            "|Adilabad|         15097|01-Aug-89|         08-Jun-15|             200000|                  2|         0.0|   KADIRI SATHYANAND|         ICICI Bank|              Y|   1|HBXX|               170000|                    2|          0.0|             0|               0.0|   B|  S159|   2|        0|         1|              0|              1|                  1|\n",
            "|Adilabad|         15097|01-Aug-89|         30-Jun-15|             200000|                  0|         0.0|PIPAL TREE VENTUR...|         ICICI Bank|              N|   0|HBXX|                    0|                    0|          0.0|             0|               0.0|   B|  S159|   1|        0|         0|              0|              1|                  0|\n",
            "|Adilabad|         20000|08-Dec-82|         09-May-15|             300000|                  3|      4000.0|SUPERVISION AND A...|               null|              Y|   3|HBXX|               210000|                    3|          0.0|             0|               0.0|   B|  S133|   3|        0|         1|              0|              1|                  1|\n",
            "|Adilabad|         33294|22-Dec-69|         20-Jun-15|             500000|                  5|     10000.0|   RAMAGIRI RAVINDER|               null|              N|   8|HBXX|                    0|                    0|          0.0|             0|               0.0|   B|  S159|   3|        0|         0|              0|              1|                  0|\n",
            "|Adilabad|         48965|07-Feb-88|         02-Jun-15|             200000|                  1|         0.0|VERIZON DATA SERV...|          HDFC Bank|              Y|  11|HAXA|               200000|                    1|        13.99|          1980|          17956.48|   B|  S143|   5|        0|         0|              1|              1|                  1|\n",
            "|Adilabad|         48965|07-Feb-88|         31-May-15|             200000|                  1|      5000.0|   MANJULA CHINTHALA|          HDFC Bank|              Y|  11|HAXA|               200000|                    1|         24.0|          4000|          18911.92|   B|  S122|   5|        0|         0|              1|              1|                  1|\n",
            "+--------+--------------+---------+------------------+-------------------+-------------------+------------+--------------------+-------------------+---------------+----+----+---------------------+---------------------+-------------+--------------+------------------+----+------+----+---------+----------+---------------+---------------+-------------------+\n",
            "only showing top 20 rows\n",
            "\n"
          ],
          "name": "stdout"
        }
      ]
    },
    {
      "cell_type": "code",
      "metadata": {
        "colab": {
          "base_uri": "https://localhost:8080/"
        },
        "id": "Ze87qZpz8eP2",
        "outputId": "52123fad-b30e-4c4b-dfdc-3aab7ad48696"
      },
      "source": [
        "tmp2.printSchema()"
      ],
      "execution_count": 27,
      "outputs": [
        {
          "output_type": "stream",
          "text": [
            "root\n",
            " |-- City: string (nullable = true)\n",
            " |-- Monthly_Income: integer (nullable = true)\n",
            " |-- DOB: string (nullable = true)\n",
            " |-- Lead_Creation_Date: string (nullable = true)\n",
            " |-- Loan_Amount_Applied: integer (nullable = true)\n",
            " |-- Loan_Tenure_Applied: integer (nullable = true)\n",
            " |-- Existing_EMI: double (nullable = false)\n",
            " |-- Employer_Name: string (nullable = true)\n",
            " |-- Salary_Account: string (nullable = true)\n",
            " |-- Mobile_Verified: string (nullable = true)\n",
            " |-- Var5: integer (nullable = true)\n",
            " |-- Var1: string (nullable = true)\n",
            " |-- Loan_Amount_Submitted: integer (nullable = true)\n",
            " |-- Loan_Tenure_Submitted: integer (nullable = true)\n",
            " |-- Interest_Rate: double (nullable = false)\n",
            " |-- Processing_Fee: integer (nullable = true)\n",
            " |-- EMI_Loan_Submitted: double (nullable = false)\n",
            " |-- Var2: string (nullable = true)\n",
            " |-- Source: string (nullable = true)\n",
            " |-- Var4: integer (nullable = true)\n",
            " |-- Disbursed: integer (nullable = true)\n",
            " |-- new_gender: integer (nullable = true)\n",
            " |-- new_Filled_Form: integer (nullable = true)\n",
            " |-- new_Device_Type: integer (nullable = true)\n",
            " |-- new_Mobile_Verified: integer (nullable = true)\n",
            "\n"
          ],
          "name": "stdout"
        }
      ]
    },
    {
      "cell_type": "code",
      "metadata": {
        "colab": {
          "base_uri": "https://localhost:8080/"
        },
        "id": "haZaelzn9RoO",
        "outputId": "353ab7c3-75a5-4f78-f757-9866dd64df01"
      },
      "source": [
        "tmp2.show(3, vertical=True)"
      ],
      "execution_count": 28,
      "outputs": [
        {
          "output_type": "stream",
          "text": [
            "-RECORD 0-------------------------------------\n",
            " City                  | Delhi                \n",
            " Monthly_Income        | 20000                \n",
            " DOB                   | 23-May-78            \n",
            " Lead_Creation_Date    | 15-May-15            \n",
            " Loan_Amount_Applied   | 300000               \n",
            " Loan_Tenure_Applied   | 5                    \n",
            " Existing_EMI          | 0.0                  \n",
            " Employer_Name         | CYBOSOL              \n",
            " Salary_Account        | HDFC Bank            \n",
            " Mobile_Verified       | N                    \n",
            " Var5                  | 0                    \n",
            " Var1                  | HBXX                 \n",
            " Loan_Amount_Submitted | 0                    \n",
            " Loan_Tenure_Submitted | 0                    \n",
            " Interest_Rate         | 0.0                  \n",
            " Processing_Fee        | 0                    \n",
            " EMI_Loan_Submitted    | 0.0                  \n",
            " Var2                  | G                    \n",
            " Source                | S122                 \n",
            " Var4                  | 1                    \n",
            " Disbursed             | 0                    \n",
            " new_gender            | 0                    \n",
            " new_Filled_Form       | 0                    \n",
            " new_Device_Type       | 1                    \n",
            " new_Mobile_Verified   | 0                    \n",
            "-RECORD 1-------------------------------------\n",
            " City                  | Mumbai               \n",
            " Monthly_Income        | 35000                \n",
            " DOB                   | 07-Oct-85            \n",
            " Lead_Creation_Date    | 04-May-15            \n",
            " Loan_Amount_Applied   | 200000               \n",
            " Loan_Tenure_Applied   | 2                    \n",
            " Existing_EMI          | 0.0                  \n",
            " Employer_Name         | TATA CONSULTANCY ... \n",
            " Salary_Account        | ICICI Bank           \n",
            " Mobile_Verified       | Y                    \n",
            " Var5                  | 13                   \n",
            " Var1                  | HBXA                 \n",
            " Loan_Amount_Submitted | 200000               \n",
            " Loan_Tenure_Submitted | 2                    \n",
            " Interest_Rate         | 13.25                \n",
            " Processing_Fee        | 0                    \n",
            " EMI_Loan_Submitted    | 6762.9               \n",
            " Var2                  | G                    \n",
            " Source                | S122                 \n",
            " Var4                  | 3                    \n",
            " Disbursed             | 0                    \n",
            " new_gender            | 1                    \n",
            " new_Filled_Form       | 0                    \n",
            " new_Device_Type       | 1                    \n",
            " new_Mobile_Verified   | 1                    \n",
            "-RECORD 2-------------------------------------\n",
            " City                  | Panchkula            \n",
            " Monthly_Income        | 22500                \n",
            " DOB                   | 10-Oct-81            \n",
            " Lead_Creation_Date    | 19-May-15            \n",
            " Loan_Amount_Applied   | 600000               \n",
            " Loan_Tenure_Applied   | 4                    \n",
            " Existing_EMI          | 0.0                  \n",
            " Employer_Name         | ALCHEMIST HOSPITA... \n",
            " Salary_Account        | State Bank of India  \n",
            " Mobile_Verified       | Y                    \n",
            " Var5                  | 0                    \n",
            " Var1                  | HBXX                 \n",
            " Loan_Amount_Submitted | 450000               \n",
            " Loan_Tenure_Submitted | 4                    \n",
            " Interest_Rate         | 0.0                  \n",
            " Processing_Fee        | 0                    \n",
            " EMI_Loan_Submitted    | 0.0                  \n",
            " Var2                  | B                    \n",
            " Source                | S143                 \n",
            " Var4                  | 1                    \n",
            " Disbursed             | 0                    \n",
            " new_gender            | 1                    \n",
            " new_Filled_Form       | 0                    \n",
            " new_Device_Type       | 1                    \n",
            " new_Mobile_Verified   | 1                    \n",
            "only showing top 3 rows\n",
            "\n"
          ],
          "name": "stdout"
        }
      ]
    },
    {
      "cell_type": "code",
      "metadata": {
        "id": "-D3KfeUm9o3X"
      },
      "source": [
        "formula = (\"Disbursed ~ new_gender + new_Device_Type + new_Mobile_Verified + Var1 + new_Filled_Form + Var2 + Source +\"\r\n",
        "                              \"Monthly_Income + Loan_Amount_Applied + Loan_Tenure_Applied\")\r\n",
        "rf = feature.RFormula(formula=formula, featuresCol='featuresFull')"
      ],
      "execution_count": 29,
      "outputs": []
    },
    {
      "cell_type": "code",
      "metadata": {
        "id": "-fxPTtQ09w1W"
      },
      "source": [
        "rfModel = rf.fit(tmp2)"
      ],
      "execution_count": 30,
      "outputs": []
    },
    {
      "cell_type": "code",
      "metadata": {
        "colab": {
          "base_uri": "https://localhost:8080/"
        },
        "id": "iU9v6vL59ygO",
        "outputId": "a7e0dc7e-11b6-40fa-e7a4-f8e3b8929c60"
      },
      "source": [
        "tmp3 = rfModel.transform(tmp2)\r\n",
        "tmp3.show(truncate=False)"
      ],
      "execution_count": 31,
      "outputs": [
        {
          "output_type": "stream",
          "text": [
            "+-----------+--------------+---------+------------------+-------------------+-------------------+------------+--------------------------------------------+--------------------+---------------+----+----+---------------------+---------------------+-------------+--------------+------------------+----+------+----+---------+----------+---------------+---------------+-------------------+-----------------------------------------------------------------------------+-----+\n",
            "|City       |Monthly_Income|DOB      |Lead_Creation_Date|Loan_Amount_Applied|Loan_Tenure_Applied|Existing_EMI|Employer_Name                               |Salary_Account      |Mobile_Verified|Var5|Var1|Loan_Amount_Submitted|Loan_Tenure_Submitted|Interest_Rate|Processing_Fee|EMI_Loan_Submitted|Var2|Source|Var4|Disbursed|new_gender|new_Filled_Form|new_Device_Type|new_Mobile_Verified|featuresFull                                                                 |label|\n",
            "+-----------+--------------+---------+------------------+-------------------+-------------------+------------+--------------------------------------------+--------------------+---------------+----+----+---------------------+---------------------+-------------+--------------+------------------+----+------+----+---------+----------+---------------+---------------+-------------------+-----------------------------------------------------------------------------+-----+\n",
            "|Delhi      |20000         |23-May-78|15-May-15         |300000             |5                  |0.0         |CYBOSOL                                     |HDFC Bank           |N              |0   |HBXX|0                    |0                    |0.0          |0             |0.0               |G   |S122  |1   |0        |0         |0              |1              |0                  |(60,[1,3,23,28,57,58,59],[1.0,1.0,1.0,1.0,20000.0,300000.0,5.0])             |0.0  |\n",
            "|Mumbai     |35000         |07-Oct-85|04-May-15         |200000             |2                  |0.0         |TATA CONSULTANCY SERVICES LTD (TCS)         |ICICI Bank          |Y              |13  |HBXA|200000               |2                    |13.25        |0             |6762.9            |G   |S122  |3   |0        |1         |0              |1              |1                  |(60,[0,1,2,7,23,28,57,58,59],[1.0,1.0,1.0,1.0,1.0,1.0,35000.0,200000.0,2.0]) |0.0  |\n",
            "|Panchkula  |22500         |10-Oct-81|19-May-15         |600000             |4                  |0.0         |ALCHEMIST HOSPITALS LTD                     |State Bank of India |Y              |0   |HBXX|450000               |4                    |0.0          |0             |0.0               |B   |S143  |1   |0        |1         |0              |1              |1                  |(60,[0,1,2,3,22,31,57,58,59],[1.0,1.0,1.0,1.0,1.0,1.0,22500.0,600000.0,4.0]) |0.0  |\n",
            "|Saharsa    |35000         |30-Nov-87|09-May-15         |1000000            |5                  |0.0         |BIHAR GOVERNMENT                            |State Bank of India |Y              |10  |HBXX|920000               |5                    |0.0          |0             |0.0               |B   |S143  |3   |0        |1         |0              |1              |1                  |(60,[0,1,2,3,22,31,57,58,59],[1.0,1.0,1.0,1.0,1.0,1.0,35000.0,1000000.0,5.0])|0.0  |\n",
            "|Bengaluru  |100000        |17-Feb-84|20-May-15         |500000             |2                  |25000.0     |GLOBAL EDGE SOFTWARE                        |HDFC Bank           |Y              |17  |HBXX|500000               |2                    |0.0          |0             |0.0               |B   |S134  |3   |0        |1         |0              |1              |1                  |(60,[0,1,2,3,22,34,57,58,59],[1.0,1.0,1.0,1.0,1.0,1.0,100000.0,500000.0,2.0])|0.0  |\n",
            "|Bengaluru  |45000         |21-Apr-82|20-May-15         |300000             |5                  |15000.0     |COGNIZANT TECHNOLOGY SOLUTIONS INDIA PVT LTD|HSBC                |Y              |17  |HAXM|300000               |5                    |13.99        |1500          |6978.92           |B   |S143  |3   |0        |1         |0              |1              |1                  |(60,[0,1,2,15,22,31,57,58,59],[1.0,1.0,1.0,1.0,1.0,1.0,45000.0,300000.0,5.0])|0.0  |\n",
            "|Sindhudurg |70000         |23-Oct-87|01-May-15         |6                  |5                  |0.0         |CARNIVAL CRUISE LINE                        |Yes Bank            |N              |0   |HBXX|0                    |0                    |0.0          |0             |0.0               |B   |S133  |1   |0        |0         |0              |1              |0                  |(60,[1,3,22,29,57,58,59],[1.0,1.0,1.0,1.0,70000.0,6.0,5.0])                  |0.0  |\n",
            "|Bengaluru  |20000         |25-Jul-75|20-May-15         |200000             |5                  |2597.0      |GOLDEN TULIP FLORITECH PVT. LTD             |null                |Y              |3   |HBXX|200000               |5                    |0.0          |0             |0.0               |B   |S159  |3   |0        |1         |0              |1              |1                  |(60,[0,1,2,3,22,30,57,58,59],[1.0,1.0,1.0,1.0,1.0,1.0,20000.0,200000.0,5.0]) |0.0  |\n",
            "|Kochi      |75000         |26-Jan-72|02-May-15         |0                  |0                  |0.0         |SIIS PVT LTD                                |State Bank of India |Y              |13  |HAXB|1300000              |5                    |14.85        |26000         |30824.65          |C   |S122  |5   |0        |1         |1              |0              |1                  |(60,[0,2,8,21,24,28,57],[1.0,1.0,1.0,1.0,1.0,1.0,75000.0])                   |0.0  |\n",
            "|Mumbai     |30000         |12-Sep-89|03-May-15         |300000             |3                  |0.0         |SOUNDCLOUD.COM                              |Kotak Bank          |Y              |0   |HBXC|300000               |3                    |18.25        |1500          |10883.38          |B   |S133  |1   |0        |0         |0              |1              |1                  |(60,[1,2,4,22,29,57,58,59],[1.0,1.0,1.0,1.0,1.0,30000.0,300000.0,3.0])       |0.0  |\n",
            "|Mumbai     |25000         |01-Jan-76|02-May-15         |1000000            |5                  |0.0         |KRISHNA KUMAR                               |Indian Overseas Bank|Y              |11  |HBXC|660000               |5                    |20.0         |6600          |17485.96          |B   |S133  |4   |0        |1         |0              |1              |1                  |(60,[0,1,2,4,22,29,57,58,59],[1.0,1.0,1.0,1.0,1.0,1.0,25000.0,1000000.0,5.0])|0.0  |\n",
            "|Surat      |25000         |13-Oct-89|02-May-15         |140000             |4                  |0.0         |S D JAIN MODERN SCHOOL                      |null                |N              |0   |HBXX|0                    |0                    |0.0          |0             |0.0               |B   |S122  |1   |0        |0         |0              |1              |0                  |(60,[1,3,22,28,57,58,59],[1.0,1.0,1.0,1.0,25000.0,140000.0,4.0])             |0.0  |\n",
            "|Pune       |24000         |22-May-90|02-May-15         |500000             |4                  |0.0         |K.E.M. HOSPITAL RESEARCH CENTRE, PUNE       |Bank of Maharasthra |N              |0   |HBXX|0                    |0                    |0.0          |0             |0.0               |B   |S133  |1   |0        |0         |0              |1              |0                  |(60,[1,3,22,29,57,58,59],[1.0,1.0,1.0,1.0,24000.0,500000.0,4.0])             |0.0  |\n",
            "|Bhubaneswar|27000         |24-Jun-82|09-May-15         |200000             |5                  |4600.0      |GI STAFFING SERVICES PVT LTD                |State Bank of India |Y              |11  |HBXD|200000               |5                    |18.0         |4500          |5078.69           |B   |S133  |4   |0        |1         |0              |1              |1                  |(60,[0,1,2,9,22,29,57,58,59],[1.0,1.0,1.0,1.0,1.0,1.0,27000.0,200000.0,5.0]) |0.0  |\n",
            "|Howrah     |28000         |09-Feb-89|13-May-15         |100000             |1                  |1200.0      |MCX STOCK EXCHANGE LTD                      |HDFC Bank           |N              |0   |HBXX|0                    |0                    |0.0          |0             |0.0               |B   |S151  |1   |0        |0         |0              |1              |0                  |(60,[1,3,22,36,57,58,59],[1.0,1.0,1.0,1.0,28000.0,100000.0,1.0])             |0.0  |\n",
            "|Chennai    |42000         |08-May-82|05-May-15         |500000             |3                  |0.0         |SMEC INDIA PVT LTD                          |State Bank of India |Y              |14  |HBXX|500000               |3                    |0.0          |0             |0.0               |B   |S159  |3   |0        |1         |0              |1              |1                  |(60,[0,1,2,3,22,30,57,58,59],[1.0,1.0,1.0,1.0,1.0,1.0,42000.0,500000.0,3.0]) |0.0  |\n",
            "|Ludhiana   |28994         |11-Oct-85|08-May-15         |300000             |5                  |2550.0      |UNIPARTS INDIA LTD                          |Kotak Bank          |Y              |0   |HBXH|300000               |5                    |15.5         |6000          |7215.96           |E   |S122  |1   |0        |1         |0              |1              |1                  |(60,[0,1,2,11,25,28,57,58,59],[1.0,1.0,1.0,1.0,1.0,1.0,28994.0,300000.0,5.0])|0.0  |\n",
            "|Delhi      |20000         |06-Jan-90|01-May-15         |100000             |5                  |0.0         |INTEC CAPITAL LTD                           |HDFC Bank           |N              |0   |HBXX|0                    |0                    |0.0          |0             |0.0               |B   |S122  |1   |0        |0         |0              |1              |0                  |(60,[1,3,22,28,57,58,59],[1.0,1.0,1.0,1.0,20000.0,100000.0,5.0])             |0.0  |\n",
            "|Bengaluru  |33000         |14-Jul-76|24-May-15         |500000             |5                  |7000.0      |N RAVIKUMAR                                 |Axis Bank           |N              |0   |HBXX|0                    |0                    |0.0          |0             |0.0               |E   |S133  |1   |0        |0         |0              |1              |0                  |(60,[1,3,25,29,57,58,59],[1.0,1.0,1.0,1.0,33000.0,500000.0,5.0])             |0.0  |\n",
            "|Panchkula  |31500         |29-Aug-82|01-May-15         |500000             |5                  |10000.0     |S P SINGLA CONSTRUCTION PVT LTD             |Axis Bank           |Y              |12  |HBXX|450000               |5                    |0.0          |0             |0.0               |E   |S133  |3   |0        |1         |0              |1              |1                  |(60,[0,1,2,3,25,29,57,58,59],[1.0,1.0,1.0,1.0,1.0,1.0,31500.0,500000.0,5.0]) |0.0  |\n",
            "+-----------+--------------+---------+------------------+-------------------+-------------------+------------+--------------------------------------------+--------------------+---------------+----+----+---------------------+---------------------+-------------+--------------+------------------+----+------+----+---------+----------+---------------+---------------+-------------------+-----------------------------------------------------------------------------+-----+\n",
            "only showing top 20 rows\n",
            "\n"
          ],
          "name": "stdout"
        }
      ]
    },
    {
      "cell_type": "code",
      "metadata": {
        "id": "nxU8-we3_myW"
      },
      "source": [
        "#Skalowanie\r\n",
        "scaler = feature.StandardScaler(inputCol=\"featuresFull\", outputCol=\"featuresScal\")"
      ],
      "execution_count": 32,
      "outputs": []
    },
    {
      "cell_type": "code",
      "metadata": {
        "id": "hZq4Byd29yc6"
      },
      "source": [
        "scalerModel = scaler.fit(tmp3)"
      ],
      "execution_count": 33,
      "outputs": []
    },
    {
      "cell_type": "code",
      "metadata": {
        "colab": {
          "base_uri": "https://localhost:8080/"
        },
        "id": "UGleKpFz9yYq",
        "outputId": "d132a32a-27a3-405d-abfa-808e9fb4d10b"
      },
      "source": [
        "tmp3.select(\"featuresFull\").show(truncate=False)\r\n",
        "scalerModel.transform(tmp3).select(\"featuresScal\").show(truncate=False)"
      ],
      "execution_count": 34,
      "outputs": [
        {
          "output_type": "stream",
          "text": [
            "+-----------------------------------------------------------------------------+\n",
            "|featuresFull                                                                 |\n",
            "+-----------------------------------------------------------------------------+\n",
            "|(60,[1,3,23,28,57,58,59],[1.0,1.0,1.0,1.0,20000.0,300000.0,5.0])             |\n",
            "|(60,[0,1,2,7,23,28,57,58,59],[1.0,1.0,1.0,1.0,1.0,1.0,35000.0,200000.0,2.0]) |\n",
            "|(60,[0,1,2,3,22,31,57,58,59],[1.0,1.0,1.0,1.0,1.0,1.0,22500.0,600000.0,4.0]) |\n",
            "|(60,[0,1,2,3,22,31,57,58,59],[1.0,1.0,1.0,1.0,1.0,1.0,35000.0,1000000.0,5.0])|\n",
            "|(60,[0,1,2,3,22,34,57,58,59],[1.0,1.0,1.0,1.0,1.0,1.0,100000.0,500000.0,2.0])|\n",
            "|(60,[0,1,2,15,22,31,57,58,59],[1.0,1.0,1.0,1.0,1.0,1.0,45000.0,300000.0,5.0])|\n",
            "|(60,[1,3,22,29,57,58,59],[1.0,1.0,1.0,1.0,70000.0,6.0,5.0])                  |\n",
            "|(60,[0,1,2,3,22,30,57,58,59],[1.0,1.0,1.0,1.0,1.0,1.0,20000.0,200000.0,5.0]) |\n",
            "|(60,[0,2,8,21,24,28,57],[1.0,1.0,1.0,1.0,1.0,1.0,75000.0])                   |\n",
            "|(60,[1,2,4,22,29,57,58,59],[1.0,1.0,1.0,1.0,1.0,30000.0,300000.0,3.0])       |\n",
            "|(60,[0,1,2,4,22,29,57,58,59],[1.0,1.0,1.0,1.0,1.0,1.0,25000.0,1000000.0,5.0])|\n",
            "|(60,[1,3,22,28,57,58,59],[1.0,1.0,1.0,1.0,25000.0,140000.0,4.0])             |\n",
            "|(60,[1,3,22,29,57,58,59],[1.0,1.0,1.0,1.0,24000.0,500000.0,4.0])             |\n",
            "|(60,[0,1,2,9,22,29,57,58,59],[1.0,1.0,1.0,1.0,1.0,1.0,27000.0,200000.0,5.0]) |\n",
            "|(60,[1,3,22,36,57,58,59],[1.0,1.0,1.0,1.0,28000.0,100000.0,1.0])             |\n",
            "|(60,[0,1,2,3,22,30,57,58,59],[1.0,1.0,1.0,1.0,1.0,1.0,42000.0,500000.0,3.0]) |\n",
            "|(60,[0,1,2,11,25,28,57,58,59],[1.0,1.0,1.0,1.0,1.0,1.0,28994.0,300000.0,5.0])|\n",
            "|(60,[1,3,22,28,57,58,59],[1.0,1.0,1.0,1.0,20000.0,100000.0,5.0])             |\n",
            "|(60,[1,3,25,29,57,58,59],[1.0,1.0,1.0,1.0,33000.0,500000.0,5.0])             |\n",
            "|(60,[0,1,2,3,25,29,57,58,59],[1.0,1.0,1.0,1.0,1.0,1.0,31500.0,500000.0,5.0]) |\n",
            "+-----------------------------------------------------------------------------+\n",
            "only showing top 20 rows\n",
            "\n",
            "+-----------------------------------------------------------------------------------------------------------------------------------------------------------------------------------------------------------+\n",
            "|featuresScal                                                                                                                                                                                               |\n",
            "+-----------------------------------------------------------------------------------------------------------------------------------------------------------------------------------------------------------+\n",
            "|(60,[1,3,23,28,57,58,59],[2.2772246763493844,2.1461871961564687,2.0606324234039852,2.013021061255132,0.009184797082839868,0.8471626539898117,2.482263265081075])                                           |\n",
            "|(60,[0,1,2,7,23,28,57,58,59],[2.0215512232085566,2.2772246763493844,2.0952603224751227,6.4817968370286865,2.0606324234039852,2.013021061255132,0.01607339489496977,0.5647751026598745,0.99290530603243])   |\n",
            "|(60,[0,1,2,3,22,31,57,58,59],[2.0215512232085566,2.2772246763493844,2.0952603224751227,2.1461871961564687,2.0208112048488163,4.597811008536146,0.010332896718194852,1.6943253079796234,1.98581061206486])  |\n",
            "|(60,[0,1,2,3,22,31,57,58,59],[2.0215512232085566,2.2772246763493844,2.0952603224751227,2.1461871961564687,2.0208112048488163,4.597811008536146,0.01607339489496977,2.8238755132993725,2.482263265081075])  |\n",
            "|(60,[0,1,2,3,22,34,57,58,59],[2.0215512232085566,2.2772246763493844,2.0952603224751227,2.1461871961564687,2.0208112048488163,8.240231015290252,0.04592398541419935,1.4119377566496862,0.99290530603243])   |\n",
            "|(60,[0,1,2,15,22,31,57,58,59],[2.0215512232085566,2.2772246763493844,2.0952603224751227,18.047183684244796,2.0208112048488163,4.597811008536146,0.020665793436389704,0.8471626539898117,2.482263265081075])|\n",
            "|(60,[1,3,22,29,57,58,59],[2.2772246763493844,2.1461871961564687,2.0208112048488163,2.1059053001629864,0.03214678978993954,1.6943253079796235E-5,2.482263265081075])                                        |\n",
            "|(60,[0,1,2,3,22,30,57,58,59],[2.0215512232085566,2.2772246763493844,2.0952603224751227,2.1461871961564687,2.0208112048488163,4.075614829731676,0.009184797082839868,0.5647751026598745,2.482263265081075]) |\n",
            "|(60,[0,2,8,21,24,28,57],[2.0215512232085566,2.0952603224751227,6.655460259693573,2.3986246315546254,2.70535355009619,2.013021061255132,0.034442989060649506])                                              |\n",
            "|(60,[1,2,4,22,29,57,58,59],[2.2772246763493844,2.0952603224751227,3.2823058676909187,2.0208112048488163,2.1059053001629864,0.013777195624259804,0.8471626539898117,1.489357959048645])                     |\n",
            "|(60,[0,1,2,4,22,29,57,58,59],[2.0215512232085566,2.2772246763493844,2.0952603224751227,3.2823058676909187,2.0208112048488163,2.1059053001629864,0.011480996353549837,2.8238755132993725,2.482263265081075])|\n",
            "|(60,[1,3,22,28,57,58,59],[2.2772246763493844,2.1461871961564687,2.0208112048488163,2.013021061255132,0.011480996353549837,0.3953425718619122,1.98581061206486])                                            |\n",
            "|(60,[1,3,22,29,57,58,59],[2.2772246763493844,2.1461871961564687,2.0208112048488163,2.1059053001629864,0.011021756499407842,1.4119377566496862,1.98581061206486])                                           |\n",
            "|(60,[0,1,2,9,22,29,57,58,59],[2.0215512232085566,2.2772246763493844,2.0952603224751227,6.732763577409706,2.0208112048488163,2.1059053001629864,0.012399476061833824,0.5647751026598745,2.482263265081075]) |\n",
            "|(60,[1,3,22,36,57,58,59],[2.2772246763493844,2.1461871961564687,2.0208112048488163,11.039386469560162,0.012858715915975817,0.28238755132993726,0.496452653016215])                                         |\n",
            "|(60,[0,1,2,3,22,30,57,58,59],[2.0215512232085566,2.2772246763493844,2.0952603224751227,2.1461871961564687,2.0208112048488163,4.075614829731676,0.019288073873963724,1.4119377566496862,1.489357959048645]) |\n",
            "|(60,[0,1,2,11,25,28,57,58,59],[2.0215512232085566,2.2772246763493844,2.0952603224751227,9.524787145820063,8.196918698365986,2.013021061255132,0.013315200330992958,0.8471626539898117,2.482263265081075])  |\n",
            "|(60,[1,3,22,28,57,58,59],[2.2772246763493844,2.1461871961564687,2.0208112048488163,2.013021061255132,0.009184797082839868,0.28238755132993726,2.482263265081075])                                          |\n",
            "|(60,[1,3,25,29,57,58,59],[2.2772246763493844,2.1461871961564687,8.196918698365986,2.1059053001629864,0.015154915186685785,1.4119377566496862,2.482263265081075])                                           |\n",
            "|(60,[0,1,2,3,25,29,57,58,59],[2.0215512232085566,2.2772246763493844,2.0952603224751227,2.1461871961564687,8.196918698365986,2.1059053001629864,0.014466055405472794,1.4119377566496862,2.482263265081075]) |\n",
            "+-----------------------------------------------------------------------------------------------------------------------------------------------------------------------------------------------------------+\n",
            "only showing top 20 rows\n",
            "\n"
          ],
          "name": "stdout"
        }
      ]
    },
    {
      "cell_type": "code",
      "metadata": {
        "id": "RMD308Bb9yOx"
      },
      "source": [
        "MMscaler = feature.MinMaxScaler(inputCol=\"featuresFull\", outputCol=\"featuresScal\")"
      ],
      "execution_count": 35,
      "outputs": []
    },
    {
      "cell_type": "code",
      "metadata": {
        "id": "OUxWxQfSAZnJ"
      },
      "source": [
        "MMscalerModel = MMscaler.fit(tmp3)"
      ],
      "execution_count": 36,
      "outputs": []
    },
    {
      "cell_type": "code",
      "metadata": {
        "colab": {
          "base_uri": "https://localhost:8080/"
        },
        "id": "AUnXnpkdAZkh",
        "outputId": "81ae2227-5d16-474d-ef04-4d3d724374f7"
      },
      "source": [
        "tmp3.select(\"featuresFull\").show(truncate=False)\r\n",
        "MMscalerModel.transform(tmp3).select(\"featuresScal\").show(truncate=False)"
      ],
      "execution_count": 37,
      "outputs": [
        {
          "output_type": "stream",
          "text": [
            "+-----------------------------------------------------------------------------+\n",
            "|featuresFull                                                                 |\n",
            "+-----------------------------------------------------------------------------+\n",
            "|(60,[1,3,23,28,57,58,59],[1.0,1.0,1.0,1.0,20000.0,300000.0,5.0])             |\n",
            "|(60,[0,1,2,7,23,28,57,58,59],[1.0,1.0,1.0,1.0,1.0,1.0,35000.0,200000.0,2.0]) |\n",
            "|(60,[0,1,2,3,22,31,57,58,59],[1.0,1.0,1.0,1.0,1.0,1.0,22500.0,600000.0,4.0]) |\n",
            "|(60,[0,1,2,3,22,31,57,58,59],[1.0,1.0,1.0,1.0,1.0,1.0,35000.0,1000000.0,5.0])|\n",
            "|(60,[0,1,2,3,22,34,57,58,59],[1.0,1.0,1.0,1.0,1.0,1.0,100000.0,500000.0,2.0])|\n",
            "|(60,[0,1,2,15,22,31,57,58,59],[1.0,1.0,1.0,1.0,1.0,1.0,45000.0,300000.0,5.0])|\n",
            "|(60,[1,3,22,29,57,58,59],[1.0,1.0,1.0,1.0,70000.0,6.0,5.0])                  |\n",
            "|(60,[0,1,2,3,22,30,57,58,59],[1.0,1.0,1.0,1.0,1.0,1.0,20000.0,200000.0,5.0]) |\n",
            "|(60,[0,2,8,21,24,28,57],[1.0,1.0,1.0,1.0,1.0,1.0,75000.0])                   |\n",
            "|(60,[1,2,4,22,29,57,58,59],[1.0,1.0,1.0,1.0,1.0,30000.0,300000.0,3.0])       |\n",
            "|(60,[0,1,2,4,22,29,57,58,59],[1.0,1.0,1.0,1.0,1.0,1.0,25000.0,1000000.0,5.0])|\n",
            "|(60,[1,3,22,28,57,58,59],[1.0,1.0,1.0,1.0,25000.0,140000.0,4.0])             |\n",
            "|(60,[1,3,22,29,57,58,59],[1.0,1.0,1.0,1.0,24000.0,500000.0,4.0])             |\n",
            "|(60,[0,1,2,9,22,29,57,58,59],[1.0,1.0,1.0,1.0,1.0,1.0,27000.0,200000.0,5.0]) |\n",
            "|(60,[1,3,22,36,57,58,59],[1.0,1.0,1.0,1.0,28000.0,100000.0,1.0])             |\n",
            "|(60,[0,1,2,3,22,30,57,58,59],[1.0,1.0,1.0,1.0,1.0,1.0,42000.0,500000.0,3.0]) |\n",
            "|(60,[0,1,2,11,25,28,57,58,59],[1.0,1.0,1.0,1.0,1.0,1.0,28994.0,300000.0,5.0])|\n",
            "|(60,[1,3,22,28,57,58,59],[1.0,1.0,1.0,1.0,20000.0,100000.0,5.0])             |\n",
            "|(60,[1,3,25,29,57,58,59],[1.0,1.0,1.0,1.0,33000.0,500000.0,5.0])             |\n",
            "|(60,[0,1,2,3,25,29,57,58,59],[1.0,1.0,1.0,1.0,1.0,1.0,31500.0,500000.0,5.0]) |\n",
            "+-----------------------------------------------------------------------------+\n",
            "only showing top 20 rows\n",
            "\n",
            "+---------------------------------------------------------------------------------------------------------------------+\n",
            "|featuresScal                                                                                                         |\n",
            "+---------------------------------------------------------------------------------------------------------------------+\n",
            "|(60,[1,3,23,28,57,58,59],[1.0,1.0,1.0,1.0,4.498886540202682E-5,0.03,0.5])                                            |\n",
            "|(60,[0,1,2,7,23,28,57,58,59],[1.0,1.0,1.0,1.0,1.0,1.0,7.873051445354693E-5,0.02,0.2])                                |\n",
            "|(60,[0,1,2,3,22,31,57,58,59],[1.0,1.0,1.0,1.0,1.0,1.0,5.0612473577280163E-5,0.06,0.4])                               |\n",
            "|(60,[0,1,2,3,22,31,57,58,59],[1.0,1.0,1.0,1.0,1.0,1.0,7.873051445354693E-5,0.09999999999999999,0.5])                 |\n",
            "|(60,[0,1,2,3,22,34,57,58,59],[1.0,1.0,1.0,1.0,1.0,1.0,2.2494432701013407E-4,0.049999999999999996,0.2])               |\n",
            "|(60,[0,1,2,15,22,31,57,58,59],[1.0,1.0,1.0,1.0,1.0,1.0,1.0122494715456033E-4,0.03,0.5])                              |\n",
            "|(60,[1,3,22,29,57,58,59],[1.0,1.0,1.0,1.0,1.5746102890709386E-4,6.0E-7,0.5])                                         |\n",
            "|(60,[0,1,2,3,22,30,57,58,59],[1.0,1.0,1.0,1.0,1.0,1.0,4.498886540202682E-5,0.02,0.5])                                |\n",
            "|(60,[0,2,8,21,24,28,57],[1.0,1.0,1.0,1.0,1.0,1.0,1.6870824525760055E-4])                                             |\n",
            "|(60,[1,2,4,22,29,57,58,59],[1.0,1.0,1.0,1.0,1.0,6.748329810304022E-5,0.03,0.30000000000000004])                      |\n",
            "|(60,[0,1,2,4,22,29,57,58,59],[1.0,1.0,1.0,1.0,1.0,1.0,5.6236081752533516E-5,0.09999999999999999,0.5])                |\n",
            "|(60,[1,3,22,28,57,58,59],[1.0,1.0,1.0,1.0,5.6236081752533516E-5,0.013999999999999999,0.4])                           |\n",
            "|(60,[1,3,22,29,57,58,59],[1.0,1.0,1.0,1.0,5.3986638482432175E-5,0.049999999999999996,0.4])                           |\n",
            "|(60,[0,1,2,9,22,29,57,58,59],[1.0,1.0,1.0,1.0,1.0,1.0,6.07349682927362E-5,0.02,0.5])                                 |\n",
            "|(60,[1,3,22,36,57,58,59],[1.0,1.0,1.0,1.0,6.298441156283754E-5,0.01,0.1])                                            |\n",
            "|(60,[0,1,2,3,22,30,57,58,59],[1.0,1.0,1.0,1.0,1.0,1.0,9.447661734425632E-5,0.049999999999999996,0.30000000000000004])|\n",
            "|(60,[0,1,2,11,25,28,57,58,59],[1.0,1.0,1.0,1.0,1.0,1.0,6.522035817331828E-5,0.03,0.5])                               |\n",
            "|(60,[1,3,22,28,57,58,59],[1.0,1.0,1.0,1.0,4.498886540202682E-5,0.01,0.5])                                            |\n",
            "|(60,[1,3,25,29,57,58,59],[1.0,1.0,1.0,1.0,7.423162791334425E-5,0.049999999999999996,0.5])                            |\n",
            "|(60,[0,1,2,3,25,29,57,58,59],[1.0,1.0,1.0,1.0,1.0,1.0,7.085746300819223E-5,0.049999999999999996,0.5])                |\n",
            "+---------------------------------------------------------------------------------------------------------------------+\n",
            "only showing top 20 rows\n",
            "\n"
          ],
          "name": "stdout"
        }
      ]
    },
    {
      "cell_type": "markdown",
      "metadata": {
        "id": "l_L2kbb9AuR2"
      },
      "source": [
        "**PCA**"
      ]
    },
    {
      "cell_type": "code",
      "metadata": {
        "id": "fZYBLdfHAZho"
      },
      "source": [
        "pca = feature.PCA(k=3, inputCol=\"featuresFull\", outputCol=\"featuresPCA\")"
      ],
      "execution_count": 38,
      "outputs": []
    },
    {
      "cell_type": "code",
      "metadata": {
        "id": "NFt107NdArJ9"
      },
      "source": [
        "PCAmodel = pca.fit(tmp3)"
      ],
      "execution_count": 39,
      "outputs": []
    },
    {
      "cell_type": "code",
      "metadata": {
        "colab": {
          "base_uri": "https://localhost:8080/"
        },
        "id": "8WfQRLNYArHZ",
        "outputId": "70db4b67-8212-47eb-9b4d-3383aaf0dfcb"
      },
      "source": [
        "PCAmodel.transform(tmp3).select(\"featuresFull\", \"featuresPCA\").show(truncate=False)"
      ],
      "execution_count": 40,
      "outputs": [
        {
          "output_type": "stream",
          "text": [
            "+-----------------------------------------------------------------------------+------------------------------------------------------------+\n",
            "|featuresFull                                                                 |featuresPCA                                                 |\n",
            "+-----------------------------------------------------------------------------+------------------------------------------------------------+\n",
            "|(60,[1,3,23,28,57,58,59],[1.0,1.0,1.0,1.0,20000.0,300000.0,5.0])             |[-20152.98625505873,-299989.76174707466,4.097771557942352]  |\n",
            "|(60,[0,1,2,7,23,28,57,58,59],[1.0,1.0,1.0,1.0,1.0,1.0,35000.0,200000.0,2.0]) |[-35101.98801937641,-199982.12529907905,1.3787087613486313] |\n",
            "|(60,[0,1,2,3,22,31,57,58,59],[1.0,1.0,1.0,1.0,1.0,1.0,22500.0,600000.0,4.0]) |[-22805.974785690658,-599988.4478268801,2.339282178163524]  |\n",
            "|(60,[0,1,2,3,22,31,57,58,59],[1.0,1.0,1.0,1.0,1.0,1.0,35000.0,1000000.0,5.0])|[-35509.95830123298,-999982.0212799263,2.14316066116888]    |\n",
            "|(60,[0,1,2,3,22,34,57,58,59],[1.0,1.0,1.0,1.0,1.0,1.0,100000.0,500000.0,2.0])|[-100254.9684230575,-499948.9387036373,0.6733610858645136]  |\n",
            "|(60,[0,1,2,15,22,31,57,58,59],[1.0,1.0,1.0,1.0,1.0,1.0,45000.0,300000.0,5.0])|[-45152.98300428749,-299977.01267608925,4.192760628325612]  |\n",
            "|(60,[1,3,22,29,57,58,59],[1.0,1.0,1.0,1.0,70000.0,6.0,5.0])                  |[-69999.99395758052,29.69738522019404,5.157200207405159]    |\n",
            "|(60,[0,1,2,3,22,30,57,58,59],[1.0,1.0,1.0,1.0,1.0,1.0,20000.0,200000.0,5.0]) |[-20101.9899698298,-199989.77475098977,4.4883528768963]     |\n",
            "|(60,[0,2,8,21,24,28,57],[1.0,1.0,1.0,1.0,1.0,1.0,75000.0])                   |[-74999.99024767795,38.247214513613855,-0.20826867230176926]|\n",
            "|(60,[1,2,4,22,29,57,58,59],[1.0,1.0,1.0,1.0,1.0,30000.0,300000.0,3.0])       |[-30152.984954757074,-299984.66211316595,2.27682768284191]  |\n",
            "|(60,[0,1,2,4,22,29,57,58,59],[1.0,1.0,1.0,1.0,1.0,1.0,25000.0,1000000.0,5.0])|[-25509.95960154256,-999987.1209083225,2.1445470025551145]  |\n",
            "|(60,[1,3,22,28,57,58,59],[1.0,1.0,1.0,1.0,25000.0,140000.0,4.0])             |[-25071.391548534608,-139987.23273603985,3.727897878846457] |\n",
            "|(60,[1,3,22,29,57,58,59],[1.0,1.0,1.0,1.0,24000.0,500000.0,4.0])             |[-24254.978305404464,-499987.6958862107,2.709490920289327]  |\n",
            "|(60,[0,1,2,9,22,29,57,58,59],[1.0,1.0,1.0,1.0,1.0,1.0,27000.0,200000.0,5.0]) |[-27101.98905961188,-199986.2050109504,4.492107617408825]   |\n",
            "|(60,[1,3,22,36,57,58,59],[1.0,1.0,1.0,1.0,28000.0,100000.0,1.0])             |[-28050.992644358612,-99985.70804038395,0.9377605705543173] |\n",
            "|(60,[0,1,2,3,22,30,57,58,59],[1.0,1.0,1.0,1.0,1.0,1.0,42000.0,500000.0,3.0]) |[-42254.97596485513,-499978.5165519032,1.6497280753160886]  |\n",
            "|(60,[0,1,2,11,25,28,57,58,59],[1.0,1.0,1.0,1.0,1.0,1.0,28994.0,300000.0,5.0])|[-29146.985085566168,-299985.1751410978,4.056467234815254]  |\n",
            "|(60,[1,3,22,28,57,58,59],[1.0,1.0,1.0,1.0,20000.0,100000.0,5.0])             |[-20050.99368459256,-99989.78775457568,4.8241309235606655]  |\n",
            "|(60,[1,3,25,29,57,58,59],[1.0,1.0,1.0,1.0,33000.0,500000.0,5.0])             |[-33254.977135120935,-499983.10622305603,3.5802661418360353]|\n",
            "|(60,[0,1,2,3,25,29,57,58,59],[1.0,1.0,1.0,1.0,1.0,1.0,31500.0,500000.0,5.0]) |[-31754.977330172413,-499983.87116725615,3.511322367621333] |\n",
            "+-----------------------------------------------------------------------------+------------------------------------------------------------+\n",
            "only showing top 20 rows\n",
            "\n"
          ],
          "name": "stdout"
        }
      ]
    },
    {
      "cell_type": "code",
      "metadata": {
        "colab": {
          "base_uri": "https://localhost:8080/"
        },
        "id": "ZN9sRttiArEk",
        "outputId": "5e48bd9c-a67f-4526-bbd2-34d7aa67f59a"
      },
      "source": [
        "PCAmodel.explainedVariance"
      ],
      "execution_count": 41,
      "outputs": [
        {
          "output_type": "execute_result",
          "data": {
            "text/plain": [
              "DenseVector([0.9742, 0.0258, 0.0])"
            ]
          },
          "metadata": {
            "tags": []
          },
          "execution_count": 41
        }
      ]
    },
    {
      "cell_type": "code",
      "metadata": {
        "id": "NLmqpfRcEBMY"
      },
      "source": [
        "rfModel = rf.fit(tmp2)"
      ],
      "execution_count": 42,
      "outputs": []
    },
    {
      "cell_type": "code",
      "metadata": {
        "id": "fdgUlEeOBPvN"
      },
      "source": [
        "df_train = rfModel.transform(df_t)\r\n",
        "df_eval = rfModel.transform(df_e)"
      ],
      "execution_count": 43,
      "outputs": []
    },
    {
      "cell_type": "code",
      "metadata": {
        "colab": {
          "base_uri": "https://localhost:8080/"
        },
        "id": "T3s3qhY9BPsf",
        "outputId": "33987294-527c-47a9-cb84-c7e6d23aa1a1"
      },
      "source": [
        "scaler = feature.StandardScaler(inputCol=\"featuresFull\", outputCol=\"features\")\r\n",
        "scal_mod = scaler.fit(df_train)\r\n",
        "df_train = scal_mod.transform(df_train)\r\n",
        "df_eval = scal_mod.transform(df_eval)\r\n",
        "\r\n",
        "df_eval.show()"
      ],
      "execution_count": 44,
      "outputs": [
        {
          "output_type": "stream",
          "text": [
            "+--------+--------------+---------+------------------+-------------------+-------------------+------------+--------------------+--------------------+---------------+----+----+---------------------+---------------------+-------------+--------------+------------------+----+------+----+---------+----------+---------------+---------------+-------------------+--------------------+-----+--------------------+\n",
            "|    City|Monthly_Income|      DOB|Lead_Creation_Date|Loan_Amount_Applied|Loan_Tenure_Applied|Existing_EMI|       Employer_Name|      Salary_Account|Mobile_Verified|Var5|Var1|Loan_Amount_Submitted|Loan_Tenure_Submitted|Interest_Rate|Processing_Fee|EMI_Loan_Submitted|Var2|Source|Var4|Disbursed|new_gender|new_Filled_Form|new_Device_Type|new_Mobile_Verified|        featuresFull|label|            features|\n",
            "+--------+--------------+---------+------------------+-------------------+-------------------+------------+--------------------+--------------------+---------------+----+----+---------------------+---------------------+-------------+--------------+------------------+----+------+----+---------+----------+---------------+---------------+-------------------+--------------------+-----+--------------------+\n",
            "|    null|         75000|27-Oct-88|         19-May-15|                  0|                  0|         0.0|                   0|                null|              Y|   0|HBXX|                    0|                    0|          0.0|             0|               0.0|   G|  S122|   6|        0|         1|              0|              1|                  1|(60,[0,1,2,3,23,2...|  0.0|(60,[0,1,2,3,23,2...|\n",
            "|    null|         75000|27-Oct-88|         19-May-15|                  0|                  0|         0.0|                   0|                null|              Y|   0|HBXX|                    0|                    0|          0.0|             0|               0.0|   G|  S122|   6|        0|         1|              0|              1|                  1|(60,[0,1,2,3,23,2...|  0.0|(60,[0,1,2,3,23,2...|\n",
            "|  ADIPUR|         12000|10-Apr-92|         02-May-15|              60000|                  2|         0.0|    WELSPUN CORP LTD|          ICICI Bank|              N|   0|HBXX|                    0|                    0|          0.0|             0|               0.0|   B|  S122|   1|        0|         0|              0|              1|                  0|(60,[1,3,22,28,57...|  0.0|(60,[1,3,22,28,57...|\n",
            "|  ADIPUR|         12000|10-Apr-92|         02-May-15|              70000|                  3|         0.0|    WELSPUN CORP LTD|          ICICI Bank|              N|   0|HBXX|                    0|                    0|          0.0|             0|               0.0|   B|  S143|   1|        0|         0|              0|              1|                  0|(60,[1,3,22,31,57...|  0.0|(60,[1,3,22,31,57...|\n",
            "|  AHMEDB|         15500|29-Apr-93|         12-Jun-15|              20000|                  5|         0.0|INSURANCE INSTITU...|          ICICI Bank|              N|   0|HBXX|                    0|                    0|          0.0|             0|               0.0|   B|  S159|   1|        0|         0|              0|              1|                  0|(60,[1,3,22,30,57...|  0.0|(60,[1,3,22,30,57...|\n",
            "|   ANJAR|         28500|24-Dec-86|         21-Jun-15|             200000|                  3|      2491.0|MKC INFRASTRUCTUR...|       Bank of India|              Y|   8|HAYT|               200000|                    3|        15.75|          4000|           7006.75|   B|  S133|   3|        0|         1|              0|              1|                  1|(60,[0,1,2,13,22,...|  0.0|(60,[0,1,2,13,22,...|\n",
            "|   ANJAR|         28500|24-Dec-86|         21-Jun-15|             200000|                  3|      2491.0|MKC INFRASTRUCTUR...|       Bank of India|              Y|   8|HBXC|               210000|                    3|        18.25|          2100|           7618.37|   B|  S133|   5|        0|         1|              1|              1|                  1|(60,[0,1,2,4,21,2...|  0.0|(60,[0,1,2,4,21,2...|\n",
            "|Adilabad|          4000|29-Jan-95|         23-Jun-15|             300000|                  3|         0.0|               SAGAR|                null|              N|   0|HBXX|                    0|                    0|          0.0|             0|               0.0|   B|  S133|   1|        0|         0|              0|              1|                  0|(60,[1,3,22,29,57...|  0.0|(60,[1,3,22,29,57...|\n",
            "|Adilabad|         10000|08-Jun-91|         22-Jun-15|            1000000|                  5|      5000.0|STATE GOVT EMPLOYEES|State Bank of Hyd...|              N|   0|HBXX|                    0|                    0|          0.0|             0|               0.0|   B|  S159|   1|        0|         0|              0|              1|                  0|(60,[1,3,22,30,57...|  0.0|(60,[1,3,22,30,57...|\n",
            "|Adilabad|         12500|01-Aug-84|         12-Jun-15|             300000|                  5|         0.0|          B. BHASKAR|                null|              N|   0|HBXX|                    0|                    0|          0.0|             0|               0.0|   B|  S133|   1|        0|         0|              0|              1|                  0|(60,[1,3,22,29,57...|  0.0|(60,[1,3,22,29,57...|\n",
            "|Adilabad|         15000|10-Jun-90|         09-Jun-15|             100000|                  4|      2000.0|  STAFFING CORPORATE| State Bank of India|              Y|   1|HBXC|               100000|                    4|         20.0|          1000|           3043.04|   B|  S159|   4|        0|         1|              0|              1|                  1|(60,[0,1,2,4,22,3...|  0.0|(60,[0,1,2,4,22,3...|\n",
            "|Adilabad|         20000|16-Jun-85|         23-Jun-15|             200000|                  2|      5000.0|    K. SHRAVAN KUMAR|                null|              N|   0|HBXX|                    0|                    0|          0.0|             0|               0.0|   B|  S159|   1|        0|         0|              0|              1|                  0|(60,[1,3,22,30,57...|  0.0|(60,[1,3,22,30,57...|\n",
            "|Adilabad|         20000|16-Jun-85|         24-Jun-15|             100000|                  1|      5000.0|    K. SHRAVAN KUMAR|                null|              N|   0|HBXX|                    0|                    0|          0.0|             0|               0.0|   B|  S159|   1|        0|         0|              0|              1|                  0|(60,[1,3,22,30,57...|  0.0|(60,[1,3,22,30,57...|\n",
            "|Adilabad|         30000|10-Mar-91|         11-May-15|             500000|                  5|      7000.0|               SIDDU|State Bank of Hyd...|              Y|  10|HBXX|               500000|                    5|          0.0|             0|               0.0|   E|  S133|   3|        0|         1|              0|              1|                  1|(60,[0,1,2,3,25,2...|  0.0|(60,[0,1,2,3,25,2...|\n",
            "|Adilabad|         40000|15-Jan-75|         27-May-15|             500000|                  5|      9000.0|M.VENKATA RAMAKRI...|          ICICI Bank|              Y|  10|HBXC|               500000|                    5|         20.0|          5000|          13246.94|   B|  S133|   4|        0|         1|              0|              1|                  1|(60,[0,1,2,4,22,2...|  0.0|(60,[0,1,2,4,22,2...|\n",
            "|Adilabad|         48965|07-Feb-88|         03-Jun-15|             200000|                  1|         0.0|VERIZON DATA SERV...|           HDFC Bank|              Y|  11|HAXA|               200000|                    1|        13.99|          1980|          17956.48|   B|  S122|   5|        0|         0|              1|              1|                  1|(60,[1,2,6,21,22,...|  0.0|(60,[1,2,6,21,22,...|\n",
            "|Adilabad|         48965|07-Feb-88|         31-May-15|                  0|                  1|         0.0|VERIZON DATA SERV...|           HDFC Bank|              Y|  11|HAXA|               150000|                    1|        13.99|          1485|          13467.36|   B|  S122|   5|        0|         0|              1|              1|                  1|(60,[1,2,6,21,22,...|  0.0|(60,[1,2,6,21,22,...|\n",
            "|Adilabad|         50000|09-May-88|         15-Jun-15|             500000|                  5|      5000.0|           IBM DAKSH|          ICICI Bank|              Y|  10|HBXX|               500000|                    5|          0.0|             0|               0.0|   B|  S137|   2|        0|         0|              0|              1|                  1|(60,[1,2,3,22,33,...|  0.0|(60,[1,2,3,22,33,...|\n",
            "|Adilabad|         70000|19-Apr-68|         13-May-15|             300000|                  0|     15000.0|   ORIENT CEMENT LTD|           HDFC Bank|              Y|  11|HBXX|               300000|                    5|          0.0|             0|               0.0|   B|  S133|   3|        0|         1|              0|              1|                  1|(60,[0,1,2,3,22,2...|  0.0|(60,[0,1,2,3,22,2...|\n",
            "|Adilabad|        400000|16-Jan-84|         19-May-15|                  0|                  3|         0.0|       VIMLESH KUMAR|State Bank of Hyd...|              N|  11|HBXX|                    0|                    0|          0.0|             0|               0.0|   B|  S133|   3|        0|         0|              0|              1|                  0|(60,[1,3,22,29,57...|  0.0|(60,[1,3,22,29,57...|\n",
            "+--------+--------------+---------+------------------+-------------------+-------------------+------------+--------------------+--------------------+---------------+----+----+---------------------+---------------------+-------------+--------------+------------------+----+------+----+---------+----------+---------------+---------------+-------------------+--------------------+-----+--------------------+\n",
            "only showing top 20 rows\n",
            "\n"
          ],
          "name": "stdout"
        }
      ]
    },
    {
      "cell_type": "code",
      "metadata": {
        "id": "hDIxIBuQQuiq"
      },
      "source": [
        "num_cols = [c for c, t in df_t.dtypes if t != \"string\"]\r\n",
        "categ_cols = [c for c, t in df_t.dtypes if t == \"string\" and c != \"Disbursed\"]\r\n",
        "categ_cols_idx = [c + \"Idx\" for c in categ_cols]\r\n",
        "categ_cols_vect = [c + \"Vect\" for c in categ_cols]"
      ],
      "execution_count": 45,
      "outputs": []
    },
    {
      "cell_type": "code",
      "metadata": {
        "id": "rRhpQoDUBPpt"
      },
      "source": [
        "indexer = feature.StringIndexer(inputCol=\"Disbursed\", outputCol=\"label1\")\r\n",
        "indexers = feature.StringIndexer(inputCols=categ_cols, outputCols=categ_cols_idx)\r\n",
        "OHencoder = feature.OneHotEncoder(inputCols=categ_cols_idx, outputCols=categ_cols_vect)\r\n",
        "vectAssembler = feature.VectorAssembler(inputCols = num_cols + categ_cols_vect, outputCol = \"featuresRaw\")\r\n",
        "#scaler = feature.StandardScaler(inputCol=\"featuresRaw\", outputCol=\"features\")"
      ],
      "execution_count": 46,
      "outputs": []
    },
    {
      "cell_type": "code",
      "metadata": {
        "id": "b3J9s_5wEew1"
      },
      "source": [
        "pipe = Pipeline(stages=[indexer, indexers, OHencoder, vectAssembler, scaler])\r\n",
        "pipeModel = pipe.fit(tmp3)"
      ],
      "execution_count": 47,
      "outputs": []
    },
    {
      "cell_type": "code",
      "metadata": {
        "id": "ryXMccmMEeqq"
      },
      "source": [
        "df_train = pipeModel.transform(tmp3)\r\n",
        "df_eval = pipeModel.transform(tmp3)"
      ],
      "execution_count": 48,
      "outputs": []
    },
    {
      "cell_type": "code",
      "metadata": {
        "id": "k-SKBGF-EeeF"
      },
      "source": [
        "df_eval.show()"
      ],
      "execution_count": null,
      "outputs": []
    },
    {
      "cell_type": "code",
      "metadata": {
        "id": "XLJ4fLtlBPmq"
      },
      "source": [
        "df_train = df_train.select(\"label\", \"features\")\r\n",
        "df_eval = df_eval.select(\"label\", \"features\")"
      ],
      "execution_count": 50,
      "outputs": []
    },
    {
      "cell_type": "code",
      "metadata": {
        "id": "rbNv-n5uHYkz"
      },
      "source": [
        "print(\"Train:\")\r\n",
        "df_train.groupBy(\"label\").count().show()\r\n",
        "print(\"Eval:\")\r\n",
        "df_eval.groupBy(\"label\").count().show()"
      ],
      "execution_count": null,
      "outputs": []
    },
    {
      "cell_type": "code",
      "metadata": {
        "colab": {
          "base_uri": "https://localhost:8080/"
        },
        "id": "JdXDl3xMHYhp",
        "outputId": "2896e09b-b8f2-4382-e487-5b20f458833d"
      },
      "source": [
        "df_train.show()"
      ],
      "execution_count": 52,
      "outputs": [
        {
          "output_type": "stream",
          "text": [
            "+-----+--------------------+\n",
            "|label|            features|\n",
            "+-----+--------------------+\n",
            "|  0.0|(60,[1,3,23,28,57...|\n",
            "|  0.0|(60,[0,1,2,7,23,2...|\n",
            "|  0.0|(60,[0,1,2,3,22,3...|\n",
            "|  0.0|(60,[0,1,2,3,22,3...|\n",
            "|  0.0|(60,[0,1,2,3,22,3...|\n",
            "|  0.0|(60,[0,1,2,15,22,...|\n",
            "|  0.0|(60,[1,3,22,29,57...|\n",
            "|  0.0|(60,[0,1,2,3,22,3...|\n",
            "|  0.0|(60,[0,2,8,21,24,...|\n",
            "|  0.0|(60,[1,2,4,22,29,...|\n",
            "|  0.0|(60,[0,1,2,4,22,2...|\n",
            "|  0.0|(60,[1,3,22,28,57...|\n",
            "|  0.0|(60,[1,3,22,29,57...|\n",
            "|  0.0|(60,[0,1,2,9,22,2...|\n",
            "|  0.0|(60,[1,3,22,36,57...|\n",
            "|  0.0|(60,[0,1,2,3,22,3...|\n",
            "|  0.0|(60,[0,1,2,11,25,...|\n",
            "|  0.0|(60,[1,3,22,28,57...|\n",
            "|  0.0|(60,[1,3,25,29,57...|\n",
            "|  0.0|(60,[0,1,2,3,25,2...|\n",
            "+-----+--------------------+\n",
            "only showing top 20 rows\n",
            "\n"
          ],
          "name": "stdout"
        }
      ]
    },
    {
      "cell_type": "code",
      "metadata": {
        "id": "mcnpWCpDHYab"
      },
      "source": [
        ""
      ],
      "execution_count": null,
      "outputs": []
    },
    {
      "cell_type": "markdown",
      "metadata": {
        "id": "BwLRXMQi9Igr"
      },
      "source": [
        "REGRESJA LINIOWA"
      ]
    },
    {
      "cell_type": "code",
      "metadata": {
        "id": "LYM01zahj6yU"
      },
      "source": [
        "from pyspark.ml import regression"
      ],
      "execution_count": 53,
      "outputs": []
    },
    {
      "cell_type": "code",
      "metadata": {
        "id": "0UeoYv0x6dHa"
      },
      "source": [
        "reg = regression.LinearRegression(maxIter=500)"
      ],
      "execution_count": 54,
      "outputs": []
    },
    {
      "cell_type": "code",
      "metadata": {
        "id": "HF8_BvH46dFc"
      },
      "source": [
        "regModel = reg.fit(df_train)"
      ],
      "execution_count": 55,
      "outputs": []
    },
    {
      "cell_type": "code",
      "metadata": {
        "colab": {
          "base_uri": "https://localhost:8080/"
        },
        "id": "wORS7iq86dCb",
        "outputId": "9f22b032-a224-4b90-c2b9-ac48e6b20f0e"
      },
      "source": [
        "regModel.coefficients"
      ],
      "execution_count": 56,
      "outputs": [
        {
          "output_type": "execute_result",
          "data": {
            "text/plain": [
              "DenseVector([0.0031, 0.0, 0.0019, 0.0118, 0.0041, 0.002, 0.0047, 0.0075, 0.0089, 0.0049, 0.0081, 0.0015, 0.0028, 0.0012, 0.0016, 0.0023, 0.0007, 0.0006, 0.0002, 0.0008, 0.0002, 0.0037, 0.0029, -0.0026, 0.0021, 0.0001, -0.0016, -0.0002, 0.0043, -0.0001, -0.0016, 0.0006, -0.0013, -0.0041, 0.0022, -0.0013, -0.0011, -0.0008, -0.0007, -0.0013, -0.0006, -0.0006, -0.0007, -0.0, -0.0004, -0.0003, 0.0009, -0.0003, -0.0001, -0.0001, -0.0001, 0.0, -0.0001, -0.0002, 0.0, -0.0, -0.0, -0.0001, 0.0023, 0.0043])"
            ]
          },
          "metadata": {
            "tags": []
          },
          "execution_count": 56
        }
      ]
    },
    {
      "cell_type": "code",
      "metadata": {
        "colab": {
          "base_uri": "https://localhost:8080/"
        },
        "id": "FJhCmxb56c8A",
        "outputId": "5b5bfa0d-f28d-43ed-edcd-bd34cc6cc71c"
      },
      "source": [
        "regModel.intercept"
      ],
      "execution_count": 57,
      "outputs": [
        {
          "output_type": "execute_result",
          "data": {
            "text/plain": [
              "-0.02854028698498677"
            ]
          },
          "metadata": {
            "tags": []
          },
          "execution_count": 57
        }
      ]
    },
    {
      "cell_type": "code",
      "metadata": {
        "colab": {
          "base_uri": "https://localhost:8080/"
        },
        "id": "qadBczMO6uTO",
        "outputId": "8561db06-78f9-4b5c-853f-e109838754ab"
      },
      "source": [
        "trainSummary = regModel.summary\r\n",
        "type(trainSummary)"
      ],
      "execution_count": 58,
      "outputs": [
        {
          "output_type": "execute_result",
          "data": {
            "text/plain": [
              "pyspark.ml.regression.LinearRegressionTrainingSummary"
            ]
          },
          "metadata": {
            "tags": []
          },
          "execution_count": 58
        }
      ]
    },
    {
      "cell_type": "code",
      "metadata": {
        "colab": {
          "base_uri": "https://localhost:8080/"
        },
        "id": "BCG51BJC6uNh",
        "outputId": "69af5da6-b8a8-4987-e221-8536bd5094ad"
      },
      "source": [
        "trainSummary.meanAbsoluteError"
      ],
      "execution_count": 59,
      "outputs": [
        {
          "output_type": "execute_result",
          "data": {
            "text/plain": [
              "0.029156022120266634"
            ]
          },
          "metadata": {
            "tags": []
          },
          "execution_count": 59
        }
      ]
    },
    {
      "cell_type": "code",
      "metadata": {
        "colab": {
          "base_uri": "https://localhost:8080/"
        },
        "id": "wj2zeax564Aj",
        "outputId": "bdfe606d-48b9-4d8e-a0b7-8901cfb7b43e"
      },
      "source": [
        "trainSummary.meanSquaredError"
      ],
      "execution_count": 60,
      "outputs": [
        {
          "output_type": "execute_result",
          "data": {
            "text/plain": [
              "0.014211110364853312"
            ]
          },
          "metadata": {
            "tags": []
          },
          "execution_count": 60
        }
      ]
    },
    {
      "cell_type": "code",
      "metadata": {
        "colab": {
          "base_uri": "https://localhost:8080/"
        },
        "id": "5P_Z6gk8636A",
        "outputId": "abd9a2bf-e996-4eeb-eb22-859dddd5c97b"
      },
      "source": [
        "trainSummary.r2"
      ],
      "execution_count": 61,
      "outputs": [
        {
          "output_type": "execute_result",
          "data": {
            "text/plain": [
              "0.014131859677981695"
            ]
          },
          "metadata": {
            "tags": []
          },
          "execution_count": 61
        }
      ]
    },
    {
      "cell_type": "code",
      "metadata": {
        "colab": {
          "base_uri": "https://localhost:8080/"
        },
        "id": "NGwNOCGL633i",
        "outputId": "73194d64-a140-4446-d39f-692222cda27b"
      },
      "source": [
        "# predykcje\r\n",
        "regModel.transform(df_eval).show()"
      ],
      "execution_count": 62,
      "outputs": [
        {
          "output_type": "stream",
          "text": [
            "+-----+--------------------+--------------------+\n",
            "|label|            features|          prediction|\n",
            "+-----+--------------------+--------------------+\n",
            "|  0.0|(60,[1,3,23,28,57...|0.012673119870353938|\n",
            "|  0.0|(60,[0,1,2,7,23,2...| 0.03894956139590243|\n",
            "|  0.0|(60,[0,1,2,3,22,3...|0.028089817612023955|\n",
            "|  0.0|(60,[0,1,2,3,22,3...|0.032857002053417704|\n",
            "|  0.0|(60,[0,1,2,3,22,3...| 0.03824227434040331|\n",
            "|  0.0|(60,[0,1,2,15,22,...| 0.04470125804214896|\n",
            "|  0.0|(60,[1,3,22,29,57...|0.013093366614811745|\n",
            "|  0.0|(60,[0,1,2,3,22,3...| 0.01820400922026639|\n",
            "|  0.0|(60,[0,2,8,21,24,...| 0.06421188539978266|\n",
            "|  0.0|(60,[1,2,4,22,29,...| 0.00300531945764259|\n",
            "|  0.0|(60,[0,1,2,4,22,2...| 0.01808183427953043|\n",
            "|  0.0|(60,[1,3,22,28,57...|0.020768572297168775|\n",
            "|  0.0|(60,[1,3,22,29,57...|0.014294991168959222|\n",
            "|  0.0|(60,[0,1,2,9,22,2...| 0.03232506263683215|\n",
            "|  0.0|(60,[1,3,22,36,57...|-0.00690761697913...|\n",
            "|  0.0|(60,[0,1,2,3,22,3...|0.015960034011154214|\n",
            "|  0.0|(60,[0,1,2,11,25,...| 0.01868713240699233|\n",
            "|  0.0|(60,[1,3,22,28,57...|0.022619527340466017|\n",
            "|  0.0|(60,[1,3,25,29,57...|0.011480940863171446|\n",
            "|  0.0|(60,[0,1,2,3,25,2...|0.021670477430770094|\n",
            "+-----+--------------------+--------------------+\n",
            "only showing top 20 rows\n",
            "\n"
          ],
          "name": "stdout"
        }
      ]
    },
    {
      "cell_type": "markdown",
      "metadata": {
        "id": "3vkZ-cHv7bGM"
      },
      "source": [
        "#### Drzewo regresyjne"
      ]
    },
    {
      "cell_type": "code",
      "metadata": {
        "id": "cSqrNlQ_7D_W"
      },
      "source": [
        "tree_reg = regression.DecisionTreeRegressor()"
      ],
      "execution_count": 63,
      "outputs": []
    },
    {
      "cell_type": "code",
      "metadata": {
        "id": "Evgapgrt7D8c"
      },
      "source": [
        "tree_regModel = tree_reg.fit(df_train)"
      ],
      "execution_count": 64,
      "outputs": []
    },
    {
      "cell_type": "code",
      "metadata": {
        "colab": {
          "base_uri": "https://localhost:8080/"
        },
        "id": "UEvdC59u7D4X",
        "outputId": "84404040-ed33-4a1f-c725-17b23c682afe"
      },
      "source": [
        "print(tree_regModel.toDebugString)"
      ],
      "execution_count": 65,
      "outputs": [
        {
          "output_type": "stream",
          "text": [
            "DecisionTreeRegressionModel: uid=DecisionTreeRegressor_6255ff4491b1, depth=5, numNodes=57, numFeatures=60\n",
            "  If (feature 57 <= 0.016470407748875524)\n",
            "   If (feature 57 <= 0.009189159861454218)\n",
            "    If (feature 57 <= 0.008271828252805586)\n",
            "     If (feature 5 <= 2.2628782783944144)\n",
            "      If (feature 21 <= 1.1993123157773127)\n",
            "       Predict: 0.0\n",
            "      Else (feature 21 > 1.1993123157773127)\n",
            "       Predict: 4.553734061930783E-4\n",
            "     Else (feature 5 > 2.2628782783944144)\n",
            "      If (feature 59 <= 0.7446789795243225)\n",
            "       Predict: 0.0\n",
            "      Else (feature 59 > 0.7446789795243225)\n",
            "       Predict: 0.002081165452653486\n",
            "    Else (feature 57 > 0.008271828252805586)\n",
            "     If (feature 6 <= 2.7815593385283988)\n",
            "      If (feature 28 <= 1.006510530627566)\n",
            "       Predict: 0.0023059185242121443\n",
            "      Else (feature 28 > 1.006510530627566)\n",
            "       Predict: 0.004461221688400824\n",
            "     Else (feature 6 > 2.7815593385283988)\n",
            "      If (feature 0 <= 1.0107756116042783)\n",
            "       Predict: 0.05263157894736842\n",
            "      Else (feature 0 > 1.0107756116042783)\n",
            "       Predict: 0.002570694087403599\n",
            "   Else (feature 57 > 0.009189159861454218)\n",
            "    If (feature 57 <= 0.011482833312966404)\n",
            "     If (feature 21 <= 1.1993123157773127)\n",
            "      If (feature 34 <= 4.120115507645126)\n",
            "       Predict: 0.005582290664100096\n",
            "      Else (feature 34 > 4.120115507645126)\n",
            "       Predict: 0.026845637583892617\n",
            "     Else (feature 21 > 1.1993123157773127)\n",
            "      If (feature 13 <= 6.563213857424442)\n",
            "       Predict: 0.011932479627473807\n",
            "      Else (feature 13 > 6.563213857424442)\n",
            "       Predict: 0.06451612903225806\n",
            "    Else (feature 57 > 0.011482833312966404)\n",
            "     If (feature 58 <= 1.0024758072212774)\n",
            "      If (feature 59 <= 1.2411316325405375)\n",
            "       Predict: 0.013038968736109054\n",
            "      Else (feature 59 > 1.2411316325405375)\n",
            "       Predict: 0.023845763571790968\n",
            "     Else (feature 58 > 1.0024758072212774)\n",
            "      If (feature 24 <= 1.352676775048095)\n",
            "       Predict: 0.007229612492770388\n",
            "      Else (feature 24 > 1.352676775048095)\n",
            "       Predict: 0.5\n",
            "  Else (feature 57 > 0.016470407748875524)\n",
            "   If (feature 21 <= 1.1993123157773127)\n",
            "    If (feature 34 <= 4.120115507645126)\n",
            "     If (feature 59 <= 0.7446789795243225)\n",
            "      If (feature 1 <= 1.1386123381746922)\n",
            "       Predict: 0.034636318654131616\n",
            "      Else (feature 1 > 1.1386123381746922)\n",
            "       Predict: 0.014960261804581581\n",
            "     Else (feature 59 > 0.7446789795243225)\n",
            "      If (feature 33 <= 3.588009833058469)\n",
            "       Predict: 0.03868207103123663\n",
            "      Else (feature 33 > 3.588009833058469)\n",
            "       Predict: 0.0017857142857142857\n",
            "    Else (feature 34 > 4.120115507645126)\n",
            "     If (feature 57 <= 0.025671507846537434)\n",
            "      If (feature 59 <= 0.7446789795243225)\n",
            "       Predict: 0.038461538461538464\n",
            "      Else (feature 59 > 0.7446789795243225)\n",
            "       Predict: 0.18181818181818182\n",
            "     Else (feature 57 > 0.025671507846537434)\n",
            "      If (feature 24 <= 1.352676775048095)\n",
            "       Predict: 0.04672897196261682\n",
            "      Else (feature 24 > 1.352676775048095)\n",
            "       Predict: 0.2\n",
            "   Else (feature 21 > 1.1993123157773127)\n",
            "    If (feature 33 <= 3.588009833058469)\n",
            "     If (feature 59 <= 0.2482263265081075)\n",
            "      If (feature 57 <= 0.05304220315340025)\n",
            "       Predict: 0.05109126984126984\n",
            "      Else (feature 57 > 0.05304220315340025)\n",
            "       Predict: 0.013793103448275862\n",
            "     Else (feature 59 > 0.2482263265081075)\n",
            "      If (feature 24 <= 1.352676775048095)\n",
            "       Predict: 0.07635558834378459\n",
            "      Else (feature 24 > 1.352676775048095)\n",
            "       Predict: 1.0\n",
            "    Else (feature 33 > 3.588009833058469)\n",
            "     Predict: 0.0\n",
            "\n"
          ],
          "name": "stdout"
        }
      ]
    },
    {
      "cell_type": "code",
      "metadata": {
        "colab": {
          "base_uri": "https://localhost:8080/"
        },
        "id": "aoBz3dpK6uIv",
        "outputId": "0c7f0a85-35ba-41fd-974a-1324d44a50b7"
      },
      "source": [
        "# predykcje\r\n",
        "tree_regModel.transform(df_eval).show()"
      ],
      "execution_count": 67,
      "outputs": [
        {
          "output_type": "stream",
          "text": [
            "+-----+--------------------+--------------------+\n",
            "|label|            features|          prediction|\n",
            "+-----+--------------------+--------------------+\n",
            "|  0.0|(60,[1,3,23,28,57...|0.004461221688400824|\n",
            "|  0.0|(60,[0,1,2,7,23,2...|0.013038968736109054|\n",
            "|  0.0|(60,[0,1,2,3,22,3...|0.005582290664100096|\n",
            "|  0.0|(60,[0,1,2,3,22,3...|0.007229612492770388|\n",
            "|  0.0|(60,[0,1,2,3,22,3...| 0.04672897196261682|\n",
            "|  0.0|(60,[0,1,2,15,22,...| 0.03868207103123663|\n",
            "|  0.0|(60,[1,3,22,29,57...| 0.03868207103123663|\n",
            "|  0.0|(60,[0,1,2,3,22,3...|0.002305918524212...|\n",
            "|  0.0|(60,[0,2,8,21,24,...| 0.05109126984126984|\n",
            "|  0.0|(60,[1,2,4,22,29,...|0.023845763571790968|\n",
            "|  0.0|(60,[0,1,2,4,22,2...|0.005582290664100096|\n",
            "|  0.0|(60,[1,3,22,28,57...|0.005582290664100096|\n",
            "|  0.0|(60,[1,3,22,29,57...|0.005582290664100096|\n",
            "|  0.0|(60,[0,1,2,9,22,2...|0.023845763571790968|\n",
            "|  0.0|(60,[1,3,22,36,57...|0.013038968736109054|\n",
            "|  0.0|(60,[0,1,2,3,22,3...| 0.03868207103123663|\n",
            "|  0.0|(60,[0,1,2,11,25,...|0.023845763571790968|\n",
            "|  0.0|(60,[1,3,22,28,57...|0.004461221688400824|\n",
            "|  0.0|(60,[1,3,25,29,57...|0.007229612492770388|\n",
            "|  0.0|(60,[0,1,2,3,25,2...|0.007229612492770388|\n",
            "+-----+--------------------+--------------------+\n",
            "only showing top 20 rows\n",
            "\n"
          ],
          "name": "stdout"
        }
      ]
    },
    {
      "cell_type": "markdown",
      "metadata": {
        "id": "OQHZnAjb742l"
      },
      "source": [
        "Las regresyjny"
      ]
    },
    {
      "cell_type": "code",
      "metadata": {
        "id": "hLcffRmG6t_u"
      },
      "source": [
        "forest_reg = regression.RandomForestRegressor()"
      ],
      "execution_count": 68,
      "outputs": []
    },
    {
      "cell_type": "code",
      "metadata": {
        "id": "wqZHyoF-8MGT"
      },
      "source": [
        "forest_regModel = forest_reg.fit(df_train)"
      ],
      "execution_count": 69,
      "outputs": []
    },
    {
      "cell_type": "code",
      "metadata": {
        "colab": {
          "base_uri": "https://localhost:8080/"
        },
        "id": "oSr91xnV8MEP",
        "outputId": "c8d1ac18-78f3-4025-ce00-5a0cff1becc9"
      },
      "source": [
        "forest_regModel.featureImportances"
      ],
      "execution_count": 70,
      "outputs": [
        {
          "output_type": "execute_result",
          "data": {
            "text/plain": [
              "SparseVector(60, {0: 0.0116, 1: 0.0074, 2: 0.0214, 3: 0.0159, 4: 0.0018, 5: 0.0061, 6: 0.0003, 7: 0.0137, 8: 0.0462, 9: 0.0019, 10: 0.0292, 12: 0.0003, 13: 0.0007, 14: 0.0011, 15: 0.0027, 21: 0.0379, 22: 0.0085, 23: 0.0017, 24: 0.0084, 25: 0.0014, 26: 0.001, 27: 0.0049, 28: 0.0027, 29: 0.0172, 30: 0.0007, 31: 0.0008, 32: 0.0005, 33: 0.047, 34: 0.0317, 36: 0.0002, 37: 0.0, 38: 0.0029, 40: 0.0029, 41: 0.0004, 43: 0.0008, 57: 0.572, 58: 0.0599, 59: 0.0362})"
            ]
          },
          "metadata": {
            "tags": []
          },
          "execution_count": 70
        }
      ]
    },
    {
      "cell_type": "code",
      "metadata": {
        "colab": {
          "base_uri": "https://localhost:8080/"
        },
        "id": "lfZ_UCyr8MCC",
        "outputId": "bb110d65-3015-4546-f8b5-3cba7d694baf"
      },
      "source": [
        "print(forest_regModel.toDebugString)"
      ],
      "execution_count": 71,
      "outputs": [
        {
          "output_type": "stream",
          "text": [
            "RandomForestRegressionModel: uid=RandomForestRegressor_053b97fb8cff, numTrees=20, numFeatures=60\n",
            "  Tree 0 (weight 1.0):\n",
            "    If (feature 58 <= 0.5901377405825727)\n",
            "     If (feature 10 <= 3.7970696388246554)\n",
            "      If (feature 57 <= 0.01563252463499346)\n",
            "       If (feature 0 <= 1.0107756116042783)\n",
            "        If (feature 57 <= 0.009639444538440442)\n",
            "         Predict: 1.6689847009735743E-4\n",
            "        Else (feature 57 > 0.009639444538440442)\n",
            "         Predict: 0.009930486593843098\n",
            "       Else (feature 0 > 1.0107756116042783)\n",
            "        If (feature 57 <= 0.009186863662183508)\n",
            "         Predict: 0.0014905743095133712\n",
            "        Else (feature 57 > 0.009186863662183508)\n",
            "         Predict: 0.010655985489721886\n",
            "      Else (feature 57 > 0.01563252463499346)\n",
            "       If (feature 3 <= 1.0730935980782343)\n",
            "        If (feature 57 <= 0.05522359246057472)\n",
            "         Predict: 0.05126941089474982\n",
            "        Else (feature 57 > 0.05522359246057472)\n",
            "         Predict: 0.008012820512820512\n",
            "       Else (feature 3 > 1.0730935980782343)\n",
            "        If (feature 59 <= 0.7446789795243225)\n",
            "         Predict: 0.016615737203972497\n",
            "        Else (feature 59 > 0.7446789795243225)\n",
            "         Predict: 0.04158998895841001\n",
            "     Else (feature 10 > 3.7970696388246554)\n",
            "      If (feature 24 <= 1.352676775048095)\n",
            "       If (feature 29 <= 1.0529526500814932)\n",
            "        If (feature 57 <= 0.022984954699806773)\n",
            "         Predict: 0.03436426116838488\n",
            "        Else (feature 57 > 0.022984954699806773)\n",
            "         Predict: 0.0\n",
            "       Else (feature 29 > 1.0529526500814932)\n",
            "        If (feature 21 <= 1.1993123157773127)\n",
            "         Predict: 0.0684931506849315\n",
            "        Else (feature 21 > 1.1993123157773127)\n",
            "         Predict: 0.11764705882352941\n",
            "      Else (feature 24 > 1.352676775048095)\n",
            "       If (feature 0 <= 1.0107756116042783)\n",
            "        Predict: 0.3333333333333333\n",
            "       Else (feature 0 > 1.0107756116042783)\n",
            "        If (feature 21 <= 1.1993123157773127)\n",
            "         Predict: 0.0\n",
            "        Else (feature 21 > 1.1993123157773127)\n",
            "         Predict: 0.14444444444444443\n",
            "    Else (feature 58 > 0.5901377405825727)\n",
            "     If (feature 57 <= 0.018348698752316275)\n",
            "      If (feature 21 <= 1.1993123157773127)\n",
            "       If (feature 57 <= 0.013765714627906253)\n",
            "        If (feature 8 <= 3.3277301298467865)\n",
            "         Predict: 0.0033030553261767133\n",
            "        Else (feature 8 > 3.3277301298467865)\n",
            "         Predict: 0.13333333333333333\n",
            "       Else (feature 57 > 0.013765714627906253)\n",
            "        If (feature 33 <= 3.588009833058469)\n",
            "         Predict: 0.015400678673975463\n",
            "        Else (feature 33 > 3.588009833058469)\n",
            "         Predict: 0.0\n",
            "      Else (feature 21 > 1.1993123157773127)\n",
            "       If (feature 58 <= 0.7130285671080916)\n",
            "        If (feature 22 <= 1.0104056024244081)\n",
            "         Predict: 0.0\n",
            "        Else (feature 22 > 1.0104056024244081)\n",
            "         Predict: 0.42857142857142855\n",
            "       Else (feature 58 > 0.7130285671080916)\n",
            "        If (feature 59 <= 1.7375842855567525)\n",
            "         Predict: 0.034328358208955224\n",
            "        Else (feature 59 > 1.7375842855567525)\n",
            "         Predict: 0.01348747591522158\n",
            "     Else (feature 57 > 0.018348698752316275)\n",
            "      If (feature 10 <= 3.7970696388246554)\n",
            "       If (feature 33 <= 3.588009833058469)\n",
            "        If (feature 21 <= 1.1993123157773127)\n",
            "         Predict: 0.04064854989723681\n",
            "        Else (feature 21 > 1.1993123157773127)\n",
            "         Predict: 0.06934594168636722\n",
            "       Else (feature 33 > 3.588009833058469)\n",
            "        If (feature 59 <= 2.2340369385729675)\n",
            "         Predict: 0.0\n",
            "        Else (feature 59 > 2.2340369385729675)\n",
            "         Predict: 0.0049504950495049506\n",
            "      Else (feature 10 > 3.7970696388246554)\n",
            "       If (feature 29 <= 1.0529526500814932)\n",
            "        If (feature 27 <= 6.343651871313487)\n",
            "         Predict: 0.04565217391304348\n",
            "        Else (feature 27 > 6.343651871313487)\n",
            "         Predict: 1.0\n",
            "       Else (feature 29 > 1.0529526500814932)\n",
            "        Predict: 0.13872832369942195\n",
            "  Tree 1 (weight 1.0):\n",
            "    If (feature 0 <= 1.0107756116042783)\n",
            "     If (feature 58 <= 0.8259835876400665)\n",
            "      If (feature 7 <= 3.2408984185143432)\n",
            "       If (feature 57 <= 0.01424171673672443)\n",
            "        If (feature 57 <= 0.009182730503496231)\n",
            "         Predict: 0.0\n",
            "        Else (feature 57 > 0.009182730503496231)\n",
            "         Predict: 0.006326530612244898\n",
            "       Else (feature 57 > 0.01424171673672443)\n",
            "        If (feature 57 <= 0.05522359246057472)\n",
            "         Predict: 0.028467595396729255\n",
            "        Else (feature 57 > 0.05522359246057472)\n",
            "         Predict: 0.0\n",
            "      Else (feature 7 > 3.2408984185143432)\n",
            "       If (feature 57 <= 0.022158322962351183)\n",
            "        Predict: 0.0\n",
            "       Else (feature 57 > 0.022158322962351183)\n",
            "        If (feature 22 <= 1.0104056024244081)\n",
            "         Predict: 0.06060606060606061\n",
            "        Else (feature 22 > 1.0104056024244081)\n",
            "         Predict: 0.4\n",
            "     Else (feature 58 > 0.8259835876400665)\n",
            "      If (feature 32 <= 3.39436656702116)\n",
            "       If (feature 59 <= 0.7446789795243225)\n",
            "        If (feature 58 <= 1.5672509098811518)\n",
            "         Predict: 0.006595218466611707\n",
            "        Else (feature 58 > 1.5672509098811518)\n",
            "         Predict: 0.0\n",
            "       Else (feature 59 > 0.7446789795243225)\n",
            "        If (feature 59 <= 2.2340369385729675)\n",
            "         Predict: 0.02435563963111847\n",
            "        Else (feature 59 > 2.2340369385729675)\n",
            "         Predict: 0.013207858675912168\n",
            "      Else (feature 32 > 3.39436656702116)\n",
            "       Predict: 0.0\n",
            "    Else (feature 0 > 1.0107756116042783)\n",
            "     If (feature 8 <= 3.3277301298467865)\n",
            "      If (feature 58 <= 0.409461949428409)\n",
            "       If (feature 15 <= 9.023591842122398)\n",
            "        If (feature 3 <= 1.0730935980782343)\n",
            "         Predict: 0.013369422572178477\n",
            "        Else (feature 3 > 1.0730935980782343)\n",
            "         Predict: 0.008266818700114024\n",
            "       Else (feature 15 > 9.023591842122398)\n",
            "        If (feature 1 <= 1.1386123381746922)\n",
            "         Predict: 0.039603960396039604\n",
            "        Else (feature 1 > 1.1386123381746922)\n",
            "         Predict: 0.10344827586206896\n",
            "      Else (feature 58 > 0.409461949428409)\n",
            "       If (feature 34 <= 4.120115507645126)\n",
            "        If (feature 57 <= 0.01649291050172848)\n",
            "         Predict: 0.009441707717569787\n",
            "        Else (feature 57 > 0.01649291050172848)\n",
            "         Predict: 0.04545946531009849\n",
            "       Else (feature 34 > 4.120115507645126)\n",
            "        If (feature 57 <= 0.018348698752316275)\n",
            "         Predict: 0.013937282229965157\n",
            "        Else (feature 57 > 0.018348698752316275)\n",
            "         Predict: 0.2153846153846154\n",
            "     Else (feature 8 > 3.3277301298467865)\n",
            "      If (feature 57 <= 0.05522359246057472)\n",
            "       If (feature 57 <= 0.01649291050172848)\n",
            "        If (feature 58 <= 0.29650692889643415)\n",
            "         Predict: 0.020477815699658702\n",
            "        Else (feature 58 > 0.29650692889643415)\n",
            "         Predict: 0.07058823529411765\n",
            "       Else (feature 57 > 0.01649291050172848)\n",
            "        If (feature 28 <= 1.006510530627566)\n",
            "         Predict: 0.09746835443037975\n",
            "        Else (feature 28 > 1.006510530627566)\n",
            "         Predict: 0.05555555555555555\n",
            "      Else (feature 57 > 0.05522359246057472)\n",
            "       If (feature 59 <= 2.2340369385729675)\n",
            "        Predict: 0.0\n",
            "       Else (feature 59 > 2.2340369385729675)\n",
            "        If (feature 58 <= 0.8754014091228055)\n",
            "         Predict: 0.0\n",
            "        Else (feature 58 > 0.8754014091228055)\n",
            "         Predict: 0.10526315789473684\n",
            "  Tree 2 (weight 1.0):\n",
            "    If (feature 57 <= 0.01649291050172848)\n",
            "     If (feature 0 <= 1.0107756116042783)\n",
            "      If (feature 21 <= 1.1993123157773127)\n",
            "       If (feature 57 <= 0.01196319820039893)\n",
            "        If (feature 2 <= 1.0476301612375614)\n",
            "         Predict: 8.093161278719482E-4\n",
            "        Else (feature 2 > 1.0476301612375614)\n",
            "         Predict: 0.0027144408251900108\n",
            "       Else (feature 57 > 0.01196319820039893)\n",
            "        If (feature 57 <= 0.01424171673672443)\n",
            "         Predict: 0.011336797354747285\n",
            "        Else (feature 57 > 0.01424171673672443)\n",
            "         Predict: 0.021986353297952996\n",
            "      Else (feature 21 > 1.1993123157773127)\n",
            "       If (feature 5 <= 2.2628782783944144)\n",
            "        If (feature 6 <= 2.7815593385283988)\n",
            "         Predict: 0.007568590350047304\n",
            "        Else (feature 6 > 2.7815593385283988)\n",
            "         Predict: 0.0326530612244898\n",
            "       Else (feature 5 > 2.2628782783944144)\n",
            "        If (feature 24 <= 1.352676775048095)\n",
            "         Predict: 0.0\n",
            "        Else (feature 24 > 1.352676775048095)\n",
            "         Predict: 0.010101010101010102\n",
            "     Else (feature 0 > 1.0107756116042783)\n",
            "      If (feature 57 <= 0.009186863662183508)\n",
            "       If (feature 29 <= 1.0529526500814932)\n",
            "        If (feature 57 <= 0.008501907419730725)\n",
            "         Predict: 6.49456080532554E-4\n",
            "        Else (feature 57 > 0.008501907419730725)\n",
            "         Predict: 0.006097560975609756\n",
            "       Else (feature 29 > 1.0529526500814932)\n",
            "        If (feature 1 <= 1.1386123381746922)\n",
            "         Predict: 0.001866832607342875\n",
            "        Else (feature 1 > 1.1386123381746922)\n",
            "         Predict: 0.0\n",
            "      Else (feature 57 > 0.009186863662183508)\n",
            "       If (feature 8 <= 3.3277301298467865)\n",
            "        If (feature 59 <= 0.2482263265081075)\n",
            "         Predict: 0.006159074015079112\n",
            "        Else (feature 59 > 0.2482263265081075)\n",
            "         Predict: 0.015909545727436462\n",
            "       Else (feature 8 > 3.3277301298467865)\n",
            "        If (feature 59 <= 1.2411316325405375)\n",
            "         Predict: 0.010869565217391304\n",
            "        Else (feature 59 > 1.2411316325405375)\n",
            "         Predict: 0.09482758620689655\n",
            "    Else (feature 57 > 0.01649291050172848)\n",
            "     If (feature 21 <= 1.1993123157773127)\n",
            "      If (feature 34 <= 4.120115507645126)\n",
            "       If (feature 58 <= 0.26826817376344037)\n",
            "        If (feature 15 <= 9.023591842122398)\n",
            "         Predict: 0.018933271761717847\n",
            "        Else (feature 15 > 9.023591842122398)\n",
            "         Predict: 0.2857142857142857\n",
            "       Else (feature 58 > 0.26826817376344037)\n",
            "        If (feature 33 <= 3.588009833058469)\n",
            "         Predict: 0.03710737764791819\n",
            "        Else (feature 33 > 3.588009833058469)\n",
            "         Predict: 0.0016260162601626016\n",
            "      Else (feature 34 > 4.120115507645126)\n",
            "       If (feature 10 <= 3.7970696388246554)\n",
            "        If (feature 0 <= 1.0107756116042783)\n",
            "         Predict: 0.06818181818181818\n",
            "        Else (feature 0 > 1.0107756116042783)\n",
            "         Predict: 0.1590909090909091\n",
            "       Else (feature 10 > 3.7970696388246554)\n",
            "        Predict: 0.0\n",
            "     Else (feature 21 > 1.1993123157773127)\n",
            "      If (feature 33 <= 3.588009833058469)\n",
            "       If (feature 58 <= 0.26826817376344037)\n",
            "        If (feature 10 <= 3.7970696388246554)\n",
            "         Predict: 0.04501607717041801\n",
            "        Else (feature 10 > 3.7970696388246554)\n",
            "         Predict: 0.12\n",
            "       Else (feature 58 > 0.26826817376344037)\n",
            "        If (feature 57 <= 0.01929174779279686)\n",
            "         Predict: 0.03709428129829984\n",
            "        Else (feature 57 > 0.01929174779279686)\n",
            "         Predict: 0.08096980786825252\n",
            "      Else (feature 33 > 3.588009833058469)\n",
            "       Predict: 0.0\n",
            "  Tree 3 (weight 1.0):\n",
            "    If (feature 8 <= 3.3277301298467865)\n",
            "     If (feature 0 <= 1.0107756116042783)\n",
            "      If (feature 58 <= 0.621252612925862)\n",
            "       If (feature 12 <= 5.512106800457534)\n",
            "        If (feature 57 <= 0.01424171673672443)\n",
            "         Predict: 0.0016948354597241184\n",
            "        Else (feature 57 > 0.01424171673672443)\n",
            "         Predict: 0.029728199320498302\n",
            "       Else (feature 12 > 5.512106800457534)\n",
            "        If (feature 57 <= 0.026265304977943032)\n",
            "         Predict: 0.0\n",
            "        Else (feature 57 > 0.026265304977943032)\n",
            "         Predict: 0.2857142857142857\n",
            "      Else (feature 58 > 0.621252612925862)\n",
            "       If (feature 59 <= 0.7446789795243225)\n",
            "        If (feature 3 <= 1.0730935980782343)\n",
            "         Predict: 0.0125\n",
            "        Else (feature 3 > 1.0730935980782343)\n",
            "         Predict: 0.004975124378109453\n",
            "       Else (feature 59 > 0.7446789795243225)\n",
            "        If (feature 57 <= 0.022984954699806773)\n",
            "         Predict: 0.007410106899902819\n",
            "        Else (feature 57 > 0.022984954699806773)\n",
            "         Predict: 0.04469525959367946\n",
            "     Else (feature 0 > 1.0107756116042783)\n",
            "      If (feature 5 <= 2.2628782783944144)\n",
            "       If (feature 57 <= 0.01649291050172848)\n",
            "        If (feature 57 <= 0.011485588752091257)\n",
            "         Predict: 0.005282322170367711\n",
            "        Else (feature 57 > 0.011485588752091257)\n",
            "         Predict: 0.01735404392072844\n",
            "       Else (feature 57 > 0.01649291050172848)\n",
            "        If (feature 59 <= 0.7446789795243225)\n",
            "         Predict: 0.02567333438336746\n",
            "        Else (feature 59 > 0.7446789795243225)\n",
            "         Predict: 0.04627589246364037\n",
            "      Else (feature 5 > 2.2628782783944144)\n",
            "       If (feature 41 <= 10.239176741638635)\n",
            "        If (feature 24 <= 1.352676775048095)\n",
            "         Predict: 0.0018535681186283596\n",
            "        Else (feature 24 > 1.352676775048095)\n",
            "         Predict: 0.0\n",
            "       Else (feature 41 > 10.239176741638635)\n",
            "        If (feature 57 <= 0.011479618633987412)\n",
            "         Predict: 0.0\n",
            "        Else (feature 57 > 0.011479618633987412)\n",
            "         Predict: 0.3333333333333333\n",
            "    Else (feature 8 > 3.3277301298467865)\n",
            "     If (feature 29 <= 1.0529526500814932)\n",
            "      If (feature 37 <= 5.8069548560013375)\n",
            "       If (feature 57 <= 0.01649291050172848)\n",
            "        If (feature 59 <= 1.7375842855567525)\n",
            "         Predict: 0.009345794392523364\n",
            "        Else (feature 59 > 1.7375842855567525)\n",
            "         Predict: 0.05263157894736842\n",
            "       Else (feature 57 > 0.01649291050172848)\n",
            "        If (feature 59 <= 1.7375842855567525)\n",
            "         Predict: 0.03536977491961415\n",
            "        Else (feature 59 > 1.7375842855567525)\n",
            "         Predict: 0.07929515418502203\n",
            "      Else (feature 37 > 5.8069548560013375)\n",
            "       Predict: 0.0\n",
            "     Else (feature 29 > 1.0529526500814932)\n",
            "      If (feature 21 <= 1.1993123157773127)\n",
            "       If (feature 57 <= 0.01196319820039893)\n",
            "        If (feature 59 <= 0.2482263265081075)\n",
            "         Predict: 1.0\n",
            "        Else (feature 59 > 0.2482263265081075)\n",
            "         Predict: 0.0\n",
            "       Else (feature 57 > 0.01196319820039893)\n",
            "        If (feature 58 <= 0.576018363016076)\n",
            "         Predict: 0.047244094488188976\n",
            "        Else (feature 58 > 0.576018363016076)\n",
            "         Predict: 0.017543859649122806\n",
            "      Else (feature 21 > 1.1993123157773127)\n",
            "       If (feature 59 <= 0.2482263265081075)\n",
            "        If (feature 57 <= 0.01649291050172848)\n",
            "         Predict: 0.02608695652173913\n",
            "        Else (feature 57 > 0.01649291050172848)\n",
            "         Predict: 0.0756578947368421\n",
            "       Else (feature 59 > 0.2482263265081075)\n",
            "        If (feature 58 <= 0.8259835876400665)\n",
            "         Predict: 0.1103448275862069\n",
            "        Else (feature 58 > 0.8259835876400665)\n",
            "         Predict: 0.16379310344827586\n",
            "  Tree 4 (weight 1.0):\n",
            "    If (feature 58 <= 0.7130285671080916)\n",
            "     If (feature 8 <= 3.3277301298467865)\n",
            "      If (feature 57 <= 0.01424171673672443)\n",
            "       If (feature 2 <= 1.0476301612375614)\n",
            "        If (feature 57 <= 0.009182730503496231)\n",
            "         Predict: 0.0\n",
            "        Else (feature 57 > 0.009182730503496231)\n",
            "         Predict: 0.006091696056428343\n",
            "       Else (feature 2 > 1.0476301612375614)\n",
            "        If (feature 57 <= 0.009186863662183508)\n",
            "         Predict: 0.0013184426865208625\n",
            "        Else (feature 57 > 0.009186863662183508)\n",
            "         Predict: 0.010851544837980407\n",
            "      Else (feature 57 > 0.01424171673672443)\n",
            "       If (feature 59 <= 1.2411316325405375)\n",
            "        If (feature 1 <= 1.1386123381746922)\n",
            "         Predict: 0.035547430428600445\n",
            "        Else (feature 1 > 1.1386123381746922)\n",
            "         Predict: 0.01612073400788887\n",
            "       Else (feature 59 > 1.2411316325405375)\n",
            "        If (feature 24 <= 1.352676775048095)\n",
            "         Predict: 0.04250942749400068\n",
            "        Else (feature 24 > 1.352676775048095)\n",
            "         Predict: 1.0\n",
            "     Else (feature 8 > 3.3277301298467865)\n",
            "      If (feature 1 <= 1.1386123381746922)\n",
            "       If (feature 0 <= 1.0107756116042783)\n",
            "        Predict: 0.0\n",
            "       Else (feature 0 > 1.0107756116042783)\n",
            "        If (feature 28 <= 1.006510530627566)\n",
            "         Predict: 0.041666666666666664\n",
            "        Else (feature 28 > 1.006510530627566)\n",
            "         Predict: 0.027906976744186046\n",
            "      Else (feature 1 > 1.1386123381746922)\n",
            "       If (feature 57 <= 0.037428048112572464)\n",
            "        If (feature 59 <= 2.2340369385729675)\n",
            "         Predict: 0.06512605042016807\n",
            "        Else (feature 59 > 2.2340369385729675)\n",
            "         Predict: 0.15384615384615385\n",
            "       Else (feature 57 > 0.037428048112572464)\n",
            "        If (feature 29 <= 1.0529526500814932)\n",
            "         Predict: 0.0136986301369863\n",
            "        Else (feature 29 > 1.0529526500814932)\n",
            "         Predict: 0.0\n",
            "    Else (feature 58 > 0.7130285671080916)\n",
            "     If (feature 57 <= 0.01649291050172848)\n",
            "      If (feature 57 <= 0.01088260682360282)\n",
            "       If (feature 28 <= 1.006510530627566)\n",
            "        If (feature 59 <= 1.7375842855567525)\n",
            "         Predict: 0.0\n",
            "        Else (feature 59 > 1.7375842855567525)\n",
            "         Predict: 0.0010224948875255625\n",
            "       Else (feature 28 > 1.006510530627566)\n",
            "        If (feature 57 <= 0.009182730503496231)\n",
            "         Predict: 0.0\n",
            "        Else (feature 57 > 0.009182730503496231)\n",
            "         Predict: 0.0039032006245121\n",
            "      Else (feature 57 > 0.01088260682360282)\n",
            "       If (feature 7 <= 3.2408984185143432)\n",
            "        If (feature 24 <= 1.352676775048095)\n",
            "         Predict: 0.010519031141868512\n",
            "        Else (feature 24 > 1.352676775048095)\n",
            "         Predict: 0.25\n",
            "       Else (feature 7 > 3.2408984185143432)\n",
            "        If (feature 58 <= 0.8754014091228055)\n",
            "         Predict: 0.13114754098360656\n",
            "        Else (feature 58 > 0.8754014091228055)\n",
            "         Predict: 0.006578947368421052\n",
            "     Else (feature 57 > 0.01649291050172848)\n",
            "      If (feature 27 <= 6.343651871313487)\n",
            "       If (feature 34 <= 4.120115507645126)\n",
            "        If (feature 33 <= 3.588009833058469)\n",
            "         Predict: 0.04420335335784094\n",
            "        Else (feature 33 > 3.588009833058469)\n",
            "         Predict: 0.0\n",
            "       Else (feature 34 > 4.120115507645126)\n",
            "        If (feature 3 <= 1.0730935980782343)\n",
            "         Predict: 0.08928571428571429\n",
            "        Else (feature 3 > 1.0730935980782343)\n",
            "         Predict: 0.1875\n",
            "      Else (feature 27 > 6.343651871313487)\n",
            "       If (feature 1 <= 1.1386123381746922)\n",
            "        Predict: 0.0\n",
            "       Else (feature 1 > 1.1386123381746922)\n",
            "        Predict: 1.0\n",
            "  Tree 5 (weight 1.0):\n",
            "    If (feature 57 <= 0.01649291050172848)\n",
            "     If (feature 2 <= 1.0476301612375614)\n",
            "      If (feature 22 <= 1.0104056024244081)\n",
            "       If (feature 57 <= 0.01196319820039893)\n",
            "        If (feature 57 <= 0.008264480415139313)\n",
            "         Predict: 0.0\n",
            "        Else (feature 57 > 0.008264480415139313)\n",
            "         Predict: 0.0010104412260020209\n",
            "       Else (feature 57 > 0.01196319820039893)\n",
            "        If (feature 23 <= 1.0303162117019926)\n",
            "         Predict: 0.0\n",
            "        Else (feature 23 > 1.0303162117019926)\n",
            "         Predict: 0.0036900369003690036\n",
            "      Else (feature 22 > 1.0104056024244081)\n",
            "       If (feature 31 <= 2.298905504268073)\n",
            "        If (feature 57 <= 0.009182730503496231)\n",
            "         Predict: 0.0\n",
            "        Else (feature 57 > 0.009182730503496231)\n",
            "         Predict: 0.007764477515367195\n",
            "       Else (feature 31 > 2.298905504268073)\n",
            "        Predict: 0.007643312101910828\n",
            "     Else (feature 2 > 1.0476301612375614)\n",
            "      If (feature 9 <= 3.366381788704853)\n",
            "       If (feature 8 <= 3.3277301298467865)\n",
            "        If (feature 57 <= 0.009186863662183508)\n",
            "         Predict: 0.0014881959006967462\n",
            "        Else (feature 57 > 0.009186863662183508)\n",
            "         Predict: 0.01144965028264827\n",
            "       Else (feature 8 > 3.3277301298467865)\n",
            "        If (feature 25 <= 4.098459349182993)\n",
            "         Predict: 0.03146067415730337\n",
            "        Else (feature 25 > 4.098459349182993)\n",
            "         Predict: 0.2857142857142857\n",
            "      Else (feature 9 > 3.366381788704853)\n",
            "       If (feature 57 <= 0.011485588752091257)\n",
            "        Predict: 0.0\n",
            "       Else (feature 57 > 0.011485588752091257)\n",
            "        If (feature 58 <= 0.26826817376344037)\n",
            "         Predict: 0.00819672131147541\n",
            "        Else (feature 58 > 0.26826817376344037)\n",
            "         Predict: 0.04186046511627907\n",
            "    Else (feature 57 > 0.01649291050172848)\n",
            "     If (feature 8 <= 3.3277301298467865)\n",
            "      If (feature 34 <= 4.120115507645126)\n",
            "       If (feature 29 <= 1.0529526500814932)\n",
            "        If (feature 33 <= 3.588009833058469)\n",
            "         Predict: 0.032723705416579076\n",
            "        Else (feature 33 > 3.588009833058469)\n",
            "         Predict: 0.0\n",
            "       Else (feature 29 > 1.0529526500814932)\n",
            "        If (feature 21 <= 1.1993123157773127)\n",
            "         Predict: 0.03940557689096677\n",
            "        Else (feature 21 > 1.1993123157773127)\n",
            "         Predict: 0.05278810408921933\n",
            "      Else (feature 34 > 4.120115507645126)\n",
            "       If (feature 58 <= 1.4825346444821705)\n",
            "        If (feature 2 <= 1.0476301612375614)\n",
            "         Predict: 0.21739130434782608\n",
            "        Else (feature 2 > 1.0476301612375614)\n",
            "         Predict: 0.10909090909090909\n",
            "       Else (feature 58 > 1.4825346444821705)\n",
            "        If (feature 10 <= 3.7970696388246554)\n",
            "         Predict: 0.017241379310344827\n",
            "        Else (feature 10 > 3.7970696388246554)\n",
            "         Predict: 0.16666666666666666\n",
            "     Else (feature 8 > 3.3277301298467865)\n",
            "      If (feature 57 <= 0.05522359246057472)\n",
            "       If (feature 33 <= 3.588009833058469)\n",
            "        If (feature 27 <= 6.343651871313487)\n",
            "         Predict: 0.07950116913484022\n",
            "        Else (feature 27 > 6.343651871313487)\n",
            "         Predict: 0.0\n",
            "       Else (feature 33 > 3.588009833058469)\n",
            "        Predict: 0.0\n",
            "      Else (feature 57 > 0.05522359246057472)\n",
            "       If (feature 59 <= 2.2340369385729675)\n",
            "        Predict: 0.0\n",
            "       Else (feature 59 > 2.2340369385729675)\n",
            "        If (feature 22 <= 1.0104056024244081)\n",
            "         Predict: 0.0\n",
            "        Else (feature 22 > 1.0104056024244081)\n",
            "         Predict: 0.07142857142857142\n",
            "  Tree 6 (weight 1.0):\n",
            "    If (feature 8 <= 3.3277301298467865)\n",
            "     If (feature 10 <= 3.7970696388246554)\n",
            "      If (feature 2 <= 1.0476301612375614)\n",
            "       If (feature 57 <= 0.018348698752316275)\n",
            "        If (feature 57 <= 0.009182730503496231)\n",
            "         Predict: 0.0\n",
            "        Else (feature 57 > 0.009182730503496231)\n",
            "         Predict: 0.007438463619150662\n",
            "       Else (feature 57 > 0.018348698752316275)\n",
            "        If (feature 40 <= 8.54454330440328)\n",
            "         Predict: 0.03763440860215054\n",
            "        Else (feature 40 > 8.54454330440328)\n",
            "         Predict: 0.14285714285714285\n",
            "      Else (feature 2 > 1.0476301612375614)\n",
            "       If (feature 7 <= 3.2408984185143432)\n",
            "        If (feature 58 <= 0.32474568402942783)\n",
            "         Predict: 0.009221054142298447\n",
            "        Else (feature 58 > 0.32474568402942783)\n",
            "         Predict: 0.020180242335388728\n",
            "       Else (feature 7 > 3.2408984185143432)\n",
            "        If (feature 57 <= 0.01929174779279686)\n",
            "         Predict: 0.028922631959508314\n",
            "        Else (feature 57 > 0.01929174779279686)\n",
            "         Predict: 0.07989347536617843\n",
            "     Else (feature 10 > 3.7970696388246554)\n",
            "      If (feature 58 <= 0.7130285671080916)\n",
            "       If (feature 23 <= 1.0303162117019926)\n",
            "        If (feature 33 <= 3.588009833058469)\n",
            "         Predict: 0.034210526315789476\n",
            "        Else (feature 33 > 3.588009833058469)\n",
            "         Predict: 0.0\n",
            "       Else (feature 23 > 1.0303162117019926)\n",
            "        If (feature 0 <= 1.0107756116042783)\n",
            "         Predict: 0.14285714285714285\n",
            "        Else (feature 0 > 1.0107756116042783)\n",
            "         Predict: 0.04591836734693878\n",
            "      Else (feature 58 > 0.7130285671080916)\n",
            "       If (feature 29 <= 1.0529526500814932)\n",
            "        If (feature 57 <= 0.026265304977943032)\n",
            "         Predict: 0.028409090909090908\n",
            "        Else (feature 57 > 0.026265304977943032)\n",
            "         Predict: 0.10471204188481675\n",
            "       Else (feature 29 > 1.0529526500814932)\n",
            "        If (feature 57 <= 0.029965400482765074)\n",
            "         Predict: 0.10975609756097561\n",
            "        Else (feature 57 > 0.029965400482765074)\n",
            "         Predict: 0.3\n",
            "    Else (feature 8 > 3.3277301298467865)\n",
            "     If (feature 59 <= 0.2482263265081075)\n",
            "      If (feature 58 <= 0.8754014091228055)\n",
            "       If (feature 29 <= 1.0529526500814932)\n",
            "        If (feature 22 <= 1.0104056024244081)\n",
            "         Predict: 0.028446389496717725\n",
            "        Else (feature 22 > 1.0104056024244081)\n",
            "         Predict: 0.0\n",
            "       Else (feature 29 > 1.0529526500814932)\n",
            "        If (feature 57 <= 0.01196319820039893)\n",
            "         Predict: 0.13333333333333333\n",
            "        Else (feature 57 > 0.01196319820039893)\n",
            "         Predict: 0.03333333333333333\n",
            "      Else (feature 58 > 0.8754014091228055)\n",
            "       If (feature 57 <= 0.022984954699806773)\n",
            "        Predict: 0.0\n",
            "       Else (feature 57 > 0.022984954699806773)\n",
            "        If (feature 29 <= 1.0529526500814932)\n",
            "         Predict: 0.0\n",
            "        Else (feature 29 > 1.0529526500814932)\n",
            "         Predict: 0.6666666666666666\n",
            "     Else (feature 59 > 0.2482263265081075)\n",
            "      If (feature 33 <= 3.588009833058469)\n",
            "       If (feature 31 <= 2.298905504268073)\n",
            "        If (feature 21 <= 1.1993123157773127)\n",
            "         Predict: 0.051075268817204304\n",
            "        Else (feature 21 > 1.1993123157773127)\n",
            "         Predict: 0.09059233449477352\n",
            "       Else (feature 31 > 2.298905504268073)\n",
            "        If (feature 59 <= 0.7446789795243225)\n",
            "         Predict: 0.0\n",
            "        Else (feature 59 > 0.7446789795243225)\n",
            "         Predict: 0.16666666666666666\n",
            "      Else (feature 33 > 3.588009833058469)\n",
            "       Predict: 0.0\n",
            "  Tree 7 (weight 1.0):\n",
            "    If (feature 10 <= 3.7970696388246554)\n",
            "     If (feature 57 <= 0.01649291050172848)\n",
            "      If (feature 2 <= 1.0476301612375614)\n",
            "       If (feature 58 <= 0.409461949428409)\n",
            "        If (feature 34 <= 4.120115507645126)\n",
            "         Predict: 8.496176720475786E-4\n",
            "        Else (feature 34 > 4.120115507645126)\n",
            "         Predict: 0.009950248756218905\n",
            "       Else (feature 58 > 0.409461949428409)\n",
            "        If (feature 58 <= 1.4077019433797373)\n",
            "         Predict: 0.004027543198648825\n",
            "        Else (feature 58 > 1.4077019433797373)\n",
            "         Predict: 0.001552312946289972\n",
            "      Else (feature 2 > 1.0476301612375614)\n",
            "       If (feature 57 <= 0.009186863662183508)\n",
            "        If (feature 6 <= 2.7815593385283988)\n",
            "         Predict: 0.0012578616352201257\n",
            "        Else (feature 6 > 2.7815593385283988)\n",
            "         Predict: 0.009900990099009901\n",
            "       Else (feature 57 > 0.009186863662183508)\n",
            "        If (feature 15 <= 9.023591842122398)\n",
            "         Predict: 0.011621071670811667\n",
            "        Else (feature 15 > 9.023591842122398)\n",
            "         Predict: 0.04081632653061224\n",
            "     Else (feature 57 > 0.01649291050172848)\n",
            "      If (feature 33 <= 3.588009833058469)\n",
            "       If (feature 59 <= 0.7446789795243225)\n",
            "        If (feature 21 <= 1.1993123157773127)\n",
            "         Predict: 0.02053063802905875\n",
            "        Else (feature 21 > 1.1993123157773127)\n",
            "         Predict: 0.04746709214200239\n",
            "       Else (feature 59 > 0.7446789795243225)\n",
            "        If (feature 30 <= 2.037807414865838)\n",
            "         Predict: 0.04537521815008726\n",
            "        Else (feature 30 > 2.037807414865838)\n",
            "         Predict: 0.015228426395939087\n",
            "      Else (feature 33 > 3.588009833058469)\n",
            "       If (feature 2 <= 1.0476301612375614)\n",
            "        If (feature 59 <= 2.2340369385729675)\n",
            "         Predict: 0.0\n",
            "        Else (feature 59 > 2.2340369385729675)\n",
            "         Predict: 0.14285714285714285\n",
            "       Else (feature 2 > 1.0476301612375614)\n",
            "        Predict: 0.0\n",
            "    Else (feature 10 > 3.7970696388246554)\n",
            "     If (feature 33 <= 3.588009833058469)\n",
            "      If (feature 38 <= 6.65502666357745)\n",
            "       If (feature 57 <= 0.01563252463499346)\n",
            "        Predict: 0.0\n",
            "       Else (feature 57 > 0.01563252463499346)\n",
            "        If (feature 57 <= 0.05522359246057472)\n",
            "         Predict: 0.07740585774058577\n",
            "        Else (feature 57 > 0.05522359246057472)\n",
            "         Predict: 0.007042253521126761\n",
            "      Else (feature 38 > 6.65502666357745)\n",
            "       If (feature 57 <= 0.01929174779279686)\n",
            "        Predict: 0.0\n",
            "       Else (feature 57 > 0.01929174779279686)\n",
            "        Predict: 1.0\n",
            "     Else (feature 33 > 3.588009833058469)\n",
            "      Predict: 0.0\n",
            "  Tree 8 (weight 1.0):\n",
            "    If (feature 2 <= 1.0476301612375614)\n",
            "     If (feature 58 <= 0.26826817376344037)\n",
            "      If (feature 59 <= 2.2340369385729675)\n",
            "       If (feature 1 <= 1.1386123381746922)\n",
            "        Predict: 0.0\n",
            "       Else (feature 1 > 1.1386123381746922)\n",
            "        If (feature 58 <= 2.8238755132993726E-6)\n",
            "         Predict: 0.002849002849002849\n",
            "        Else (feature 58 > 2.8238755132993726E-6)\n",
            "         Predict: 0.001735106998264893\n",
            "      Else (feature 59 > 2.2340369385729675)\n",
            "       If (feature 28 <= 1.006510530627566)\n",
            "        If (feature 29 <= 1.0529526500814932)\n",
            "         Predict: 0.0392156862745098\n",
            "        Else (feature 29 > 1.0529526500814932)\n",
            "         Predict: 0.0\n",
            "       Else (feature 28 > 1.006510530627566)\n",
            "        If (feature 23 <= 1.0303162117019926)\n",
            "         Predict: 0.0\n",
            "        Else (feature 23 > 1.0303162117019926)\n",
            "         Predict: 0.034482758620689655\n",
            "     Else (feature 58 > 0.26826817376344037)\n",
            "      If (feature 57 <= 0.018348698752316275)\n",
            "       If (feature 58 <= 0.8754014091228055)\n",
            "        If (feature 34 <= 4.120115507645126)\n",
            "         Predict: 0.002132954141485958\n",
            "        Else (feature 34 > 4.120115507645126)\n",
            "         Predict: 0.03686635944700461\n",
            "       Else (feature 58 > 0.8754014091228055)\n",
            "        If (feature 58 <= 2.682681737634404)\n",
            "         Predict: 0.001511144692104269\n",
            "        Else (feature 58 > 2.682681737634404)\n",
            "         Predict: 0.0\n",
            "      Else (feature 57 > 0.018348698752316275)\n",
            "       If (feature 40 <= 8.54454330440328)\n",
            "        If (feature 32 <= 3.39436656702116)\n",
            "         Predict: 0.033287733698130414\n",
            "        Else (feature 32 > 3.39436656702116)\n",
            "         Predict: 0.09523809523809523\n",
            "       Else (feature 40 > 8.54454330440328)\n",
            "        If (feature 58 <= 2.825287451056022)\n",
            "         Predict: 0.0\n",
            "        Else (feature 58 > 2.825287451056022)\n",
            "         Predict: 1.0\n",
            "    Else (feature 2 > 1.0476301612375614)\n",
            "     If (feature 10 <= 3.7970696388246554)\n",
            "      If (feature 8 <= 3.3277301298467865)\n",
            "       If (feature 5 <= 2.2628782783944144)\n",
            "        If (feature 57 <= 0.01649291050172848)\n",
            "         Predict: 0.007397857384043957\n",
            "        Else (feature 57 > 0.01649291050172848)\n",
            "         Predict: 0.0361887026691496\n",
            "       Else (feature 5 > 2.2628782783944144)\n",
            "        If (feature 57 <= 0.01088260682360282)\n",
            "         Predict: 0.0025974025974025974\n",
            "        Else (feature 57 > 0.01088260682360282)\n",
            "         Predict: 0.011673151750972763\n",
            "      Else (feature 8 > 3.3277301298467865)\n",
            "       If (feature 59 <= 1.2411316325405375)\n",
            "        If (feature 57 <= 0.037428048112572464)\n",
            "         Predict: 0.04819277108433735\n",
            "        Else (feature 57 > 0.037428048112572464)\n",
            "         Predict: 0.004694835680751174\n",
            "       Else (feature 59 > 1.2411316325405375)\n",
            "        If (feature 34 <= 4.120115507645126)\n",
            "         Predict: 0.08058124174372523\n",
            "        Else (feature 34 > 4.120115507645126)\n",
            "         Predict: 0.3333333333333333\n",
            "     Else (feature 10 > 3.7970696388246554)\n",
            "      If (feature 58 <= 0.7130285671080916)\n",
            "       If (feature 29 <= 1.0529526500814932)\n",
            "        If (feature 1 <= 1.1386123381746922)\n",
            "         Predict: 0.06060606060606061\n",
            "        Else (feature 1 > 1.1386123381746922)\n",
            "         Predict: 0.017208413001912046\n",
            "       Else (feature 29 > 1.0529526500814932)\n",
            "        If (feature 57 <= 0.01929174779279686)\n",
            "         Predict: 0.0\n",
            "        Else (feature 57 > 0.01929174779279686)\n",
            "         Predict: 0.15503875968992248\n",
            "      Else (feature 58 > 0.7130285671080916)\n",
            "       If (feature 27 <= 6.343651871313487)\n",
            "        If (feature 58 <= 2.682681737634404)\n",
            "         Predict: 0.09042553191489362\n",
            "        Else (feature 58 > 2.682681737634404)\n",
            "         Predict: 0.0440251572327044\n",
            "       Else (feature 27 > 6.343651871313487)\n",
            "        Predict: 1.0\n",
            "  Tree 9 (weight 1.0):\n",
            "    If (feature 57 <= 0.01649291050172848)\n",
            "     If (feature 3 <= 1.0730935980782343)\n",
            "      If (feature 15 <= 9.023591842122398)\n",
            "       If (feature 9 <= 3.366381788704853)\n",
            "        If (feature 57 <= 0.01088260682360282)\n",
            "         Predict: 0.003107577003930171\n",
            "        Else (feature 57 > 0.01088260682360282)\n",
            "         Predict: 0.01615208690680389\n",
            "       Else (feature 9 > 3.366381788704853)\n",
            "        If (feature 23 <= 1.0303162117019926)\n",
            "         Predict: 0.015479876160990712\n",
            "        Else (feature 23 > 1.0303162117019926)\n",
            "         Predict: 0.03524229074889868\n",
            "      Else (feature 15 > 9.023591842122398)\n",
            "       If (feature 1 <= 1.1386123381746922)\n",
            "        If (feature 21 <= 1.1993123157773127)\n",
            "         Predict: 0.5\n",
            "        Else (feature 21 > 1.1993123157773127)\n",
            "         Predict: 0.0\n",
            "       Else (feature 1 > 1.1386123381746922)\n",
            "        If (feature 58 <= 0.26826817376344037)\n",
            "         Predict: 0.25\n",
            "        Else (feature 58 > 0.26826817376344037)\n",
            "         Predict: 0.058823529411764705\n",
            "     Else (feature 3 > 1.0730935980782343)\n",
            "      If (feature 58 <= 0.32474568402942783)\n",
            "       If (feature 57 <= 0.011485588752091257)\n",
            "        If (feature 0 <= 1.0107756116042783)\n",
            "         Predict: 4.270158707565298E-4\n",
            "        Else (feature 0 > 1.0107756116042783)\n",
            "         Predict: 0.0031494079113126732\n",
            "       Else (feature 57 > 0.011485588752091257)\n",
            "        If (feature 34 <= 4.120115507645126)\n",
            "         Predict: 0.011006798316607317\n",
            "        Else (feature 34 > 4.120115507645126)\n",
            "         Predict: 0.08823529411764706\n",
            "      Else (feature 58 > 0.32474568402942783)\n",
            "       If (feature 57 <= 0.009182730503496231)\n",
            "        If (feature 28 <= 1.006510530627566)\n",
            "         Predict: 0.0\n",
            "        Else (feature 28 > 1.006510530627566)\n",
            "         Predict: 3.379520108144643E-4\n",
            "       Else (feature 57 > 0.009182730503496231)\n",
            "        If (feature 30 <= 2.037807414865838)\n",
            "         Predict: 0.009576350577703757\n",
            "        Else (feature 30 > 2.037807414865838)\n",
            "         Predict: 0.016666666666666666\n",
            "    Else (feature 57 > 0.01649291050172848)\n",
            "     If (feature 8 <= 3.3277301298467865)\n",
            "      If (feature 33 <= 3.588009833058469)\n",
            "       If (feature 34 <= 4.120115507645126)\n",
            "        If (feature 21 <= 1.1993123157773127)\n",
            "         Predict: 0.03231742380678551\n",
            "        Else (feature 21 > 1.1993123157773127)\n",
            "         Predict: 0.06178375685102142\n",
            "       Else (feature 34 > 4.120115507645126)\n",
            "        If (feature 58 <= 1.4825346444821705)\n",
            "         Predict: 0.1680327868852459\n",
            "        Else (feature 58 > 1.4825346444821705)\n",
            "         Predict: 0.04081632653061224\n",
            "      Else (feature 33 > 3.588009833058469)\n",
            "       Predict: 0.0\n",
            "     Else (feature 8 > 3.3277301298467865)\n",
            "      If (feature 58 <= 1.4825346444821705)\n",
            "       If (feature 58 <= 0.26826817376344037)\n",
            "        If (feature 40 <= 8.54454330440328)\n",
            "         Predict: 0.04012841091492777\n",
            "        Else (feature 40 > 8.54454330440328)\n",
            "         Predict: 0.5\n",
            "       Else (feature 58 > 0.26826817376344037)\n",
            "        If (feature 29 <= 1.0529526500814932)\n",
            "         Predict: 0.058823529411764705\n",
            "        Else (feature 29 > 1.0529526500814932)\n",
            "         Predict: 0.10249307479224377\n",
            "      Else (feature 58 > 1.4825346444821705)\n",
            "       If (feature 22 <= 1.0104056024244081)\n",
            "        If (feature 21 <= 1.1993123157773127)\n",
            "         Predict: 0.07692307692307693\n",
            "        Else (feature 21 > 1.1993123157773127)\n",
            "         Predict: 0.0\n",
            "       Else (feature 22 > 1.0104056024244081)\n",
            "        If (feature 58 <= 2.825287451056022)\n",
            "         Predict: 0.25\n",
            "        Else (feature 58 > 2.825287451056022)\n",
            "         Predict: 0.4\n",
            "  Tree 10 (weight 1.0):\n",
            "    If (feature 10 <= 3.7970696388246554)\n",
            "     If (feature 8 <= 3.3277301298467865)\n",
            "      If (feature 21 <= 1.1993123157773127)\n",
            "       If (feature 57 <= 0.01563252463499346)\n",
            "        If (feature 57 <= 0.009639444538440442)\n",
            "         Predict: 5.289699192439257E-4\n",
            "        Else (feature 57 > 0.009639444538440442)\n",
            "         Predict: 0.008726189209322124\n",
            "       Else (feature 57 > 0.01563252463499346)\n",
            "        If (feature 59 <= 0.7446789795243225)\n",
            "         Predict: 0.021070183416704562\n",
            "        Else (feature 59 > 0.7446789795243225)\n",
            "         Predict: 0.03509876446053357\n",
            "      Else (feature 21 > 1.1993123157773127)\n",
            "       If (feature 57 <= 0.01649291050172848)\n",
            "        If (feature 57 <= 0.009186863662183508)\n",
            "         Predict: 0.0019639934533551553\n",
            "        Else (feature 57 > 0.009186863662183508)\n",
            "         Predict: 0.0156004007442393\n",
            "       Else (feature 57 > 0.01649291050172848)\n",
            "        If (feature 2 <= 1.0476301612375614)\n",
            "         Predict: 0.75\n",
            "        Else (feature 2 > 1.0476301612375614)\n",
            "         Predict: 0.047394605917779525\n",
            "     Else (feature 8 > 3.3277301298467865)\n",
            "      If (feature 59 <= 1.7375842855567525)\n",
            "       If (feature 29 <= 1.0529526500814932)\n",
            "        If (feature 57 <= 0.05522359246057472)\n",
            "         Predict: 0.0326975476839237\n",
            "        Else (feature 57 > 0.05522359246057472)\n",
            "         Predict: 0.0\n",
            "       Else (feature 29 > 1.0529526500814932)\n",
            "        If (feature 27 <= 6.343651871313487)\n",
            "         Predict: 0.0729483282674772\n",
            "        Else (feature 27 > 6.343651871313487)\n",
            "         Predict: 0.0\n",
            "      Else (feature 59 > 1.7375842855567525)\n",
            "       If (feature 36 <= 5.519693234780081)\n",
            "        If (feature 57 <= 0.029965400482765074)\n",
            "         Predict: 0.06930693069306931\n",
            "        Else (feature 57 > 0.029965400482765074)\n",
            "         Predict: 0.14545454545454545\n",
            "       Else (feature 36 > 5.519693234780081)\n",
            "        Predict: 0.0\n",
            "    Else (feature 10 > 3.7970696388246554)\n",
            "     If (feature 33 <= 3.588009833058469)\n",
            "      If (feature 57 <= 0.01929174779279686)\n",
            "       If (feature 58 <= 0.7130285671080916)\n",
            "        If (feature 23 <= 1.0303162117019926)\n",
            "         Predict: 0.01282051282051282\n",
            "        Else (feature 23 > 1.0303162117019926)\n",
            "         Predict: 0.0\n",
            "       Else (feature 58 > 0.7130285671080916)\n",
            "        If (feature 59 <= 2.2340369385729675)\n",
            "         Predict: 0.10144927536231885\n",
            "        Else (feature 59 > 2.2340369385729675)\n",
            "         Predict: 0.02127659574468085\n",
            "      Else (feature 57 > 0.01929174779279686)\n",
            "       If (feature 29 <= 1.0529526500814932)\n",
            "        If (feature 38 <= 6.65502666357745)\n",
            "         Predict: 0.07389162561576355\n",
            "        Else (feature 38 > 6.65502666357745)\n",
            "         Predict: 0.6666666666666666\n",
            "       Else (feature 29 > 1.0529526500814932)\n",
            "        If (feature 58 <= 2.682681737634404)\n",
            "         Predict: 0.14979757085020243\n",
            "        Else (feature 58 > 2.682681737634404)\n",
            "         Predict: 0.06666666666666667\n",
            "     Else (feature 33 > 3.588009833058469)\n",
            "      Predict: 0.0\n",
            "  Tree 11 (weight 1.0):\n",
            "    If (feature 3 <= 1.0730935980782343)\n",
            "     If (feature 8 <= 3.3277301298467865)\n",
            "      If (feature 57 <= 0.01649291050172848)\n",
            "       If (feature 59 <= 0.2482263265081075)\n",
            "        If (feature 57 <= 0.009639444538440442)\n",
            "         Predict: 0.0023507287259050304\n",
            "        Else (feature 57 > 0.009639444538440442)\n",
            "         Predict: 0.010268378063010501\n",
            "       Else (feature 59 > 0.2482263265081075)\n",
            "        If (feature 41 <= 10.239176741638635)\n",
            "         Predict: 0.011270090160721285\n",
            "        Else (feature 41 > 10.239176741638635)\n",
            "         Predict: 0.09090909090909091\n",
            "      Else (feature 57 > 0.01649291050172848)\n",
            "       If (feature 33 <= 3.588009833058469)\n",
            "        If (feature 21 <= 1.1993123157773127)\n",
            "         Predict: 0.03655234657039711\n",
            "        Else (feature 21 > 1.1993123157773127)\n",
            "         Predict: 0.05625153524932449\n",
            "       Else (feature 33 > 3.588009833058469)\n",
            "        Predict: 0.0\n",
            "     Else (feature 8 > 3.3277301298467865)\n",
            "      If (feature 21 <= 1.1993123157773127)\n",
            "       If (feature 59 <= 2.2340369385729675)\n",
            "        If (feature 24 <= 1.352676775048095)\n",
            "         Predict: 0.013157894736842105\n",
            "        Else (feature 24 > 1.352676775048095)\n",
            "         Predict: 0.5\n",
            "       Else (feature 59 > 2.2340369385729675)\n",
            "        If (feature 57 <= 0.018348698752316275)\n",
            "         Predict: 0.125\n",
            "        Else (feature 57 > 0.018348698752316275)\n",
            "         Predict: 0.03816793893129771\n",
            "      Else (feature 21 > 1.1993123157773127)\n",
            "       If (feature 22 <= 1.0104056024244081)\n",
            "        If (feature 25 <= 4.098459349182993)\n",
            "         Predict: 0.048370136698212406\n",
            "        Else (feature 25 > 4.098459349182993)\n",
            "         Predict: 0.14634146341463414\n",
            "       Else (feature 22 > 1.0104056024244081)\n",
            "        If (feature 59 <= 1.2411316325405375)\n",
            "         Predict: 0.03535353535353535\n",
            "        Else (feature 59 > 1.2411316325405375)\n",
            "         Predict: 0.11396011396011396\n",
            "    Else (feature 3 > 1.0730935980782343)\n",
            "     If (feature 57 <= 0.01563252463499346)\n",
            "      If (feature 57 <= 0.009182730503496231)\n",
            "       Predict: 0.0\n",
            "      Else (feature 57 > 0.009182730503496231)\n",
            "       If (feature 59 <= 0.2482263265081075)\n",
            "        If (feature 1 <= 1.1386123381746922)\n",
            "         Predict: 0.007902115727759368\n",
            "        Else (feature 1 > 1.1386123381746922)\n",
            "         Predict: 0.003265511178095956\n",
            "       Else (feature 59 > 0.2482263265081075)\n",
            "        If (feature 58 <= 0.8754014091228055)\n",
            "         Predict: 0.012288583509513742\n",
            "        Else (feature 58 > 0.8754014091228055)\n",
            "         Predict: 0.00398406374501992\n",
            "     Else (feature 57 > 0.01563252463499346)\n",
            "      If (feature 33 <= 3.588009833058469)\n",
            "       If (feature 58 <= 0.32474568402942783)\n",
            "        If (feature 28 <= 1.006510530627566)\n",
            "         Predict: 0.027765535478184222\n",
            "        Else (feature 28 > 1.006510530627566)\n",
            "         Predict: 0.015575425439861552\n",
            "       Else (feature 58 > 0.32474568402942783)\n",
            "        If (feature 57 <= 0.022158322962351183)\n",
            "         Predict: 0.026807084729535663\n",
            "        Else (feature 57 > 0.022158322962351183)\n",
            "         Predict: 0.04374079528718704\n",
            "      Else (feature 33 > 3.588009833058469)\n",
            "       If (feature 57 <= 0.037428048112572464)\n",
            "        Predict: 0.0\n",
            "       Else (feature 57 > 0.037428048112572464)\n",
            "        If (feature 59 <= 2.2340369385729675)\n",
            "         Predict: 0.0\n",
            "        Else (feature 59 > 2.2340369385729675)\n",
            "         Predict: 0.14285714285714285\n",
            "  Tree 12 (weight 1.0):\n",
            "    If (feature 57 <= 0.01649291050172848)\n",
            "     If (feature 2 <= 1.0476301612375614)\n",
            "      If (feature 31 <= 2.298905504268073)\n",
            "       If (feature 59 <= 1.7375842855567525)\n",
            "        If (feature 58 <= 0.5435960363101292)\n",
            "         Predict: 3.208985158443642E-4\n",
            "        Else (feature 58 > 0.5435960363101292)\n",
            "         Predict: 0.002166377816291161\n",
            "       Else (feature 59 > 1.7375842855567525)\n",
            "        If (feature 34 <= 4.120115507645126)\n",
            "         Predict: 0.0022952230669918234\n",
            "        Else (feature 34 > 4.120115507645126)\n",
            "         Predict: 0.03669724770642202\n",
            "      Else (feature 31 > 2.298905504268073)\n",
            "       If (feature 25 <= 4.098459349182993)\n",
            "        If (feature 57 <= 0.01088260682360282)\n",
            "         Predict: 0.0\n",
            "        Else (feature 57 > 0.01088260682360282)\n",
            "         Predict: 0.043478260869565216\n",
            "       Else (feature 25 > 4.098459349182993)\n",
            "        Predict: 0.0\n",
            "     Else (feature 2 > 1.0476301612375614)\n",
            "      If (feature 9 <= 3.366381788704853)\n",
            "       If (feature 7 <= 3.2408984185143432)\n",
            "        If (feature 57 <= 0.011485588752091257)\n",
            "         Predict: 0.004490133522391587\n",
            "        Else (feature 57 > 0.011485588752091257)\n",
            "         Predict: 0.01433461703038083\n",
            "       Else (feature 7 > 3.2408984185143432)\n",
            "        If (feature 28 <= 1.006510530627566)\n",
            "         Predict: 0.05459770114942529\n",
            "        Else (feature 28 > 1.006510530627566)\n",
            "         Predict: 0.015455950540958269\n",
            "      Else (feature 9 > 3.366381788704853)\n",
            "       If (feature 59 <= 1.2411316325405375)\n",
            "        If (feature 28 <= 1.006510530627566)\n",
            "         Predict: 0.009287925696594427\n",
            "        Else (feature 28 > 1.006510530627566)\n",
            "         Predict: 0.023668639053254437\n",
            "       Else (feature 59 > 1.2411316325405375)\n",
            "        If (feature 58 <= 0.29650692889643415)\n",
            "         Predict: 0.12345679012345678\n",
            "        Else (feature 58 > 0.29650692889643415)\n",
            "         Predict: 0.02535211267605634\n",
            "    Else (feature 57 > 0.01649291050172848)\n",
            "     If (feature 33 <= 3.588009833058469)\n",
            "      If (feature 3 <= 1.0730935980782343)\n",
            "       If (feature 57 <= 0.05522359246057472)\n",
            "        If (feature 21 <= 1.1993123157773127)\n",
            "         Predict: 0.04291287386215865\n",
            "        Else (feature 21 > 1.1993123157773127)\n",
            "         Predict: 0.06773901223380153\n",
            "       Else (feature 57 > 0.05522359246057472)\n",
            "        If (feature 59 <= 1.7375842855567525)\n",
            "         Predict: 0.014906832298136646\n",
            "        Else (feature 59 > 1.7375842855567525)\n",
            "         Predict: 0.04285714285714286\n",
            "      Else (feature 3 > 1.0730935980782343)\n",
            "       If (feature 34 <= 4.120115507645126)\n",
            "        If (feature 23 <= 1.0303162117019926)\n",
            "         Predict: 0.038044099166000225\n",
            "        Else (feature 23 > 1.0303162117019926)\n",
            "         Predict: 0.028737437185929648\n",
            "       Else (feature 34 > 4.120115507645126)\n",
            "        If (feature 59 <= 0.7446789795243225)\n",
            "         Predict: 0.0\n",
            "        Else (feature 59 > 0.7446789795243225)\n",
            "         Predict: 0.1610738255033557\n",
            "     Else (feature 33 > 3.588009833058469)\n",
            "      Predict: 0.0\n",
            "  Tree 13 (weight 1.0):\n",
            "    If (feature 58 <= 0.7130285671080916)\n",
            "     If (feature 3 <= 1.0730935980782343)\n",
            "      If (feature 4 <= 1.6411529338454593)\n",
            "       If (feature 5 <= 2.2628782783944144)\n",
            "        If (feature 57 <= 0.01649291050172848)\n",
            "         Predict: 0.016355589763324994\n",
            "        Else (feature 57 > 0.01649291050172848)\n",
            "         Predict: 0.045020797651088816\n",
            "       Else (feature 5 > 2.2628782783944144)\n",
            "        If (feature 29 <= 1.0529526500814932)\n",
            "         Predict: 0.0035335689045936395\n",
            "        Else (feature 29 > 1.0529526500814932)\n",
            "         Predict: 0.0\n",
            "      Else (feature 4 > 1.6411529338454593)\n",
            "       If (feature 43 <= 19.5425802208859)\n",
            "        If (feature 59 <= 1.7375842855567525)\n",
            "         Predict: 0.007514854945823139\n",
            "        Else (feature 59 > 1.7375842855567525)\n",
            "         Predict: 0.016477857878475798\n",
            "       Else (feature 43 > 19.5425802208859)\n",
            "        If (feature 1 <= 1.1386123381746922)\n",
            "         Predict: 1.0\n",
            "        Else (feature 1 > 1.1386123381746922)\n",
            "         Predict: 0.0\n",
            "     Else (feature 3 > 1.0730935980782343)\n",
            "      If (feature 57 <= 0.01424171673672443)\n",
            "       If (feature 0 <= 1.0107756116042783)\n",
            "        If (feature 36 <= 5.519693234780081)\n",
            "         Predict: 0.0012197601138442774\n",
            "        Else (feature 36 > 5.519693234780081)\n",
            "         Predict: 0.005952380952380952\n",
            "       Else (feature 0 > 1.0107756116042783)\n",
            "        If (feature 27 <= 6.343651871313487)\n",
            "         Predict: 0.004861663572880756\n",
            "        Else (feature 27 > 6.343651871313487)\n",
            "         Predict: 0.031914893617021274\n",
            "      Else (feature 57 > 0.01424171673672443)\n",
            "       If (feature 57 <= 0.01929174779279686)\n",
            "        If (feature 58 <= 7.059688783248432E-5)\n",
            "         Predict: 0.012398921832884097\n",
            "        Else (feature 58 > 7.059688783248432E-5)\n",
            "         Predict: 0.024934383202099737\n",
            "       Else (feature 57 > 0.01929174779279686)\n",
            "        If (feature 59 <= 0.7446789795243225)\n",
            "         Predict: 0.022300469483568074\n",
            "        Else (feature 59 > 0.7446789795243225)\n",
            "         Predict: 0.04820627802690583\n",
            "    Else (feature 58 > 0.7130285671080916)\n",
            "     If (feature 3 <= 1.0730935980782343)\n",
            "      If (feature 33 <= 3.588009833058469)\n",
            "       If (feature 7 <= 3.2408984185143432)\n",
            "        If (feature 57 <= 0.018348698752316275)\n",
            "         Predict: 0.009327442317133039\n",
            "        Else (feature 57 > 0.018348698752316275)\n",
            "         Predict: 0.06615087040618955\n",
            "       Else (feature 7 > 3.2408984185143432)\n",
            "        If (feature 57 <= 0.01649291050172848)\n",
            "         Predict: 0.036303630363036306\n",
            "        Else (feature 57 > 0.01649291050172848)\n",
            "         Predict: 0.10114942528735632\n",
            "      Else (feature 33 > 3.588009833058469)\n",
            "       Predict: 0.0\n",
            "     Else (feature 3 > 1.0730935980782343)\n",
            "      If (feature 57 <= 0.018348698752316275)\n",
            "       If (feature 58 <= 1.4825346444821705)\n",
            "        If (feature 0 <= 1.0107756116042783)\n",
            "         Predict: 0.004304635761589404\n",
            "        Else (feature 0 > 1.0107756116042783)\n",
            "         Predict: 0.013337468982630272\n",
            "       Else (feature 58 > 1.4825346444821705)\n",
            "        If (feature 59 <= 0.2482263265081075)\n",
            "         Predict: 0.004784688995215311\n",
            "        Else (feature 59 > 0.2482263265081075)\n",
            "         Predict: 0.0\n",
            "      Else (feature 57 > 0.018348698752316275)\n",
            "       If (feature 58 <= 1.5672509098811518)\n",
            "        If (feature 28 <= 1.006510530627566)\n",
            "         Predict: 0.04372408594044478\n",
            "        Else (feature 28 > 1.006510530627566)\n",
            "         Predict: 0.060104117368670135\n",
            "       Else (feature 58 > 1.5672509098811518)\n",
            "        If (feature 2 <= 1.0476301612375614)\n",
            "         Predict: 0.03352891869237217\n",
            "        Else (feature 2 > 1.0476301612375614)\n",
            "         Predict: 0.018357487922705314\n",
            "  Tree 14 (weight 1.0):\n",
            "    If (feature 58 <= 0.32474568402942783)\n",
            "     If (feature 2 <= 1.0476301612375614)\n",
            "      If (feature 1 <= 1.1386123381746922)\n",
            "       Predict: 0.0\n",
            "      Else (feature 1 > 1.1386123381746922)\n",
            "       If (feature 31 <= 2.298905504268073)\n",
            "        If (feature 25 <= 4.098459349182993)\n",
            "         Predict: 0.005320813771517997\n",
            "        Else (feature 25 > 4.098459349182993)\n",
            "         Predict: 0.0\n",
            "       Else (feature 31 > 2.298905504268073)\n",
            "        If (feature 25 <= 4.098459349182993)\n",
            "         Predict: 0.012195121951219513\n",
            "        Else (feature 25 > 4.098459349182993)\n",
            "         Predict: 0.0\n",
            "     Else (feature 2 > 1.0476301612375614)\n",
            "      If (feature 57 <= 0.01649291050172848)\n",
            "       If (feature 29 <= 1.0529526500814932)\n",
            "        If (feature 57 <= 0.011485588752091257)\n",
            "         Predict: 0.002433702584759987\n",
            "        Else (feature 57 > 0.011485588752091257)\n",
            "         Predict: 0.01300620750812888\n",
            "       Else (feature 29 > 1.0529526500814932)\n",
            "        If (feature 8 <= 3.3277301298467865)\n",
            "         Predict: 0.008943313153549808\n",
            "        Else (feature 8 > 3.3277301298467865)\n",
            "         Predict: 0.041666666666666664\n",
            "      Else (feature 57 > 0.01649291050172848)\n",
            "       If (feature 21 <= 1.1993123157773127)\n",
            "        If (feature 59 <= 1.2411316325405375)\n",
            "         Predict: 0.017106972715461237\n",
            "        Else (feature 59 > 1.2411316325405375)\n",
            "         Predict: 0.03626943005181347\n",
            "       Else (feature 21 > 1.1993123157773127)\n",
            "        If (feature 7 <= 3.2408984185143432)\n",
            "         Predict: 0.04539826661163846\n",
            "        Else (feature 7 > 3.2408984185143432)\n",
            "         Predict: 0.0794392523364486\n",
            "    Else (feature 58 > 0.32474568402942783)\n",
            "     If (feature 7 <= 3.2408984185143432)\n",
            "      If (feature 57 <= 0.01649291050172848)\n",
            "       If (feature 24 <= 1.352676775048095)\n",
            "        If (feature 57 <= 0.01088260682360282)\n",
            "         Predict: 0.002225369208982399\n",
            "        Else (feature 57 > 0.01088260682360282)\n",
            "         Predict: 0.014190643961636329\n",
            "       Else (feature 24 > 1.352676775048095)\n",
            "        If (feature 57 <= 0.011485588752091257)\n",
            "         Predict: 0.0\n",
            "        Else (feature 57 > 0.011485588752091257)\n",
            "         Predict: 0.5\n",
            "      Else (feature 57 > 0.01649291050172848)\n",
            "       If (feature 33 <= 3.588009833058469)\n",
            "        If (feature 21 <= 1.1993123157773127)\n",
            "         Predict: 0.04037886340977069\n",
            "        Else (feature 21 > 1.1993123157773127)\n",
            "         Predict: 0.06580259222333001\n",
            "       Else (feature 33 > 3.588009833058469)\n",
            "        Predict: 0.0\n",
            "     Else (feature 7 > 3.2408984185143432)\n",
            "      If (feature 21 <= 1.1993123157773127)\n",
            "       If (feature 58 <= 2.825287451056022)\n",
            "        If (feature 29 <= 1.0529526500814932)\n",
            "         Predict: 0.013736263736263736\n",
            "        Else (feature 29 > 1.0529526500814932)\n",
            "         Predict: 0.03076923076923077\n",
            "       Else (feature 58 > 2.825287451056022)\n",
            "        If (feature 22 <= 1.0104056024244081)\n",
            "         Predict: 0.3333333333333333\n",
            "        Else (feature 22 > 1.0104056024244081)\n",
            "         Predict: 0.0\n",
            "      Else (feature 21 > 1.1993123157773127)\n",
            "       If (feature 22 <= 1.0104056024244081)\n",
            "        If (feature 28 <= 1.006510530627566)\n",
            "         Predict: 0.0\n",
            "        Else (feature 28 > 1.006510530627566)\n",
            "         Predict: 0.0855397148676171\n",
            "       Else (feature 22 > 1.0104056024244081)\n",
            "        If (feature 58 <= 0.7130285671080916)\n",
            "         Predict: 0.044444444444444446\n",
            "        Else (feature 58 > 0.7130285671080916)\n",
            "         Predict: 0.2361111111111111\n",
            "  Tree 15 (weight 1.0):\n",
            "    If (feature 57 <= 0.01649291050172848)\n",
            "     If (feature 2 <= 1.0476301612375614)\n",
            "      If (feature 28 <= 1.006510530627566)\n",
            "       If (feature 22 <= 1.0104056024244081)\n",
            "        Predict: 0.0\n",
            "       Else (feature 22 > 1.0104056024244081)\n",
            "        If (feature 31 <= 2.298905504268073)\n",
            "         Predict: 0.0030217370114046203\n",
            "        Else (feature 31 > 2.298905504268073)\n",
            "         Predict: 0.0\n",
            "      Else (feature 28 > 1.006510530627566)\n",
            "       If (feature 57 <= 0.009182730503496231)\n",
            "        Predict: 0.0\n",
            "       Else (feature 57 > 0.009182730503496231)\n",
            "        If (feature 58 <= 0.26826817376344037)\n",
            "         Predict: 0.0\n",
            "        Else (feature 58 > 0.26826817376344037)\n",
            "         Predict: 0.0015069318866787222\n",
            "     Else (feature 2 > 1.0476301612375614)\n",
            "      If (feature 57 <= 0.011485588752091257)\n",
            "       If (feature 57 <= 0.009182730503496231)\n",
            "        If (feature 59 <= 2.2340369385729675)\n",
            "         Predict: 1.948747929455325E-4\n",
            "        Else (feature 59 > 2.2340369385729675)\n",
            "         Predict: 0.0023847376788553257\n",
            "       Else (feature 57 > 0.009182730503496231)\n",
            "        If (feature 36 <= 5.519693234780081)\n",
            "         Predict: 0.006058044519582981\n",
            "        Else (feature 36 > 5.519693234780081)\n",
            "         Predict: 0.03418803418803419\n",
            "      Else (feature 57 > 0.011485588752091257)\n",
            "       If (feature 7 <= 3.2408984185143432)\n",
            "        If (feature 9 <= 3.366381788704853)\n",
            "         Predict: 0.015357658214801072\n",
            "        Else (feature 9 > 3.366381788704853)\n",
            "         Predict: 0.02631578947368421\n",
            "       Else (feature 7 > 3.2408984185143432)\n",
            "        If (feature 21 <= 1.1993123157773127)\n",
            "         Predict: 0.0\n",
            "        Else (feature 21 > 1.1993123157773127)\n",
            "         Predict: 0.04016620498614958\n",
            "    Else (feature 57 > 0.01649291050172848)\n",
            "     If (feature 21 <= 1.1993123157773127)\n",
            "      If (feature 57 <= 0.01929174779279686)\n",
            "       If (feature 58 <= 1.4825346444821705)\n",
            "        If (feature 34 <= 4.120115507645126)\n",
            "         Predict: 0.027864583333333335\n",
            "        Else (feature 34 > 4.120115507645126)\n",
            "         Predict: 0.3076923076923077\n",
            "       Else (feature 58 > 1.4825346444821705)\n",
            "        If (feature 23 <= 1.0303162117019926)\n",
            "         Predict: 0.0\n",
            "        Else (feature 23 > 1.0303162117019926)\n",
            "         Predict: 0.01098901098901099\n",
            "      Else (feature 57 > 0.01929174779279686)\n",
            "       If (feature 10 <= 3.7970696388246554)\n",
            "        If (feature 33 <= 3.588009833058469)\n",
            "         Predict: 0.03668109456386179\n",
            "        Else (feature 33 > 3.588009833058469)\n",
            "         Predict: 0.0\n",
            "       Else (feature 10 > 3.7970696388246554)\n",
            "        If (feature 29 <= 1.0529526500814932)\n",
            "         Predict: 0.05673758865248227\n",
            "        Else (feature 29 > 1.0529526500814932)\n",
            "         Predict: 0.2127659574468085\n",
            "     Else (feature 21 > 1.1993123157773127)\n",
            "      If (feature 33 <= 3.588009833058469)\n",
            "       If (feature 1 <= 1.1386123381746922)\n",
            "        If (feature 43 <= 19.5425802208859)\n",
            "         Predict: 0.050592525068368276\n",
            "        Else (feature 43 > 19.5425802208859)\n",
            "         Predict: 0.5\n",
            "       Else (feature 1 > 1.1386123381746922)\n",
            "        If (feature 14 <= 7.54348062835912)\n",
            "         Predict: 0.0795374912403644\n",
            "        Else (feature 14 > 7.54348062835912)\n",
            "         Predict: 0.0\n",
            "      Else (feature 33 > 3.588009833058469)\n",
            "       Predict: 0.0\n",
            "  Tree 16 (weight 1.0):\n",
            "    If (feature 57 <= 0.01649291050172848)\n",
            "     If (feature 2 <= 1.0476301612375614)\n",
            "      If (feature 58 <= 0.8259835876400665)\n",
            "       If (feature 57 <= 0.01424171673672443)\n",
            "        If (feature 57 <= 0.009182730503496231)\n",
            "         Predict: 0.0\n",
            "        Else (feature 57 > 0.009182730503496231)\n",
            "         Predict: 0.0046569388388699165\n",
            "       Else (feature 57 > 0.01424171673672443)\n",
            "        If (feature 28 <= 1.006510530627566)\n",
            "         Predict: 0.038461538461538464\n",
            "        Else (feature 28 > 1.006510530627566)\n",
            "         Predict: 0.014150943396226415\n",
            "      Else (feature 58 > 0.8259835876400665)\n",
            "       If (feature 22 <= 1.0104056024244081)\n",
            "        If (feature 59 <= 0.7446789795243225)\n",
            "         Predict: 0.0\n",
            "        Else (feature 59 > 0.7446789795243225)\n",
            "         Predict: 0.004657661853749418\n",
            "       Else (feature 22 > 1.0104056024244081)\n",
            "        If (feature 58 <= 0.8754014091228055)\n",
            "         Predict: 0.00916310323762981\n",
            "        Else (feature 58 > 0.8754014091228055)\n",
            "         Predict: 0.0017142857142857142\n",
            "     Else (feature 2 > 1.0476301612375614)\n",
            "      If (feature 58 <= 0.13131021136842083)\n",
            "       If (feature 3 <= 1.0730935980782343)\n",
            "        If (feature 5 <= 2.2628782783944144)\n",
            "         Predict: 0.010048447873676656\n",
            "        Else (feature 5 > 2.2628782783944144)\n",
            "         Predict: 0.0015120967741935483\n",
            "       Else (feature 3 > 1.0730935980782343)\n",
            "        If (feature 57 <= 0.01196319820039893)\n",
            "         Predict: 0.001304158817562672\n",
            "        Else (feature 57 > 0.01196319820039893)\n",
            "         Predict: 0.006924408540103866\n",
            "      Else (feature 58 > 0.13131021136842083)\n",
            "       If (feature 57 <= 0.011485588752091257)\n",
            "        If (feature 57 <= 0.009186863662183508)\n",
            "         Predict: 0.0021273933174821673\n",
            "        Else (feature 57 > 0.009186863662183508)\n",
            "         Predict: 0.009874667679453095\n",
            "       Else (feature 57 > 0.011485588752091257)\n",
            "        If (feature 58 <= 0.5435960363101292)\n",
            "         Predict: 0.03372333103922918\n",
            "        Else (feature 58 > 0.5435960363101292)\n",
            "         Predict: 0.014610941216445803\n",
            "    Else (feature 57 > 0.01649291050172848)\n",
            "     If (feature 33 <= 3.588009833058469)\n",
            "      If (feature 3 <= 1.0730935980782343)\n",
            "       If (feature 57 <= 0.05522359246057472)\n",
            "        If (feature 26 <= 5.879227644722843)\n",
            "         Predict: 0.06073185731857319\n",
            "        Else (feature 26 > 5.879227644722843)\n",
            "         Predict: 0.0\n",
            "       Else (feature 57 > 0.05522359246057472)\n",
            "        If (feature 7 <= 3.2408984185143432)\n",
            "         Predict: 0.020191285866099893\n",
            "        Else (feature 7 > 3.2408984185143432)\n",
            "         Predict: 0.08737864077669903\n",
            "      Else (feature 3 > 1.0730935980782343)\n",
            "       If (feature 58 <= 0.7130285671080916)\n",
            "        If (feature 29 <= 1.0529526500814932)\n",
            "         Predict: 0.024096385542168676\n",
            "        Else (feature 29 > 1.0529526500814932)\n",
            "         Predict: 0.030513176144244106\n",
            "       Else (feature 58 > 0.7130285671080916)\n",
            "        If (feature 59 <= 1.7375842855567525)\n",
            "         Predict: 0.030273752012882446\n",
            "        Else (feature 59 > 1.7375842855567525)\n",
            "         Predict: 0.054119850187265915\n",
            "     Else (feature 33 > 3.588009833058469)\n",
            "      Predict: 0.0\n",
            "  Tree 17 (weight 1.0):\n",
            "    If (feature 57 <= 0.01649291050172848)\n",
            "     If (feature 2 <= 1.0476301612375614)\n",
            "      If (feature 34 <= 4.120115507645126)\n",
            "       If (feature 22 <= 1.0104056024244081)\n",
            "        If (feature 23 <= 1.0303162117019926)\n",
            "         Predict: 0.0\n",
            "        Else (feature 23 > 1.0303162117019926)\n",
            "         Predict: 0.0011693419793770597\n",
            "       Else (feature 22 > 1.0104056024244081)\n",
            "        If (feature 57 <= 0.01088260682360282)\n",
            "         Predict: 6.329781622534023E-4\n",
            "        Else (feature 57 > 0.01088260682360282)\n",
            "         Predict: 0.013111447302067574\n",
            "      Else (feature 34 > 4.120115507645126)\n",
            "       If (feature 57 <= 0.009639444538440442)\n",
            "        Predict: 0.0\n",
            "       Else (feature 57 > 0.009639444538440442)\n",
            "        If (feature 57 <= 0.011485588752091257)\n",
            "         Predict: 0.12121212121212122\n",
            "        Else (feature 57 > 0.011485588752091257)\n",
            "         Predict: 0.0\n",
            "     Else (feature 2 > 1.0476301612375614)\n",
            "      If (feature 7 <= 3.2408984185143432)\n",
            "       If (feature 59 <= 0.2482263265081075)\n",
            "        If (feature 6 <= 2.7815593385283988)\n",
            "         Predict: 0.004038426237532889\n",
            "        Else (feature 6 > 2.7815593385283988)\n",
            "         Predict: 0.009478672985781991\n",
            "       Else (feature 59 > 0.2482263265081075)\n",
            "        If (feature 15 <= 9.023591842122398)\n",
            "         Predict: 0.009123688811188812\n",
            "        Else (feature 15 > 9.023591842122398)\n",
            "         Predict: 0.07692307692307693\n",
            "      Else (feature 7 > 3.2408984185143432)\n",
            "       If (feature 22 <= 1.0104056024244081)\n",
            "        If (feature 59 <= 2.2340369385729675)\n",
            "         Predict: 0.012517385257301807\n",
            "        Else (feature 59 > 2.2340369385729675)\n",
            "         Predict: 0.025974025974025976\n",
            "       Else (feature 22 > 1.0104056024244081)\n",
            "        If (feature 59 <= 1.2411316325405375)\n",
            "         Predict: 0.0\n",
            "        Else (feature 59 > 1.2411316325405375)\n",
            "         Predict: 0.06666666666666667\n",
            "    Else (feature 57 > 0.01649291050172848)\n",
            "     If (feature 33 <= 3.588009833058469)\n",
            "      If (feature 10 <= 3.7970696388246554)\n",
            "       If (feature 34 <= 4.120115507645126)\n",
            "        If (feature 26 <= 5.879227644722843)\n",
            "         Predict: 0.03670657852156627\n",
            "        Else (feature 26 > 5.879227644722843)\n",
            "         Predict: 0.0\n",
            "       Else (feature 34 > 4.120115507645126)\n",
            "        If (feature 4 <= 1.6411529338454593)\n",
            "         Predict: 0.10876132930513595\n",
            "        Else (feature 4 > 1.6411529338454593)\n",
            "         Predict: 0.2777777777777778\n",
            "      Else (feature 10 > 3.7970696388246554)\n",
            "       If (feature 29 <= 1.0529526500814932)\n",
            "        If (feature 38 <= 6.65502666357745)\n",
            "         Predict: 0.06144578313253012\n",
            "        Else (feature 38 > 6.65502666357745)\n",
            "         Predict: 0.5\n",
            "       Else (feature 29 > 1.0529526500814932)\n",
            "        If (feature 58 <= 0.7130285671080916)\n",
            "         Predict: 0.07894736842105263\n",
            "        Else (feature 58 > 0.7130285671080916)\n",
            "         Predict: 0.18823529411764706\n",
            "     Else (feature 33 > 3.588009833058469)\n",
            "      If (feature 57 <= 0.037428048112572464)\n",
            "       Predict: 0.0\n",
            "      Else (feature 57 > 0.037428048112572464)\n",
            "       If (feature 0 <= 1.0107756116042783)\n",
            "        If (feature 59 <= 2.2340369385729675)\n",
            "         Predict: 0.0\n",
            "        Else (feature 59 > 2.2340369385729675)\n",
            "         Predict: 0.6666666666666666\n",
            "       Else (feature 0 > 1.0107756116042783)\n",
            "        Predict: 0.0\n",
            "  Tree 18 (weight 1.0):\n",
            "    If (feature 2 <= 1.0476301612375614)\n",
            "     If (feature 24 <= 1.352676775048095)\n",
            "      If (feature 57 <= 0.018348698752316275)\n",
            "       If (feature 57 <= 0.009186863662183508)\n",
            "        If (feature 1 <= 1.1386123381746922)\n",
            "         Predict: 0.0\n",
            "        Else (feature 1 > 1.1386123381746922)\n",
            "         Predict: 4.139072847682119E-4\n",
            "       Else (feature 57 > 0.009186863662183508)\n",
            "        If (feature 58 <= 2.682681737634404)\n",
            "         Predict: 0.00909246869102762\n",
            "        Else (feature 58 > 2.682681737634404)\n",
            "         Predict: 0.0\n",
            "      Else (feature 57 > 0.018348698752316275)\n",
            "       If (feature 21 <= 1.1993123157773127)\n",
            "        If (feature 40 <= 8.54454330440328)\n",
            "         Predict: 0.03715869431328269\n",
            "        Else (feature 40 > 8.54454330440328)\n",
            "         Predict: 0.25\n",
            "       Else (feature 21 > 1.1993123157773127)\n",
            "        Predict: 1.0\n",
            "     Else (feature 24 > 1.352676775048095)\n",
            "      Predict: 0.0\n",
            "    Else (feature 2 > 1.0476301612375614)\n",
            "     If (feature 57 <= 0.01649291050172848)\n",
            "      If (feature 57 <= 0.01196319820039893)\n",
            "       If (feature 32 <= 3.39436656702116)\n",
            "        If (feature 13 <= 6.563213857424442)\n",
            "         Predict: 0.004645318508928911\n",
            "        Else (feature 13 > 6.563213857424442)\n",
            "         Predict: 0.0625\n",
            "       Else (feature 32 > 3.39436656702116)\n",
            "        Predict: 0.0\n",
            "      Else (feature 57 > 0.01196319820039893)\n",
            "       If (feature 9 <= 3.366381788704853)\n",
            "        If (feature 58 <= 0.26826817376344037)\n",
            "         Predict: 0.010018214936247723\n",
            "        Else (feature 58 > 0.26826817376344037)\n",
            "         Predict: 0.02164573694646398\n",
            "       Else (feature 9 > 3.366381788704853)\n",
            "        If (feature 23 <= 1.0303162117019926)\n",
            "         Predict: 0.02185792349726776\n",
            "        Else (feature 23 > 1.0303162117019926)\n",
            "         Predict: 0.08270676691729323\n",
            "     Else (feature 57 > 0.01649291050172848)\n",
            "      If (feature 21 <= 1.1993123157773127)\n",
            "       If (feature 57 <= 0.01929174779279686)\n",
            "        If (feature 9 <= 3.366381788704853)\n",
            "         Predict: 0.023965141612200435\n",
            "        Else (feature 9 > 3.366381788704853)\n",
            "         Predict: 0.1076923076923077\n",
            "       Else (feature 57 > 0.01929174779279686)\n",
            "        If (feature 34 <= 4.120115507645126)\n",
            "         Predict: 0.036220315306326085\n",
            "        Else (feature 34 > 4.120115507645126)\n",
            "         Predict: 0.11450381679389313\n",
            "      Else (feature 21 > 1.1993123157773127)\n",
            "       If (feature 59 <= 0.7446789795243225)\n",
            "        If (feature 22 <= 1.0104056024244081)\n",
            "         Predict: 0.044608055435253355\n",
            "        Else (feature 22 > 1.0104056024244081)\n",
            "         Predict: 0.016483516483516484\n",
            "       Else (feature 59 > 0.7446789795243225)\n",
            "        If (feature 33 <= 3.588009833058469)\n",
            "         Predict: 0.07636655948553055\n",
            "        Else (feature 33 > 3.588009833058469)\n",
            "         Predict: 0.0\n",
            "  Tree 19 (weight 1.0):\n",
            "    If (feature 57 <= 0.01649291050172848)\n",
            "     If (feature 57 <= 0.009186863662183508)\n",
            "      If (feature 6 <= 2.7815593385283988)\n",
            "       If (feature 59 <= 0.7446789795243225)\n",
            "        If (feature 2 <= 1.0476301612375614)\n",
            "         Predict: 0.0\n",
            "        Else (feature 2 > 1.0476301612375614)\n",
            "         Predict: 0.0013161358252171624\n",
            "       Else (feature 59 > 0.7446789795243225)\n",
            "        If (feature 5 <= 2.2628782783944144)\n",
            "         Predict: 9.010632546404757E-4\n",
            "        Else (feature 5 > 2.2628782783944144)\n",
            "         Predict: 0.0031397174254317113\n",
            "      Else (feature 6 > 2.7815593385283988)\n",
            "       If (feature 23 <= 1.0303162117019926)\n",
            "        If (feature 0 <= 1.0107756116042783)\n",
            "         Predict: 0.05714285714285714\n",
            "        Else (feature 0 > 1.0107756116042783)\n",
            "         Predict: 0.0\n",
            "       Else (feature 23 > 1.0303162117019926)\n",
            "        If (feature 21 <= 1.1993123157773127)\n",
            "         Predict: 0.0\n",
            "        Else (feature 21 > 1.1993123157773127)\n",
            "         Predict: 0.01818181818181818\n",
            "     Else (feature 57 > 0.009186863662183508)\n",
            "      If (feature 8 <= 3.3277301298467865)\n",
            "       If (feature 15 <= 9.023591842122398)\n",
            "        If (feature 7 <= 3.2408984185143432)\n",
            "         Predict: 0.00932666060054595\n",
            "        Else (feature 7 > 3.2408984185143432)\n",
            "         Predict: 0.030784508440913606\n",
            "       Else (feature 15 > 9.023591842122398)\n",
            "        If (feature 21 <= 1.1993123157773127)\n",
            "         Predict: 0.09375\n",
            "        Else (feature 21 > 1.1993123157773127)\n",
            "         Predict: 0.0\n",
            "      Else (feature 8 > 3.3277301298467865)\n",
            "       If (feature 23 <= 1.0303162117019926)\n",
            "        If (feature 58 <= 0.26826817376344037)\n",
            "         Predict: 0.0111731843575419\n",
            "        Else (feature 58 > 0.26826817376344037)\n",
            "         Predict: 0.03773584905660377\n",
            "       Else (feature 23 > 1.0303162117019926)\n",
            "        If (feature 58 <= 0.5435960363101292)\n",
            "         Predict: 0.04807692307692308\n",
            "        Else (feature 58 > 0.5435960363101292)\n",
            "         Predict: 0.0\n",
            "    Else (feature 57 > 0.01649291050172848)\n",
            "     If (feature 59 <= 1.2411316325405375)\n",
            "      If (feature 8 <= 3.3277301298467865)\n",
            "       If (feature 33 <= 3.588009833058469)\n",
            "        If (feature 1 <= 1.1386123381746922)\n",
            "         Predict: 0.043859649122807015\n",
            "        Else (feature 1 > 1.1386123381746922)\n",
            "         Predict: 0.02298684400751771\n",
            "       Else (feature 33 > 3.588009833058469)\n",
            "        Predict: 0.0\n",
            "      Else (feature 8 > 3.3277301298467865)\n",
            "       If (feature 58 <= 2.8238755132993726E-6)\n",
            "        If (feature 28 <= 1.006510530627566)\n",
            "         Predict: 0.05\n",
            "        Else (feature 28 > 1.006510530627566)\n",
            "         Predict: 0.018867924528301886\n",
            "       Else (feature 58 > 2.8238755132993726E-6)\n",
            "        If (feature 0 <= 1.0107756116042783)\n",
            "         Predict: 0.0\n",
            "        Else (feature 0 > 1.0107756116042783)\n",
            "         Predict: 0.08832807570977919\n",
            "     Else (feature 59 > 1.2411316325405375)\n",
            "      If (feature 21 <= 1.1993123157773127)\n",
            "       If (feature 34 <= 4.120115507645126)\n",
            "        If (feature 33 <= 3.588009833058469)\n",
            "         Predict: 0.04308741475511469\n",
            "        Else (feature 33 > 3.588009833058469)\n",
            "         Predict: 0.002028397565922921\n",
            "       Else (feature 34 > 4.120115507645126)\n",
            "        If (feature 3 <= 1.0730935980782343)\n",
            "         Predict: 0.0\n",
            "        Else (feature 3 > 1.0730935980782343)\n",
            "         Predict: 0.14814814814814814\n",
            "      Else (feature 21 > 1.1993123157773127)\n",
            "       If (feature 58 <= 2.825287451056022)\n",
            "        If (feature 8 <= 3.3277301298467865)\n",
            "         Predict: 0.06207616066770996\n",
            "        Else (feature 8 > 3.3277301298467865)\n",
            "         Predict: 0.12139917695473251\n",
            "       Else (feature 58 > 2.825287451056022)\n",
            "        If (feature 22 <= 1.0104056024244081)\n",
            "         Predict: 0.0\n",
            "        Else (feature 22 > 1.0104056024244081)\n",
            "         Predict: 0.35714285714285715\n",
            "\n"
          ],
          "name": "stdout"
        }
      ]
    },
    {
      "cell_type": "code",
      "metadata": {
        "colab": {
          "base_uri": "https://localhost:8080/"
        },
        "id": "8eDQlaBU8L_2",
        "outputId": "daad1f99-f95e-43ef-d18d-a68cd1b3ff54"
      },
      "source": [
        "# predykcje\r\n",
        "forest_regModel.transform(df_eval).show()"
      ],
      "execution_count": 72,
      "outputs": [
        {
          "output_type": "stream",
          "text": [
            "+-----+--------------------+--------------------+\n",
            "|label|            features|          prediction|\n",
            "+-----+--------------------+--------------------+\n",
            "|  0.0|(60,[1,3,23,28,57...|0.004155548907145...|\n",
            "|  0.0|(60,[0,1,2,7,23,2...|0.017855698549755824|\n",
            "|  0.0|(60,[0,1,2,3,22,3...|0.007681921694254419|\n",
            "|  0.0|(60,[0,1,2,3,22,3...|0.014467298770185353|\n",
            "|  0.0|(60,[0,1,2,3,22,3...| 0.08324954986258826|\n",
            "|  0.0|(60,[0,1,2,15,22,...|0.040750045511460824|\n",
            "|  0.0|(60,[1,3,22,29,57...| 0.03272717797912787|\n",
            "|  0.0|(60,[0,1,2,3,22,3...|0.005893582996321674|\n",
            "|  0.0|(60,[0,2,8,21,24,...| 0.04547931649040385|\n",
            "|  0.0|(60,[1,2,4,22,29,...|0.013186841537497412|\n",
            "|  0.0|(60,[0,1,2,4,22,2...|0.009914472497700989|\n",
            "|  0.0|(60,[1,3,22,28,57...|0.006451478777818283|\n",
            "|  0.0|(60,[1,3,22,29,57...| 0.00720036267707227|\n",
            "|  0.0|(60,[0,1,2,9,22,2...|0.015894098486557234|\n",
            "|  0.0|(60,[1,3,22,36,57...|0.006819538787207068|\n",
            "|  0.0|(60,[0,1,2,3,22,3...| 0.03481417536209794|\n",
            "|  0.0|(60,[0,1,2,11,25,...|0.012562098044105782|\n",
            "|  0.0|(60,[1,3,22,28,57...|0.003173348767674...|\n",
            "|  0.0|(60,[1,3,25,29,57...| 0.00725899237073716|\n",
            "|  0.0|(60,[0,1,2,3,25,2...|0.012674392407530507|\n",
            "+-----+--------------------+--------------------+\n",
            "only showing top 20 rows\n",
            "\n"
          ],
          "name": "stdout"
        }
      ]
    },
    {
      "cell_type": "markdown",
      "metadata": {
        "id": "Yv_xIYhD9OpX"
      },
      "source": [
        "Gradient-Boosted Trees regression - Podbicie Gradientowe"
      ]
    },
    {
      "cell_type": "code",
      "metadata": {
        "id": "u0aiEbBx8L9S"
      },
      "source": [
        "gbt_reg = regression.GBTRegressor()"
      ],
      "execution_count": 73,
      "outputs": []
    },
    {
      "cell_type": "code",
      "metadata": {
        "id": "CaW2qDZI8L6M"
      },
      "source": [
        "gbt_regModel = gbt_reg.fit(df_train)"
      ],
      "execution_count": 74,
      "outputs": []
    },
    {
      "cell_type": "code",
      "metadata": {
        "colab": {
          "base_uri": "https://localhost:8080/"
        },
        "id": "6vcGbG4l90_v",
        "outputId": "fdf84a6b-3571-4ab7-c7f2-ce8ebcada268"
      },
      "source": [
        "gbt_regModel.featureImportances"
      ],
      "execution_count": 75,
      "outputs": [
        {
          "output_type": "execute_result",
          "data": {
            "text/plain": [
              "SparseVector(60, {0: 0.0247, 1: 0.0212, 2: 0.0004, 3: 0.0033, 4: 0.0023, 5: 0.0024, 6: 0.0232, 7: 0.0114, 8: 0.0163, 9: 0.0032, 10: 0.028, 11: 0.0056, 13: 0.0024, 14: 0.009, 15: 0.0056, 16: 0.0029, 17: 0.0005, 18: 0.003, 19: 0.0038, 20: 0.0004, 21: 0.0347, 22: 0.0137, 23: 0.0073, 24: 0.012, 25: 0.0004, 26: 0.0026, 27: 0.0104, 28: 0.0115, 29: 0.0476, 30: 0.0062, 31: 0.0213, 32: 0.0083, 33: 0.0262, 34: 0.0073, 35: 0.0022, 36: 0.0004, 37: 0.0, 38: 0.0129, 39: 0.0102, 40: 0.0052, 41: 0.0077, 42: 0.001, 43: 0.0166, 46: 0.0238, 57: 0.3083, 58: 0.153, 59: 0.0799})"
            ]
          },
          "metadata": {
            "tags": []
          },
          "execution_count": 75
        }
      ]
    },
    {
      "cell_type": "code",
      "metadata": {
        "colab": {
          "base_uri": "https://localhost:8080/"
        },
        "id": "zoPJqJhu909d",
        "outputId": "9142fd45-528b-4f55-e712-852fa7fb5d58"
      },
      "source": [
        "print(gbt_regModel.toDebugString)"
      ],
      "execution_count": 76,
      "outputs": [
        {
          "output_type": "stream",
          "text": [
            "GBTRegressionModel: uid=GBTRegressor_66a43bb61e02, numTrees=20, numFeatures=60\n",
            "  Tree 0 (weight 1.0):\n",
            "    If (feature 57 <= 0.016074083754750983)\n",
            "     If (feature 57 <= 0.009311088042728916)\n",
            "      If (feature 57 <= 0.008275502171638721)\n",
            "       If (feature 5 <= 2.2628782783944144)\n",
            "        If (feature 21 <= 1.1993123157773127)\n",
            "         Predict: 0.0\n",
            "        Else (feature 21 > 1.1993123157773127)\n",
            "         Predict: 4.553734061930783E-4\n",
            "       Else (feature 5 > 2.2628782783944144)\n",
            "        If (feature 59 <= 0.7446789795243225)\n",
            "         Predict: 0.0\n",
            "        Else (feature 59 > 0.7446789795243225)\n",
            "         Predict: 0.002081165452653486\n",
            "      Else (feature 57 > 0.008275502171638721)\n",
            "       If (feature 6 <= 2.7815593385283988)\n",
            "        If (feature 28 <= 1.006510530627566)\n",
            "         Predict: 0.0022579026593075764\n",
            "        Else (feature 28 > 1.006510530627566)\n",
            "         Predict: 0.004358028830036876\n",
            "       Else (feature 6 > 2.7815593385283988)\n",
            "        If (feature 0 <= 1.0107756116042783)\n",
            "         Predict: 0.05263157894736842\n",
            "        Else (feature 0 > 1.0107756116042783)\n",
            "         Predict: 0.0024691358024691358\n",
            "     Else (feature 57 > 0.009311088042728916)\n",
            "      If (feature 57 <= 0.011488573811143179)\n",
            "       If (feature 21 <= 1.1993123157773127)\n",
            "        If (feature 34 <= 4.120115507645126)\n",
            "         Predict: 0.005645318279151256\n",
            "        Else (feature 34 > 4.120115507645126)\n",
            "         Predict: 0.02702702702702703\n",
            "       Else (feature 21 > 1.1993123157773127)\n",
            "        If (feature 13 <= 6.563213857424442)\n",
            "         Predict: 0.01210510776498376\n",
            "        Else (feature 13 > 6.563213857424442)\n",
            "         Predict: 0.06451612903225806\n",
            "      Else (feature 57 > 0.011488573811143179)\n",
            "       If (feature 58 <= 1.0942517614035068)\n",
            "        If (feature 59 <= 1.2411316325405375)\n",
            "         Predict: 0.013016157989228007\n",
            "        Else (feature 59 > 1.2411316325405375)\n",
            "         Predict: 0.023858388917393534\n",
            "       Else (feature 58 > 1.0942517614035068)\n",
            "        If (feature 24 <= 1.352676775048095)\n",
            "         Predict: 0.0073594347954077126\n",
            "        Else (feature 24 > 1.352676775048095)\n",
            "         Predict: 0.5\n",
            "    Else (feature 57 > 0.016074083754750983)\n",
            "     If (feature 21 <= 1.1993123157773127)\n",
            "      If (feature 34 <= 4.120115507645126)\n",
            "       If (feature 59 <= 0.7446789795243225)\n",
            "        If (feature 1 <= 1.1386123381746922)\n",
            "         Predict: 0.03487229862475442\n",
            "        Else (feature 1 > 1.1386123381746922)\n",
            "         Predict: 0.0148975791433892\n",
            "       Else (feature 59 > 0.7446789795243225)\n",
            "        If (feature 33 <= 3.588009833058469)\n",
            "         Predict: 0.038523683986733566\n",
            "        Else (feature 33 > 3.588009833058469)\n",
            "         Predict: 0.0017574692442882249\n",
            "      Else (feature 34 > 4.120115507645126)\n",
            "       If (feature 57 <= 0.02606186172255813)\n",
            "        If (feature 59 <= 0.7446789795243225)\n",
            "         Predict: 0.038461538461538464\n",
            "        Else (feature 59 > 0.7446789795243225)\n",
            "         Predict: 0.17391304347826086\n",
            "       Else (feature 57 > 0.02606186172255813)\n",
            "        If (feature 24 <= 1.352676775048095)\n",
            "         Predict: 0.04716981132075472\n",
            "        Else (feature 24 > 1.352676775048095)\n",
            "         Predict: 0.2\n",
            "     Else (feature 21 > 1.1993123157773127)\n",
            "      If (feature 33 <= 3.588009833058469)\n",
            "       If (feature 59 <= 0.2482263265081075)\n",
            "        If (feature 57 <= 0.05487916256996822)\n",
            "         Predict: 0.0501460564751704\n",
            "        Else (feature 57 > 0.05487916256996822)\n",
            "         Predict: 0.014150943396226415\n",
            "       Else (feature 59 > 0.2482263265081075)\n",
            "        If (feature 24 <= 1.352676775048095)\n",
            "         Predict: 0.07582417582417582\n",
            "        Else (feature 24 > 1.352676775048095)\n",
            "         Predict: 1.0\n",
            "      Else (feature 33 > 3.588009833058469)\n",
            "       Predict: 0.0\n",
            "  Tree 1 (weight 0.1):\n",
            "    If (feature 8 <= 3.3277301298467865)\n",
            "     If (feature 10 <= 3.7970696388246554)\n",
            "      If (feature 14 <= 7.54348062835912)\n",
            "       If (feature 58 <= 2.146145390107523)\n",
            "        If (feature 57 <= 0.01921161043824908)\n",
            "         Predict: -0.0015074515130164721\n",
            "        Else (feature 57 > 0.01921161043824908)\n",
            "         Predict: 0.006507966704667325\n",
            "       Else (feature 58 > 2.146145390107523)\n",
            "        If (feature 57 <= 0.05487916256996822)\n",
            "         Predict: -0.019611430516748976\n",
            "        Else (feature 57 > 0.05487916256996822)\n",
            "         Predict: 0.05443640413981095\n",
            "      Else (feature 14 > 7.54348062835912)\n",
            "       If (feature 59 <= 0.2482263265081075)\n",
            "        If (feature 57 <= 0.02606186172255813)\n",
            "         Predict: -0.09525661618865776\n",
            "        Else (feature 57 > 0.02606186172255813)\n",
            "         Predict: 0.09050764214300479\n",
            "       Else (feature 59 > 0.2482263265081075)\n",
            "        If (feature 33 <= 3.588009833058469)\n",
            "         Predict: -0.09763047681594551\n",
            "        Else (feature 33 > 3.588009833058469)\n",
            "         Predict: -1.4645577035728627E-4\n",
            "     Else (feature 10 > 3.7970696388246554)\n",
            "      If (feature 29 <= 1.0529526500814932)\n",
            "       If (feature 31 <= 2.298905504268073)\n",
            "        If (feature 38 <= 6.65502666357745)\n",
            "         Predict: -0.004943464422148808\n",
            "        Else (feature 38 > 6.65502666357745)\n",
            "         Predict: 0.5805030406971343\n",
            "       Else (feature 31 > 2.298905504268073)\n",
            "        If (feature 59 <= 1.7375842855567525)\n",
            "         Predict: -0.03755359609370735\n",
            "        Else (feature 59 > 1.7375842855567525)\n",
            "         Predict: 0.28650395807764556\n",
            "      Else (feature 29 > 1.0529526500814932)\n",
            "       If (feature 57 <= 0.01921161043824908)\n",
            "        If (feature 59 <= 2.2340369385729675)\n",
            "         Predict: 0.003975697430399152\n",
            "        Else (feature 59 > 2.2340369385729675)\n",
            "         Predict: -0.08703393023546342\n",
            "       Else (feature 57 > 0.01921161043824908)\n",
            "        If (feature 57 <= 0.0381933713295001)\n",
            "         Predict: 0.2028748658148556\n",
            "        Else (feature 57 > 0.0381933713295001)\n",
            "         Predict: 0.03739069488041167\n",
            "    Else (feature 8 > 3.3277301298467865)\n",
            "     If (feature 57 <= 0.05487916256996822)\n",
            "      If (feature 58 <= 2.146145390107523)\n",
            "       If (feature 29 <= 1.0529526500814932)\n",
            "        If (feature 59 <= 2.2340369385729675)\n",
            "         Predict: -0.0062954198660814115\n",
            "        Else (feature 59 > 2.2340369385729675)\n",
            "         Predict: 0.10450019994411268\n",
            "       Else (feature 29 > 1.0529526500814932)\n",
            "        If (feature 0 <= 1.0107756116042783)\n",
            "         Predict: -0.04235230252362629\n",
            "        Else (feature 0 > 1.0107756116042783)\n",
            "         Predict: 0.06764806745966552\n",
            "      Else (feature 58 > 2.146145390107523)\n",
            "       If (feature 57 <= 0.01836109822837811)\n",
            "        Predict: 1.8483516483516484\n",
            "       Else (feature 57 > 0.01836109822837811)\n",
            "        If (feature 57 <= 0.029965400482765074)\n",
            "         Predict: -0.04060509417779518\n",
            "        Else (feature 57 > 0.029965400482765074)\n",
            "         Predict: 0.31855225271401044\n",
            "     Else (feature 57 > 0.05487916256996822)\n",
            "      If (feature 58 <= 1.3978183790831893)\n",
            "       If (feature 59 <= 0.2482263265081075)\n",
            "        If (feature 21 <= 1.1993123157773127)\n",
            "         Predict: -0.029795158286778405\n",
            "        Else (feature 21 > 1.1993123157773127)\n",
            "         Predict: -0.028301886792452862\n",
            "       Else (feature 59 > 0.2482263265081075)\n",
            "        If (feature 58 <= 0.5788944802263714)\n",
            "         Predict: -0.12241919968265447\n",
            "        Else (feature 58 > 0.5788944802263714)\n",
            "         Predict: -0.014974253258926599\n",
            "      Else (feature 58 > 1.3978183790831893)\n",
            "       If (feature 0 <= 1.0107756116042783)\n",
            "        If (feature 28 <= 1.006510530627566)\n",
            "         Predict: 1.8483516483516484\n",
            "        Else (feature 28 > 1.006510530627566)\n",
            "         Predict: -0.15164835164835166\n",
            "       Else (feature 0 > 1.0107756116042783)\n",
            "        If (feature 23 <= 1.0303162117019926)\n",
            "         Predict: -0.03771114205282102\n",
            "        Else (feature 23 > 1.0303162117019926)\n",
            "         Predict: 0.22710972038592636\n",
            "  Tree 2 (weight 0.1):\n",
            "    If (feature 39 <= 8.419215539986228)\n",
            "     If (feature 10 <= 3.7970696388246554)\n",
            "      If (feature 8 <= 3.3277301298467865)\n",
            "       If (feature 7 <= 3.2408984185143432)\n",
            "        If (feature 58 <= 2.146145390107523)\n",
            "         Predict: -5.22486377729335E-4\n",
            "        Else (feature 58 > 2.146145390107523)\n",
            "         Predict: -0.011827079034032371\n",
            "       Else (feature 7 > 3.2408984185143432)\n",
            "        If (feature 46 <= 44.474201220339026)\n",
            "         Predict: 0.017503049706650634\n",
            "        Else (feature 46 > 44.474201220339026)\n",
            "         Predict: 1.8470500550107118\n",
            "      Else (feature 8 > 3.3277301298467865)\n",
            "       If (feature 57 <= 0.05487916256996822)\n",
            "        If (feature 58 <= 2.965069288964341)\n",
            "         Predict: 0.02621447918053924\n",
            "        Else (feature 58 > 2.965069288964341)\n",
            "         Predict: 0.3805395055907326\n",
            "       Else (feature 57 > 0.05487916256996822)\n",
            "        If (feature 58 <= 1.3978183790831893)\n",
            "         Predict: -0.04767488933665107\n",
            "        Else (feature 58 > 1.3978183790831893)\n",
            "         Predict: 0.04405082454850644\n",
            "     Else (feature 10 > 3.7970696388246554)\n",
            "      If (feature 29 <= 1.0529526500814932)\n",
            "       If (feature 27 <= 6.343651871313487)\n",
            "        If (feature 38 <= 6.65502666357745)\n",
            "         Predict: 0.001652329230469946\n",
            "        Else (feature 38 > 6.65502666357745)\n",
            "         Predict: 0.46440243255770747\n",
            "       Else (feature 27 > 6.343651871313487)\n",
            "        If (feature 1 <= 1.1386123381746922)\n",
            "         Predict: -0.09604240689875518\n",
            "        Else (feature 1 > 1.1386123381746922)\n",
            "         Predict: 1.7910508567361192\n",
            "      Else (feature 29 > 1.0529526500814932)\n",
            "       If (feature 57 <= 0.01921161043824908)\n",
            "        If (feature 59 <= 2.2340369385729675)\n",
            "         Predict: 0.003180557944319333\n",
            "        Else (feature 59 > 2.2340369385729675)\n",
            "         Predict: -0.06962714418837075\n",
            "       Else (feature 57 > 0.01921161043824908)\n",
            "        If (feature 59 <= 2.2340369385729675)\n",
            "         Predict: 0.08437255117523068\n",
            "        Else (feature 59 > 2.2340369385729675)\n",
            "         Predict: 0.22082314041294107\n",
            "    Else (feature 39 > 8.419215539986228)\n",
            "     If (feature 57 <= 0.016074083754750983)\n",
            "      If (feature 13 <= 6.563213857424442)\n",
            "       If (feature 57 <= 0.009311088042728916)\n",
            "        If (feature 57 <= 0.008275502171638721)\n",
            "         Predict: 3.118491163056097E-4\n",
            "        Else (feature 57 > 0.008275502171638721)\n",
            "         Predict: -0.0042344324582177205\n",
            "       Else (feature 57 > 0.009311088042728916)\n",
            "        If (feature 58 <= 0.864105907069608)\n",
            "         Predict: -0.02190928615282384\n",
            "        Else (feature 58 > 0.864105907069608)\n",
            "         Predict: -0.012549195452981162\n",
            "      Else (feature 13 > 6.563213857424442)\n",
            "       Predict: -0.12873076776191283\n",
            "     Else (feature 57 > 0.016074083754750983)\n",
            "      If (feature 21 <= 1.1993123157773127)\n",
            "       If (feature 59 <= 0.7446789795243225)\n",
            "        If (feature 10 <= 3.7970696388246554)\n",
            "         Predict: -0.031096751627711867\n",
            "        Else (feature 10 > 3.7970696388246554)\n",
            "         Predict: -0.02880646540234864\n",
            "       Else (feature 59 > 0.7446789795243225)\n",
            "        If (feature 58 <= 2.146145390107523)\n",
            "         Predict: -0.0779396633628593\n",
            "        Else (feature 58 > 2.146145390107523)\n",
            "         Predict: -0.07312508187011728\n",
            "      Else (feature 21 > 1.1993123157773127)\n",
            "       If (feature 59 <= 0.2482263265081075)\n",
            "        If (feature 57 <= 0.02606186172255813)\n",
            "         Predict: -0.10079216446950588\n",
            "        Else (feature 57 > 0.02606186172255813)\n",
            "         Predict: -0.03800344767722004\n",
            "       Else (feature 59 > 0.2482263265081075)\n",
            "        If (feature 14 <= 7.54348062835912)\n",
            "         Predict: -0.15240408729407615\n",
            "        Else (feature 14 > 7.54348062835912)\n",
            "         Predict: -0.1321222562851625\n",
            "  Tree 3 (weight 0.1):\n",
            "    If (feature 57 <= 0.02606186172255813)\n",
            "     If (feature 58 <= 2.146145390107523)\n",
            "      If (feature 14 <= 7.54348062835912)\n",
            "       If (feature 57 <= 0.01921161043824908)\n",
            "        If (feature 57 <= 0.016074083754750983)\n",
            "         Predict: 5.665872575350757E-4\n",
            "        Else (feature 57 > 0.016074083754750983)\n",
            "         Predict: -0.020714340997094533\n",
            "       Else (feature 57 > 0.01921161043824908)\n",
            "        If (feature 39 <= 8.419215539986228)\n",
            "         Predict: 0.010817021114910468\n",
            "        Else (feature 39 > 8.419215539986228)\n",
            "         Predict: -0.0985615412193852\n",
            "      Else (feature 14 > 7.54348062835912)\n",
            "       If (feature 21 <= 1.1993123157773127)\n",
            "        If (feature 59 <= 2.2340369385729675)\n",
            "         Predict: -0.0538774447239702\n",
            "        Else (feature 59 > 2.2340369385729675)\n",
            "         Predict: 0.14258322466526785\n",
            "       Else (feature 21 > 1.1993123157773127)\n",
            "        If (feature 33 <= 3.588009833058469)\n",
            "         Predict: -0.10532247028415252\n",
            "        Else (feature 33 > 3.588009833058469)\n",
            "         Predict: 1.3378842961732032E-4\n",
            "     Else (feature 58 > 2.146145390107523)\n",
            "      If (feature 57 <= 0.016074083754750983)\n",
            "       If (feature 24 <= 1.352676775048095)\n",
            "        If (feature 57 <= 0.009311088042728916)\n",
            "         Predict: 0.004379137382441703\n",
            "        Else (feature 57 > 0.009311088042728916)\n",
            "         Predict: -0.00638662072811072\n",
            "       Else (feature 24 > 1.352676775048095)\n",
            "        Predict: -0.9937122980898438\n",
            "      Else (feature 57 > 0.016074083754750983)\n",
            "       If (feature 33 <= 3.588009833058469)\n",
            "        If (feature 10 <= 3.7970696388246554)\n",
            "         Predict: -0.04779837991251785\n",
            "        Else (feature 10 > 3.7970696388246554)\n",
            "         Predict: -0.13878331951152645\n",
            "       Else (feature 33 > 3.588009833058469)\n",
            "        If (feature 4 <= 1.6411529338454593)\n",
            "         Predict: 0.002788814728754854\n",
            "        Else (feature 4 > 1.6411529338454593)\n",
            "         Predict: 0.0058483345990842095\n",
            "    Else (feature 57 > 0.02606186172255813)\n",
            "     If (feature 58 <= 0.7765657661573274)\n",
            "      If (feature 46 <= 44.474201220339026)\n",
            "       If (feature 57 <= 0.05487916256996822)\n",
            "        If (feature 6 <= 2.7815593385283988)\n",
            "         Predict: -0.002343576520369512\n",
            "        Else (feature 6 > 2.7815593385283988)\n",
            "         Predict: 0.11383134868448698\n",
            "       Else (feature 57 > 0.05487916256996822)\n",
            "        If (feature 59 <= 0.7446789795243225)\n",
            "         Predict: -0.01112876573349134\n",
            "        Else (feature 59 > 0.7446789795243225)\n",
            "         Predict: -0.06972667452520588\n",
            "      Else (feature 46 > 44.474201220339026)\n",
            "       Predict: 1.4776400440085737\n",
            "     Else (feature 58 > 0.7765657661573274)\n",
            "      If (feature 10 <= 3.7970696388246554)\n",
            "       If (feature 7 <= 3.2408984185143432)\n",
            "        If (feature 30 <= 2.037807414865838)\n",
            "         Predict: 0.018284658280332353\n",
            "        Else (feature 30 > 2.037807414865838)\n",
            "         Predict: -0.05432872189440267\n",
            "       Else (feature 7 > 3.2408984185143432)\n",
            "        If (feature 29 <= 1.0529526500814932)\n",
            "         Predict: 0.03567914487142885\n",
            "        Else (feature 29 > 1.0529526500814932)\n",
            "         Predict: 0.48488428363286235\n",
            "      Else (feature 10 > 3.7970696388246554)\n",
            "       If (feature 38 <= 6.65502666357745)\n",
            "        If (feature 29 <= 1.0529526500814932)\n",
            "         Predict: 0.06808707069136785\n",
            "        Else (feature 29 > 1.0529526500814932)\n",
            "         Predict: 0.23389119046451903\n",
            "       Else (feature 38 > 6.65502666357745)\n",
            "        Predict: 1.7139715373755635\n",
            "  Tree 4 (weight 0.1):\n",
            "    If (feature 8 <= 3.3277301298467865)\n",
            "     If (feature 11 <= 4.762393572910032)\n",
            "      If (feature 57 <= 0.029965400482765074)\n",
            "       If (feature 58 <= 2.146145390107523)\n",
            "        If (feature 14 <= 7.54348062835912)\n",
            "         Predict: -3.1514508547526576E-5\n",
            "        Else (feature 14 > 7.54348062835912)\n",
            "         Predict: -0.04507068526865011\n",
            "       Else (feature 58 > 2.146145390107523)\n",
            "        If (feature 57 <= 0.016074083754750983)\n",
            "         Predict: -0.002614024549765956\n",
            "        Else (feature 57 > 0.016074083754750983)\n",
            "         Predict: -0.026059980404686735\n",
            "      Else (feature 57 > 0.029965400482765074)\n",
            "       If (feature 43 <= 19.5425802208859)\n",
            "        If (feature 58 <= 0.3289814972993769)\n",
            "         Predict: -0.010451081157004697\n",
            "        Else (feature 58 > 0.3289814972993769)\n",
            "         Predict: 0.0171631969848093\n",
            "       Else (feature 43 > 19.5425802208859)\n",
            "        If (feature 1 <= 1.1386123381746922)\n",
            "         Predict: 1.8989795062883454\n",
            "        Else (feature 1 > 1.1386123381746922)\n",
            "         Predict: -0.05694806003065822\n",
            "     Else (feature 11 > 4.762393572910032)\n",
            "      If (feature 57 <= 0.01836109822837811)\n",
            "       If (feature 32 <= 3.39436656702116)\n",
            "        If (feature 59 <= 0.7446789795243225)\n",
            "         Predict: 0.0388231005573775\n",
            "        Else (feature 59 > 0.7446789795243225)\n",
            "         Predict: -0.01950342275477338\n",
            "       Else (feature 32 > 3.39436656702116)\n",
            "        If (feature 58 <= 1.4260571342161832)\n",
            "         Predict: 0.07470186777654012\n",
            "        Else (feature 58 > 1.4260571342161832)\n",
            "         Predict: 1.8641990262443084\n",
            "      Else (feature 57 > 0.01836109822837811)\n",
            "       If (feature 21 <= 1.1993123157773127)\n",
            "        If (feature 59 <= 0.7446789795243225)\n",
            "         Predict: -0.030923713944361657\n",
            "        Else (feature 59 > 0.7446789795243225)\n",
            "         Predict: -0.07605784848508758\n",
            "       Else (feature 21 > 1.1993123157773127)\n",
            "        If (feature 57 <= 0.021159476279592346)\n",
            "         Predict: -0.047751977560639605\n",
            "        Else (feature 57 > 0.021159476279592346)\n",
            "         Predict: -0.14030711158494558\n",
            "    Else (feature 8 > 3.3277301298467865)\n",
            "     If (feature 29 <= 1.0529526500814932)\n",
            "      If (feature 59 <= 1.7375842855567525)\n",
            "       If (feature 28 <= 1.006510530627566)\n",
            "        If (feature 40 <= 8.54454330440328)\n",
            "         Predict: 0.010410598912716097\n",
            "        Else (feature 40 > 8.54454330440328)\n",
            "         Predict: 0.2095025281315109\n",
            "       Else (feature 28 > 1.006510530627566)\n",
            "        If (feature 57 <= 0.015158818725445992)\n",
            "         Predict: 0.0047079187034034485\n",
            "        Else (feature 57 > 0.015158818725445992)\n",
            "         Predict: -0.04253046904301495\n",
            "      Else (feature 59 > 1.7375842855567525)\n",
            "       If (feature 23 <= 1.0303162117019926)\n",
            "        If (feature 57 <= 0.01836109822837811)\n",
            "         Predict: 0.15986413748157474\n",
            "        Else (feature 57 > 0.01836109822837811)\n",
            "         Predict: -0.0389691182413569\n",
            "       Else (feature 23 > 1.0303162117019926)\n",
            "        If (feature 58 <= 0.864105907069608)\n",
            "         Predict: 0.01720209139135717\n",
            "        Else (feature 58 > 0.864105907069608)\n",
            "         Predict: 0.22256468510475982\n",
            "     Else (feature 29 > 1.0529526500814932)\n",
            "      If (feature 58 <= 2.965069288964341)\n",
            "       If (feature 57 <= 0.0381933713295001)\n",
            "        If (feature 27 <= 6.343651871313487)\n",
            "         Predict: 0.054865749157098895\n",
            "        Else (feature 27 > 6.343651871313487)\n",
            "         Predict: -0.09922866043596007\n",
            "       Else (feature 57 > 0.0381933713295001)\n",
            "        If (feature 57 <= 0.05487916256996822)\n",
            "         Predict: -0.09142104980809344\n",
            "        Else (feature 57 > 0.05487916256996822)\n",
            "         Predict: -0.0019146039377602637\n",
            "      Else (feature 58 > 2.965069288964341)\n",
            "       If (feature 22 <= 1.0104056024244081)\n",
            "        Predict: -0.1565732198035552\n",
            "       Else (feature 22 > 1.0104056024244081)\n",
            "        Predict: 1.7048763650346332\n",
            "  Tree 5 (weight 0.1):\n",
            "    If (feature 26 <= 5.879227644722843)\n",
            "     If (feature 57 <= 0.01921161043824908)\n",
            "      If (feature 57 <= 0.016074083754750983)\n",
            "       If (feature 15 <= 9.023591842122398)\n",
            "        If (feature 7 <= 3.2408984185143432)\n",
            "         Predict: -1.957833373889653E-5\n",
            "        Else (feature 7 > 3.2408984185143432)\n",
            "         Predict: 0.01908100009238778\n",
            "       Else (feature 15 > 9.023591842122398)\n",
            "        If (feature 21 <= 1.1993123157773127)\n",
            "         Predict: 0.10809480207014888\n",
            "        Else (feature 21 > 1.1993123157773127)\n",
            "         Predict: -0.023778066717835777\n",
            "      Else (feature 57 > 0.016074083754750983)\n",
            "       If (feature 21 <= 1.1993123157773127)\n",
            "        If (feature 9 <= 3.366381788704853)\n",
            "         Predict: -0.014257115458464904\n",
            "        Else (feature 9 > 3.366381788704853)\n",
            "         Predict: 0.1089976570676972\n",
            "       Else (feature 21 > 1.1993123157773127)\n",
            "        If (feature 16 <= 9.593897745415102)\n",
            "         Predict: -0.0430721571841745\n",
            "        Else (feature 16 > 9.593897745415102)\n",
            "         Predict: 0.3529068070309265\n",
            "     Else (feature 57 > 0.01921161043824908)\n",
            "      If (feature 11 <= 4.762393572910032)\n",
            "       If (feature 41 <= 10.239176741638635)\n",
            "        If (feature 39 <= 8.419215539986228)\n",
            "         Predict: 0.006612620844827409\n",
            "        Else (feature 39 > 8.419215539986228)\n",
            "         Predict: -0.07542485317171535\n",
            "       Else (feature 41 > 10.239176741638635)\n",
            "        If (feature 21 <= 1.1993123157773127)\n",
            "         Predict: -0.07152330284673729\n",
            "        Else (feature 21 > 1.1993123157773127)\n",
            "         Predict: -0.14874392327303249\n",
            "      Else (feature 11 > 4.762393572910032)\n",
            "       If (feature 21 <= 1.1993123157773127)\n",
            "        If (feature 59 <= 0.7446789795243225)\n",
            "         Predict: -0.024896677028687968\n",
            "        Else (feature 59 > 0.7446789795243225)\n",
            "         Predict: -0.062449149712461835\n",
            "       Else (feature 21 > 1.1993123157773127)\n",
            "        If (feature 57 <= 0.021159476279592346)\n",
            "         Predict: 0.02280886675715907\n",
            "        Else (feature 57 > 0.021159476279592346)\n",
            "         Predict: -0.11224568926795649\n",
            "    Else (feature 26 > 5.879227644722843)\n",
            "     If (feature 57 <= 0.012495916431203642)\n",
            "      If (feature 13 <= 6.563213857424442)\n",
            "       If (feature 57 <= 0.008275502171638721)\n",
            "        If (feature 58 <= 1.3978183790831893)\n",
            "         Predict: 2.2126102146750477E-4\n",
            "        Else (feature 58 > 1.3978183790831893)\n",
            "         Predict: 0.0059346793436211185\n",
            "       Else (feature 57 > 0.008275502171638721)\n",
            "        If (feature 57 <= 0.011488573811143179)\n",
            "         Predict: -0.00964774754273876\n",
            "        Else (feature 57 > 0.011488573811143179)\n",
            "         Predict: -0.024043579021623192\n",
            "      Else (feature 13 > 6.563213857424442)\n",
            "       Predict: -0.12873328503616452\n",
            "     Else (feature 57 > 0.012495916431203642)\n",
            "      If (feature 59 <= 0.7446789795243225)\n",
            "       If (feature 21 <= 1.1993123157773127)\n",
            "        If (feature 8 <= 3.3277301298467865)\n",
            "         Predict: -0.02924230343947782\n",
            "        Else (feature 8 > 3.3277301298467865)\n",
            "         Predict: -0.022910092536369442\n",
            "       Else (feature 21 > 1.1993123157773127)\n",
            "        If (feature 57 <= 0.015158818725445992)\n",
            "         Predict: -0.030102879315643007\n",
            "        Else (feature 57 > 0.015158818725445992)\n",
            "         Predict: -0.09924455424384247\n",
            "      Else (feature 59 > 0.7446789795243225)\n",
            "       If (feature 57 <= 0.016074083754750983)\n",
            "        If (feature 58 <= 0.864105907069608)\n",
            "         Predict: -0.04221479417304374\n",
            "        Else (feature 58 > 0.864105907069608)\n",
            "         Predict: -0.012194508580355217\n",
            "       Else (feature 57 > 0.016074083754750983)\n",
            "        If (feature 8 <= 3.3277301298467865)\n",
            "         Predict: -0.07337098813046557\n",
            "        Else (feature 8 > 3.3277301298467865)\n",
            "         Predict: -0.11299955064400118\n",
            "  Tree 6 (weight 0.1):\n",
            "    If (feature 10 <= 3.7970696388246554)\n",
            "     If (feature 8 <= 3.3277301298467865)\n",
            "      If (feature 18 <= 10.826428503012693)\n",
            "       If (feature 7 <= 3.2408984185143432)\n",
            "        If (feature 14 <= 7.54348062835912)\n",
            "         Predict: -7.544815035166371E-4\n",
            "        Else (feature 14 > 7.54348062835912)\n",
            "         Predict: -0.029667436355556187\n",
            "       Else (feature 7 > 3.2408984185143432)\n",
            "        If (feature 46 <= 44.474201220339026)\n",
            "         Predict: 0.011988496382839298\n",
            "        Else (feature 46 > 44.474201220339026)\n",
            "         Predict: 1.1807958139396035\n",
            "      Else (feature 18 > 10.826428503012693)\n",
            "       If (feature 57 <= 0.01836109822837811)\n",
            "        If (feature 57 <= 0.011488573811143179)\n",
            "         Predict: -0.01351592354203924\n",
            "        Else (feature 57 > 0.011488573811143179)\n",
            "         Predict: -0.03842396036036529\n",
            "       Else (feature 57 > 0.01836109822837811)\n",
            "        If (feature 21 <= 1.1993123157773127)\n",
            "         Predict: -0.06544545017749785\n",
            "        Else (feature 21 > 1.1993123157773127)\n",
            "         Predict: -0.14475923414417627\n",
            "     Else (feature 8 > 3.3277301298467865)\n",
            "      If (feature 0 <= 1.0107756116042783)\n",
            "       If (feature 59 <= 1.2411316325405375)\n",
            "        If (feature 33 <= 3.588009833058469)\n",
            "         Predict: -0.07367983528882323\n",
            "        Else (feature 33 > 3.588009833058469)\n",
            "         Predict: -0.009437420057945128\n",
            "       Else (feature 59 > 1.2411316325405375)\n",
            "        If (feature 30 <= 2.037807414865838)\n",
            "         Predict: 0.010034121657680129\n",
            "        Else (feature 30 > 2.037807414865838)\n",
            "         Predict: 0.5156614543037581\n",
            "      Else (feature 0 > 1.0107756116042783)\n",
            "       If (feature 58 <= 2.965069288964341)\n",
            "        If (feature 57 <= 0.05487916256996822)\n",
            "         Predict: 0.023830944143431197\n",
            "        Else (feature 57 > 0.05487916256996822)\n",
            "         Predict: -0.025368057892922156\n",
            "       Else (feature 58 > 2.965069288964341)\n",
            "        If (feature 22 <= 1.0104056024244081)\n",
            "         Predict: -0.14500248855342324\n",
            "        Else (feature 22 > 1.0104056024244081)\n",
            "         Predict: 0.9746081040161437\n",
            "    Else (feature 10 > 3.7970696388246554)\n",
            "     If (feature 29 <= 1.0529526500814932)\n",
            "      If (feature 31 <= 2.298905504268073)\n",
            "       If (feature 58 <= 1.0942517614035068)\n",
            "        If (feature 24 <= 1.352676775048095)\n",
            "         Predict: -0.026998155696365142\n",
            "        Else (feature 24 > 1.352676775048095)\n",
            "         Predict: 0.10749042410837654\n",
            "       Else (feature 58 > 1.0942517614035068)\n",
            "        If (feature 58 <= 2.146145390107523)\n",
            "         Predict: 0.05821153763929218\n",
            "        Else (feature 58 > 2.146145390107523)\n",
            "         Predict: -0.03356265171979577\n",
            "      Else (feature 31 > 2.298905504268073)\n",
            "       If (feature 57 <= 0.029965400482765074)\n",
            "        If (feature 59 <= 2.2340369385729675)\n",
            "         Predict: 0.025674590313121522\n",
            "        Else (feature 59 > 2.2340369385729675)\n",
            "         Predict: 0.40871458408674066\n",
            "       Else (feature 57 > 0.029965400482765074)\n",
            "        If (feature 59 <= 0.7446789795243225)\n",
            "         Predict: -0.04899009595419476\n",
            "        Else (feature 59 > 0.7446789795243225)\n",
            "         Predict: -0.1527904855118741\n",
            "     Else (feature 29 > 1.0529526500814932)\n",
            "      If (feature 57 <= 0.01921161043824908)\n",
            "       If (feature 58 <= 0.5365363475268807)\n",
            "        If (feature 57 <= 0.016074083754750983)\n",
            "         Predict: -0.029074001520174426\n",
            "        Else (feature 57 > 0.016074083754750983)\n",
            "         Predict: -0.09016019651801217\n",
            "       Else (feature 58 > 0.5365363475268807)\n",
            "        If (feature 59 <= 2.2340369385729675)\n",
            "         Predict: 0.08439637209351879\n",
            "        Else (feature 59 > 2.2340369385729675)\n",
            "         Predict: -0.044911418229252494\n",
            "      Else (feature 57 > 0.01921161043824908)\n",
            "       If (feature 57 <= 0.05487916256996822)\n",
            "        If (feature 58 <= 0.26826817376344037)\n",
            "         Predict: 0.3120300845252225\n",
            "        Else (feature 58 > 0.26826817376344037)\n",
            "         Predict: 0.08782640299268185\n",
            "       Else (feature 57 > 0.05487916256996822)\n",
            "        If (feature 58 <= 2.965069288964341)\n",
            "         Predict: -0.07698496124062745\n",
            "        Else (feature 58 > 2.965069288964341)\n",
            "         Predict: 0.4458058468082889\n",
            "  Tree 7 (weight 0.1):\n",
            "    If (feature 35 <= 5.3424608524271555)\n",
            "     If (feature 58 <= 1.9767128593095606E-5)\n",
            "      If (feature 1 <= 1.1386123381746922)\n",
            "       If (feature 57 <= 0.029965400482765074)\n",
            "        If (feature 57 <= 0.022962681566880888)\n",
            "         Predict: -3.5601039662777145E-4\n",
            "        Else (feature 57 > 0.022962681566880888)\n",
            "         Predict: -0.014638840723245996\n",
            "       Else (feature 57 > 0.029965400482765074)\n",
            "        If (feature 43 <= 19.5425802208859)\n",
            "         Predict: 0.012618899033269139\n",
            "        Else (feature 43 > 19.5425802208859)\n",
            "         Predict: 1.5180119771624128\n",
            "      Else (feature 1 > 1.1386123381746922)\n",
            "       If (feature 15 <= 9.023591842122398)\n",
            "        If (feature 57 <= 0.011488573811143179)\n",
            "         Predict: -0.004906534181049982\n",
            "        Else (feature 57 > 0.011488573811143179)\n",
            "         Predict: -0.023921328383262327\n",
            "       Else (feature 15 > 9.023591842122398)\n",
            "        If (feature 31 <= 2.298905504268073)\n",
            "         Predict: -0.025202632219023604\n",
            "        Else (feature 31 > 2.298905504268073)\n",
            "         Predict: 1.9305101100982067\n",
            "     Else (feature 58 > 1.9767128593095606E-5)\n",
            "      If (feature 0 <= 1.0107756116042783)\n",
            "       If (feature 3 <= 1.0730935980782343)\n",
            "        If (feature 7 <= 3.2408984185143432)\n",
            "         Predict: -0.020215404278656507\n",
            "        Else (feature 7 > 3.2408984185143432)\n",
            "         Predict: 0.02919585941970089\n",
            "       Else (feature 3 > 1.0730935980782343)\n",
            "        If (feature 21 <= 1.1993123157773127)\n",
            "         Predict: -7.375343807340594E-4\n",
            "        Else (feature 21 > 1.1993123157773127)\n",
            "         Predict: 0.5178569191895702\n",
            "      Else (feature 0 > 1.0107756116042783)\n",
            "       If (feature 57 <= 0.05487916256996822)\n",
            "        If (feature 57 <= 0.02606186172255813)\n",
            "         Predict: 0.0041477561040204\n",
            "        Else (feature 57 > 0.02606186172255813)\n",
            "         Predict: 0.02270543964836365\n",
            "       Else (feature 57 > 0.05487916256996822)\n",
            "        If (feature 58 <= 1.0942517614035068)\n",
            "         Predict: -0.05494242907801304\n",
            "        Else (feature 58 > 1.0942517614035068)\n",
            "         Predict: 0.0140311043606523\n",
            "    Else (feature 35 > 5.3424608524271555)\n",
            "     If (feature 57 <= 0.016074083754750983)\n",
            "      If (feature 57 <= 0.009311088042728916)\n",
            "       If (feature 57 <= 0.008275502171638721)\n",
            "        If (feature 58 <= 2.146145390107523)\n",
            "         Predict: 3.4008249446861765E-4\n",
            "        Else (feature 58 > 2.146145390107523)\n",
            "         Predict: 0.006089491311072226\n",
            "       Else (feature 57 > 0.008275502171638721)\n",
            "        If (feature 58 <= 1.4260571342161832)\n",
            "         Predict: -0.0042563098438811115\n",
            "        Else (feature 58 > 1.4260571342161832)\n",
            "         Predict: 0.0015736859924570744\n",
            "      Else (feature 57 > 0.009311088042728916)\n",
            "       If (feature 57 <= 0.011488573811143179)\n",
            "        If (feature 13 <= 6.563213857424442)\n",
            "         Predict: -0.012926430849555656\n",
            "        Else (feature 13 > 6.563213857424442)\n",
            "         Predict: -0.1285784730687134\n",
            "       Else (feature 57 > 0.011488573811143179)\n",
            "        If (feature 58 <= 0.864105907069608)\n",
            "         Predict: -0.03456105034341672\n",
            "        Else (feature 58 > 0.864105907069608)\n",
            "         Predict: -0.011052181878829549\n",
            "     Else (feature 57 > 0.016074083754750983)\n",
            "      If (feature 6 <= 2.7815593385283988)\n",
            "       If (feature 10 <= 3.7970696388246554)\n",
            "        If (feature 21 <= 1.1993123157773127)\n",
            "         Predict: -0.06798581997838883\n",
            "        Else (feature 21 > 1.1993123157773127)\n",
            "         Predict: -0.12477765129327574\n",
            "       Else (feature 10 > 3.7970696388246554)\n",
            "        If (feature 59 <= 2.2340369385729675)\n",
            "         Predict: -0.11604095484381781\n",
            "        Else (feature 59 > 2.2340369385729675)\n",
            "         Predict: 0.38024665015618775\n",
            "      Else (feature 6 > 2.7815593385283988)\n",
            "       If (feature 58 <= 0.864105907069608)\n",
            "        If (feature 59 <= 1.2411316325405375)\n",
            "         Predict: -0.03699183011076193\n",
            "        Else (feature 59 > 1.2411316325405375)\n",
            "         Predict: -0.13503268128875764\n",
            "       Else (feature 58 > 0.864105907069608)\n",
            "        If (feature 57 <= 0.05487916256996822)\n",
            "         Predict: 1.9607465467265435\n",
            "        Else (feature 57 > 0.05487916256996822)\n",
            "         Predict: -0.08650566296014528\n",
            "  Tree 8 (weight 0.1):\n",
            "    If (feature 39 <= 8.419215539986228)\n",
            "     If (feature 10 <= 3.7970696388246554)\n",
            "      If (feature 8 <= 3.3277301298467865)\n",
            "       If (feature 18 <= 10.826428503012693)\n",
            "        If (feature 13 <= 6.563213857424442)\n",
            "         Predict: -1.944479379930666E-4\n",
            "        Else (feature 13 > 6.563213857424442)\n",
            "         Predict: -0.022830925115616633\n",
            "       Else (feature 18 > 10.826428503012693)\n",
            "        If (feature 57 <= 0.01836109822837811)\n",
            "         Predict: -0.024806497221949622\n",
            "        Else (feature 57 > 0.01836109822837811)\n",
            "         Predict: -0.0721099649989683\n",
            "      Else (feature 8 > 3.3277301298467865)\n",
            "       If (feature 29 <= 1.0529526500814932)\n",
            "        If (feature 59 <= 1.7375842855567525)\n",
            "         Predict: -0.011554538022668434\n",
            "        Else (feature 59 > 1.7375842855567525)\n",
            "         Predict: 0.027570755271975275\n",
            "       Else (feature 29 > 1.0529526500814932)\n",
            "        If (feature 58 <= 2.965069288964341)\n",
            "         Predict: 0.02685957498646784\n",
            "        Else (feature 58 > 2.965069288964341)\n",
            "         Predict: 0.5313645179762929\n",
            "     Else (feature 10 > 3.7970696388246554)\n",
            "      If (feature 29 <= 1.0529526500814932)\n",
            "       If (feature 27 <= 6.343651871313487)\n",
            "        If (feature 57 <= 0.05487916256996822)\n",
            "         Predict: 0.006357756916513484\n",
            "        Else (feature 57 > 0.05487916256996822)\n",
            "         Predict: -0.05288987243502438\n",
            "       Else (feature 27 > 6.343651871313487)\n",
            "        If (feature 1 <= 1.1386123381746922)\n",
            "         Predict: -0.07198837837749163\n",
            "        Else (feature 1 > 1.1386123381746922)\n",
            "         Predict: 1.3467885918605051\n",
            "      Else (feature 29 > 1.0529526500814932)\n",
            "       If (feature 58 <= 2.965069288964341)\n",
            "        If (feature 57 <= 0.0381933713295001)\n",
            "         Predict: 0.06057839496480846\n",
            "        Else (feature 57 > 0.0381933713295001)\n",
            "         Predict: -0.04475721288167713\n",
            "       Else (feature 58 > 2.965069288964341)\n",
            "        If (feature 57 <= 0.029965400482765074)\n",
            "         Predict: -0.2227055626566351\n",
            "        Else (feature 57 > 0.029965400482765074)\n",
            "         Predict: 0.47731771391099814\n",
            "    Else (feature 39 > 8.419215539986228)\n",
            "     If (feature 57 <= 0.016074083754750983)\n",
            "      If (feature 13 <= 6.563213857424442)\n",
            "       If (feature 57 <= 0.010560450065922211)\n",
            "        If (feature 57 <= 0.008275502171638721)\n",
            "         Predict: 3.499706293960798E-4\n",
            "        Else (feature 57 > 0.008275502171638721)\n",
            "         Predict: -0.004428492797024838\n",
            "       Else (feature 57 > 0.010560450065922211)\n",
            "        If (feature 58 <= 0.864105907069608)\n",
            "         Predict: -0.0204782652846224\n",
            "        Else (feature 58 > 0.864105907069608)\n",
            "         Predict: -0.009903387716330243\n",
            "      Else (feature 13 > 6.563213857424442)\n",
            "       Predict: -0.1037663680126808\n",
            "     Else (feature 57 > 0.016074083754750983)\n",
            "      If (feature 21 <= 1.1993123157773127)\n",
            "       If (feature 59 <= 0.7446789795243225)\n",
            "        If (feature 57 <= 0.02606186172255813)\n",
            "         Predict: 0.012577524965884157\n",
            "        Else (feature 57 > 0.02606186172255813)\n",
            "         Predict: -0.012602868405950124\n",
            "       Else (feature 59 > 0.7446789795243225)\n",
            "        If (feature 57 <= 0.02606186172255813)\n",
            "         Predict: -0.03755116735503409\n",
            "        Else (feature 57 > 0.02606186172255813)\n",
            "         Predict: -0.05198339279914748\n",
            "      Else (feature 21 > 1.1993123157773127)\n",
            "       If (feature 57 <= 0.05487916256996822)\n",
            "        If (feature 14 <= 7.54348062835912)\n",
            "         Predict: -0.08903236964553977\n",
            "        Else (feature 14 > 7.54348062835912)\n",
            "         Predict: -0.05543026723291933\n",
            "       Else (feature 57 > 0.05487916256996822)\n",
            "        If (feature 1 <= 1.1386123381746922)\n",
            "         Predict: -0.004974734091450509\n",
            "        Else (feature 1 > 1.1386123381746922)\n",
            "         Predict: -0.013885353017581196\n",
            "  Tree 9 (weight 0.1):\n",
            "    If (feature 58 <= 2.146145390107523)\n",
            "     If (feature 57 <= 0.05487916256996822)\n",
            "      If (feature 57 <= 0.029965400482765074)\n",
            "       If (feature 58 <= 0.02682681737634404)\n",
            "        If (feature 57 <= 0.01836109822837811)\n",
            "         Predict: -9.046383730223516E-4\n",
            "        Else (feature 57 > 0.01836109822837811)\n",
            "         Predict: -0.01122492447421712\n",
            "       Else (feature 58 > 0.02682681737634404)\n",
            "        If (feature 24 <= 1.352676775048095)\n",
            "         Predict: 0.0013823071140264078\n",
            "        Else (feature 24 > 1.352676775048095)\n",
            "         Predict: 0.2619282423787482\n",
            "      Else (feature 57 > 0.029965400482765074)\n",
            "       If (feature 58 <= 0.3007427421663832)\n",
            "        If (feature 43 <= 19.5425802208859)\n",
            "         Predict: -0.0067638020701313905\n",
            "        Else (feature 43 > 19.5425802208859)\n",
            "         Predict: 1.2144484713175299\n",
            "       Else (feature 58 > 0.3007427421663832)\n",
            "        If (feature 6 <= 2.7815593385283988)\n",
            "         Predict: 0.02675061548346107\n",
            "        Else (feature 6 > 2.7815593385283988)\n",
            "         Predict: 0.21630208659276945\n",
            "     Else (feature 57 > 0.05487916256996822)\n",
            "      If (feature 58 <= 1.0942517614035068)\n",
            "       If (feature 59 <= 0.7446789795243225)\n",
            "        If (feature 23 <= 1.0303162117019926)\n",
            "         Predict: -0.021365880360657286\n",
            "        Else (feature 23 > 1.0303162117019926)\n",
            "         Predict: 0.015903091896163787\n",
            "       Else (feature 59 > 0.7446789795243225)\n",
            "        If (feature 21 <= 1.1993123157773127)\n",
            "         Predict: -0.024329643815987616\n",
            "        Else (feature 21 > 1.1993123157773127)\n",
            "         Predict: -0.10458150530133632\n",
            "      Else (feature 58 > 1.0942517614035068)\n",
            "       If (feature 58 <= 1.4260571342161832)\n",
            "        If (feature 59 <= 2.2340369385729675)\n",
            "         Predict: 0.06343071901904881\n",
            "        Else (feature 59 > 2.2340369385729675)\n",
            "         Predict: -0.010427722266713558\n",
            "       Else (feature 58 > 1.4260571342161832)\n",
            "        If (feature 21 <= 1.1993123157773127)\n",
            "         Predict: -0.0818925567447676\n",
            "        Else (feature 21 > 1.1993123157773127)\n",
            "         Predict: -0.15881634526621274\n",
            "    Else (feature 58 > 2.146145390107523)\n",
            "     If (feature 57 <= 0.05487916256996822)\n",
            "      If (feature 8 <= 3.3277301298467865)\n",
            "       If (feature 30 <= 2.037807414865838)\n",
            "        If (feature 57 <= 0.016074083754750983)\n",
            "         Predict: -0.0034322522363623\n",
            "        Else (feature 57 > 0.016074083754750983)\n",
            "         Predict: -0.01912688320314862\n",
            "       Else (feature 30 > 2.037807414865838)\n",
            "        If (feature 10 <= 3.7970696388246554)\n",
            "         Predict: 0.023552844779416764\n",
            "        Else (feature 10 > 3.7970696388246554)\n",
            "         Predict: 0.38547488879568537\n",
            "      Else (feature 8 > 3.3277301298467865)\n",
            "       If (feature 57 <= 0.01836109822837811)\n",
            "        Predict: 1.4696717253863456\n",
            "       Else (feature 57 > 0.01836109822837811)\n",
            "        If (feature 57 <= 0.029965400482765074)\n",
            "         Predict: -0.05286826295515372\n",
            "        Else (feature 57 > 0.029965400482765074)\n",
            "         Predict: 0.19011398341456565\n",
            "     Else (feature 57 > 0.05487916256996822)\n",
            "      If (feature 40 <= 8.54454330440328)\n",
            "       If (feature 6 <= 2.7815593385283988)\n",
            "        If (feature 7 <= 3.2408984185143432)\n",
            "         Predict: 0.01525948657139453\n",
            "        Else (feature 7 > 3.2408984185143432)\n",
            "         Predict: 0.23558313045506504\n",
            "       Else (feature 6 > 2.7815593385283988)\n",
            "        If (feature 29 <= 1.0529526500814932)\n",
            "         Predict: 0.061546181801613496\n",
            "        Else (feature 29 > 1.0529526500814932)\n",
            "         Predict: 0.6450913102052196\n",
            "      Else (feature 40 > 8.54454330440328)\n",
            "       If (feature 0 <= 1.0107756116042783)\n",
            "        Predict: 1.906355964547832\n",
            "       Else (feature 0 > 1.0107756116042783)\n",
            "        Predict: -0.09659776320044522\n",
            "  Tree 10 (weight 0.1):\n",
            "    If (feature 35 <= 5.3424608524271555)\n",
            "     If (feature 57 <= 0.01921161043824908)\n",
            "      If (feature 57 <= 0.016074083754750983)\n",
            "       If (feature 15 <= 9.023591842122398)\n",
            "        If (feature 9 <= 3.366381788704853)\n",
            "         Predict: 7.220124946103832E-5\n",
            "        Else (feature 9 > 3.366381788704853)\n",
            "         Predict: 0.013238947141563442\n",
            "       Else (feature 15 > 9.023591842122398)\n",
            "        If (feature 21 <= 1.1993123157773127)\n",
            "         Predict: 0.0851189663337353\n",
            "        Else (feature 21 > 1.1993123157773127)\n",
            "         Predict: -0.01858053773203668\n",
            "      Else (feature 57 > 0.016074083754750983)\n",
            "       If (feature 21 <= 1.1993123157773127)\n",
            "        If (feature 34 <= 4.120115507645126)\n",
            "         Predict: -0.007276060970671955\n",
            "        Else (feature 34 > 4.120115507645126)\n",
            "         Predict: -0.13630400428203507\n",
            "       Else (feature 21 > 1.1993123157773127)\n",
            "        If (feature 58 <= 0.5788944802263714)\n",
            "         Predict: -0.01902331939043176\n",
            "        Else (feature 58 > 0.5788944802263714)\n",
            "         Predict: -0.06826010138751586\n",
            "     Else (feature 57 > 0.01921161043824908)\n",
            "      If (feature 5 <= 2.2628782783944144)\n",
            "       If (feature 41 <= 10.239176741638635)\n",
            "        If (feature 59 <= 1.7375842855567525)\n",
            "         Predict: -2.1286382867234484E-5\n",
            "        Else (feature 59 > 1.7375842855567525)\n",
            "         Predict: 0.011074157074122633\n",
            "       Else (feature 41 > 10.239176741638635)\n",
            "        If (feature 21 <= 1.1993123157773127)\n",
            "         Predict: -0.057383441376246055\n",
            "        Else (feature 21 > 1.1993123157773127)\n",
            "         Predict: -0.11426765662751272\n",
            "      Else (feature 5 > 2.2628782783944144)\n",
            "       If (feature 32 <= 3.39436656702116)\n",
            "        If (feature 33 <= 3.588009833058469)\n",
            "         Predict: -0.09025871745799238\n",
            "        Else (feature 33 > 3.588009833058469)\n",
            "         Predict: -0.004747041992093628\n",
            "       Else (feature 32 > 3.39436656702116)\n",
            "        If (feature 57 <= 0.02606186172255813)\n",
            "         Predict: 1.900393704421828\n",
            "        Else (feature 57 > 0.02606186172255813)\n",
            "         Predict: -0.06077026577302158\n",
            "    Else (feature 35 > 5.3424608524271555)\n",
            "     If (feature 57 <= 0.016074083754750983)\n",
            "      If (feature 57 <= 0.009311088042728916)\n",
            "       If (feature 57 <= 0.008275502171638721)\n",
            "        If (feature 58 <= 2.146145390107523)\n",
            "         Predict: 1.227306397897922E-4\n",
            "        Else (feature 58 > 2.146145390107523)\n",
            "         Predict: 0.005596933083728855\n",
            "       Else (feature 57 > 0.008275502171638721)\n",
            "        If (feature 58 <= 1.4260571342161832)\n",
            "         Predict: -0.003562995065844994\n",
            "        Else (feature 58 > 1.4260571342161832)\n",
            "         Predict: 0.0019842888288367335\n",
            "      Else (feature 57 > 0.009311088042728916)\n",
            "       If (feature 57 <= 0.011488573811143179)\n",
            "        If (feature 13 <= 6.563213857424442)\n",
            "         Predict: -0.01036807363450673\n",
            "        Else (feature 13 > 6.563213857424442)\n",
            "         Predict: -0.09857305485465262\n",
            "       Else (feature 57 > 0.011488573811143179)\n",
            "        If (feature 58 <= 0.864105907069608)\n",
            "         Predict: -0.0275627131552907\n",
            "        Else (feature 58 > 0.864105907069608)\n",
            "         Predict: -0.008580970204351102\n",
            "     Else (feature 57 > 0.016074083754750983)\n",
            "      If (feature 6 <= 2.7815593385283988)\n",
            "       If (feature 10 <= 3.7970696388246554)\n",
            "        If (feature 21 <= 1.1993123157773127)\n",
            "         Predict: -0.05375297811849238\n",
            "        Else (feature 21 > 1.1993123157773127)\n",
            "         Predict: -0.09715398593492482\n",
            "       Else (feature 10 > 3.7970696388246554)\n",
            "        If (feature 58 <= 0.864105907069608)\n",
            "         Predict: -0.1246089075550343\n",
            "        Else (feature 58 > 0.864105907069608)\n",
            "         Predict: 0.28061333757126006\n",
            "      Else (feature 6 > 2.7815593385283988)\n",
            "       If (feature 58 <= 0.864105907069608)\n",
            "        If (feature 59 <= 1.2411316325405375)\n",
            "         Predict: -0.025133210256112953\n",
            "        Else (feature 59 > 1.2411316325405375)\n",
            "         Predict: -0.09978661187298377\n",
            "       Else (feature 58 > 0.864105907069608)\n",
            "        If (feature 57 <= 0.05487916256996822)\n",
            "         Predict: 1.5253757096502796\n",
            "        Else (feature 57 > 0.05487916256996822)\n",
            "         Predict: -0.06708009632717493\n",
            "  Tree 11 (weight 0.1):\n",
            "    If (feature 58 <= 2.146145390107523)\n",
            "     If (feature 57 <= 0.05487916256996822)\n",
            "      If (feature 57 <= 0.029965400482765074)\n",
            "       If (feature 0 <= 1.0107756116042783)\n",
            "        If (feature 57 <= 0.011450686523176466)\n",
            "         Predict: 4.4047241556040436E-4\n",
            "        Else (feature 57 > 0.011450686523176466)\n",
            "         Predict: -0.007585511446330073\n",
            "       Else (feature 0 > 1.0107756116042783)\n",
            "        If (feature 58 <= 0.02117906634974529)\n",
            "         Predict: -0.0024774172487555847\n",
            "        Else (feature 58 > 0.02117906634974529)\n",
            "         Predict: 0.0049100250928915045\n",
            "      Else (feature 57 > 0.029965400482765074)\n",
            "       If (feature 10 <= 3.7970696388246554)\n",
            "        If (feature 31 <= 2.298905504268073)\n",
            "         Predict: 0.003999936219459844\n",
            "        Else (feature 31 > 2.298905504268073)\n",
            "         Predict: 0.08484361147859269\n",
            "       Else (feature 10 > 3.7970696388246554)\n",
            "        If (feature 58 <= 1.4260571342161832)\n",
            "         Predict: 0.06656056099312985\n",
            "        Else (feature 58 > 1.4260571342161832)\n",
            "         Predict: 1.3300047405149407\n",
            "     Else (feature 57 > 0.05487916256996822)\n",
            "      If (feature 58 <= 1.0942517614035068)\n",
            "       If (feature 59 <= 0.7446789795243225)\n",
            "        If (feature 23 <= 1.0303162117019926)\n",
            "         Predict: -0.016520079315657892\n",
            "        Else (feature 23 > 1.0303162117019926)\n",
            "         Predict: 0.012998803450012315\n",
            "       Else (feature 59 > 0.7446789795243225)\n",
            "        If (feature 21 <= 1.1993123157773127)\n",
            "         Predict: -0.02000090548589963\n",
            "        Else (feature 21 > 1.1993123157773127)\n",
            "         Predict: -0.08323805146115415\n",
            "      Else (feature 58 > 1.0942517614035068)\n",
            "       If (feature 59 <= 2.2340369385729675)\n",
            "        If (feature 28 <= 1.006510530627566)\n",
            "         Predict: -0.005653375723573899\n",
            "        Else (feature 28 > 1.006510530627566)\n",
            "         Predict: 0.0995951952137141\n",
            "       Else (feature 59 > 2.2340369385729675)\n",
            "        If (feature 33 <= 3.588009833058469)\n",
            "         Predict: -0.028283705535048893\n",
            "        Else (feature 33 > 3.588009833058469)\n",
            "         Predict: 1.9870838760270093\n",
            "    Else (feature 58 > 2.146145390107523)\n",
            "     If (feature 57 <= 0.05487916256996822)\n",
            "      If (feature 8 <= 3.3277301298467865)\n",
            "       If (feature 30 <= 2.037807414865838)\n",
            "        If (feature 24 <= 1.352676775048095)\n",
            "         Predict: -0.011363384221144614\n",
            "        Else (feature 24 > 1.352676775048095)\n",
            "         Predict: -0.24927749076577577\n",
            "       Else (feature 30 > 2.037807414865838)\n",
            "        If (feature 10 <= 3.7970696388246554)\n",
            "         Predict: 0.018214425226202577\n",
            "        Else (feature 10 > 3.7970696388246554)\n",
            "         Predict: 0.30763736269681297\n",
            "      Else (feature 8 > 3.3277301298467865)\n",
            "       If (feature 57 <= 0.01836109822837811)\n",
            "        Predict: 1.1893894005865797\n",
            "       Else (feature 57 > 0.01836109822837811)\n",
            "        If (feature 57 <= 0.0381933713295001)\n",
            "         Predict: -0.009011710119528702\n",
            "        Else (feature 57 > 0.0381933713295001)\n",
            "         Predict: 0.22092386759692229\n",
            "     Else (feature 57 > 0.05487916256996822)\n",
            "      If (feature 40 <= 8.54454330440328)\n",
            "       If (feature 6 <= 2.7815593385283988)\n",
            "        If (feature 23 <= 1.0303162117019926)\n",
            "         Predict: -0.00745238471996019\n",
            "        Else (feature 23 > 1.0303162117019926)\n",
            "         Predict: 0.055641922973584376\n",
            "       Else (feature 6 > 2.7815593385283988)\n",
            "        If (feature 22 <= 1.0104056024244081)\n",
            "         Predict: -0.1962498251519361\n",
            "        Else (feature 22 > 1.0104056024244081)\n",
            "         Predict: 0.34828807188121425\n",
            "      Else (feature 40 > 8.54454330440328)\n",
            "       If (feature 0 <= 1.0107756116042783)\n",
            "        Predict: 1.5228699402234411\n",
            "       Else (feature 0 > 1.0107756116042783)\n",
            "        Predict: -0.0794930419751807\n",
            "  Tree 12 (weight 0.1):\n",
            "    If (feature 26 <= 5.879227644722843)\n",
            "     If (feature 8 <= 3.3277301298467865)\n",
            "      If (feature 7 <= 3.2408984185143432)\n",
            "       If (feature 16 <= 9.593897745415102)\n",
            "        If (feature 39 <= 8.419215539986228)\n",
            "         Predict: -2.0908698623964893E-4\n",
            "        Else (feature 39 > 8.419215539986228)\n",
            "         Predict: -0.02508816083963\n",
            "       Else (feature 16 > 9.593897745415102)\n",
            "        If (feature 57 <= 0.022962681566880888)\n",
            "         Predict: -0.020795873613369077\n",
            "        Else (feature 57 > 0.022962681566880888)\n",
            "         Predict: -0.07421973824501166\n",
            "      Else (feature 7 > 3.2408984185143432)\n",
            "       If (feature 21 <= 1.1993123157773127)\n",
            "        If (feature 58 <= 2.965069288964341)\n",
            "         Predict: -0.03171448262289104\n",
            "        Else (feature 58 > 2.965069288964341)\n",
            "         Predict: 0.39833611609193564\n",
            "       Else (feature 21 > 1.1993123157773127)\n",
            "        If (feature 59 <= 0.7446789795243225)\n",
            "         Predict: 0.0022808474923447365\n",
            "        Else (feature 59 > 0.7446789795243225)\n",
            "         Predict: 0.051151599574379744\n",
            "     Else (feature 8 > 3.3277301298467865)\n",
            "      If (feature 27 <= 6.343651871313487)\n",
            "       If (feature 0 <= 1.0107756116042783)\n",
            "        If (feature 57 <= 0.029965400482765074)\n",
            "         Predict: -0.03896823760029096\n",
            "        Else (feature 57 > 0.029965400482765074)\n",
            "         Predict: 0.06827637180888153\n",
            "       Else (feature 0 > 1.0107756116042783)\n",
            "        If (feature 58 <= 2.965069288964341)\n",
            "         Predict: 0.01639555866980751\n",
            "        Else (feature 58 > 2.965069288964341)\n",
            "         Predict: 0.4567032034075602\n",
            "      Else (feature 27 > 6.343651871313487)\n",
            "       If (feature 57 <= 0.016074083754750983)\n",
            "        If (feature 0 <= 1.0107756116042783)\n",
            "         Predict: -2.854115839196307E-4\n",
            "        Else (feature 0 > 1.0107756116042783)\n",
            "         Predict: -0.03273751055863192\n",
            "       Else (feature 57 > 0.016074083754750983)\n",
            "        If (feature 57 <= 0.05487916256996822)\n",
            "         Predict: -0.09320669420330521\n",
            "        Else (feature 57 > 0.05487916256996822)\n",
            "         Predict: 0.006697099760105167\n",
            "    Else (feature 26 > 5.879227644722843)\n",
            "     If (feature 57 <= 0.012495916431203642)\n",
            "      If (feature 13 <= 6.563213857424442)\n",
            "       If (feature 57 <= 0.008275502171638721)\n",
            "        If (feature 58 <= 1.3978183790831893)\n",
            "         Predict: 0.0011679621010087433\n",
            "        Else (feature 58 > 1.3978183790831893)\n",
            "         Predict: 0.008029723280954823\n",
            "       Else (feature 57 > 0.008275502171638721)\n",
            "        If (feature 57 <= 0.009311088042728916)\n",
            "         Predict: -0.004104805988692763\n",
            "        Else (feature 57 > 0.009311088042728916)\n",
            "         Predict: -0.010116245806554196\n",
            "      Else (feature 13 > 6.563213857424442)\n",
            "       If (feature 0 <= 1.0107756116042783)\n",
            "        Predict: -0.09560465015491668\n",
            "       Else (feature 0 > 1.0107756116042783)\n",
            "        Predict: -0.09662626899443157\n",
            "     Else (feature 57 > 0.012495916431203642)\n",
            "      If (feature 59 <= 0.7446789795243225)\n",
            "       If (feature 21 <= 1.1993123157773127)\n",
            "        If (feature 57 <= 0.05487916256996822)\n",
            "         Predict: -0.01698801274049152\n",
            "        Else (feature 57 > 0.05487916256996822)\n",
            "         Predict: -0.003984931882181569\n",
            "       Else (feature 21 > 1.1993123157773127)\n",
            "        If (feature 57 <= 0.015158818725445992)\n",
            "         Predict: -0.019327970050581445\n",
            "        Else (feature 57 > 0.015158818725445992)\n",
            "         Predict: -0.07368251438848333\n",
            "      Else (feature 59 > 0.7446789795243225)\n",
            "       If (feature 57 <= 0.029965400482765074)\n",
            "        If (feature 57 <= 0.01836109822837811)\n",
            "         Predict: -0.02520470326938354\n",
            "        Else (feature 57 > 0.01836109822837811)\n",
            "         Predict: -0.05245691318439651\n",
            "       Else (feature 57 > 0.029965400482765074)\n",
            "        If (feature 8 <= 3.3277301298467865)\n",
            "         Predict: -0.07017370136565343\n",
            "        Else (feature 8 > 3.3277301298467865)\n",
            "         Predict: -0.2668176370323241\n",
            "  Tree 13 (weight 0.1):\n",
            "    If (feature 42 <= 17.27021948312388)\n",
            "     If (feature 11 <= 4.762393572910032)\n",
            "      If (feature 32 <= 3.39436656702116)\n",
            "       If (feature 57 <= 0.02606186172255813)\n",
            "        If (feature 58 <= 2.146145390107523)\n",
            "         Predict: 4.1000834814180337E-4\n",
            "        Else (feature 58 > 2.146145390107523)\n",
            "         Predict: -0.011470370590560908\n",
            "       Else (feature 57 > 0.02606186172255813)\n",
            "        If (feature 46 <= 44.474201220339026)\n",
            "         Predict: 0.0044133073516333336\n",
            "        Else (feature 46 > 44.474201220339026)\n",
            "         Predict: 0.9286499237299211\n",
            "      Else (feature 32 > 3.39436656702116)\n",
            "       If (feature 57 <= 0.02606186172255813)\n",
            "        If (feature 10 <= 3.7970696388246554)\n",
            "         Predict: -0.007972487367688292\n",
            "        Else (feature 10 > 3.7970696388246554)\n",
            "         Predict: 0.15136483712980683\n",
            "       Else (feature 57 > 0.02606186172255813)\n",
            "        If (feature 57 <= 0.05487916256996822)\n",
            "         Predict: -0.09011785146251025\n",
            "        Else (feature 57 > 0.05487916256996822)\n",
            "         Predict: -0.007317274648706695\n",
            "     Else (feature 11 > 4.762393572910032)\n",
            "      If (feature 57 <= 0.015158818725445992)\n",
            "       If (feature 59 <= 0.7446789795243225)\n",
            "        If (feature 58 <= 0.3007427421663832)\n",
            "         Predict: 0.08929379027206467\n",
            "        Else (feature 58 > 0.3007427421663832)\n",
            "         Predict: -0.03243379111968306\n",
            "       Else (feature 59 > 0.7446789795243225)\n",
            "        If (feature 32 <= 3.39436656702116)\n",
            "         Predict: -0.009764554518032886\n",
            "        Else (feature 32 > 3.39436656702116)\n",
            "         Predict: 0.08226712176968598\n",
            "      Else (feature 57 > 0.015158818725445992)\n",
            "       If (feature 32 <= 3.39436656702116)\n",
            "        If (feature 58 <= 0.6424316792756073)\n",
            "         Predict: -0.029883379527496694\n",
            "        Else (feature 58 > 0.6424316792756073)\n",
            "         Predict: -0.06024321060021209\n",
            "       Else (feature 32 > 3.39436656702116)\n",
            "        If (feature 58 <= 1.4260571342161832)\n",
            "         Predict: -0.05230175048651313\n",
            "        Else (feature 58 > 1.4260571342161832)\n",
            "         Predict: 0.4633263927183671\n",
            "    Else (feature 42 > 17.27021948312388)\n",
            "     If (feature 57 <= 0.016074083754750983)\n",
            "      If (feature 3 <= 1.0730935980782343)\n",
            "       If (feature 0 <= 1.0107756116042783)\n",
            "        Predict: -0.10106458121416582\n",
            "       Else (feature 0 > 1.0107756116042783)\n",
            "        If (feature 57 <= 0.009184337842985727)\n",
            "         Predict: -0.004882085081302724\n",
            "        Else (feature 57 > 0.009184337842985727)\n",
            "         Predict: -0.036741915744488915\n",
            "      Else (feature 3 > 1.0730935980782343)\n",
            "       If (feature 57 <= 0.009311088042728916)\n",
            "        If (feature 57 <= 0.007807766380195102)\n",
            "         Predict: 3.572146778409858E-5\n",
            "        Else (feature 57 > 0.007807766380195102)\n",
            "         Predict: -0.0042128026176286104\n",
            "       Else (feature 57 > 0.009311088042728916)\n",
            "        If (feature 58 <= 1.4260571342161832)\n",
            "         Predict: -0.013637234689780979\n",
            "        Else (feature 58 > 1.4260571342161832)\n",
            "         Predict: -0.004280383851981071\n",
            "     Else (feature 57 > 0.016074083754750983)\n",
            "      If (feature 21 <= 1.1993123157773127)\n",
            "       If (feature 59 <= 0.7446789795243225)\n",
            "        If (feature 4 <= 1.6411529338454593)\n",
            "         Predict: -0.03200593765891759\n",
            "        Else (feature 4 > 1.6411529338454593)\n",
            "         Predict: 0.001070956522250588\n",
            "       Else (feature 59 > 0.7446789795243225)\n",
            "        If (feature 57 <= 0.02606186172255813)\n",
            "         Predict: -0.057200371117402525\n",
            "        Else (feature 57 > 0.02606186172255813)\n",
            "         Predict: -0.07527570612044382\n",
            "      Else (feature 21 > 1.1993123157773127)\n",
            "       If (feature 58 <= 0.3007427421663832)\n",
            "        Predict: -0.08934416301603855\n",
            "       Else (feature 58 > 0.3007427421663832)\n",
            "        If (feature 59 <= 1.2411316325405375)\n",
            "         Predict: -0.1574075768487831\n",
            "        Else (feature 59 > 1.2411316325405375)\n",
            "         Predict: -0.10837120555033664\n",
            "  Tree 14 (weight 0.1):\n",
            "    If (feature 14 <= 7.54348062835912)\n",
            "     If (feature 18 <= 10.826428503012693)\n",
            "      If (feature 13 <= 6.563213857424442)\n",
            "       If (feature 57 <= 0.01921161043824908)\n",
            "        If (feature 57 <= 0.016074083754750983)\n",
            "         Predict: 4.3154606786631965E-4\n",
            "        Else (feature 57 > 0.016074083754750983)\n",
            "         Predict: -0.01090590011650761\n",
            "       Else (feature 57 > 0.01921161043824908)\n",
            "        If (feature 59 <= 1.7375842855567525)\n",
            "         Predict: -0.001191205279885368\n",
            "        Else (feature 59 > 1.7375842855567525)\n",
            "         Predict: 0.00921620978730488\n",
            "      Else (feature 13 > 6.563213857424442)\n",
            "       If (feature 57 <= 0.01836109822837811)\n",
            "        If (feature 34 <= 4.120115507645126)\n",
            "         Predict: -0.010964848498664055\n",
            "        Else (feature 34 > 4.120115507645126)\n",
            "         Predict: 0.08534003350238988\n",
            "       Else (feature 57 > 0.01836109822837811)\n",
            "        If (feature 21 <= 1.1993123157773127)\n",
            "         Predict: -0.034457904893328076\n",
            "        Else (feature 21 > 1.1993123157773127)\n",
            "         Predict: -0.12940627548048325\n",
            "     Else (feature 18 > 10.826428503012693)\n",
            "      If (feature 57 <= 0.01921161043824908)\n",
            "       If (feature 57 <= 0.011488573811143179)\n",
            "        If (feature 34 <= 4.120115507645126)\n",
            "         Predict: -0.005754391764517258\n",
            "        Else (feature 34 > 4.120115507645126)\n",
            "         Predict: -0.04822932339061717\n",
            "       Else (feature 57 > 0.011488573811143179)\n",
            "        If (feature 59 <= 1.2411316325405375)\n",
            "         Predict: -0.013010222243277761\n",
            "        Else (feature 59 > 1.2411316325405375)\n",
            "         Predict: -0.03345044516054222\n",
            "      Else (feature 57 > 0.01921161043824908)\n",
            "       If (feature 21 <= 1.1993123157773127)\n",
            "        If (feature 59 <= 0.7446789795243225)\n",
            "         Predict: 0.006038871816964803\n",
            "        Else (feature 59 > 0.7446789795243225)\n",
            "         Predict: -0.0447835938114494\n",
            "       Else (feature 21 > 1.1993123157773127)\n",
            "        If (feature 59 <= 0.2482263265081075)\n",
            "         Predict: -0.06529345882102841\n",
            "        Else (feature 59 > 0.2482263265081075)\n",
            "         Predict: -0.10851032748364518\n",
            "    Else (feature 14 > 7.54348062835912)\n",
            "     If (feature 27 <= 6.343651871313487)\n",
            "      If (feature 59 <= 0.2482263265081075)\n",
            "       If (feature 58 <= 1.3978183790831893)\n",
            "        If (feature 29 <= 1.0529526500814932)\n",
            "         Predict: -0.05295521217365547\n",
            "        Else (feature 29 > 1.0529526500814932)\n",
            "         Predict: 0.06692926268029654\n",
            "       Else (feature 58 > 1.3978183790831893)\n",
            "        If (feature 57 <= 0.029965400482765074)\n",
            "         Predict: -0.023142879057090626\n",
            "        Else (feature 57 > 0.029965400482765074)\n",
            "         Predict: 1.9345698158691518\n",
            "      Else (feature 59 > 0.2482263265081075)\n",
            "       If (feature 21 <= 1.1993123157773127)\n",
            "        If (feature 23 <= 1.0303162117019926)\n",
            "         Predict: -0.04360329204489986\n",
            "        Else (feature 23 > 1.0303162117019926)\n",
            "         Predict: 0.0445502236491923\n",
            "       Else (feature 21 > 1.1993123157773127)\n",
            "        If (feature 31 <= 2.298905504268073)\n",
            "         Predict: -0.0834310811021056\n",
            "        Else (feature 31 > 2.298905504268073)\n",
            "         Predict: 0.07796529089465291\n",
            "     Else (feature 27 > 6.343651871313487)\n",
            "      If (feature 57 <= 0.02606186172255813)\n",
            "       If (feature 28 <= 1.006510530627566)\n",
            "        Predict: -0.04077549914332171\n",
            "       Else (feature 28 > 1.006510530627566)\n",
            "        Predict: -0.04363206520864535\n",
            "      Else (feature 57 > 0.02606186172255813)\n",
            "       If (feature 57 <= 0.0381933713295001)\n",
            "        Predict: 1.8861120466887984\n",
            "       Else (feature 57 > 0.0381933713295001)\n",
            "        Predict: -0.1138879533112016\n",
            "  Tree 15 (weight 0.1):\n",
            "    If (feature 17 <= 10.025114774693606)\n",
            "     If (feature 26 <= 5.879227644722843)\n",
            "      If (feature 8 <= 3.3277301298467865)\n",
            "       If (feature 7 <= 3.2408984185143432)\n",
            "        If (feature 58 <= 2.146145390107523)\n",
            "         Predict: 1.2081410656201248E-4\n",
            "        Else (feature 58 > 2.146145390107523)\n",
            "         Predict: -0.005099018722373079\n",
            "       Else (feature 7 > 3.2408984185143432)\n",
            "        If (feature 21 <= 1.1993123157773127)\n",
            "         Predict: -0.022894876976379517\n",
            "        Else (feature 21 > 1.1993123157773127)\n",
            "         Predict: 0.018009308665117022\n",
            "      Else (feature 8 > 3.3277301298467865)\n",
            "       If (feature 29 <= 1.0529526500814932)\n",
            "        If (feature 59 <= 1.7375842855567525)\n",
            "         Predict: -0.008072014878160604\n",
            "        Else (feature 59 > 1.7375842855567525)\n",
            "         Predict: 0.020821182194710533\n",
            "       Else (feature 29 > 1.0529526500814932)\n",
            "        If (feature 57 <= 0.0381933713295001)\n",
            "         Predict: 0.02966825234766903\n",
            "        Else (feature 57 > 0.0381933713295001)\n",
            "         Predict: -0.024746681665851103\n",
            "     Else (feature 26 > 5.879227644722843)\n",
            "      If (feature 57 <= 0.01921161043824908)\n",
            "       If (feature 57 <= 0.011450686523176466)\n",
            "        If (feature 57 <= 0.008275502171638721)\n",
            "         Predict: 9.163546841983122E-4\n",
            "        Else (feature 57 > 0.008275502171638721)\n",
            "         Predict: -0.004206724679235519\n",
            "       Else (feature 57 > 0.011450686523176466)\n",
            "        If (feature 21 <= 1.1993123157773127)\n",
            "         Predict: -0.011839480209932867\n",
            "        Else (feature 21 > 1.1993123157773127)\n",
            "         Predict: -0.04418475520982403\n",
            "      Else (feature 57 > 0.01921161043824908)\n",
            "       If (feature 59 <= 0.7446789795243225)\n",
            "        If (feature 21 <= 1.1993123157773127)\n",
            "         Predict: -0.013117261562506503\n",
            "        Else (feature 21 > 1.1993123157773127)\n",
            "         Predict: -0.05895558038748041\n",
            "       Else (feature 59 > 0.7446789795243225)\n",
            "        If (feature 8 <= 3.3277301298467865)\n",
            "         Predict: -0.04813385455088708\n",
            "        Else (feature 8 > 3.3277301298467865)\n",
            "         Predict: -0.0910855271768047\n",
            "    Else (feature 17 > 10.025114774693606)\n",
            "     If (feature 57 <= 0.016074083754750983)\n",
            "      If (feature 59 <= 0.2482263265081075)\n",
            "       If (feature 57 <= 0.011488573811143179)\n",
            "        If (feature 21 <= 1.1993123157773127)\n",
            "         Predict: 0.3891965816284919\n",
            "        Else (feature 21 > 1.1993123157773127)\n",
            "         Predict: -0.02501005843891141\n",
            "       Else (feature 57 > 0.011488573811143179)\n",
            "        If (feature 58 <= 5.647751026598745E-6)\n",
            "         Predict: -0.019879358716720863\n",
            "        Else (feature 58 > 5.647751026598745E-6)\n",
            "         Predict: -0.027768592793088215\n",
            "      Else (feature 59 > 0.2482263265081075)\n",
            "       If (feature 57 <= 0.015158818725445992)\n",
            "        If (feature 58 <= 0.864105907069608)\n",
            "         Predict: -0.037317387732436515\n",
            "        Else (feature 58 > 0.864105907069608)\n",
            "         Predict: -0.012501481250513582\n",
            "       Else (feature 57 > 0.015158818725445992)\n",
            "        If (feature 58 <= 0.3007427421663832)\n",
            "         Predict: 0.9613891762787463\n",
            "        Else (feature 58 > 0.3007427421663832)\n",
            "         Predict: -0.025658070553371867\n",
            "     Else (feature 57 > 0.016074083754750983)\n",
            "      If (feature 34 <= 4.120115507645126)\n",
            "       If (feature 21 <= 1.1993123157773127)\n",
            "        If (feature 59 <= 0.7446789795243225)\n",
            "         Predict: -0.028703029071955155\n",
            "        Else (feature 59 > 0.7446789795243225)\n",
            "         Predict: -0.0748237447243172\n",
            "       Else (feature 21 > 1.1993123157773127)\n",
            "        If (feature 59 <= 0.2482263265081075)\n",
            "         Predict: -0.06950244617629295\n",
            "        Else (feature 59 > 0.2482263265081075)\n",
            "         Predict: -0.13277016954808354\n",
            "      Else (feature 34 > 4.120115507645126)\n",
            "       If (feature 57 <= 0.022962681566880888)\n",
            "        Predict: -0.35419872622586307\n",
            "       Else (feature 57 > 0.022962681566880888)\n",
            "        Predict: -0.1203503556841386\n",
            "  Tree 16 (weight 0.1):\n",
            "    If (feature 35 <= 5.3424608524271555)\n",
            "     If (feature 5 <= 2.2628782783944144)\n",
            "      If (feature 41 <= 10.239176741638635)\n",
            "       If (feature 0 <= 1.0107756116042783)\n",
            "        If (feature 3 <= 1.0730935980782343)\n",
            "         Predict: -0.013170250598412534\n",
            "        Else (feature 3 > 1.0730935980782343)\n",
            "         Predict: -1.1351327221171425E-4\n",
            "       Else (feature 0 > 1.0107756116042783)\n",
            "        If (feature 58 <= 0.3289814972993769)\n",
            "         Predict: -8.955397711492797E-4\n",
            "        Else (feature 58 > 0.3289814972993769)\n",
            "         Predict: 0.004946076007841925\n",
            "      Else (feature 41 > 10.239176741638635)\n",
            "       If (feature 57 <= 0.016074083754750983)\n",
            "        If (feature 57 <= 0.010560450065922211)\n",
            "         Predict: 0.0024655358337570847\n",
            "        Else (feature 57 > 0.010560450065922211)\n",
            "         Predict: -0.022110123774980027\n",
            "       Else (feature 57 > 0.016074083754750983)\n",
            "        If (feature 4 <= 1.6411529338454593)\n",
            "         Predict: -0.04812684600688504\n",
            "        Else (feature 4 > 1.6411529338454593)\n",
            "         Predict: -0.10599177300281794\n",
            "     Else (feature 5 > 2.2628782783944144)\n",
            "      If (feature 41 <= 10.239176741638635)\n",
            "       If (feature 57 <= 0.013749641233011284)\n",
            "        If (feature 57 <= 0.009311088042728916)\n",
            "         Predict: 3.8681025339787936E-4\n",
            "        Else (feature 57 > 0.009311088042728916)\n",
            "         Predict: -0.008792708804961923\n",
            "       Else (feature 57 > 0.013749641233011284)\n",
            "        If (feature 32 <= 3.39436656702116)\n",
            "         Predict: -0.0405636766281919\n",
            "        Else (feature 32 > 3.39436656702116)\n",
            "         Predict: 0.058473043571177406\n",
            "      Else (feature 41 > 10.239176741638635)\n",
            "       If (feature 59 <= 1.2411316325405375)\n",
            "        If (feature 57 <= 0.0068906643914735406)\n",
            "         Predict: -0.0024237896556636804\n",
            "        Else (feature 57 > 0.0068906643914735406)\n",
            "         Predict: -0.016810844926758953\n",
            "       Else (feature 59 > 1.2411316325405375)\n",
            "        If (feature 57 <= 0.011450686523176466)\n",
            "         Predict: -0.013051076194247106\n",
            "        Else (feature 57 > 0.011450686523176466)\n",
            "         Predict: 1.9320330271473607\n",
            "    Else (feature 35 > 5.3424608524271555)\n",
            "     If (feature 57 <= 0.016074083754750983)\n",
            "      If (feature 57 <= 0.009311088042728916)\n",
            "       If (feature 58 <= 2.146145390107523)\n",
            "        If (feature 57 <= 0.008275502171638721)\n",
            "         Predict: -2.655487605671796E-4\n",
            "        Else (feature 57 > 0.008275502171638721)\n",
            "         Predict: -0.003532848251589588\n",
            "       Else (feature 58 > 2.146145390107523)\n",
            "        If (feature 57 <= 0.007348526526053108)\n",
            "         Predict: 0.01001960935747347\n",
            "        Else (feature 57 > 0.007348526526053108)\n",
            "         Predict: 0.0071294939535597734\n",
            "      Else (feature 57 > 0.009311088042728916)\n",
            "       If (feature 58 <= 2.146145390107523)\n",
            "        If (feature 57 <= 0.011488573811143179)\n",
            "         Predict: -0.010210968394040227\n",
            "        Else (feature 57 > 0.011488573811143179)\n",
            "         Predict: -0.020006528764107776\n",
            "       Else (feature 58 > 2.146145390107523)\n",
            "        If (feature 57 <= 0.011488573811143179)\n",
            "         Predict: 0.007878310197054136\n",
            "        Else (feature 57 > 0.011488573811143179)\n",
            "         Predict: 0.003717806684364878\n",
            "     Else (feature 57 > 0.016074083754750983)\n",
            "      If (feature 6 <= 2.7815593385283988)\n",
            "       If (feature 10 <= 3.7970696388246554)\n",
            "        If (feature 59 <= 0.7446789795243225)\n",
            "         Predict: -0.021560120693910993\n",
            "        Else (feature 59 > 0.7446789795243225)\n",
            "         Predict: -0.05559732716519669\n",
            "       Else (feature 10 > 3.7970696388246554)\n",
            "        If (feature 57 <= 0.029965400482765074)\n",
            "         Predict: -0.1267683648494074\n",
            "        Else (feature 57 > 0.029965400482765074)\n",
            "         Predict: 0.26188570565375124\n",
            "      Else (feature 6 > 2.7815593385283988)\n",
            "       If (feature 58 <= 0.864105907069608)\n",
            "        If (feature 1 <= 1.1386123381746922)\n",
            "         Predict: -0.006940317590180818\n",
            "        Else (feature 1 > 1.1386123381746922)\n",
            "         Predict: -0.07033845942371234\n",
            "       Else (feature 58 > 0.864105907069608)\n",
            "        If (feature 57 <= 0.05487916256996822)\n",
            "         Predict: 1.2188738146379174\n",
            "        Else (feature 57 > 0.05487916256996822)\n",
            "         Predict: -0.050715584806582115\n",
            "  Tree 17 (weight 0.1):\n",
            "    If (feature 16 <= 9.593897745415102)\n",
            "     If (feature 42 <= 17.27021948312388)\n",
            "      If (feature 10 <= 3.7970696388246554)\n",
            "       If (feature 32 <= 3.39436656702116)\n",
            "        If (feature 11 <= 4.762393572910032)\n",
            "         Predict: 2.844907839400276E-4\n",
            "        Else (feature 11 > 4.762393572910032)\n",
            "         Predict: -0.013725774224484297\n",
            "       Else (feature 32 > 3.39436656702116)\n",
            "        If (feature 58 <= 0.5788944802263714)\n",
            "         Predict: -6.03522787720495E-4\n",
            "        Else (feature 58 > 0.5788944802263714)\n",
            "         Predict: -0.028772979481055585\n",
            "      Else (feature 10 > 3.7970696388246554)\n",
            "       If (feature 29 <= 1.0529526500814932)\n",
            "        If (feature 31 <= 2.298905504268073)\n",
            "         Predict: -0.00528868677113297\n",
            "        Else (feature 31 > 2.298905504268073)\n",
            "         Predict: 0.06736339856197822\n",
            "       Else (feature 29 > 1.0529526500814932)\n",
            "        If (feature 57 <= 0.01836109822837811)\n",
            "         Predict: -0.04517104842202875\n",
            "        Else (feature 57 > 0.01836109822837811)\n",
            "         Predict: 0.05548819499875202\n",
            "     Else (feature 42 > 17.27021948312388)\n",
            "      If (feature 57 <= 0.016074083754750983)\n",
            "       If (feature 3 <= 1.0730935980782343)\n",
            "        If (feature 0 <= 1.0107756116042783)\n",
            "         Predict: -0.07832808688653581\n",
            "        Else (feature 0 > 1.0107756116042783)\n",
            "         Predict: -0.02249636352614102\n",
            "       Else (feature 3 > 1.0730935980782343)\n",
            "        If (feature 57 <= 0.013780410303238799)\n",
            "         Predict: -0.001454203150847673\n",
            "        Else (feature 57 > 0.013780410303238799)\n",
            "         Predict: -0.014659075820743848\n",
            "      Else (feature 57 > 0.016074083754750983)\n",
            "       If (feature 21 <= 1.1993123157773127)\n",
            "        If (feature 59 <= 0.7446789795243225)\n",
            "         Predict: -0.019649387573662493\n",
            "        Else (feature 59 > 0.7446789795243225)\n",
            "         Predict: -0.049830002912370566\n",
            "       Else (feature 21 > 1.1993123157773127)\n",
            "        If (feature 59 <= 0.7446789795243225)\n",
            "         Predict: -0.1314728131731991\n",
            "        Else (feature 59 > 0.7446789795243225)\n",
            "         Predict: -0.10472741407411411\n",
            "    Else (feature 16 > 9.593897745415102)\n",
            "     If (feature 57 <= 0.022962681566880888)\n",
            "      If (feature 57 <= 0.021159476279592346)\n",
            "       If (feature 59 <= 1.2411316325405375)\n",
            "        If (feature 57 <= 0.016074083754750983)\n",
            "         Predict: -0.01731910040529245\n",
            "        Else (feature 57 > 0.016074083754750983)\n",
            "         Predict: 0.27773104460989334\n",
            "       Else (feature 59 > 1.2411316325405375)\n",
            "        If (feature 57 <= 0.016074083754750983)\n",
            "         Predict: -0.03181794886498937\n",
            "        Else (feature 57 > 0.016074083754750983)\n",
            "         Predict: -0.10181955023899639\n",
            "      Else (feature 57 > 0.021159476279592346)\n",
            "       If (feature 59 <= 2.2340369385729675)\n",
            "        If (feature 21 <= 1.1993123157773127)\n",
            "         Predict: -0.04619363609693992\n",
            "        Else (feature 21 > 1.1993123157773127)\n",
            "         Predict: -0.15374868845934958\n",
            "       Else (feature 59 > 2.2340369385729675)\n",
            "        Predict: 1.9153834003549006\n",
            "     Else (feature 57 > 0.022962681566880888)\n",
            "      If (feature 21 <= 1.1993123157773127)\n",
            "       If (feature 59 <= 0.7446789795243225)\n",
            "        If (feature 22 <= 1.0104056024244081)\n",
            "         Predict: -0.02146661267722953\n",
            "        Else (feature 22 > 1.0104056024244081)\n",
            "         Predict: -0.007040131036235256\n",
            "       Else (feature 59 > 0.7446789795243225)\n",
            "        If (feature 57 <= 0.05487916256996822)\n",
            "         Predict: -0.06858318495030473\n",
            "        Else (feature 57 > 0.05487916256996822)\n",
            "         Predict: -0.04610171166494552\n",
            "      Else (feature 21 > 1.1993123157773127)\n",
            "       If (feature 59 <= 0.2482263265081075)\n",
            "        Predict: 0.005556837622639975\n",
            "       Else (feature 59 > 0.2482263265081075)\n",
            "        If (feature 58 <= 0.3007427421663832)\n",
            "         Predict: -0.13622730691557686\n",
            "        Else (feature 58 > 0.3007427421663832)\n",
            "         Predict: -0.15107122496477607\n",
            "  Tree 18 (weight 0.1):\n",
            "    If (feature 36 <= 5.519693234780081)\n",
            "     If (feature 25 <= 4.098459349182993)\n",
            "      If (feature 39 <= 8.419215539986228)\n",
            "       If (feature 57 <= 0.01921161043824908)\n",
            "        If (feature 57 <= 0.016074083754750983)\n",
            "         Predict: 3.2458348757547173E-4\n",
            "        Else (feature 57 > 0.016074083754750983)\n",
            "         Predict: -0.008173848481866903\n",
            "       Else (feature 57 > 0.01921161043824908)\n",
            "        If (feature 59 <= 1.7375842855567525)\n",
            "         Predict: -9.270199998405787E-4\n",
            "        Else (feature 59 > 1.7375842855567525)\n",
            "         Predict: 0.008545631915127215\n",
            "      Else (feature 39 > 8.419215539986228)\n",
            "       If (feature 57 <= 0.016074083754750983)\n",
            "        If (feature 13 <= 6.563213857424442)\n",
            "         Predict: -6.092095339058177E-4\n",
            "        Else (feature 13 > 6.563213857424442)\n",
            "         Predict: -0.0776435155051596\n",
            "       Else (feature 57 > 0.016074083754750983)\n",
            "        If (feature 21 <= 1.1993123157773127)\n",
            "         Predict: -0.02417041312956585\n",
            "        Else (feature 21 > 1.1993123157773127)\n",
            "         Predict: -0.05696610573339156\n",
            "     Else (feature 25 > 4.098459349182993)\n",
            "      If (feature 19 <= 14.136306909796243)\n",
            "       If (feature 57 <= 0.029965400482765074)\n",
            "        If (feature 15 <= 9.023591842122398)\n",
            "         Predict: -0.0033352084758754242\n",
            "        Else (feature 15 > 9.023591842122398)\n",
            "         Predict: 0.2722850511548161\n",
            "       Else (feature 57 > 0.029965400482765074)\n",
            "        If (feature 21 <= 1.1993123157773127)\n",
            "         Predict: -0.04934335934760538\n",
            "        Else (feature 21 > 1.1993123157773127)\n",
            "         Predict: -0.14740043264498975\n",
            "      Else (feature 19 > 14.136306909796243)\n",
            "       If (feature 57 <= 0.016074083754750983)\n",
            "        Predict: -0.050523330829088046\n",
            "       Else (feature 57 > 0.016074083754750983)\n",
            "        If (feature 58 <= 0.3007427421663832)\n",
            "         Predict: -0.009743644268263456\n",
            "        Else (feature 58 > 0.3007427421663832)\n",
            "         Predict: 1.9493214669443442\n",
            "    Else (feature 36 > 5.519693234780081)\n",
            "     If (feature 57 <= 0.013780410303238799)\n",
            "      If (feature 57 <= 0.013749641233011284)\n",
            "       If (feature 57 <= 0.010560450065922211)\n",
            "        If (feature 57 <= 0.010100980591853145)\n",
            "         Predict: -0.0016681637725667788\n",
            "        Else (feature 57 > 0.010100980591853145)\n",
            "         Predict: 0.08165242985553288\n",
            "       Else (feature 57 > 0.010560450065922211)\n",
            "        If (feature 57 <= 0.011488573811143179)\n",
            "         Predict: -0.017317606996151817\n",
            "        Else (feature 57 > 0.011488573811143179)\n",
            "         Predict: -0.03235499920405282\n",
            "      Else (feature 57 > 0.013749641233011284)\n",
            "       If (feature 4 <= 1.6411529338454593)\n",
            "        If (feature 58 <= 0.864105907069608)\n",
            "         Predict: -0.0354022832719191\n",
            "        Else (feature 58 > 0.864105907069608)\n",
            "         Predict: -0.006871026381779771\n",
            "       Else (feature 4 > 1.6411529338454593)\n",
            "        If (feature 58 <= 1.4260571342161832)\n",
            "         Predict: 0.9824745774148835\n",
            "        Else (feature 58 > 1.4260571342161832)\n",
            "         Predict: -0.002098928561323913\n",
            "     Else (feature 57 > 0.013780410303238799)\n",
            "      If (feature 6 <= 2.7815593385283988)\n",
            "       If (feature 2 <= 1.0476301612375614)\n",
            "        If (feature 59 <= 2.2340369385729675)\n",
            "         Predict: -0.06527918261752583\n",
            "        Else (feature 59 > 2.2340369385729675)\n",
            "         Predict: 0.09931092337099606\n",
            "       Else (feature 2 > 1.0476301612375614)\n",
            "        If (feature 57 <= 0.016074083754750983)\n",
            "         Predict: -0.036821202852353865\n",
            "        Else (feature 57 > 0.016074083754750983)\n",
            "         Predict: -0.0852013222178865\n",
            "      Else (feature 6 > 2.7815593385283988)\n",
            "       If (feature 58 <= 0.864105907069608)\n",
            "        If (feature 57 <= 0.016074083754750983)\n",
            "         Predict: -0.027670545816958762\n",
            "        Else (feature 57 > 0.016074083754750983)\n",
            "         Predict: -0.12691894030735876\n",
            "       Else (feature 58 > 0.864105907069608)\n",
            "        If (feature 57 <= 0.01836109822837811)\n",
            "         Predict: -0.12565425345736936\n",
            "        Else (feature 57 > 0.01836109822837811)\n",
            "         Predict: 1.784361556835417\n",
            "  Tree 19 (weight 0.1):\n",
            "    If (feature 20 <= 16.708000260175574)\n",
            "     If (feature 18 <= 10.826428503012693)\n",
            "      If (feature 14 <= 7.54348062835912)\n",
            "       If (feature 13 <= 6.563213857424442)\n",
            "        If (feature 0 <= 1.0107756116042783)\n",
            "         Predict: -0.0010556665454345704\n",
            "        Else (feature 0 > 1.0107756116042783)\n",
            "         Predict: 0.0012354482607975145\n",
            "       Else (feature 13 > 6.563213857424442)\n",
            "        If (feature 57 <= 0.012495916431203642)\n",
            "         Predict: 0.0132230847087359\n",
            "        Else (feature 57 > 0.012495916431203642)\n",
            "         Predict: -0.02747773316361647\n",
            "      Else (feature 14 > 7.54348062835912)\n",
            "       If (feature 27 <= 6.343651871313487)\n",
            "        If (feature 59 <= 0.2482263265081075)\n",
            "         Predict: 0.017333796823036724\n",
            "        Else (feature 59 > 0.2482263265081075)\n",
            "         Predict: -0.04016183017322378\n",
            "       Else (feature 27 > 6.343651871313487)\n",
            "        If (feature 57 <= 0.02606186172255813)\n",
            "         Predict: -0.03347957476468926\n",
            "        Else (feature 57 > 0.02606186172255813)\n",
            "         Predict: 0.7091730883271363\n",
            "     Else (feature 18 > 10.826428503012693)\n",
            "      If (feature 57 <= 0.01921161043824908)\n",
            "       If (feature 57 <= 0.011488573811143179)\n",
            "        If (feature 34 <= 4.120115507645126)\n",
            "         Predict: -0.0047844437129051145\n",
            "        Else (feature 34 > 4.120115507645126)\n",
            "         Predict: -0.039718651589677606\n",
            "       Else (feature 57 > 0.011488573811143179)\n",
            "        If (feature 59 <= 0.7446789795243225)\n",
            "         Predict: -0.004472759157726694\n",
            "        Else (feature 59 > 0.7446789795243225)\n",
            "         Predict: -0.02538849717395603\n",
            "      Else (feature 57 > 0.01921161043824908)\n",
            "       If (feature 21 <= 1.1993123157773127)\n",
            "        If (feature 33 <= 3.588009833058469)\n",
            "         Predict: -0.03530921956395568\n",
            "        Else (feature 33 > 3.588009833058469)\n",
            "         Predict: 0.023794676956389038\n",
            "       Else (feature 21 > 1.1993123157773127)\n",
            "        If (feature 29 <= 1.0529526500814932)\n",
            "         Predict: -0.056972000736926494\n",
            "        Else (feature 29 > 1.0529526500814932)\n",
            "         Predict: -0.09154847533182961\n",
            "    Else (feature 20 > 16.708000260175574)\n",
            "     If (feature 57 <= 0.016074083754750983)\n",
            "      If (feature 57 <= 0.011488573811143179)\n",
            "       If (feature 21 <= 1.1993123157773127)\n",
            "        If (feature 0 <= 1.0107756116042783)\n",
            "         Predict: -0.003167101544488002\n",
            "        Else (feature 0 > 1.0107756116042783)\n",
            "         Predict: -0.013083949930313104\n",
            "       Else (feature 21 > 1.1993123157773127)\n",
            "        If (feature 37 <= 5.8069548560013375)\n",
            "         Predict: -0.025913362065985365\n",
            "        Else (feature 37 > 5.8069548560013375)\n",
            "         Predict: -0.027081685221783607\n",
            "      Else (feature 57 > 0.011488573811143179)\n",
            "       If (feature 58 <= 0.864105907069608)\n",
            "        If (feature 59 <= 1.2411316325405375)\n",
            "         Predict: -0.02425389576097394\n",
            "        Else (feature 59 > 1.2411316325405375)\n",
            "         Predict: -0.04921848450524593\n",
            "       Else (feature 58 > 0.864105907069608)\n",
            "        Predict: -0.017590339282631512\n",
            "     Else (feature 57 > 0.016074083754750983)\n",
            "      If (feature 59 <= 0.7446789795243225)\n",
            "       If (feature 57 <= 0.01921161043824908)\n",
            "        If (feature 23 <= 1.0303162117019926)\n",
            "         Predict: -0.01895778367213526\n",
            "        Else (feature 23 > 1.0303162117019926)\n",
            "         Predict: -0.00913110212230291\n",
            "       Else (feature 57 > 0.01921161043824908)\n",
            "        If (feature 28 <= 1.006510530627566)\n",
            "         Predict: -0.016249419052456374\n",
            "        Else (feature 28 > 1.006510530627566)\n",
            "         Predict: -0.03599153669765484\n",
            "      Else (feature 59 > 0.7446789795243225)\n",
            "       If (feature 41 <= 10.239176741638635)\n",
            "        If (feature 21 <= 1.1993123157773127)\n",
            "         Predict: -0.07421698829878674\n",
            "        Else (feature 21 > 1.1993123157773127)\n",
            "         Predict: -0.12914486658498747\n",
            "       Else (feature 41 > 10.239176741638635)\n",
            "        Predict: -0.03186114396300521\n",
            "\n"
          ],
          "name": "stdout"
        }
      ]
    },
    {
      "cell_type": "code",
      "metadata": {
        "colab": {
          "base_uri": "https://localhost:8080/"
        },
        "id": "pzM_dco6907E",
        "outputId": "8627b0b8-18c1-4c53-9b2a-18cd54199bd1"
      },
      "source": [
        "# predykcje\r\n",
        "gbt_regModel.transform(df_eval).show()"
      ],
      "execution_count": 77,
      "outputs": [
        {
          "output_type": "stream",
          "text": [
            "+-----+--------------------+--------------------+\n",
            "|label|            features|          prediction|\n",
            "+-----+--------------------+--------------------+\n",
            "|  0.0|(60,[1,3,23,28,57...|0.004246753777187538|\n",
            "|  0.0|(60,[0,1,2,7,23,2...|0.014110238228942765|\n",
            "|  0.0|(60,[0,1,2,3,22,3...|0.007204597951139047|\n",
            "|  0.0|(60,[0,1,2,3,22,3...|0.001205467455499...|\n",
            "|  0.0|(60,[0,1,2,3,22,3...|0.058090266941617105|\n",
            "|  0.0|(60,[0,1,2,15,22,...| 0.04537353558124911|\n",
            "|  0.0|(60,[1,3,22,29,57...| 0.03896825039010874|\n",
            "|  0.0|(60,[0,1,2,3,22,3...|0.003817182331295369|\n",
            "|  0.0|(60,[0,2,8,21,24,...| 0.05164713774052404|\n",
            "|  0.0|(60,[1,2,4,22,29,...| 0.01969105475594282|\n",
            "|  0.0|(60,[0,1,2,4,22,2...|-5.08649060757192...|\n",
            "|  0.0|(60,[1,3,22,28,57...| 0.00473144484011287|\n",
            "|  0.0|(60,[1,3,22,29,57...|0.005534043226301918|\n",
            "|  0.0|(60,[0,1,2,9,22,2...|0.026734343178591562|\n",
            "|  0.0|(60,[1,3,22,36,57...|0.008834326281026794|\n",
            "|  0.0|(60,[0,1,2,3,22,3...| 0.04227598453733432|\n",
            "|  0.0|(60,[0,1,2,11,25,...| 0.02068601578095375|\n",
            "|  0.0|(60,[1,3,22,28,57...|0.004246753777187538|\n",
            "|  0.0|(60,[1,3,25,29,57...|0.006079582160024238|\n",
            "|  0.0|(60,[0,1,2,3,25,2...|0.008552735271050414|\n",
            "+-----+--------------------+--------------------+\n",
            "only showing top 20 rows\n",
            "\n"
          ],
          "name": "stdout"
        }
      ]
    },
    {
      "cell_type": "markdown",
      "metadata": {
        "id": "5FtIsn9F_SfS"
      },
      "source": [
        "EWALUACJA"
      ]
    },
    {
      "cell_type": "code",
      "metadata": {
        "id": "CoXNLhTb_EQQ"
      },
      "source": [
        "from pyspark.ml import evaluation"
      ],
      "execution_count": 78,
      "outputs": []
    },
    {
      "cell_type": "code",
      "metadata": {
        "id": "qFQzUXQL_uSW"
      },
      "source": [
        "evaluator_reg = evaluation.RegressionEvaluator()"
      ],
      "execution_count": 79,
      "outputs": []
    },
    {
      "cell_type": "code",
      "metadata": {
        "colab": {
          "base_uri": "https://localhost:8080/"
        },
        "id": "fdsU0gr2_n2R",
        "outputId": "8bb7046f-3c7d-4916-be49-117646dde631"
      },
      "source": [
        "evaluator_reg.evaluate(regModel.transform(df_eval))"
      ],
      "execution_count": 80,
      "outputs": [
        {
          "output_type": "execute_result",
          "data": {
            "text/plain": [
              "0.11921036181831389"
            ]
          },
          "metadata": {
            "tags": []
          },
          "execution_count": 80
        }
      ]
    },
    {
      "cell_type": "code",
      "metadata": {
        "colab": {
          "base_uri": "https://localhost:8080/"
        },
        "id": "KXGI5kFh901Q",
        "outputId": "fa9381f7-e993-4e34-95ea-f652dfac52ae"
      },
      "source": [
        "# rmse - drzewo\r\n",
        "evaluator_reg.evaluate(tree_regModel.transform(df_eval))\r\n"
      ],
      "execution_count": 81,
      "outputs": [
        {
          "output_type": "execute_result",
          "data": {
            "text/plain": [
              "0.11842982535666526"
            ]
          },
          "metadata": {
            "tags": []
          },
          "execution_count": 81
        }
      ]
    },
    {
      "cell_type": "code",
      "metadata": {
        "colab": {
          "base_uri": "https://localhost:8080/"
        },
        "id": "RSryZall90zL",
        "outputId": "e75ed781-e19b-4674-a7eb-a4051da1fd84"
      },
      "source": [
        "# rmse - las\r\n",
        "evaluator_reg.evaluate(forest_regModel.transform(df_eval))"
      ],
      "execution_count": 82,
      "outputs": [
        {
          "output_type": "execute_result",
          "data": {
            "text/plain": [
              "0.1183558490438668"
            ]
          },
          "metadata": {
            "tags": []
          },
          "execution_count": 82
        }
      ]
    },
    {
      "cell_type": "code",
      "metadata": {
        "colab": {
          "base_uri": "https://localhost:8080/"
        },
        "id": "17C2XeBE90tC",
        "outputId": "b7653c6d-f9e6-4425-8182-e777b14d2d95"
      },
      "source": [
        "# rmse - gbt\r\n",
        "evaluator_reg.evaluate(gbt_regModel.transform(df_eval))"
      ],
      "execution_count": 83,
      "outputs": [
        {
          "output_type": "execute_result",
          "data": {
            "text/plain": [
              "0.11715871808724128"
            ]
          },
          "metadata": {
            "tags": []
          },
          "execution_count": 83
        }
      ]
    },
    {
      "cell_type": "markdown",
      "metadata": {
        "id": "D6BEOuj1ZkyI"
      },
      "source": [
        "R^2 powyższych modeli"
      ]
    },
    {
      "cell_type": "code",
      "metadata": {
        "id": "CO77msyU90k-"
      },
      "source": [
        "er2 = evaluation.RegressionEvaluator(metricName=\"r2\")"
      ],
      "execution_count": 84,
      "outputs": []
    },
    {
      "cell_type": "code",
      "metadata": {
        "colab": {
          "base_uri": "https://localhost:8080/"
        },
        "id": "iZ61CHp9CAjj",
        "outputId": "6644c386-afa0-4c4c-cdfb-ad3d6e3abaeb"
      },
      "source": [
        "liniowa = er2.evaluate(regModel.transform(df_eval))\r\n",
        "liniowa"
      ],
      "execution_count": 85,
      "outputs": [
        {
          "output_type": "execute_result",
          "data": {
            "text/plain": [
              "0.014131859677981695"
            ]
          },
          "metadata": {
            "tags": []
          },
          "execution_count": 85
        }
      ]
    },
    {
      "cell_type": "code",
      "metadata": {
        "colab": {
          "base_uri": "https://localhost:8080/"
        },
        "id": "mcgtJywdCAhX",
        "outputId": "a6213cb8-d484-4e1f-b08b-61404f1cb4f8"
      },
      "source": [
        "drzewo = er2.evaluate(tree_regModel.transform(df_eval))\r\n",
        "drzewo"
      ],
      "execution_count": 86,
      "outputs": [
        {
          "output_type": "execute_result",
          "data": {
            "text/plain": [
              "0.026999647787611325"
            ]
          },
          "metadata": {
            "tags": []
          },
          "execution_count": 86
        }
      ]
    },
    {
      "cell_type": "code",
      "metadata": {
        "colab": {
          "base_uri": "https://localhost:8080/"
        },
        "id": "uRtUP3cKCAe9",
        "outputId": "52209262-69b8-443a-cdd4-92f4ea80f53e"
      },
      "source": [
        "las= er2.evaluate(forest_regModel.transform(df_eval))\r\n",
        "las"
      ],
      "execution_count": 87,
      "outputs": [
        {
          "output_type": "execute_result",
          "data": {
            "text/plain": [
              "0.028214823063329675"
            ]
          },
          "metadata": {
            "tags": []
          },
          "execution_count": 87
        }
      ]
    },
    {
      "cell_type": "code",
      "metadata": {
        "colab": {
          "base_uri": "https://localhost:8080/"
        },
        "id": "qRlYJO-ECAb-",
        "outputId": "dd7969bd-bfa1-4eb5-ebd9-1fff67b4565f"
      },
      "source": [
        "gbt = er2.evaluate(gbt_regModel.transform(df_eval))\r\n",
        "gbt"
      ],
      "execution_count": 88,
      "outputs": [
        {
          "output_type": "execute_result",
          "data": {
            "text/plain": [
              "0.04777398559558799"
            ]
          },
          "metadata": {
            "tags": []
          },
          "execution_count": 88
        }
      ]
    },
    {
      "cell_type": "markdown",
      "metadata": {
        "id": "TFL3ZpbwC4LE"
      },
      "source": [
        "Próba poprawy R^2"
      ]
    },
    {
      "cell_type": "code",
      "metadata": {
        "colab": {
          "base_uri": "https://localhost:8080/"
        },
        "id": "hUlMQBk1Ci3u",
        "outputId": "0f9ce5b2-bcf6-49cb-884c-40737009beb7"
      },
      "source": [
        "forest_reg2 = regression.RandomForestRegressor(numTrees=45, maxDepth=10)\r\n",
        "las2 = er2.evaluate(forest_reg2.fit(df_train).transform(df_eval))\r\n",
        "las2"
      ],
      "execution_count": 98,
      "outputs": [
        {
          "output_type": "execute_result",
          "data": {
            "text/plain": [
              "0.08193610949886243"
            ]
          },
          "metadata": {
            "tags": []
          },
          "execution_count": 98
        }
      ]
    },
    {
      "cell_type": "code",
      "metadata": {
        "colab": {
          "base_uri": "https://localhost:8080/"
        },
        "id": "gUvEAaK-4VTs",
        "outputId": "7c78ff69-7ec1-4f51-fc91-fff27c3b0e01"
      },
      "source": [
        "tree_reg2 = regression.DecisionTreeRegressor(maxDepth=5, maxBins=20)\r\n",
        "drzewo2 = er2.evaluate(tree_reg2.fit(df_train).transform (df_eval))\r\n",
        "drzewo2"
      ],
      "execution_count": 99,
      "outputs": [
        {
          "output_type": "execute_result",
          "data": {
            "text/plain": [
              "0.025189555051740142"
            ]
          },
          "metadata": {
            "tags": []
          },
          "execution_count": 99
        }
      ]
    },
    {
      "cell_type": "code",
      "metadata": {
        "colab": {
          "base_uri": "https://localhost:8080/"
        },
        "id": "wjp_vQBe53s_",
        "outputId": "67877547-9dce-4430-8ca7-28346eaab318"
      },
      "source": [
        "gbt_reg2 = regression.GBTRegressor(maxDepth=4, maxBins=20)\r\n",
        "gbt2 = er2.evaluate(gbt_reg2.fit(df_train).transform(df_eval))\r\n",
        "gbt2"
      ],
      "execution_count": 100,
      "outputs": [
        {
          "output_type": "execute_result",
          "data": {
            "text/plain": [
              "0.03679763200168762"
            ]
          },
          "metadata": {
            "tags": []
          },
          "execution_count": 100
        }
      ]
    },
    {
      "cell_type": "markdown",
      "metadata": {
        "id": "Ok8PWESTF0q0"
      },
      "source": [
        "Wybór najlepszych parametrów"
      ]
    },
    {
      "cell_type": "code",
      "metadata": {
        "id": "TyzieP7NFzaR"
      },
      "source": [
        "from pyspark.ml import tuning\r\n",
        "from pyspark.ml.evaluation import RegressionEvaluator\r\n",
        "from pyspark.ml.tuning import ParamGridBuilder, CrossValidator"
      ],
      "execution_count": 102,
      "outputs": []
    },
    {
      "cell_type": "code",
      "metadata": {
        "id": "AZIadZjg_Qfo"
      },
      "source": [
        "#Random Forest"
      ],
      "execution_count": null,
      "outputs": []
    },
    {
      "cell_type": "code",
      "metadata": {
        "id": "V7ENpxlCILkW"
      },
      "source": [
        "grid = (ParamGridBuilder()\r\n",
        "             #.addGrid(rf.maxDepth, [2, 5, 10, 20, 30])\r\n",
        "               .addGrid(forest_reg2.maxDepth, [2, 5, 10])\r\n",
        "             #.addGrid(rf.maxBins, [10, 20, 40, 80, 100])\r\n",
        "               .addGrid(forest_reg2.maxBins, [5, 10, 20])\r\n",
        "             #.addGrid(rf.numTrees, [5, 20, 50, 100, 500])\r\n",
        "               .addGrid(forest_reg2.numTrees, [5, 20, 50])\r\n",
        "             .build())"
      ],
      "execution_count": 103,
      "outputs": []
    },
    {
      "cell_type": "code",
      "metadata": {
        "id": "oj5FBy1vJ5pV"
      },
      "source": [
        "reg_eval = evaluation.RegressionEvaluator(metricName='r2')"
      ],
      "execution_count": 122,
      "outputs": []
    },
    {
      "cell_type": "code",
      "metadata": {
        "id": "JQLiUzygJ9sq"
      },
      "source": [
        "cv_las = tuning.CrossValidator(estimator=forest_reg2, estimatorParamMaps=grid, evaluator=reg_eval)"
      ],
      "execution_count": 123,
      "outputs": []
    },
    {
      "cell_type": "code",
      "metadata": {
        "id": "3hUUs4WwI3k-"
      },
      "source": [
        "cvModel_las = cv_las.fit(df_train)"
      ],
      "execution_count": 124,
      "outputs": []
    },
    {
      "cell_type": "code",
      "metadata": {
        "colab": {
          "base_uri": "https://localhost:8080/"
        },
        "id": "W0UdMKPLI3iA",
        "outputId": "340337ae-a312-415a-b9a9-335b6b207bf6"
      },
      "source": [
        "cvModel_las.avgMetrics"
      ],
      "execution_count": 125,
      "outputs": [
        {
          "output_type": "execute_result",
          "data": {
            "text/plain": [
              "[0.014735353739925738,\n",
              " 0.013186293163274614,\n",
              " 0.013567051444551245,\n",
              " 0.01724956481204476,\n",
              " 0.014325957498391198,\n",
              " 0.014829121985658927,\n",
              " 0.01732053310207234,\n",
              " 0.0143159603120722,\n",
              " 0.014823593328240275,\n",
              " 0.019742655840989592,\n",
              " 0.02046104414241227,\n",
              " 0.020403578096347408,\n",
              " 0.021280821459726245,\n",
              " 0.022033341840819582,\n",
              " 0.022274408256024524,\n",
              " 0.02218691205705899,\n",
              " 0.02156848444315529,\n",
              " 0.022545933543245078,\n",
              " 0.013911029277778247,\n",
              " 0.0191162596134918,\n",
              " 0.020318321617457058,\n",
              " 0.011562005914866854,\n",
              " 0.020156701233493075,\n",
              " 0.02160440797971752,\n",
              " 0.015914866391287842,\n",
              " 0.019523272878286552,\n",
              " 0.022928117321778907]"
            ]
          },
          "metadata": {
            "tags": []
          },
          "execution_count": 125
        }
      ]
    },
    {
      "cell_type": "code",
      "metadata": {
        "id": "ZC8KcMijByoQ"
      },
      "source": [
        "#Drzewo regresyjne"
      ],
      "execution_count": null,
      "outputs": []
    },
    {
      "cell_type": "code",
      "metadata": {
        "id": "6_xqX7iAB1G1"
      },
      "source": [
        "grid_drzewo = (ParamGridBuilder()\r\n",
        "               .addGrid(tree_reg2.maxDepth, [2, 5, 10])\r\n",
        "               .addGrid(tree_reg2.maxBins, [5, 20, 50])\r\n",
        "             .build())"
      ],
      "execution_count": 131,
      "outputs": []
    },
    {
      "cell_type": "code",
      "metadata": {
        "id": "aXRj3IiMDFk1"
      },
      "source": [
        "cv_drzewo = tuning.CrossValidator(estimator=tree_reg2, estimatorParamMaps=grid_drzewo, evaluator=reg_eval)"
      ],
      "execution_count": 132,
      "outputs": []
    },
    {
      "cell_type": "code",
      "metadata": {
        "id": "CxZXBuDGDLhh"
      },
      "source": [
        "cvModel_drzewo = cv_drzewo.fit(df_train)"
      ],
      "execution_count": 133,
      "outputs": []
    },
    {
      "cell_type": "code",
      "metadata": {
        "colab": {
          "base_uri": "https://localhost:8080/"
        },
        "id": "czyA_iGRDu3d",
        "outputId": "0acf4a6c-c706-4fa4-9760-a22b11ba85a7"
      },
      "source": [
        "cvModel_drzewo.avgMetrics"
      ],
      "execution_count": 134,
      "outputs": [
        {
          "output_type": "execute_result",
          "data": {
            "text/plain": [
              "[0.015284903888714212,\n",
              " 0.014851718863248764,\n",
              " 0.01657232306329237,\n",
              " 0.017582922532674055,\n",
              " 0.017764741416565588,\n",
              " 0.017584251492814208,\n",
              " -0.034370768815812656,\n",
              " -0.05175157053114954,\n",
              " -0.07468071201821595]"
            ]
          },
          "metadata": {
            "tags": []
          },
          "execution_count": 134
        }
      ]
    },
    {
      "cell_type": "code",
      "metadata": {
        "id": "0k7AYDd1ICv6"
      },
      "source": [
        "#GBT"
      ],
      "execution_count": null,
      "outputs": []
    },
    {
      "cell_type": "code",
      "metadata": {
        "id": "2EJywYmVIDnK"
      },
      "source": [
        "grid_gbt = (ParamGridBuilder()\r\n",
        "             .addGrid(gbt_reg2.maxDepth, [2, 5, 10])\r\n",
        "             .addGrid(gbt_reg2.maxBins, [10, 20, 40])\r\n",
        "             .addGrid(gbt_reg2.maxIter, [5, 10, 20])\r\n",
        "             .build())"
      ],
      "execution_count": 155,
      "outputs": []
    },
    {
      "cell_type": "code",
      "metadata": {
        "id": "Oew6SfhHIbkl"
      },
      "source": [
        "gbevaluator = RegressionEvaluator(predictionCol=\"prediction\", labelCol=\"label\", metricName=\"rmse\")"
      ],
      "execution_count": 156,
      "outputs": []
    },
    {
      "cell_type": "code",
      "metadata": {
        "id": "WY05z97NIL5d"
      },
      "source": [
        "gbcv = CrossValidator(estimator = gbt_reg2,\r\n",
        "                      estimatorParamMaps = grid_gbt,\r\n",
        "                      evaluator = gbevaluator,\r\n",
        "                      numFolds = 5)"
      ],
      "execution_count": 157,
      "outputs": []
    },
    {
      "cell_type": "code",
      "metadata": {
        "id": "5EpuhliKIjtq"
      },
      "source": [
        "cvModel_gbt = gbcv.fit(df_train)"
      ],
      "execution_count": 159,
      "outputs": []
    },
    {
      "cell_type": "code",
      "metadata": {
        "colab": {
          "base_uri": "https://localhost:8080/"
        },
        "id": "2YBA-zhuRAvS",
        "outputId": "dc9d1ac4-09e7-4869-c8fc-7abd60e4b261"
      },
      "source": [
        "cvModel_gbt.avgMetrics"
      ],
      "execution_count": 160,
      "outputs": [
        {
          "output_type": "execute_result",
          "data": {
            "text/plain": [
              "[0.11887382698837876,\n",
              " 0.11876525429599019,\n",
              " 0.11866161031592637,\n",
              " 0.11887458610374486,\n",
              " 0.11876347546469554,\n",
              " 0.11865891267774928,\n",
              " 0.1188616689928584,\n",
              " 0.11874008363423061,\n",
              " 0.11859684858516772,\n",
              " 0.11885550128091367,\n",
              " 0.11887245584899431,\n",
              " 0.11888182015849993,\n",
              " 0.11879149153893767,\n",
              " 0.11874409368690034,\n",
              " 0.11874794473254005,\n",
              " 0.11876079146131643,\n",
              " 0.11869784944958492,\n",
              " 0.11869112135978893,\n",
              " 0.12162336220862116,\n",
              " 0.12210339554751097,\n",
              " 0.1229730815322812,\n",
              " 0.12185447201480504,\n",
              " 0.12226367016209103,\n",
              " 0.12322681205260555,\n",
              " 0.12336309161412301,\n",
              " 0.12383879786747759,\n",
              " 0.1251077430450466]"
            ]
          },
          "metadata": {
            "tags": []
          },
          "execution_count": 160
        }
      ]
    },
    {
      "cell_type": "markdown",
      "metadata": {
        "id": "aPIQgYYvMvHK"
      },
      "source": [
        "Parametry najlepszego modelu"
      ]
    },
    {
      "cell_type": "code",
      "metadata": {
        "colab": {
          "base_uri": "https://localhost:8080/"
        },
        "id": "BoAs4q5fI3ej",
        "outputId": "6ee62c7b-ada9-476c-ae4f-03d278520fac"
      },
      "source": [
        "cvModel_las.bestModel._java_obj.getMaxDepth()"
      ],
      "execution_count": 126,
      "outputs": [
        {
          "output_type": "execute_result",
          "data": {
            "text/plain": [
              "10"
            ]
          },
          "metadata": {
            "tags": []
          },
          "execution_count": 126
        }
      ]
    },
    {
      "cell_type": "code",
      "metadata": {
        "colab": {
          "base_uri": "https://localhost:8080/"
        },
        "id": "SNXGHKSlI3a6",
        "outputId": "5da6b2b9-f8c9-4af4-a151-63d84f7a2a62"
      },
      "source": [
        "cvModel_las.bestModel._java_obj.getMaxBins()"
      ],
      "execution_count": 127,
      "outputs": [
        {
          "output_type": "execute_result",
          "data": {
            "text/plain": [
              "20"
            ]
          },
          "metadata": {
            "tags": []
          },
          "execution_count": 127
        }
      ]
    },
    {
      "cell_type": "code",
      "metadata": {
        "colab": {
          "base_uri": "https://localhost:8080/"
        },
        "id": "Yb6X3X05Nl95",
        "outputId": "78e6c918-0d0e-4346-a3fe-9c26e68aa816"
      },
      "source": [
        "cvModel_las.bestModel._java_obj.numFeatures()"
      ],
      "execution_count": 128,
      "outputs": [
        {
          "output_type": "execute_result",
          "data": {
            "text/plain": [
              "60"
            ]
          },
          "metadata": {
            "tags": []
          },
          "execution_count": 128
        }
      ]
    },
    {
      "cell_type": "code",
      "metadata": {
        "colab": {
          "base_uri": "https://localhost:8080/"
        },
        "id": "MFNBZo10Nl5f",
        "outputId": "155fe5ed-0c7d-478f-aac3-1526855cdf62"
      },
      "source": [
        "cvModel_las.bestModel._java_obj.numTrees()"
      ],
      "execution_count": 129,
      "outputs": [
        {
          "output_type": "execute_result",
          "data": {
            "text/plain": [
              "JavaObject id=o41512"
            ]
          },
          "metadata": {
            "tags": []
          },
          "execution_count": 129
        }
      ]
    },
    {
      "cell_type": "code",
      "metadata": {
        "id": "2khaJPCVNl2b"
      },
      "source": [
        "forest_reg3 = regression.RandomForestRegressor(numTrees=60, maxDepth=10)\r\n",
        "las3 = er2.evaluate(forest_reg3.fit(df_train).transform(df_eval))"
      ],
      "execution_count": 113,
      "outputs": []
    },
    {
      "cell_type": "code",
      "metadata": {
        "colab": {
          "base_uri": "https://localhost:8080/"
        },
        "id": "_7vt41bM-M8g",
        "outputId": "cc9d79d0-7611-453d-b17b-9edd301b757c"
      },
      "source": [
        "las3"
      ],
      "execution_count": 114,
      "outputs": [
        {
          "output_type": "execute_result",
          "data": {
            "text/plain": [
              "0.08511618022451428"
            ]
          },
          "metadata": {
            "tags": []
          },
          "execution_count": 114
        }
      ]
    },
    {
      "cell_type": "code",
      "metadata": {
        "colab": {
          "base_uri": "https://localhost:8080/"
        },
        "id": "Q5_BPF-uFvZB",
        "outputId": "b4874412-1873-45c8-e6aa-8210522789a0"
      },
      "source": [
        "cvModel_drzewo.bestModel._java_obj.getMaxDepth()"
      ],
      "execution_count": 150,
      "outputs": [
        {
          "output_type": "execute_result",
          "data": {
            "text/plain": [
              "5"
            ]
          },
          "metadata": {
            "tags": []
          },
          "execution_count": 150
        }
      ]
    },
    {
      "cell_type": "code",
      "metadata": {
        "colab": {
          "base_uri": "https://localhost:8080/"
        },
        "id": "WYJ9CM9kFzqY",
        "outputId": "1fed6558-93c0-4ec7-eb65-fb82a0911a7b"
      },
      "source": [
        "cvModel_drzewo.bestModel._java_obj.getMaxBins()"
      ],
      "execution_count": 151,
      "outputs": [
        {
          "output_type": "execute_result",
          "data": {
            "text/plain": [
              "20"
            ]
          },
          "metadata": {
            "tags": []
          },
          "execution_count": 151
        }
      ]
    },
    {
      "cell_type": "code",
      "metadata": {
        "id": "GwUCrASbF7BX"
      },
      "source": [
        "tree_reg3 = regression.RandomForestRegressor(maxDepth=5, maxBins=20)\r\n",
        "drzewo3 = er2.evaluate(tree_reg3.fit(df_train).transform(df_eval))"
      ],
      "execution_count": 153,
      "outputs": []
    },
    {
      "cell_type": "code",
      "metadata": {
        "colab": {
          "base_uri": "https://localhost:8080/"
        },
        "id": "990Fpf3lGq4j",
        "outputId": "77b5d35e-6dff-4339-e4ad-e811bef6a9ef"
      },
      "source": [
        "drzewo3"
      ],
      "execution_count": 154,
      "outputs": [
        {
          "output_type": "execute_result",
          "data": {
            "text/plain": [
              "0.02774345967658509"
            ]
          },
          "metadata": {
            "tags": []
          },
          "execution_count": 154
        }
      ]
    },
    {
      "cell_type": "code",
      "metadata": {
        "colab": {
          "base_uri": "https://localhost:8080/"
        },
        "id": "ZyDm9TgqH7kT",
        "outputId": "dbd9ddb6-0783-4a8d-8e60-441d098ef4be"
      },
      "source": [
        "cvModel_gbt.bestModel._java_obj.getMaxDepth()"
      ],
      "execution_count": 161,
      "outputs": [
        {
          "output_type": "execute_result",
          "data": {
            "text/plain": [
              "2"
            ]
          },
          "metadata": {
            "tags": []
          },
          "execution_count": 161
        }
      ]
    },
    {
      "cell_type": "code",
      "metadata": {
        "colab": {
          "base_uri": "https://localhost:8080/"
        },
        "id": "jlAiGivdRktH",
        "outputId": "f832226a-5970-4373-d534-46c04e55fbd6"
      },
      "source": [
        "cvModel_gbt.bestModel._java_obj.getMaxBins()"
      ],
      "execution_count": 162,
      "outputs": [
        {
          "output_type": "execute_result",
          "data": {
            "text/plain": [
              "40"
            ]
          },
          "metadata": {
            "tags": []
          },
          "execution_count": 162
        }
      ]
    },
    {
      "cell_type": "code",
      "metadata": {
        "colab": {
          "base_uri": "https://localhost:8080/"
        },
        "id": "BRP_f6V5R5m5",
        "outputId": "b835dc92-6dd0-455a-a7af-d553f85186b8"
      },
      "source": [
        "gbt_reg3 = regression.GBTRegressor(maxDepth=2, maxBins=40)\r\n",
        "gbt3 = er2.evaluate(gbt_reg3.fit(df_train).transform(df_eval))\r\n",
        "gbt3"
      ],
      "execution_count": 163,
      "outputs": [
        {
          "output_type": "execute_result",
          "data": {
            "text/plain": [
              "0.02515029657264578"
            ]
          },
          "metadata": {
            "tags": []
          },
          "execution_count": 163
        }
      ]
    },
    {
      "cell_type": "markdown",
      "metadata": {
        "id": "h9GGOT5T-Xvs"
      },
      "source": [
        "# ***WYNIKI***"
      ]
    },
    {
      "cell_type": "code",
      "metadata": {
        "colab": {
          "base_uri": "https://localhost:8080/"
        },
        "id": "K5zGUtE1Nlvf",
        "outputId": "5cad700a-4790-44ef-dbbe-98c3f48901f3"
      },
      "source": [
        "wynik = spark.createDataFrame([Row(metoda='Drzewo regresyjne', rSquared=drzewo),\r\n",
        "                               Row(metoda='Las regresyjny', rSquared=las),\r\n",
        "                               Row(metoda='GBT', rSquared=gbt)])\r\n",
        "wynik_r = spark.createDataFrame([Row(metoda='Drzewo regresyjne', rSquared_poprawione=drzewo2),\r\n",
        "                               Row(metoda='Las regresyjny', rSquared_poprawione=las2),\r\n",
        "                               Row(metoda='GBT', rSquared_poprawione=gbt2)])\r\n",
        "wynik_best = spark.createDataFrame([Row(metoda='Drzewo regresyjne', rSquared_best=drzewo3),\r\n",
        "                               Row(metoda='Las regresyjny', rSquared_best=las3),\r\n",
        "                               Row(metoda='GBT', rSquared_best=gbt3)])\r\n",
        "wynik.show()\r\n",
        "wynik_r.show()\r\n",
        "wynik_best.show()"
      ],
      "execution_count": 164,
      "outputs": [
        {
          "output_type": "stream",
          "text": [
            "+-----------------+--------------------+\n",
            "|           metoda|            rSquared|\n",
            "+-----------------+--------------------+\n",
            "|Drzewo regresyjne|0.026999647787611325|\n",
            "|   Las regresyjny|0.028214823063329675|\n",
            "|              GBT| 0.04777398559558799|\n",
            "+-----------------+--------------------+\n",
            "\n",
            "+-----------------+--------------------+\n",
            "|           metoda| rSquared_poprawione|\n",
            "+-----------------+--------------------+\n",
            "|Drzewo regresyjne|0.025189555051740142|\n",
            "|   Las regresyjny| 0.08193610949886243|\n",
            "|              GBT| 0.03679763200168762|\n",
            "+-----------------+--------------------+\n",
            "\n",
            "+-----------------+-------------------+\n",
            "|           metoda|      rSquared_best|\n",
            "+-----------------+-------------------+\n",
            "|Drzewo regresyjne|0.02774345967658509|\n",
            "|   Las regresyjny|0.08511618022451428|\n",
            "|              GBT|0.02515029657264578|\n",
            "+-----------------+-------------------+\n",
            "\n"
          ],
          "name": "stdout"
        }
      ]
    },
    {
      "cell_type": "code",
      "metadata": {
        "id": "bcNwwWLzU9Uy"
      },
      "source": [
        "#wynik.toPandas()"
      ],
      "execution_count": null,
      "outputs": []
    },
    {
      "cell_type": "code",
      "metadata": {
        "id": "wb2rmZAAWDxp"
      },
      "source": [
        ""
      ],
      "execution_count": null,
      "outputs": []
    }
  ]
}